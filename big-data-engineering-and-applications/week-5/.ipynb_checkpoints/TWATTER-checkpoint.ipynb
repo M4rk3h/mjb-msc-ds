{
 "cells": [
  {
   "cell_type": "markdown",
   "metadata": {},
   "source": [
    "# <font color = blue> Twitter app creation </font>"
   ]
  },
  {
   "cell_type": "markdown",
   "metadata": {},
   "source": [
    "## <font color=blue> Authentication"
   ]
  },
  {
   "cell_type": "markdown",
   "metadata": {},
   "source": [
    "<font color = purple> After the app creation, open the app homepage, then Keys and tokens.<br>\n",
    "copy both consumer API keys in an easily accessible but safe location.<br>\n",
    "Likewise, generate access token and access token secret and copy them as well<br>"
   ]
  },
  {
   "cell_type": "code",
   "execution_count": 18,
   "metadata": {},
   "outputs": [],
   "source": [
    "#create the key and token variables and assign them values. Use the text document where you saved all this information\n",
    "# while creating the app through twitter's web interface\n",
    "consumer_key = 'tGoG39DYagd8XBEMLdCfGJAUZ'\n",
    "consumer_secret = '2jtpRGZeFqyDwGWWOMuE1GKGZtTcX732gVUSKc8MbNUDErREuh'\n",
    "access_token = '755358007-aa4A2bGc0oWjF6LBojRZ4nPFVHLxraK6479nJOjH'\n",
    "access_token_secret = 'a7A96VQtOXUfRbDYRxJ2nYc0nVFiczE6z1QI1tJcujH9O'"
   ]
  },
  {
   "cell_type": "markdown",
   "metadata": {},
   "source": [
    "<font color = purple> Just like boto3 provides us a programming interface to AWS's DynamoDB an other services, similarly Tweepy is a python API which let's us work with twitter API."
   ]
  },
  {
   "cell_type": "code",
   "execution_count": 19,
   "metadata": {},
   "outputs": [],
   "source": [
    "# install tweepy\n",
    "import tweepy"
   ]
  },
  {
   "cell_type": "code",
   "execution_count": 20,
   "metadata": {},
   "outputs": [],
   "source": [
    "#now set authentication\n",
    "auth = tweepy.OAuthHandler(consumer_key, consumer_secret)\n",
    "auth.set_access_token(access_token, access_token_secret)\n",
    "api = tweepy.API(auth)"
   ]
  },
  {
   "cell_type": "markdown",
   "metadata": {},
   "source": [
    "# <font color = blue>Downloading tweets with streaming API"
   ]
  },
  {
   "cell_type": "markdown",
   "metadata": {},
   "source": [
    "<font color = purple> You may have come across Twitter API previously on the course where you may have collected tweets from the past.\n",
    "    \n",
    "However, in this lab manual we will download Tweets as they are published. Such style of downloading data is called 'Streaming'."
   ]
  },
  {
   "cell_type": "markdown",
   "metadata": {},
   "source": [
    "<font color = purple> So will now use Twitter Streaming API ([Documentation](https://developer.twitter.com/en/docs/tweets/filter-realtime/overview)). Read through this page of documentation and familiarise yourself with the API\n",
    "    \n",
    "Inorder to stream tweets we will have to use tweepy's class StreamListener. An object will be created which will then be able to use the inherited methods and attributes of StreamListener\n",
    "    \n",
    "You will find most of the method definitions are empty, this is called providing methods stubs which can be defined in a way to fit to purpose whiel doing the functionality theya re supposed to do.<br>\n",
    "    \n",
    "Just like we needed a client for Boto3, StreamListner would also need authentication to let the client class object download Twitter Stream. \n",
    "    \n",
    "you may find this URL useful https://github.com/tweepy/tweepy/blob/master/tweepy/streaming.py#L45   "
   ]
  },
  {
   "cell_type": "markdown",
   "metadata": {},
   "source": [
    "<font color = purple> You need to find a place where you will save the stream. At the moment let's just work with a simple text  file to save data from the stream."
   ]
  },
  {
   "cell_type": "code",
   "execution_count": 2,
   "metadata": {},
   "outputs": [],
   "source": [
    "# open a file to append the streaming data\n",
    "f = open(\"stream-tweets.txt\")"
   ]
  },
  {
   "cell_type": "markdown",
   "metadata": {},
   "source": [
    "<font color = purple> Don't execute the next cell yet. Only go through it, try to get what is happening in each method's definition"
   ]
  },
  {
   "cell_type": "code",
   "execution_count": 23,
   "metadata": {},
   "outputs": [],
   "source": [
    "class myStreamListener(tweepy.StreamListener):\n",
    "        def on_connect(self):\n",
    "            # Called initially to connect to the Streaming API\n",
    "            print(\"You are now connected to the streaming API.\")\n",
    "        \n",
    "        def __init__(self, api=None):\n",
    "            super(myStreamListener, self).__init__()\n",
    "            self.num_tweets = 0\n",
    "        \n",
    "        def on_error(self, status_code):\n",
    "            # On error - if an error occurs, display the error / status code\n",
    "            print('An Error has occured: ' + repr(status_code))\n",
    "            return False\n",
    "    \n",
    "\n",
    "        def on_data(self, data):\n",
    "            \n",
    "            try:\n",
    "                \n",
    "                # Decode the JSON from Twitter\n",
    "                datajson = json.loads(data)\n",
    "\n",
    "                #grab the 'created_at' data from the Tweet to use for display\n",
    "                created_at = datajson['created_at']\n",
    "\n",
    "                #print out a message to the screen that we have collected a tweet\n",
    "                print(\"Tweet collected at \" + str(created_at))\n",
    "\n",
    "                #insert/append the data into a json file\n",
    "                \n",
    "                # print out the tweet,  grab the 'text' field              \n",
    "                tweet = datajson['text']\n",
    "                print(tweet)\n",
    "                \n",
    "                \n",
    "                self.num_tweets += 1\n",
    "                if self.num_tweets < 10:\n",
    "                    print(\"Tweet \", self.num_tweets)\n",
    "                    return True\n",
    "                else:\n",
    "                    return False\n",
    "            except Exception as e:\n",
    "               print(e)\n",
    "            \n",
    "            "
   ]
  },
  {
   "cell_type": "markdown",
   "metadata": {},
   "source": [
    "<font color = purple> In your own words describe the Class definition as you have seen it."
   ]
  },
  {
   "cell_type": "markdown",
   "metadata": {},
   "source": [
    "<font color = grey> Answer here </font>\n",
    "<br>\n",
    "<br>\n",
    "From looking at the code above, it looks like the first part of the function is checking our credentials against twitter, to connect to the API. After doing so, it is setting a num_tweets to 0 (which i'm assuming will increment when we start it), followed by a little bit of code which checks for any errors in the connection.\n",
    "<br>\n",
    "<br>\n"
   ]
  },
  {
   "cell_type": "markdown",
   "metadata": {},
   "source": [
    "<font color = purple> Describe the method definition of `on_data`. Try to explain in your own words what is happening at each line of code in the definition"
   ]
  },
  {
   "cell_type": "markdown",
   "metadata": {},
   "source": [
    "<font color = grey> describe here </font>\n",
    "<br>\n",
    "<br>\n",
    "For the function 'on_data', it looks to me like the code is getting the json data from twitter, adding some meta data called 'created_at' whilst appending this extra field to the tweets that are being scraped. The function is then printing out the text from that tweet, whilst also incrementing the number of tweets which was set previous with (x + 1).\n",
    "<br>\n",
    "Finally, the code is printing out the first 10 tweets from the dataset, before breaking out of the loop."
   ]
  },
  {
   "cell_type": "markdown",
   "metadata": {},
   "source": [
    "<font color = purple> Why do you think an internal variable self_num has been created in the constructor? Briefly explain in your own words. You may make references to its usage in `on_data` method. "
   ]
  },
  {
   "cell_type": "markdown",
   "metadata": {},
   "source": [
    "<font color = grey> Describe here"
   ]
  }
 ],
 "metadata": {
  "kernelspec": {
   "display_name": "Python 3",
   "language": "python",
   "name": "python3"
  },
  "language_info": {
   "codemirror_mode": {
    "name": "ipython",
    "version": 3
   },
   "file_extension": ".py",
   "mimetype": "text/x-python",
   "name": "python",
   "nbconvert_exporter": "python",
   "pygments_lexer": "ipython3",
   "version": "3.8.8"
  }
 },
 "nbformat": 4,
 "nbformat_minor": 2
}
