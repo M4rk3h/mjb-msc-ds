{
 "cells": [
  {
   "cell_type": "markdown",
   "metadata": {},
   "source": [
    "# <font color = blue> JSON primer </font>"
   ]
  },
  {
   "cell_type": "code",
   "execution_count": 1,
   "metadata": {},
   "outputs": [],
   "source": [
    "#import json module\n",
    "import json"
   ]
  },
  {
   "cell_type": "markdown",
   "metadata": {},
   "source": [
    "<font color = purple> We will now create a python string in JSON format, load it into python's native data type `dict` and learn to access each key value pair individually.  </font> <br>\n",
    "\n",
    "<font color = purple> Create a json object as python string with following key value pairs:<br></font>\n",
    "1. **name** - your name<br>\n",
    "2. **age** - your age<br>\n",
    "3. **modules** - an array of 3 modules you like\n"
   ]
  },
  {
   "cell_type": "code",
   "execution_count": 2,
   "metadata": {},
   "outputs": [],
   "source": [
    "#name the string person\n",
    "\n",
    "person = '{\"name\": \"Mark\", \"age\":28, \"modules\": [\"MS4H01\", \"MS4H02\", \"MS4S21\"]}'"
   ]
  },
  {
   "cell_type": "code",
   "execution_count": 3,
   "metadata": {},
   "outputs": [
    {
     "data": {
      "text/plain": [
       "dict"
      ]
     },
     "execution_count": 3,
     "metadata": {},
     "output_type": "execute_result"
    }
   ],
   "source": [
    "#Load the JSON data as python dict using loads function from json module\n",
    "person_dict = json.loads(person)\n",
    "\n",
    "#check its data type\n",
    "type(person_dict)"
   ]
  },
  {
   "cell_type": "code",
   "execution_count": 4,
   "metadata": {},
   "outputs": [
    {
     "name": "stdout",
     "output_type": "stream",
     "text": [
      "{'name': 'Moizzah', 'age': 31, 'modules': ['MS4H01', 'MS4H02', 'MS4S21']}\n"
     ]
    }
   ],
   "source": [
    "#print the person_dict varibale\n",
    "print(person_dict)"
   ]
  },
  {
   "cell_type": "code",
   "execution_count": 5,
   "metadata": {},
   "outputs": [
    {
     "name": "stdout",
     "output_type": "stream",
     "text": [
      "Moizzah\n"
     ]
    }
   ],
   "source": [
    "#access the name and modules key value pairs individually\n",
    "\n",
    "print(person_dict['name'])"
   ]
  },
  {
   "cell_type": "code",
   "execution_count": 6,
   "metadata": {},
   "outputs": [
    {
     "data": {
      "text/plain": [
       "['MS4H01', 'MS4H02', 'MS4S21']"
      ]
     },
     "execution_count": 6,
     "metadata": {},
     "output_type": "execute_result"
    }
   ],
   "source": [
    "#access the name and modules key value pairs individually\n",
    "# use the get method\n",
    "person_dict.get('modules')"
   ]
  },
  {
   "cell_type": "markdown",
   "metadata": {},
   "source": [
    "<font color = purple> and now convert the `dict` object back to json</font>"
   ]
  },
  {
   "cell_type": "code",
   "execution_count": 7,
   "metadata": {},
   "outputs": [
    {
     "data": {
      "text/plain": [
       "str"
      ]
     },
     "execution_count": 7,
     "metadata": {},
     "output_type": "execute_result"
    }
   ],
   "source": [
    "#use the dumps method from json module to convert python dict to json object\n",
    "person_json = json.dumps(person_dict)\n",
    "\n",
    "# check the datatype\n",
    "type(person_json)"
   ]
  },
  {
   "cell_type": "code",
   "execution_count": 8,
   "metadata": {},
   "outputs": [
    {
     "name": "stdout",
     "output_type": "stream",
     "text": [
      "{\"name\": \"Moizzah\", \"age\": 31, \"modules\": [\"MS4H01\", \"MS4H02\", \"MS4S21\"]}\n"
     ]
    }
   ],
   "source": [
    "# print\n",
    "print(person_json)"
   ]
  },
  {
   "cell_type": "code",
   "execution_count": 13,
   "metadata": {},
   "outputs": [],
   "source": [
    "#save the json object in a reader friendly way by using more and optional arguments from dumps function\n",
    "person_json_pretty = json.dumps(person_dict, indent = 3, sort_keys = False)"
   ]
  },
  {
   "cell_type": "code",
   "execution_count": 14,
   "metadata": {},
   "outputs": [
    {
     "name": "stdout",
     "output_type": "stream",
     "text": [
      "{\n",
      "   \"name\": \"Moizzah\",\n",
      "   \"age\": 31,\n",
      "   \"modules\": [\n",
      "      \"MS4H01\",\n",
      "      \"MS4H02\",\n",
      "      \"MS4S21\"\n",
      "   ]\n",
      "}\n"
     ]
    }
   ],
   "source": [
    "print(person_json_pretty)"
   ]
  },
  {
   "cell_type": "markdown",
   "metadata": {},
   "source": [
    "###  <font color = blue> Writing and reading json to and from a file </font>"
   ]
  },
  {
   "cell_type": "markdown",
   "metadata": {},
   "source": [
    "<font color = purple> **writing JSON to a file** </font>"
   ]
  },
  {
   "cell_type": "code",
   "execution_count": 15,
   "metadata": {},
   "outputs": [],
   "source": [
    "with open('person.txt', 'w') as json_file: #open a connection to file with write access\n",
    "#     now use dumps\n",
    "    json.dump(person_dict, json_file)"
   ]
  },
  {
   "cell_type": "markdown",
   "metadata": {},
   "source": [
    "<font color = purple> a file named person.txt should have been created in your working directory by now. Open it and see the format."
   ]
  },
  {
   "cell_type": "code",
   "execution_count": null,
   "metadata": {},
   "outputs": [],
   "source": [
    "#replicate the file write with pretty json printing\n",
    "# pprint"
   ]
  },
  {
   "cell_type": "markdown",
   "metadata": {},
   "source": [
    "<font color = purple> **reading JSON from a file** </font>"
   ]
  },
  {
   "cell_type": "code",
   "execution_count": 16,
   "metadata": {},
   "outputs": [
    {
     "name": "stdout",
     "output_type": "stream",
     "text": [
      "{'name': 'Moizzah', 'age': 31, 'modules': ['MS4H01', 'MS4H02', 'MS4S21']}\n"
     ]
    }
   ],
   "source": [
    "with open('person.txt') as json_file:\n",
    "#     use load function from json module\n",
    "    data =json.load(json_file)\n",
    "\n",
    "# print\n",
    "    print(data)\n",
    "\n"
   ]
  },
  {
   "cell_type": "code",
   "execution_count": 17,
   "metadata": {},
   "outputs": [],
   "source": [
    "#close the file\n",
    "json_file.close()"
   ]
  },
  {
   "cell_type": "markdown",
   "metadata": {},
   "source": [
    "<font color = purple>You can find more about reading and writing to files in python from this [tutorial](https://www.programiz.com/python-programming/file-operation) as a base point"
   ]
  }
 ],
 "metadata": {
  "kernelspec": {
   "display_name": "Python 3",
   "language": "python",
   "name": "python3"
  },
  "language_info": {
   "codemirror_mode": {
    "name": "ipython",
    "version": 3
   },
   "file_extension": ".py",
   "mimetype": "text/x-python",
   "name": "python",
   "nbconvert_exporter": "python",
   "pygments_lexer": "ipython3",
   "version": "3.8.5"
  }
 },
 "nbformat": 4,
 "nbformat_minor": 2
}
