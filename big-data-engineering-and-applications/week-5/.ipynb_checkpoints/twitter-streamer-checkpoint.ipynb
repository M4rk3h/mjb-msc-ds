{
 "cells": [
  {
   "cell_type": "markdown",
   "id": "debe7502",
   "metadata": {},
   "source": [
    "# Coursework 1 \n",
    "## Mark Baber - 17076749\n",
    "### Experiment 2\n",
    "\n",
    "<br>\n",
    "\n",
    "Streaming tweets from Twitter for 48 hours, hopefully with a timer or something."
   ]
  },
  {
   "cell_type": "code",
   "execution_count": 1,
   "id": "90cb9441",
   "metadata": {},
   "outputs": [],
   "source": [
    "# install modules\n",
    "import tweepy, json"
   ]
  },
  {
   "cell_type": "code",
   "execution_count": 2,
   "id": "2a2e116f",
   "metadata": {},
   "outputs": [],
   "source": [
    "consumer_key = 'MIHMXSF6BSF82sN0uDGtd8bYi'\n",
    "consumer_secret = 'owWFAXDtMcM3n8T1IZHtr1vHGko4Yxahhok3aZlikSVcGSvSnD'\n",
    "Bearer_Token = 'AAAAAAAAAAAAAAAAAAAAAGZjOwEAAAAAJW9ar4DF90t78ooZvnfx%2Be2G4UI%3DPKfu2lBi6aFxd3ZY5ebeWbUKJxgNqdIaSYTu83vZmURa3zai7d'\n",
    "access_token = '755358007-SmsZPc1tU23ha4Jzdsa5gybKTYVgFrktUgGzyaqD'\n",
    "access_token_secret = 'a0ggY6G6RFyF9ObImMNCMAQo0bqAzp5MfqJjOHcGj5rMM'"
   ]
  },
  {
   "cell_type": "code",
   "execution_count": 3,
   "id": "0915693d",
   "metadata": {},
   "outputs": [],
   "source": [
    "# set authentication\n",
    "auth = tweepy.OAuthHandler(consumer_key, consumer_secret)\n",
    "auth.set_access_token(access_token, access_token_secret)\n",
    "api = tweepy.API(auth)"
   ]
  },
  {
   "cell_type": "code",
   "execution_count": 4,
   "id": "2d122074",
   "metadata": {},
   "outputs": [],
   "source": [
    "# open a file to append the streaming data\n",
    "streamedTweets = open(\"streamed-tweets.csv\", \"w\")\n",
    "unfilteredTweets = open(\"unfiltered.csv\", \"w\")"
   ]
  },
  {
   "cell_type": "code",
   "execution_count": 5,
   "id": "2596b79a",
   "metadata": {},
   "outputs": [],
   "source": [
    "class myStreamListener(tweepy.StreamListener):\n",
    "        def on_connect(self):\n",
    "            # Called initially to connect to the Streaming API\n",
    "            print(\"You are now connected to the streaming API.\")\n",
    "        \n",
    "        def __init__(self, api=None):\n",
    "            super(myStreamListener, self).__init__()\n",
    "        \n",
    "        def on_error(self, status_code):\n",
    "            if status == 420:\n",
    "            # Returning False on_data method in case rate limit occurs.\n",
    "                return False\n",
    "                print(status)\n",
    "            # On error - if an error occurs, display the error / status code\n",
    "            print('An Error has occured: ' + repr(status_code))\n",
    "            return False   \n",
    "\n",
    "        def on_data(self, data):\n",
    "            # Get all data from twitter as datajson\n",
    "            datajson = json.loads(data)\n",
    "            # dump all the data to see what we can use\n",
    "            json.dump(datajson, unfilteredTweets, indent = 6)\n",
    "\n",
    "            # select what we want to keep\n",
    "            createdAt = datajson['created_at']\n",
    "            userName = datajson['user']['name']\n",
    "            tweetText = datajson['text']\n",
    "            userLoc = datajson['user']['location']\n",
    "            hashTags = datajson['entities']['hashtags']\n",
    "            userMentions = datajson['entities']['user_mentions']\n",
    "\n",
    "            # get the data as a dictionary -\n",
    "            Dictionary = {1:createdAt, 2:userName, 3:tweetText,\n",
    "                          4:userLoc, 5:hashTags, 6:userMentions}\n",
    "            # convert dict to json string\n",
    "            json_string = json.dumps(Dictionary)\n",
    "            # write this converted string to csv & JSON\n",
    "            json.dump(json_string, streamedTweets)"
   ]
  },
  {
   "cell_type": "code",
   "execution_count": 8,
   "id": "c0b79a59",
   "metadata": {
    "scrolled": true
   },
   "outputs": [],
   "source": [
    "def goGetTweets():\n",
    "    try:\n",
    "        # locations\n",
    "        loCal = [-3.576205, 51.466683, -3.143618, 51.825436] # uk\n",
    "        # languages\n",
    "        lanG = ['en']\n",
    "        # hashtags\n",
    "        hashT = ['#COVID19', '#CoronaVirus', '#UnitedKingdom', '#UK', '#India']\n",
    "        # set wait on rate limit\n",
    "        listener = myStreamListener(api = tweepy.API(wait_on_rate_limit = True)) \n",
    "        # init the streamer\n",
    "        streamer = tweepy.Stream(auth=auth, listener = listener)\n",
    "        # print tracking\n",
    "        print(\"Tracking location \" + str('United Kingdom'))\n",
    "        # DOES THIS START OR STOP THE LOOP\n",
    "        streamer.filter(locations=loCal, languages = lanG, track = hashT)\n",
    "    except KeyboardInterrupt:\n",
    "        print(\"manually stopped at:\", datetime.now())\n",
    "    finally:\n",
    "        print('Done.')"
   ]
  },
  {
   "cell_type": "code",
   "execution_count": null,
   "id": "d7b07065",
   "metadata": {},
   "outputs": [],
   "source": [
    "####################################\n",
    "## ALL OF THIS LOGIC DOESN'T WORK :( \n",
    "####################################\n",
    "\n",
    "# add some logic to see if it loops\n",
    "from datetime import datetime, timedelta\n",
    "# set start\n",
    "startTimer = datetime.now()\n",
    "# set end\n",
    "endTimer = startTimer + timedelta(seconds=5)\n",
    "\n",
    "print('START @',startTimer)\n",
    "print('Should end at', endTimer)\n",
    "\n",
    "# start loop\n",
    "while datetime.now() < endTimer:\n",
    "    goGetTweets()\n",
    "else:\n",
    "    finalTime = datetime.now()\n",
    "    print(finalTime)\n",
    "    print(\"time ran out.\")\n",
    "    # close both csv files\n",
    "    streamedTweets.close()\n",
    "    unfilteredTweets.close()\n",
    "    # disconnect from streamer\n",
    "    #streamer.disconnect()\n",
    "    print(\"Disconnecting from Streamer\")"
   ]
  },
  {
   "cell_type": "code",
   "execution_count": null,
   "id": "bfa3bbf3",
   "metadata": {},
   "outputs": [],
   "source": []
  }
 ],
 "metadata": {
  "kernelspec": {
   "display_name": "Python 3",
   "language": "python",
   "name": "python3"
  },
  "language_info": {
   "codemirror_mode": {
    "name": "ipython",
    "version": 3
   },
   "file_extension": ".py",
   "mimetype": "text/x-python",
   "name": "python",
   "nbconvert_exporter": "python",
   "pygments_lexer": "ipython3",
   "version": "3.8.8"
  },
  "metadata": {
   "interpreter": {
    "hash": "ac59ebe37160ed0dfa835113d9b8498d9f09ceb179beaac4002f036b9467c963"
   }
  }
 },
 "nbformat": 4,
 "nbformat_minor": 5
}
