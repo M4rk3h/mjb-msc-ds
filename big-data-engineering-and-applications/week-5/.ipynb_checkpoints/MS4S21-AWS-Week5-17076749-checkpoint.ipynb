{
 "cells": [
  {
   "cell_type": "markdown",
   "metadata": {},
   "source": [
    "# <font color = blue> AWS classroom Lab Manual"
   ]
  },
  {
   "cell_type": "markdown",
   "metadata": {},
   "source": [
    "## <font color = blue> Dynamo DB"
   ]
  },
  {
   "cell_type": "markdown",
   "metadata": {},
   "source": [
    "<font color = purple> This Jupyter notebook walks through the code required to establish a connection and work from local host/machine to DynamoDB in the AWS cloud.<br>\n",
    "    \n",
    "To develop a good understanding of the code and results it is essential that activities from the first lab manual of Week 4's synchronoys session have been completed"
   ]
  },
  {
   "cell_type": "markdown",
   "metadata": {},
   "source": [
    "<font color = purple> We will use the latest version of boto api to interface with DynamoDB in the AWS cloud - please ensure that installation and import of the python package has been successful."
   ]
  },
  {
   "cell_type": "code",
   "execution_count": 1,
   "metadata": {},
   "outputs": [
    {
     "name": "stdout",
     "output_type": "stream",
     "text": [
      "Requirement already satisfied: boto3 in c:\\programdata\\anaconda3\\lib\\site-packages (1.17.26)\n",
      "Requirement already satisfied: botocore<1.21.0,>=1.20.26 in c:\\programdata\\anaconda3\\lib\\site-packages (from boto3) (1.20.26)\n",
      "Requirement already satisfied: s3transfer<0.4.0,>=0.3.0 in c:\\programdata\\anaconda3\\lib\\site-packages (from boto3) (0.3.4)\n",
      "Requirement already satisfied: jmespath<1.0.0,>=0.7.1 in c:\\programdata\\anaconda3\\lib\\site-packages (from boto3) (0.10.0)\n",
      "Requirement already satisfied: urllib3<1.27,>=1.25.4 in c:\\programdata\\anaconda3\\lib\\site-packages (from botocore<1.21.0,>=1.20.26->boto3) (1.25.11)\n",
      "Requirement already satisfied: python-dateutil<3.0.0,>=2.1 in c:\\programdata\\anaconda3\\lib\\site-packages (from botocore<1.21.0,>=1.20.26->boto3) (2.8.1)\n",
      "Requirement already satisfied: six>=1.5 in c:\\users\\markb\\appdata\\roaming\\python\\python38\\site-packages (from python-dateutil<3.0.0,>=2.1->botocore<1.21.0,>=1.20.26->boto3) (1.15.0)\n"
     ]
    },
    {
     "name": "stderr",
     "output_type": "stream",
     "text": [
      "WARNING: You are using pip version 20.3.3; however, version 21.0.1 is available.\n",
      "You should consider upgrading via the 'C:\\ProgramData\\Anaconda3\\python.exe -m pip install --upgrade pip' command.\n"
     ]
    }
   ],
   "source": [
    "import sys\n",
    "!{sys.executable} -m pip install boto3"
   ]
  },
  {
   "cell_type": "code",
   "execution_count": 2,
   "metadata": {},
   "outputs": [
    {
     "name": "stdout",
     "output_type": "stream",
     "text": [
      "Requirement already satisfied: pip in c:\\users\\markb\\appdata\\roaming\\python\\python38\\site-packages (20.3.3)\n",
      "Collecting pip\n",
      "  Using cached pip-21.0.1-py3-none-any.whl (1.5 MB)\n",
      "Installing collected packages: pip\n",
      "  Attempting uninstall: pip\n",
      "    Found existing installation: pip 20.3.3\n",
      "    Uninstalling pip-20.3.3:\n",
      "      Successfully uninstalled pip-20.3.3\n",
      "  Rolling back uninstall of pip\n",
      "  Moving to c:\\users\\markb\\appdata\\roaming\\python\\python38\\scripts\\pip.exe\n",
      "   from C:\\Users\\markb\\AppData\\Local\\Temp\\pip-uninstall-a5arm4jv\\pip.exe\n",
      "  Moving to c:\\users\\markb\\appdata\\roaming\\python\\python38\\scripts\\pip3.8.exe\n",
      "   from C:\\Users\\markb\\AppData\\Local\\Temp\\pip-uninstall-a5arm4jv\\pip3.8.exe\n",
      "  Moving to c:\\users\\markb\\appdata\\roaming\\python\\python38\\scripts\\pip3.exe\n",
      "   from C:\\Users\\markb\\AppData\\Local\\Temp\\pip-uninstall-a5arm4jv\\pip3.exe\n",
      "  Moving to c:\\users\\markb\\appdata\\roaming\\python\\python38\\site-packages\\pip-20.3.3.dist-info\\\n",
      "   from C:\\Users\\markb\\AppData\\Roaming\\Python\\Python38\\site-packages\\~ip-20.3.3.dist-info\n",
      "  Moving to c:\\users\\markb\\appdata\\roaming\\python\\python38\\site-packages\\pip\\\n",
      "   from C:\\Users\\markb\\AppData\\Roaming\\Python\\Python38\\site-packages\\~ip\n",
      "Note: you may need to restart the kernel to use updated packages.\n"
     ]
    },
    {
     "name": "stderr",
     "output_type": "stream",
     "text": [
      "ERROR: Could not install packages due to an EnvironmentError: [WinError 5] Access is denied: 'C:\\\\ProgramData\\\\Anaconda3\\\\Lib\\\\site-packages\\\\pip\\\\__init__.py'\n",
      "Consider using the `--user` option or check the permissions.\n",
      "\n",
      "WARNING: You are using pip version 20.3.3; however, version 21.0.1 is available.\n",
      "You should consider upgrading via the 'C:\\ProgramData\\Anaconda3\\python.exe -m pip install --upgrade pip' command.\n"
     ]
    }
   ],
   "source": [
    "pip install --upgrade pip"
   ]
  },
  {
   "cell_type": "code",
   "execution_count": 3,
   "metadata": {},
   "outputs": [],
   "source": [
    "import boto3"
   ]
  },
  {
   "cell_type": "markdown",
   "metadata": {},
   "source": [
    "### <font color = blue> Authentication credentials configuration\n",
    "\n",
    "<font color = purple> Before a connection can be established to dynamodb or any other cloud service (AWS in our case) via any SDK, authentication needs to be configured. <br>\n",
    "    \n",
    "There are multiple way with which authentication can be configured for the AWS cloud services including DynamoDB.The same applies to setup Boto3.<br>\n",
    "    \n",
    "You can set up authentication credentials for your AWS account using either the IAM Console or the AWS CLI. This notebook is adapted to AWS CLI configuration.<br>"
   ]
  },
  {
   "cell_type": "markdown",
   "metadata": {},
   "source": [
    "<font color = purple> Download the **AWS CLI Version 2** for your OS from [here](https://docs.aws.amazon.com/cli/latest/userguide/install-cliv2.html) <br>\n",
    "    \n",
    "Install the CLI and verify installation from cmd/terminal (windows/macOS-or-Linux) as follows:\n",
    "    \n",
    "![aws --version](awsCLI_version.png)\n",
    "    \n"
   ]
  },
  {
   "cell_type": "markdown",
   "metadata": {},
   "source": [
    "<font color = purple> Inorder to configure the credentials on your local host/machine, you need access them from your AWS console. For the purpose of this module you will have to access classrooms dashboard and classrooms AWS console dashboard, otherwise they can be accessed from the regular AWS dashboard.<br>\n",
    "    \n",
    "Navigate to the MS4S21 AWS classroom and click the Account Details button located just beneath Account status table\n",
    "    \n",
    "![aws classroom Account Details](classroomConsole.png)"
   ]
  },
  {
   "cell_type": "markdown",
   "metadata": {},
   "source": [
    "<font color = purple> You will be rendered with the following pop-up:\n",
    "    \n",
    "![aws credentials](awsCLI_cred.png)"
   ]
  },
  {
   "cell_type": "markdown",
   "metadata": {},
   "source": [
    "<font color = purple> Click on the show button and copy the following in a text file (for storage purpose): </font>\n",
    "    \n",
    "    1. aws_access_key_id\n",
    "    2. aws_secret_access_key\n",
    "    3. aws_session_token"
   ]
  },
  {
   "cell_type": "markdown",
   "metadata": {},
   "source": [
    "<font color = purple> Close the pop-up window and go to AWS console from classroom homepage using the blue button 'AWS console'\n",
    "    \n",
    "Open the region drop down menu located at the top right corner as shown below:\n",
    "    \n",
    "![aws classroomroom dashboard region menu](classroom_awsRegion.png)\n",
    "    "
   ]
  },
  {
   "cell_type": "markdown",
   "metadata": {},
   "source": [
    "<font color = purple> Copy the region id in the same text file where you copied other information.\n",
    "    \n",
    "Now go back to aws CLI on your cmd/terminal and type `aws configure`<br>\n",
    "    <br>\n",
    "    \n",
    "Enter all the information as required (consult the text file), including key ID, Access Key, region name, skip Output format\n",
    "    \n",
    "![configuring aws CLI](InkedawsCLI_config_LI.jpg)"
   ]
  },
  {
   "cell_type": "markdown",
   "metadata": {},
   "source": [
    "<font color=purple> You should be able find a directory called .aws in your operating system's designated local folder for the signed in user. Sometimes, the user has to enable the access of hidden folder in GUI, so please don't forget to ensure that the signed in user on your system's OS can view hidden files and folders.\n",
    "    \n",
    "I am using Windows OS so my user 'masif' has local directories in the following folder:\n",
    "    \n",
    "![.aws folder - AWS CLI local directory](awsCLI_UserLocalFolder.png)\n",
    "    \n",
    "**Note**: If you are using Linux or macOS please follow the path to the local folder for the logged in user.\n",
    "    \n",
    "Open the .aws folder and you will find two files there:\n",
    "    \n",
    "1. config\n",
    "2. credentials\n",
    "    \n",
    "<br>\n",
    "<br> \n",
    "    \n",
    "    \n",
    "You should be able to open each of these files by double clicking on them and selecting a text editor of your choice. You may find the visual below useful:\n",
    "    \n",
    "![aws CLI config and credentials files - how to open them](awsCLI_configCredFiles.png)\n",
    "    \n",
    "    \n",
    "    \n",
    "<br>\n",
    "<br>\n",
    "    \n",
    "Open the credentials file and add the session token.\n",
    "    \n",
    "The final version of credentials and config file should look similar to the pair shown below:\n",
    "    \n",
    "![final configuration of aws CLI's credentials and config files](InkedawsCLI_configCredFiles_filled_LI.jpg)"
   ]
  },
  {
   "cell_type": "markdown",
   "metadata": {},
   "source": [
    "<font color = purple> You have successfully AWS CLI to work with boto3 API."
   ]
  },
  {
   "cell_type": "markdown",
   "metadata": {},
   "source": [
    "### <font color = blue> Connecting boto3 python API with DynamoDB in the cloud\n"
   ]
  },
  {
   "cell_type": "markdown",
   "metadata": {},
   "source": [
    "<font color=purple> You need to ensure that python kernel in Jupyternotebook, or anyother IDE that you may use has been restarted after configuring AWS CLI.\n",
    "    \n",
    "The documentation of this API can be found here: [Boto3 API](https://boto3.amazonaws.com/v1/documentation/api/latest/index.html#:~:text=Boto3%20documentation%C2%B6%20Boto%20is%20the%20Amazon%20Web%20Services,as%20well%20as%20low-level%20access%20to%20AWS%20services.)"
   ]
  },
  {
   "cell_type": "markdown",
   "metadata": {},
   "source": [
    "<font color=purple> For this lab tutorial we will connect AWS DynamoDB using Boto3 Client.\n",
    "    \n",
    "Clients provide a low-level interface to AWS whose methods map close to 1:1 with service APIs.<br>\n",
    "    <br>\n",
    "\n",
    "\n",
    "For MS4S21 we are mainly looking at AWS's big data services, such as: DynamoDB, EMR and etc.\n",
    "    \n",
    "Each AWS service has an API; More and basic information on DynamoDB's API can be found here: [AWS DynamoDB API Basic intorduction](https://docs.aws.amazon.com/amazondynamodb/latest/developerguide/HowItWorks.API.html). Take some time out to familiarise yourself with the API before proceeding any further. You will find the concpets that are very much relatable to database concepts from Block 1 module: Principles of Programming.\n",
    "    \n",
    "Once you have read the information provided on the basic introduction webpage, You should spend another 10-15 minutes on the [API reference](https://docs.aws.amazon.com/amazondynamodb/latest/APIReference/API_Operations_Amazon_DynamoDB.html). There are some operations which require some advance theoretical concepts, you are not required to spend time on understanding those operations. The aim is to acquaint yourself with the API at a functional level."
   ]
  },
  {
   "cell_type": "code",
   "execution_count": 4,
   "metadata": {},
   "outputs": [],
   "source": [
    "# create a boto3 client for DynamoDB service\n",
    "client = boto3.client('dynamodb')"
   ]
  },
  {
   "cell_type": "markdown",
   "metadata": {},
   "source": [
    "<font color = purple> We created a table called Music last week. Using the DynamoDB client and relevant methods, we can list any tables that already exist in the AWS service."
   ]
  },
  {
   "cell_type": "code",
   "execution_count": 5,
   "metadata": {},
   "outputs": [
    {
     "data": {
      "text/plain": [
       "{'TableNames': ['AllTimeHits', 'GenreAlbumTitle', 'Music'],\n",
       " 'ResponseMetadata': {'RequestId': 'QJMAPCHQJR7URUK8R2VTTHFICJVV4KQNSO5AEMVJF66Q9ASUAAJG',\n",
       "  'HTTPStatusCode': 200,\n",
       "  'HTTPHeaders': {'server': 'Server',\n",
       "   'date': 'Fri, 26 Mar 2021 14:30:55 GMT',\n",
       "   'content-type': 'application/x-amz-json-1.0',\n",
       "   'content-length': '56',\n",
       "   'connection': 'keep-alive',\n",
       "   'x-amzn-requestid': 'QJMAPCHQJR7URUK8R2VTTHFICJVV4KQNSO5AEMVJF66Q9ASUAAJG',\n",
       "   'x-amz-crc32': '515296954'},\n",
       "  'RetryAttempts': 0}}"
      ]
     },
     "execution_count": 5,
     "metadata": {},
     "output_type": "execute_result"
    }
   ],
   "source": [
    "# list existing tables in the AWS service\n",
    "client.list_tables()"
   ]
  },
  {
   "cell_type": "markdown",
   "metadata": {},
   "source": [
    "<font color = purple> Similalry, other methods for this client can be used to perform operations on core components. Core components of DynamoDB have been discussed in week 4."
   ]
  },
  {
   "cell_type": "markdown",
   "metadata": {},
   "source": [
    "<font color = purple> Here is quick guide on naming rules and data types in DynamoDB: [Naming Rules DynamoDB](https://docs.aws.amazon.com/amazondynamodb/latest/developerguide/HowItWorks.NamingRulesDataTypes.html)\n",
    "    \n",
    "You have already seen an introduction to the data types, use this webpage well to familiarise yourself with naming rules."
   ]
  },
  {
   "cell_type": "markdown",
   "metadata": {},
   "source": [
    "<font color = purple> Open the lab manual from last week where you created this table via GUI. Now look at the manual and remind yourself of the primary schema for 'Music' Table. Describe the primary key in the cell below. \n",
    "    \n",
    "You may use the describe_table method as well to analyse the response and compare notes"
   ]
  },
  {
   "cell_type": "markdown",
   "metadata": {},
   "source": [
    "<font color = grey> Describe here"
   ]
  },
  {
   "cell_type": "code",
   "execution_count": 6,
   "metadata": {},
   "outputs": [
    {
     "data": {
      "text/plain": [
       "{'Table': {'AttributeDefinitions': [{'AttributeName': 'Artist',\n",
       "    'AttributeType': 'S'},\n",
       "   {'AttributeName': 'songTitle', 'AttributeType': 'S'}],\n",
       "  'TableName': 'Music',\n",
       "  'KeySchema': [{'AttributeName': 'Artist', 'KeyType': 'HASH'},\n",
       "   {'AttributeName': 'songTitle', 'KeyType': 'RANGE'}],\n",
       "  'TableStatus': 'ACTIVE',\n",
       "  'CreationDateTime': datetime.datetime(2021, 3, 26, 9, 7, 6, 427000, tzinfo=tzlocal()),\n",
       "  'ProvisionedThroughput': {'NumberOfDecreasesToday': 0,\n",
       "   'ReadCapacityUnits': 5,\n",
       "   'WriteCapacityUnits': 5},\n",
       "  'TableSizeBytes': 222,\n",
       "  'ItemCount': 5,\n",
       "  'TableArn': 'arn:aws:dynamodb:us-east-1:666515444448:table/Music',\n",
       "  'TableId': 'd424d5e9-9b34-4531-bf7b-001cd357c312'},\n",
       " 'ResponseMetadata': {'RequestId': '3P9UM37GBJ1LG06EOSDTAT3K4JVV4KQNSO5AEMVJF66Q9ASUAAJG',\n",
       "  'HTTPStatusCode': 200,\n",
       "  'HTTPHeaders': {'server': 'Server',\n",
       "   'date': 'Fri, 26 Mar 2021 14:30:55 GMT',\n",
       "   'content-type': 'application/x-amz-json-1.0',\n",
       "   'content-length': '565',\n",
       "   'connection': 'keep-alive',\n",
       "   'x-amzn-requestid': '3P9UM37GBJ1LG06EOSDTAT3K4JVV4KQNSO5AEMVJF66Q9ASUAAJG',\n",
       "   'x-amz-crc32': '658310884'},\n",
       "  'RetryAttempts': 0}}"
      ]
     },
     "execution_count": 6,
     "metadata": {},
     "output_type": "execute_result"
    }
   ],
   "source": [
    "# use the describe_table method \n",
    "client.describe_table(TableName='Music')"
   ]
  },
  {
   "cell_type": "markdown",
   "metadata": {},
   "source": [
    "<font color = grey> Compare notes between GUI and response from describe_table method here"
   ]
  },
  {
   "cell_type": "markdown",
   "metadata": {},
   "source": [
    "#### <font color = blue> Creating a table"
   ]
  },
  {
   "cell_type": "markdown",
   "metadata": {},
   "source": [
    "<font color = purple>Creating a DynamoDB table requires specifying the following mandatory information:\n",
    "    \n",
    "1. Table Name: A table name can only be of string data type\n",
    "2. Primary Key: As discussed in week 4, a primary key may consist of one of the following schemas:\n",
    "    - partition key only\n",
    "    - partition and sort key"
   ]
  },
  {
   "cell_type": "markdown",
   "metadata": {},
   "source": [
    "<font color = purple> If you are creating a table you would obviously like to specify attributes too."
   ]
  },
  {
   "cell_type": "markdown",
   "metadata": {},
   "source": [
    "<font color = purple> Let's create a table for the following schema:\n",
    "    \n",
    "![Schema for table GenreAlbumTitle](GenreAlbumTitle.png)"
   ]
  },
  {
   "cell_type": "code",
   "execution_count": 11,
   "metadata": {},
   "outputs": [],
   "source": [
    "#response = client.create_table(TableName ='GenreAlbumTitle',\n",
    "#                    KeySchema=[{'AttributeName': 'Genre', 'KeyType': 'HASH'}, \n",
    "#                              {'AttributeName': 'AlbumTitle', 'KeyType': 'RANGE'}],\n",
    "#                    AttributeDefinitions=[{'AttributeName': 'Genre', 'AttributeType': 'S'},\n",
    "#                                          {'AttributeName': 'AlbumTitle', 'AttributeType': 'S'}],\n",
    "#                     ProvisionedThroughput={'ReadCapacityUnits': 5,'WriteCapacityUnits': 5})"
   ]
  },
  {
   "cell_type": "markdown",
   "metadata": {},
   "source": [
    "<font color=purple> Can you debug the error in previous line?\n",
    "    \n",
    "<font color=purple>    **OR**\n",
    "    \n",
    "<font color=purple>    Can you describe how the error has been fixed in next line?"
   ]
  },
  {
   "cell_type": "markdown",
   "metadata": {},
   "source": [
    "<font color = grey>Describe here </font>\n",
    "    \n",
    "It looks to me that we were referencing the Artist, and we would need to add the artist (foreign key) at a later date like in other database software."
   ]
  },
  {
   "cell_type": "code",
   "execution_count": 12,
   "metadata": {},
   "outputs": [],
   "source": [
    "response = client.create_table(TableName ='GenreAlbumTitle',\n",
    "                    KeySchema=[{'AttributeName': 'Genre', 'KeyType': 'HASH'}, \n",
    "                              {'AttributeName': 'AlbumTitle', 'KeyType': 'RANGE'}],\n",
    "                    AttributeDefinitions=[{'AttributeName': 'Genre', 'AttributeType': 'S'},\n",
    "                                          {'AttributeName': 'AlbumTitle', 'AttributeType': 'S'}],\n",
    "                     ProvisionedThroughput={'ReadCapacityUnits': 5,'WriteCapacityUnits': 5})"
   ]
  },
  {
   "cell_type": "code",
   "execution_count": 13,
   "metadata": {},
   "outputs": [
    {
     "name": "stdout",
     "output_type": "stream",
     "text": [
      "{'TableDescription': {'AttributeDefinitions': [{'AttributeName': 'AlbumTitle', 'AttributeType': 'S'}, {'AttributeName': 'Genre', 'AttributeType': 'S'}], 'TableName': 'GenreAlbumTitle', 'KeySchema': [{'AttributeName': 'Genre', 'KeyType': 'HASH'}, {'AttributeName': 'AlbumTitle', 'KeyType': 'RANGE'}], 'TableStatus': 'CREATING', 'CreationDateTime': datetime.datetime(2021, 3, 26, 14, 32, 10, 459000, tzinfo=tzlocal()), 'ProvisionedThroughput': {'NumberOfDecreasesToday': 0, 'ReadCapacityUnits': 5, 'WriteCapacityUnits': 5}, 'TableSizeBytes': 0, 'ItemCount': 0, 'TableArn': 'arn:aws:dynamodb:us-east-1:666515444448:table/GenreAlbumTitle', 'TableId': '504b2260-22f5-4e08-a149-59a90f9a808d'}, 'ResponseMetadata': {'RequestId': 'AB7V5R54GH019TLSGV88EVKINJVV4KQNSO5AEMVJF66Q9ASUAAJG', 'HTTPStatusCode': 200, 'HTTPHeaders': {'server': 'Server', 'date': 'Fri, 26 Mar 2021 14:32:10 GMT', 'content-type': 'application/x-amz-json-1.0', 'content-length': '596', 'connection': 'keep-alive', 'x-amzn-requestid': 'AB7V5R54GH019TLSGV88EVKINJVV4KQNSO5AEMVJF66Q9ASUAAJG', 'x-amz-crc32': '3192053085'}, 'RetryAttempts': 0}}\n"
     ]
    }
   ],
   "source": [
    "print(response)"
   ]
  },
  {
   "cell_type": "markdown",
   "metadata": {},
   "source": [
    "<font color = purple> Now open the other jupyter notebook manual called json primer before proceeding any further.\n",
    "<br>\n",
    "<br>\n",
    "<br>\n",
    "<br>"
   ]
  },
  {
   "cell_type": "markdown",
   "metadata": {},
   "source": [
    "<font color = purple>Print the response in a user/reader friendly way."
   ]
  },
  {
   "cell_type": "code",
   "execution_count": 14,
   "metadata": {},
   "outputs": [],
   "source": [
    "import json\n",
    "import datetime\n",
    "type(response)\n",
    "df1 = response.copy()"
   ]
  },
  {
   "cell_type": "code",
   "execution_count": 15,
   "metadata": {},
   "outputs": [
    {
     "name": "stdout",
     "output_type": "stream",
     "text": [
      "Printing to check how it will look like\n",
      "{\"TableDescription\": {\"AttributeDefinitions\": [{\"AttributeName\": \"AlbumTitle\", \"AttributeType\": \"S\"}, {\"AttributeName\": \"Genre\", \"AttributeType\": \"S\"}], \"TableName\": \"GenreAlbumTitle\", \"KeySchema\": [{\"AttributeName\": \"Genre\", \"KeyType\": \"HASH\"}, {\"AttributeName\": \"AlbumTitle\", \"KeyType\": \"RANGE\"}], \"TableStatus\": \"CREATING\", \"CreationDateTime\": \"2021-03-26T14:32:10.459000+00:00\", \"ProvisionedThroughput\": {\"NumberOfDecreasesToday\": 0, \"ReadCapacityUnits\": 5, \"WriteCapacityUnits\": 5}, \"TableSizeBytes\": 0, \"ItemCount\": 0, \"TableArn\": \"arn:aws:dynamodb:us-east-1:666515444448:table/GenreAlbumTitle\", \"TableId\": \"504b2260-22f5-4e08-a149-59a90f9a808d\"}, \"ResponseMetadata\": {\"RequestId\": \"AB7V5R54GH019TLSGV88EVKINJVV4KQNSO5AEMVJF66Q9ASUAAJG\", \"HTTPStatusCode\": 200, \"HTTPHeaders\": {\"server\": \"Server\", \"date\": \"Fri, 26 Mar 2021 14:32:10 GMT\", \"content-type\": \"application/x-amz-json-1.0\", \"content-length\": \"596\", \"connection\": \"keep-alive\", \"x-amzn-requestid\": \"AB7V5R54GH019TLSGV88EVKINJVV4KQNSO5AEMVJF66Q9ASUAAJG\", \"x-amz-crc32\": \"3192053085\"}, \"RetryAttempts\": 0}}\n"
     ]
    }
   ],
   "source": [
    "from json import JSONEncoder\n",
    "\n",
    "# subclass JSONEncoder\n",
    "class DateTimeEncoder(JSONEncoder):\n",
    "        #Override the default method\n",
    "        def default(self, obj):\n",
    "            if isinstance(obj, (datetime.date, datetime.datetime)):\n",
    "                return obj.isoformat()\n",
    "# without JSONEncoder\n",
    "print(\"Printing to check how it will look like\")\n",
    "print(DateTimeEncoder().encode(df1))"
   ]
  },
  {
   "cell_type": "code",
   "execution_count": 16,
   "metadata": {},
   "outputs": [
    {
     "name": "stdout",
     "output_type": "stream",
     "text": [
      "Encode DateTime Object into JSON using custom JSONEncoder\n",
      "{\n",
      "    \"TableDescription\": {\n",
      "        \"AttributeDefinitions\": [\n",
      "            {\n",
      "                \"AttributeName\": \"AlbumTitle\",\n",
      "                \"AttributeType\": \"S\"\n",
      "            },\n",
      "            {\n",
      "                \"AttributeName\": \"Genre\",\n",
      "                \"AttributeType\": \"S\"\n",
      "            }\n",
      "        ],\n",
      "        \"TableName\": \"GenreAlbumTitle\",\n",
      "        \"KeySchema\": [\n",
      "            {\n",
      "                \"AttributeName\": \"Genre\",\n",
      "                \"KeyType\": \"HASH\"\n",
      "            },\n",
      "            {\n",
      "                \"AttributeName\": \"AlbumTitle\",\n",
      "                \"KeyType\": \"RANGE\"\n",
      "            }\n",
      "        ],\n",
      "        \"TableStatus\": \"CREATING\",\n",
      "        \"CreationDateTime\": \"2021-03-26T14:32:10.459000+00:00\",\n",
      "        \"ProvisionedThroughput\": {\n",
      "            \"NumberOfDecreasesToday\": 0,\n",
      "            \"ReadCapacityUnits\": 5,\n",
      "            \"WriteCapacityUnits\": 5\n",
      "        },\n",
      "        \"TableSizeBytes\": 0,\n",
      "        \"ItemCount\": 0,\n",
      "        \"TableArn\": \"arn:aws:dynamodb:us-east-1:666515444448:table/GenreAlbumTitle\",\n",
      "        \"TableId\": \"504b2260-22f5-4e08-a149-59a90f9a808d\"\n",
      "    },\n",
      "    \"ResponseMetadata\": {\n",
      "        \"RequestId\": \"AB7V5R54GH019TLSGV88EVKINJVV4KQNSO5AEMVJF66Q9ASUAAJG\",\n",
      "        \"HTTPStatusCode\": 200,\n",
      "        \"HTTPHeaders\": {\n",
      "            \"server\": \"Server\",\n",
      "            \"date\": \"Fri, 26 Mar 2021 14:32:10 GMT\",\n",
      "            \"content-type\": \"application/x-amz-json-1.0\",\n",
      "            \"content-length\": \"596\",\n",
      "            \"connection\": \"keep-alive\",\n",
      "            \"x-amzn-requestid\": \"AB7V5R54GH019TLSGV88EVKINJVV4KQNSO5AEMVJF66Q9ASUAAJG\",\n",
      "            \"x-amz-crc32\": \"3192053085\"\n",
      "        },\n",
      "        \"RetryAttempts\": 0\n",
      "    }\n",
      "}\n"
     ]
    }
   ],
   "source": [
    "# with JSONEncoder\n",
    "print(\"Encode DateTime Object into JSON using custom JSONEncoder\")\n",
    "df1JSON = json.dumps(df1, indent=4, cls=DateTimeEncoder)\n",
    "print(df1JSON)"
   ]
  },
  {
   "cell_type": "markdown",
   "metadata": {},
   "source": [
    "<font color=purple> A dynamoDB client has two waiters. \n",
    "\n",
    "Waiters are used when a block of code is to be executed and the output of some lines depend on the processing time that it takes to complete the action triggered by previous line of code.\n",
    "<br>\n",
    "<br>\n",
    "The following couple of lines of code will give you a better idea"
   ]
  },
  {
   "cell_type": "code",
   "execution_count": 17,
   "metadata": {},
   "outputs": [
    {
     "data": {
      "text/plain": [
       "['table_exists', 'table_not_exists']"
      ]
     },
     "execution_count": 17,
     "metadata": {},
     "output_type": "execute_result"
    }
   ],
   "source": [
    "client.waiter_names"
   ]
  },
  {
   "cell_type": "markdown",
   "metadata": {},
   "source": [
    "<font color = purple> Create a table for hits of all time and add item"
   ]
  },
  {
   "cell_type": "code",
   "execution_count": 18,
   "metadata": {},
   "outputs": [],
   "source": [
    "response = client.create_table(TableName ='AllTimeHits',\n",
    "                    KeySchema=[{'AttributeName': 'SongTitle', 'KeyType': 'HASH'}, \n",
    "                              {'AttributeName': 'Artist', 'KeyType': 'RANGE'}],\n",
    "                    AttributeDefinitions=[{'AttributeName': 'SongTitle', 'AttributeType': 'S'},\n",
    "                                          {'AttributeName': 'Artist', 'AttributeType': 'S'}],\n",
    "                     ProvisionedThroughput={'ReadCapacityUnits': 5,'WriteCapacityUnits': 5})"
   ]
  },
  {
   "cell_type": "code",
   "execution_count": 19,
   "metadata": {},
   "outputs": [
    {
     "data": {
      "text/plain": [
       "{'Table': {'AttributeDefinitions': [{'AttributeName': 'Artist',\n",
       "    'AttributeType': 'S'},\n",
       "   {'AttributeName': 'SongTitle', 'AttributeType': 'S'}],\n",
       "  'TableName': 'AllTimeHits',\n",
       "  'KeySchema': [{'AttributeName': 'SongTitle', 'KeyType': 'HASH'},\n",
       "   {'AttributeName': 'Artist', 'KeyType': 'RANGE'}],\n",
       "  'TableStatus': 'ACTIVE',\n",
       "  'CreationDateTime': datetime.datetime(2021, 3, 26, 14, 33, 28, 851000, tzinfo=tzlocal()),\n",
       "  'ProvisionedThroughput': {'NumberOfDecreasesToday': 0,\n",
       "   'ReadCapacityUnits': 5,\n",
       "   'WriteCapacityUnits': 5},\n",
       "  'TableSizeBytes': 0,\n",
       "  'ItemCount': 0,\n",
       "  'TableArn': 'arn:aws:dynamodb:us-east-1:666515444448:table/AllTimeHits',\n",
       "  'TableId': 'dc372056-7441-4a71-9caf-06298a7ddc8f'},\n",
       " 'ResponseMetadata': {'RequestId': '0HV6GG1MSJ5OLTAK7FJPCS3QK7VV4KQNSO5AEMVJF66Q9ASUAAJG',\n",
       "  'HTTPStatusCode': 200,\n",
       "  'HTTPHeaders': {'server': 'Server',\n",
       "   'date': 'Fri, 26 Mar 2021 14:33:49 GMT',\n",
       "   'content-type': 'application/x-amz-json-1.0',\n",
       "   'content-length': '575',\n",
       "   'connection': 'keep-alive',\n",
       "   'x-amzn-requestid': '0HV6GG1MSJ5OLTAK7FJPCS3QK7VV4KQNSO5AEMVJF66Q9ASUAAJG',\n",
       "   'x-amz-crc32': '3627830046'},\n",
       "  'RetryAttempts': 0}}"
      ]
     },
     "execution_count": 19,
     "metadata": {},
     "output_type": "execute_result"
    }
   ],
   "source": [
    "client.get_waiter('table_exists').wait(TableName='AllTimeHits')\n",
    "\n",
    "client.describe_table(TableName='AllTimeHits')"
   ]
  },
  {
   "cell_type": "markdown",
   "metadata": {},
   "source": [
    "<font color = purple> Code from the previous couple of lines should have been executed in one cell to reflect upon the nature and purpose of waiter. However two separate cells have been used just to let you see the types of actions/output after executing each cell."
   ]
  },
  {
   "cell_type": "markdown",
   "metadata": {},
   "source": [
    "<font color = purple> Let's go back to GenreAlbumTitle table's schema that we have seen earlier\n",
    "![Schema for table GenreAlbumTitle](GenreAlbumTitle.png)"
   ]
  },
  {
   "cell_type": "markdown",
   "metadata": {},
   "source": [
    "`response = client.create_table(TableName ='GenreAlbumTitle',\n",
    "                    KeySchema=[{'AttributeName': 'Genre', 'KeyType': 'HASH'}, \n",
    "                              {'AttributeName': 'AlbumTitle', 'KeyType': 'RANGE'}],\n",
    "                    AttributeDefinitions=[{'AttributeName': 'Genre', 'AttributeType': 'S'},\n",
    "                                          {'AttributeName': 'AlbumTitle', 'AttributeType': 'S'}],\n",
    "                     ProvisionedThroughput={'ReadCapacityUnits': 5,'WriteCapacityUnits': 5})`"
   ]
  },
  {
   "cell_type": "markdown",
   "metadata": {},
   "source": [
    "<font color = purple> What difference do you see between the schema of record (provided in picture) and the table definition/declaration?\n",
    "    \n"
   ]
  },
  {
   "cell_type": "markdown",
   "metadata": {},
   "source": [
    "<font color = grey> Describe here </font>\n",
    "<br>\n",
    "This table used Artist instead of Genre."
   ]
  },
  {
   "cell_type": "markdown",
   "metadata": {},
   "source": [
    "<font color = purple> Why do you think a list of all possible attributes was not added in the declaration?"
   ]
  },
  {
   "cell_type": "markdown",
   "metadata": {},
   "source": [
    "<font color = grey> answer here </font>\n",
    "<br>\n",
    "We will add these later as foreign keys (I'm assuming)"
   ]
  },
  {
   "cell_type": "markdown",
   "metadata": {},
   "source": [
    "<font color = purple> You may find your answer by listing the items from Music table.\n",
    " You can list an item/record from a table using the method `get_item`"
   ]
  },
  {
   "cell_type": "code",
   "execution_count": 23,
   "metadata": {},
   "outputs": [],
   "source": [
    "response1 = client.get_item(Key={\n",
    "                                'Artist': {'S':\"No One You Know\"},\n",
    "                                'songTitle': {'S':'My Dog Spot'}\n",
    "                                },\n",
    "                          TableName='Music')"
   ]
  },
  {
   "cell_type": "code",
   "execution_count": 24,
   "metadata": {},
   "outputs": [
    {
     "data": {
      "text/plain": [
       "{'Item': {'songTitle': {'S': 'My Dog Spot'},\n",
       "  'Artist': {'S': 'No One You Know'}},\n",
       " 'ResponseMetadata': {'RequestId': 'JMGOVCAH70MCPSCIVH8CLLE1NRVV4KQNSO5AEMVJF66Q9ASUAAJG',\n",
       "  'HTTPStatusCode': 200,\n",
       "  'HTTPHeaders': {'server': 'Server',\n",
       "   'date': 'Fri, 26 Mar 2021 14:34:25 GMT',\n",
       "   'content-type': 'application/x-amz-json-1.0',\n",
       "   'content-length': '75',\n",
       "   'connection': 'keep-alive',\n",
       "   'x-amzn-requestid': 'JMGOVCAH70MCPSCIVH8CLLE1NRVV4KQNSO5AEMVJF66Q9ASUAAJG',\n",
       "   'x-amz-crc32': '791084813'},\n",
       "  'RetryAttempts': 0}}"
      ]
     },
     "execution_count": 24,
     "metadata": {},
     "output_type": "execute_result"
    }
   ],
   "source": [
    "response1"
   ]
  },
  {
   "cell_type": "code",
   "execution_count": 25,
   "metadata": {},
   "outputs": [
    {
     "data": {
      "text/plain": [
       "{'ResponseMetadata': {'RequestId': 'N3T7E1K1AM7BQK4TE6MB3S72QBVV4KQNSO5AEMVJF66Q9ASUAAJG',\n",
       "  'HTTPStatusCode': 200,\n",
       "  'HTTPHeaders': {'server': 'Server',\n",
       "   'date': 'Fri, 26 Mar 2021 14:34:27 GMT',\n",
       "   'content-type': 'application/x-amz-json-1.0',\n",
       "   'content-length': '2',\n",
       "   'connection': 'keep-alive',\n",
       "   'x-amzn-requestid': 'N3T7E1K1AM7BQK4TE6MB3S72QBVV4KQNSO5AEMVJF66Q9ASUAAJG',\n",
       "   'x-amz-crc32': '2745614147'},\n",
       "  'RetryAttempts': 0}}"
      ]
     },
     "execution_count": 25,
     "metadata": {},
     "output_type": "execute_result"
    }
   ],
   "source": [
    "response2 = client.get_item(Key={\n",
    "                                'Artist': {'S':'No One You Know'},\n",
    "                                'songTitle': {'S':'Call Me Today'}\n",
    "                            },\n",
    "                            TableName='Music',\n",
    "                            ProjectionExpression=\"Artist, songTitle\")\n",
    "response2"
   ]
  },
  {
   "cell_type": "code",
   "execution_count": 26,
   "metadata": {},
   "outputs": [
    {
     "name": "stdout",
     "output_type": "stream",
     "text": [
      "{'songTitle': {'S': 'My Dog Spot'}, 'Artist': {'S': 'No One You Know'}}\n",
      "None\n"
     ]
    }
   ],
   "source": [
    "print(response1.get('Item'))\n",
    "print(response2.get('Item'))"
   ]
  },
  {
   "cell_type": "code",
   "execution_count": 27,
   "metadata": {},
   "outputs": [
    {
     "name": "stdout",
     "output_type": "stream",
     "text": [
      "{'S': 'My Dog Spot'}\n"
     ]
    }
   ],
   "source": [
    "print(response1.get('Item')['songTitle'])\n",
    "#print(response2.get('Item')['songTitle'])"
   ]
  },
  {
   "cell_type": "code",
   "execution_count": 28,
   "metadata": {},
   "outputs": [
    {
     "name": "stdout",
     "output_type": "stream",
     "text": [
      "My Dog Spot\n"
     ]
    }
   ],
   "source": [
    "print(response1.get('Item')['songTitle']['S'])\n",
    "#print(response2.get('Item')['songTitle']['S'])"
   ]
  },
  {
   "cell_type": "markdown",
   "metadata": {},
   "source": [
    "<font color = purple> The response that you get from such methods is usually returned as python dictionary in a JSON format.\n",
    "\n",
    "Any actions that can be performed on a python dictionary can be performed on such responses.\n",
    "\n",
    "<br>\n",
    "Why wasn't there a value for requested attribute YearPassed in the response?"
   ]
  },
  {
   "cell_type": "markdown",
   "metadata": {},
   "source": [
    "<font color = grey> Write your answer here </font> \n",
    "<br>\n",
    "There is nothing within the tables for YearPassed yet, so it seems to be showing an error."
   ]
  },
  {
   "cell_type": "markdown",
   "metadata": {},
   "source": [
    "<font color = purple> You may find reading the following docuemnts from BB useful:\n",
    "1. get_item: Atrributes to Get\n",
    "2. get_item: projection expression"
   ]
  },
  {
   "cell_type": "markdown",
   "metadata": {},
   "source": [
    "<font color = grey> Add any notes on the syntax above that you may wish to after reading the documents uploaded on BB as specified in the previous line"
   ]
  },
  {
   "cell_type": "markdown",
   "metadata": {},
   "source": [
    "<font color = purple> Now list all the items that you created in Week 4 in the Table Music, by using a client method only once.\n",
    "You may want to look up the method and its parameters here: [DynamoDB client documentation](https://boto3.amazonaws.com/v1/documentation/api/latest/reference/services/dynamodb.html#client)"
   ]
  },
  {
   "cell_type": "code",
   "execution_count": 29,
   "metadata": {},
   "outputs": [],
   "source": [
    "# this might be wrong as it doesn't show items\n",
    "response3 = client.list_tables() "
   ]
  },
  {
   "cell_type": "code",
   "execution_count": 30,
   "metadata": {},
   "outputs": [
    {
     "data": {
      "text/plain": [
       "{'TableNames': ['AllTimeHits', 'GenreAlbumTitle', 'Music'],\n",
       " 'ResponseMetadata': {'RequestId': '7FAQVKPRF4FJ8SBBOL6J5603HNVV4KQNSO5AEMVJF66Q9ASUAAJG',\n",
       "  'HTTPStatusCode': 200,\n",
       "  'HTTPHeaders': {'server': 'Server',\n",
       "   'date': 'Fri, 26 Mar 2021 14:34:55 GMT',\n",
       "   'content-type': 'application/x-amz-json-1.0',\n",
       "   'content-length': '56',\n",
       "   'connection': 'keep-alive',\n",
       "   'x-amzn-requestid': '7FAQVKPRF4FJ8SBBOL6J5603HNVV4KQNSO5AEMVJF66Q9ASUAAJG',\n",
       "   'x-amz-crc32': '515296954'},\n",
       "  'RetryAttempts': 0}}"
      ]
     },
     "execution_count": 30,
     "metadata": {},
     "output_type": "execute_result"
    }
   ],
   "source": [
    "response3"
   ]
  },
  {
   "cell_type": "markdown",
   "metadata": {},
   "source": [
    "<font color = purple> Describe how the use of secondary index could have altered any response that you have received from the code to answer the previous task."
   ]
  },
  {
   "cell_type": "markdown",
   "metadata": {},
   "source": [
    "<font color = grey> Answer here </font>\n",
    "<br>\n",
    "The use of a secondary index (composite key) has become more popular as of late, especially for nonSQL db's as the data could be spread/split across multiple clusters. This very unique key can be used to quickly access the data by looking at these keys within the partitions on the AWS account."
   ]
  },
  {
   "cell_type": "markdown",
   "metadata": {},
   "source": [
    "<font color = purple> Read the Document called 'Choosing the Right DynamoDB Partition' before answering the next question. This document is provided on Blackboard."
   ]
  },
  {
   "cell_type": "markdown",
   "metadata": {},
   "source": [
    "<font color = purple> Compare the following tables' primary key and provide rationale for the choice:\n",
    "1. Music\n",
    "2. GenreAlbumTitle"
   ]
  },
  {
   "cell_type": "markdown",
   "metadata": {},
   "source": [
    "<font color = grey> Answer here </font>\n",
    "</br>\n",
    "describe_table() shows the layout of the noSQL database in a json format - but it isn't formatted correctly as json. Printing out the table structure, with the key being Music "
   ]
  },
  {
   "cell_type": "code",
   "execution_count": 31,
   "metadata": {
    "scrolled": true
   },
   "outputs": [
    {
     "data": {
      "text/plain": [
       "{'Table': {'AttributeDefinitions': [{'AttributeName': 'Artist',\n",
       "    'AttributeType': 'S'},\n",
       "   {'AttributeName': 'songTitle', 'AttributeType': 'S'}],\n",
       "  'TableName': 'Music',\n",
       "  'KeySchema': [{'AttributeName': 'Artist', 'KeyType': 'HASH'},\n",
       "   {'AttributeName': 'songTitle', 'KeyType': 'RANGE'}],\n",
       "  'TableStatus': 'ACTIVE',\n",
       "  'CreationDateTime': datetime.datetime(2021, 3, 26, 9, 7, 6, 427000, tzinfo=tzlocal()),\n",
       "  'ProvisionedThroughput': {'NumberOfDecreasesToday': 0,\n",
       "   'ReadCapacityUnits': 5,\n",
       "   'WriteCapacityUnits': 5},\n",
       "  'TableSizeBytes': 222,\n",
       "  'ItemCount': 5,\n",
       "  'TableArn': 'arn:aws:dynamodb:us-east-1:666515444448:table/Music',\n",
       "  'TableId': 'd424d5e9-9b34-4531-bf7b-001cd357c312'},\n",
       " 'ResponseMetadata': {'RequestId': 'LBO7TPR1CMNT9ESCPLB7QJFA9FVV4KQNSO5AEMVJF66Q9ASUAAJG',\n",
       "  'HTTPStatusCode': 200,\n",
       "  'HTTPHeaders': {'server': 'Server',\n",
       "   'date': 'Fri, 26 Mar 2021 14:35:26 GMT',\n",
       "   'content-type': 'application/x-amz-json-1.0',\n",
       "   'content-length': '565',\n",
       "   'connection': 'keep-alive',\n",
       "   'x-amzn-requestid': 'LBO7TPR1CMNT9ESCPLB7QJFA9FVV4KQNSO5AEMVJF66Q9ASUAAJG',\n",
       "   'x-amz-crc32': '658310884'},\n",
       "  'RetryAttempts': 0}}"
      ]
     },
     "execution_count": 31,
     "metadata": {},
     "output_type": "execute_result"
    }
   ],
   "source": [
    "client.describe_table(TableName='Music')"
   ]
  },
  {
   "cell_type": "markdown",
   "metadata": {},
   "source": [
    "<font color = purple> Use the data provided in the schema table below to add items in the table GenreAlbumTitle.\n",
    "    \n",
    "Find the method and its parameters from [DynamoDB client documentation](https://boto3.amazonaws.com/v1/documentation/api/latest/reference/services/dynamodb.html#client)"
   ]
  },
  {
   "cell_type": "code",
   "execution_count": 53,
   "metadata": {},
   "outputs": [],
   "source": [
    "responseX = client.put_item(TableName = 'GenreAlbumTitle',\n",
    "        Item = {\n",
    "            \"Genre\": {\"S\": \"Country\"},\n",
    "            \"AlbumTitle\": {\"S\": \"Hey Now\"},\n",
    "            \"Genre\": {\"S\": \"Country\"},\n",
    "            \"AlbumTitle\": {\"S\": \"Somewhat Famous\"},\n",
    "            \"Genre\": {\"S\": \"Rock\"},\n",
    "            \"AlbumTitle\": {\"S\": \"The Buck Starts Here\"}})"
   ]
  },
  {
   "cell_type": "markdown",
   "metadata": {},
   "source": [
    "Now check it worked."
   ]
  },
  {
   "cell_type": "code",
   "execution_count": 62,
   "metadata": {},
   "outputs": [
    {
     "data": {
      "text/plain": [
       "{'Item': {'AlbumTitle': {'S': 'The Buck Starts Here'}, 'Genre': {'S': 'Rock'}},\n",
       " 'ResponseMetadata': {'RequestId': '6F0L9L7UGESB65K9G7N9JDNL17VV4KQNSO5AEMVJF66Q9ASUAAJG',\n",
       "  'HTTPStatusCode': 200,\n",
       "  'HTTPHeaders': {'server': 'Server',\n",
       "   'date': 'Fri, 26 Mar 2021 15:28:10 GMT',\n",
       "   'content-type': 'application/x-amz-json-1.0',\n",
       "   'content-length': '73',\n",
       "   'connection': 'keep-alive',\n",
       "   'x-amzn-requestid': '6F0L9L7UGESB65K9G7N9JDNL17VV4KQNSO5AEMVJF66Q9ASUAAJG',\n",
       "   'x-amz-crc32': '3553761467'},\n",
       "  'RetryAttempts': 0}}"
      ]
     },
     "execution_count": 62,
     "metadata": {},
     "output_type": "execute_result"
    }
   ],
   "source": [
    "response = client.get_item(Key={\"Genre\": {\"S\": \"Rock\"},\n",
    "                                \"AlbumTitle\": {\"S\": \"The Buck Starts Here\"}\n",
    "                                },\n",
    "                          TableName='GenreAlbumTitle')\n",
    "response"
   ]
  },
  {
   "cell_type": "markdown",
   "metadata": {},
   "source": [
    "<font color = purple> Update the items in the table 'Music' using the schema table below.\n",
    "    \n",
    "Find the method and its parameters from [DynamoDB client documentation](https://boto3.amazonaws.com/v1/documentation/api/latest/reference/services/dynamodb.html#client)"
   ]
  },
  {
   "cell_type": "markdown",
   "metadata": {},
   "source": [
    "<font color = purple> Create the datamodel including all the tables in the DynamoDB database that have been creating in week 4 and week5. <br> You may upload an image of a handmade diagram."
   ]
  },
  {
   "cell_type": "markdown",
   "metadata": {},
   "source": [
    "<font color = grey> upload here </font> \n",
    "<br>\n",
    "**Music**\n",
    "- Artist \n",
    "- SongTitle\n",
    "<br>\n",
    "\n",
    "**GenreAlbumTitle**\n",
    "- Genre\n",
    "- AlbumTitle\n",
    "<br>\n",
    "\n",
    "**AllTimeHits**\n",
    "- SongTitle\n",
    "- Artist"
   ]
  },
  {
   "cell_type": "markdown",
   "metadata": {},
   "source": [
    "<font color = purple> Summarise the learning outcomes that you have achieved so far."
   ]
  },
  {
   "cell_type": "markdown",
   "metadata": {},
   "source": [
    "Within this weeks work, I have learnt how to successfully connect to my AWS instance DynamoDB using Python. Whilst connected to this database I can look to see what tables are available, what items are within those tables and how to manipulate those items. \n",
    "<br>\n",
    "I have also had my eyed opened to the waiters for DDB which are a way to execute code on something which hasn't been initialised yet - for example, use a waiter to create a table which and as soon as he's ready, run another command on that table. This will stop any errors being throw as the waiter is 'taking care' of the original code.\n",
    "<br>\n",
    "I have also seen how to create new tables, input items into these tables and how to check it actually worked."
   ]
  },
  {
   "cell_type": "code",
   "execution_count": null,
   "metadata": {},
   "outputs": [],
   "source": []
  }
 ],
 "metadata": {
  "kernelspec": {
   "display_name": "Python 3",
   "language": "python",
   "name": "python3"
  },
  "language_info": {
   "codemirror_mode": {
    "name": "ipython",
    "version": 3
   },
   "file_extension": ".py",
   "mimetype": "text/x-python",
   "name": "python",
   "nbconvert_exporter": "python",
   "pygments_lexer": "ipython3",
   "version": "3.8.5"
  }
 },
 "nbformat": 4,
 "nbformat_minor": 4
}
