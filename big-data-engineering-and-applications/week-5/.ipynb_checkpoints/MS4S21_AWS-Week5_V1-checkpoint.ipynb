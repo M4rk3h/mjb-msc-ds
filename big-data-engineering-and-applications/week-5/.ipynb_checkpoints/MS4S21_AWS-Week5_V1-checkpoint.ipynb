{
 "cells": [
  {
   "cell_type": "markdown",
   "metadata": {},
   "source": [
    "# <font color = blue> AWS classroom Lab Manual"
   ]
  },
  {
   "cell_type": "markdown",
   "metadata": {},
   "source": [
    "## <font color = blue> Dynamo DB"
   ]
  },
  {
   "cell_type": "markdown",
   "metadata": {},
   "source": [
    "<font color = purple> This Jupyter notebook walks through the code required to establish a connection and work from local host/machine to DynamoDB in the AWS cloud.<br>\n",
    "    \n",
    "To develop a good understanding of the code and results it is essential that activities from the first lab manual of Week 4's synchronous session have been completed"
   ]
  },
  {
   "cell_type": "markdown",
   "metadata": {},
   "source": [
    "<font color = purple> We will use the latest version of boto api to interface with DynamoDB in the AWS cloud - please ensure that installation and import of the python package has been successful."
   ]
  },
  {
   "cell_type": "code",
   "execution_count": 1,
   "metadata": {},
   "outputs": [
    {
     "name": "stdout",
     "output_type": "stream",
     "text": [
      "Requirement already satisfied: boto3 in c:\\programdata\\anaconda3\\lib\\site-packages (1.17.26)\n",
      "Requirement already satisfied: botocore<1.21.0,>=1.20.26 in c:\\programdata\\anaconda3\\lib\\site-packages (from boto3) (1.20.26)\n",
      "Requirement already satisfied: jmespath<1.0.0,>=0.7.1 in c:\\programdata\\anaconda3\\lib\\site-packages (from boto3) (0.10.0)\n",
      "Requirement already satisfied: s3transfer<0.4.0,>=0.3.0 in c:\\programdata\\anaconda3\\lib\\site-packages (from boto3) (0.3.4)\n",
      "Requirement already satisfied: python-dateutil<3.0.0,>=2.1 in c:\\programdata\\anaconda3\\lib\\site-packages (from botocore<1.21.0,>=1.20.26->boto3) (2.8.1)\n",
      "Requirement already satisfied: urllib3<1.27,>=1.25.4 in c:\\programdata\\anaconda3\\lib\\site-packages (from botocore<1.21.0,>=1.20.26->boto3) (1.25.11)\n",
      "Requirement already satisfied: six>=1.5 in c:\\users\\markb\\appdata\\roaming\\python\\python38\\site-packages (from python-dateutil<3.0.0,>=2.1->botocore<1.21.0,>=1.20.26->boto3) (1.15.0)\n"
     ]
    },
    {
     "name": "stderr",
     "output_type": "stream",
     "text": [
      "WARNING: You are using pip version 20.3.3; however, version 21.0.1 is available.\n",
      "You should consider upgrading via the 'C:\\ProgramData\\Anaconda3\\python.exe -m pip install --upgrade pip' command.\n"
     ]
    }
   ],
   "source": [
    "import sys\n",
    "!{sys.executable} -m pip install boto3"
   ]
  },
  {
   "cell_type": "code",
   "execution_count": 2,
   "metadata": {},
   "outputs": [
    {
     "name": "stdout",
     "output_type": "stream",
     "text": [
      "Requirement already satisfied: pip in c:\\users\\markb\\appdata\\roaming\\python\\python38\\site-packages (20.3.3)\n",
      "Collecting pip\n",
      "  Using cached pip-21.0.1-py3-none-any.whl (1.5 MB)\n",
      "Installing collected packages: pip\n",
      "  Attempting uninstall: pip\n",
      "    Found existing installation: pip 20.3.3\n",
      "    Uninstalling pip-20.3.3:\n",
      "      Successfully uninstalled pip-20.3.3\n",
      "  Rolling back uninstall of pip\n",
      "  Moving to c:\\users\\markb\\appdata\\roaming\\python\\python38\\scripts\\pip.exe\n",
      "   from C:\\Users\\markb\\AppData\\Local\\Temp\\pip-uninstall-dm52dyhf\\pip.exe\n",
      "  Moving to c:\\users\\markb\\appdata\\roaming\\python\\python38\\scripts\\pip3.8.exe\n",
      "   from C:\\Users\\markb\\AppData\\Local\\Temp\\pip-uninstall-dm52dyhf\\pip3.8.exe\n",
      "  Moving to c:\\users\\markb\\appdata\\roaming\\python\\python38\\scripts\\pip3.exe\n",
      "   from C:\\Users\\markb\\AppData\\Local\\Temp\\pip-uninstall-dm52dyhf\\pip3.exe\n",
      "  Moving to c:\\users\\markb\\appdata\\roaming\\python\\python38\\site-packages\\pip-20.3.3.dist-info\\\n",
      "   from C:\\Users\\markb\\AppData\\Roaming\\Python\\Python38\\site-packages\\~ip-20.3.3.dist-info\n",
      "  Moving to c:\\users\\markb\\appdata\\roaming\\python\\python38\\site-packages\\pip\\\n",
      "   from C:\\Users\\markb\\AppData\\Roaming\\Python\\Python38\\site-packages\\~ip\n",
      "Note: you may need to restart the kernel to use updated packages.\n"
     ]
    },
    {
     "name": "stderr",
     "output_type": "stream",
     "text": [
      "ERROR: Could not install packages due to an EnvironmentError: [WinError 5] Access is denied: 'C:\\\\ProgramData\\\\Anaconda3\\\\Lib\\\\site-packages\\\\pip\\\\__init__.py'\n",
      "Consider using the `--user` option or check the permissions.\n",
      "\n",
      "WARNING: You are using pip version 20.3.3; however, version 21.0.1 is available.\n",
      "You should consider upgrading via the 'C:\\ProgramData\\Anaconda3\\python.exe -m pip install --upgrade pip' command.\n"
     ]
    }
   ],
   "source": [
    "pip install --upgrade pip"
   ]
  },
  {
   "cell_type": "code",
   "execution_count": 14,
   "metadata": {},
   "outputs": [],
   "source": [
    "import boto3\n",
    "s3 = boto3.resource('s3')"
   ]
  },
  {
   "cell_type": "markdown",
   "metadata": {},
   "source": [
    "### <font color = blue> Authentication credentials configuration\n",
    "\n",
    "<font color = purple> Before a connection can be established to dynamodb or any other cloud service (AWS in our case) via any SDK, authentication needs to be configured. <br>\n",
    "    \n",
    "There are multiple way with which authentication can be configured for the AWS cloud services including DynamoDB.The same applies to setup Boto3.<br>\n",
    "    \n",
    "You can set up authentication credentials for your AWS account using either the IAM Console or the AWS CLI. This notebook is adapted to AWS CLI configuration.<br>"
   ]
  },
  {
   "cell_type": "markdown",
   "metadata": {},
   "source": [
    "<font color = purple> Download the **AWS CLI Version 2** for your OS from [here](https://docs.aws.amazon.com/cli/latest/userguide/install-cliv2.html) <br>\n",
    "    \n",
    "Install the CLI and verify installation from cmd/terminal (windows/macOS-or-Linux) as follows:\n",
    "    \n",
    "![aws --version](awsCLI_version.png)\n",
    "    \n"
   ]
  },
  {
   "cell_type": "markdown",
   "metadata": {},
   "source": [
    "<font color = purple> Inorder to configure the credentials on your local host/machine, you need access them from your AWS console. For the purpose of this module you will have to access classrooms dashboard and classrooms AWS console dashboard, otherwise they can be accessed from the regular AWS dashboard.<br>\n",
    "    \n",
    "Navigate to the MS4S21 AWS classroom and click the Account Details button located just beneath Account status table\n",
    "    \n",
    "![aws classroom Account Details](classroomConsole.png)"
   ]
  },
  {
   "cell_type": "markdown",
   "metadata": {},
   "source": [
    "<font color = purple> You will be rendered with the following pop-up:\n",
    "    \n",
    "![aws credentials](awsCLI_cred.png)"
   ]
  },
  {
   "cell_type": "markdown",
   "metadata": {},
   "source": [
    "<font color = purple> Click on the show button and copy the following in a text file (for storage purpose): </font>\n",
    "    \n",
    "    1. aws_access_key_id\n",
    "    2. aws_secret_access_key\n",
    "    3. aws_session_token"
   ]
  },
  {
   "cell_type": "markdown",
   "metadata": {},
   "source": [
    "<font color = purple> Close the pop-up window and go to AWS console from classroom homepage using the blue button 'AWS console'\n",
    "    \n",
    "Open the region drop down menu located at the top right corner as shown below:\n",
    "    \n",
    "![aws classroomroom dashboard region menu](classroom_awsRegion.png)\n",
    "    "
   ]
  },
  {
   "cell_type": "markdown",
   "metadata": {},
   "source": [
    "<font color = purple> Copy the region id in the same text file where you copied other information.\n",
    "    \n",
    "Now go back to aws CLI on your cmd/terminal and type `aws configure`<br>\n",
    "    <br>\n",
    "    \n",
    "Enter all the information as required (consult the text file), including key ID, Access Key, region name, skip Output format\n",
    "    \n",
    "![configuring aws CLI](InkedawsCLI_config_LI.jpg)"
   ]
  },
  {
   "cell_type": "markdown",
   "metadata": {},
   "source": [
    "<font color=purple> You should be able find a directory called .aws in your operating system's designated local folder for the signed in user. Sometimes, the user has to enable the access of hidden folder in GUI, so please don't forget to ensure that the signed in user on your system's OS can view hidden files and folders.\n",
    "    \n",
    "I am using Windows OS so my user 'masif' has local directories in the following folder:\n",
    "    \n",
    "![.aws folder - AWS CLI local directory](awsCLI_UserLocalFolder.png)\n",
    "    \n",
    "**Note**: If you are using Linux or macOS please follow the path to the local folder for the logged in user.\n",
    "    \n",
    "Open the .aws folder and you will find two files there:\n",
    "    \n",
    "1. config\n",
    "2. credentials\n",
    "    \n",
    "<br>\n",
    "<br> \n",
    "    \n",
    "    \n",
    "You should be able to open each of these files by double clicking on them and selecting a text editor of your choice. You may find the visual below useful:\n",
    "    \n",
    "![aws CLI config and credentials files - how to open them](awsCLI_configCredFiles.png)\n",
    "    \n",
    "    \n",
    "    \n",
    "<br>\n",
    "<br>\n",
    "    \n",
    "Open the credentials file and add the session token.\n",
    "    \n",
    "The final version of credentials and config file should look similar to the pair shown below:\n",
    "    \n",
    "![final configuration of aws CLI's credentials and config files](InkedawsCLI_configCredFiles_filled_LI.jpg)"
   ]
  },
  {
   "cell_type": "markdown",
   "metadata": {},
   "source": [
    "<font color = purple> You have successfully AWS CLI to work with boto3 API."
   ]
  },
  {
   "cell_type": "markdown",
   "metadata": {},
   "source": [
    "### <font color = blue> Connecting boto3 python API with DynamoDB in the cloud\n"
   ]
  },
  {
   "cell_type": "markdown",
   "metadata": {},
   "source": [
    "<font color=purple> You need to ensure that python kernel in Jupyternotebook, or anyother IDE that you may use has been restarted after configuring AWS CLI.\n",
    "    \n",
    "The documentation of this API can be found here: [Boto3 API](https://boto3.amazonaws.com/v1/documentation/api/latest/index.html#:~:text=Boto3%20documentation%C2%B6%20Boto%20is%20the%20Amazon%20Web%20Services,as%20well%20as%20low-level%20access%20to%20AWS%20services.)"
   ]
  },
  {
   "cell_type": "markdown",
   "metadata": {},
   "source": [
    "<font color=purple> For this lab tutorial we will connect AWS DynamoDB using Boto3 Client.\n",
    "    \n",
    "Clients provide a low-level interface to AWS whose methods map close to 1:1 with service APIs.<br>\n",
    "    <br>\n",
    "\n",
    "\n",
    "For MS4S21 we are mainly looking at AWS's big data services, such as: DynamoDB, EMR and etc.\n",
    "    \n",
    "Each AWS service has an API; More and basic information on DynamoDB's API can be found here: [AWS DynamoDB API Basic intorduction](https://docs.aws.amazon.com/amazondynamodb/latest/developerguide/HowItWorks.API.html). Take some time out to familiarise yourself with the API before proceeding any further. You will find the concpets that are very much relatable to database concepts from Block 1 module: Principles of Programming.\n",
    "    \n",
    "Once you have read the information provided on the basic introduction webpage, You should spend another 10-15 minutes on the [API reference](https://docs.aws.amazon.com/amazondynamodb/latest/APIReference/API_Operations_Amazon_DynamoDB.html). There are some operations which require some advance theoretical concepts, you are not required to spend time on understanding those operations. The aim is to acquaint yourself with the API at a functional level."
   ]
  },
  {
   "cell_type": "code",
   "execution_count": 15,
   "metadata": {},
   "outputs": [],
   "source": [
    "# create a boto3 client for DynamoDB service\n",
    "client = boto3.client('dynamodb')"
   ]
  },
  {
   "cell_type": "markdown",
   "metadata": {},
   "source": [
    "<font color = purple> We created a table called Music last week. Using the DynamoDB client and relevant methods, we can list any tables that already exist in the AWS service."
   ]
  },
  {
   "cell_type": "code",
   "execution_count": 18,
   "metadata": {},
   "outputs": [
    {
     "data": {
      "text/plain": [
       "{'TableNames': ['Music'],\n",
       " 'ResponseMetadata': {'RequestId': 'F1850ITB3IPC7QVDSGSK9OHO0VVV4KQNSO5AEMVJF66Q9ASUAAJG',\n",
       "  'HTTPStatusCode': 200,\n",
       "  'HTTPHeaders': {'server': 'Server',\n",
       "   'date': 'Fri, 26 Mar 2021 10:37:47 GMT',\n",
       "   'content-type': 'application/x-amz-json-1.0',\n",
       "   'content-length': '24',\n",
       "   'connection': 'keep-alive',\n",
       "   'x-amzn-requestid': 'F1850ITB3IPC7QVDSGSK9OHO0VVV4KQNSO5AEMVJF66Q9ASUAAJG',\n",
       "   'x-amz-crc32': '3485585'},\n",
       "  'RetryAttempts': 0}}"
      ]
     },
     "execution_count": 18,
     "metadata": {},
     "output_type": "execute_result"
    }
   ],
   "source": [
    "# list existing tables in the AWS service\n",
    "client.list_tables()"
   ]
  },
  {
   "cell_type": "markdown",
   "metadata": {},
   "source": [
    "<font color = purple> Similalry, other methods for this client can be used to perform operations on core components. Core components of DynamoDB have been discussed in week 4."
   ]
  },
  {
   "cell_type": "markdown",
   "metadata": {},
   "source": [
    "<font color = purple> Here is quick guide on naming rules and data types in DynamoDB: [Naming Rules DynamoDB](https://docs.aws.amazon.com/amazondynamodb/latest/developerguide/HowItWorks.NamingRulesDataTypes.html)\n",
    "    \n",
    "You have already seen an introduction to the data types, use this webpage well to familiarise yourself with naming rules."
   ]
  },
  {
   "cell_type": "markdown",
   "metadata": {},
   "source": [
    "<font color = purple> Open the lab manual from last week where you created this table via GUI. Now look at the manual and remind yourself of the primary schema for 'Music' Table. Describe the primary key in the cell below. \n",
    "    \n",
    "You may use the describe_table method as well to analyse the response and compare notes"
   ]
  },
  {
   "cell_type": "markdown",
   "metadata": {},
   "source": [
    "<font color = grey> Describe here"
   ]
  },
  {
   "cell_type": "code",
   "execution_count": 34,
   "metadata": {},
   "outputs": [
    {
     "data": {
      "text/plain": [
       "{'Table': {'AttributeDefinitions': [{'AttributeName': 'Artist',\n",
       "    'AttributeType': 'S'},\n",
       "   {'AttributeName': 'songTitle', 'AttributeType': 'S'}],\n",
       "  'TableName': 'Music',\n",
       "  'KeySchema': [{'AttributeName': 'Artist', 'KeyType': 'HASH'},\n",
       "   {'AttributeName': 'songTitle', 'KeyType': 'RANGE'}],\n",
       "  'TableStatus': 'ACTIVE',\n",
       "  'CreationDateTime': datetime.datetime(2021, 3, 26, 9, 7, 6, 427000, tzinfo=tzlocal()),\n",
       "  'ProvisionedThroughput': {'NumberOfDecreasesToday': 0,\n",
       "   'ReadCapacityUnits': 5,\n",
       "   'WriteCapacityUnits': 5},\n",
       "  'TableSizeBytes': 0,\n",
       "  'ItemCount': 0,\n",
       "  'TableArn': 'arn:aws:dynamodb:us-east-1:666515444448:table/Music',\n",
       "  'TableId': 'd424d5e9-9b34-4531-bf7b-001cd357c312'},\n",
       " 'ResponseMetadata': {'RequestId': '0HDHC8DGP71LSFJPE9QVIQN6GJVV4KQNSO5AEMVJF66Q9ASUAAJG',\n",
       "  'HTTPStatusCode': 200,\n",
       "  'HTTPHeaders': {'server': 'Server',\n",
       "   'date': 'Fri, 26 Mar 2021 10:43:11 GMT',\n",
       "   'content-type': 'application/x-amz-json-1.0',\n",
       "   'content-length': '563',\n",
       "   'connection': 'keep-alive',\n",
       "   'x-amzn-requestid': '0HDHC8DGP71LSFJPE9QVIQN6GJVV4KQNSO5AEMVJF66Q9ASUAAJG',\n",
       "   'x-amz-crc32': '4221095006'},\n",
       "  'RetryAttempts': 0}}"
      ]
     },
     "execution_count": 34,
     "metadata": {},
     "output_type": "execute_result"
    }
   ],
   "source": [
    "# use the describe_table method \n",
    "client.describe_table(TableName='Music')"
   ]
  },
  {
   "cell_type": "markdown",
   "metadata": {},
   "source": [
    "<font color = grey> Compare notes between GUI and response from describe_table method here"
   ]
  },
  {
   "cell_type": "markdown",
   "metadata": {},
   "source": [
    "#### <font color = blue> Creating a table"
   ]
  },
  {
   "cell_type": "markdown",
   "metadata": {},
   "source": [
    "<font color = purple>Creating a DynamoDB table requires specifying the following mandatory information:\n",
    "    \n",
    "1. Table Name: A table name can only be of string data type\n",
    "2. Primary Key: As discussed in week 4, a primary key may consist of one of the following schemas:\n",
    "    - partition key only\n",
    "    - partition and sort key"
   ]
  },
  {
   "cell_type": "markdown",
   "metadata": {},
   "source": [
    "<font color = purple> If you are creating a table you would obviously like to specify attributes too."
   ]
  },
  {
   "cell_type": "markdown",
   "metadata": {},
   "source": [
    "<font color = purple> Let's create a table for the following schema:\n",
    "    \n",
    "![Schema for table GenreAlbumTitle](GenreAlbumTitle.png)"
   ]
  },
  {
   "cell_type": "code",
   "execution_count": 35,
   "metadata": {},
   "outputs": [
    {
     "ename": "ClientError",
     "evalue": "An error occurred (ValidationException) when calling the CreateTable operation: One or more parameter values were invalid: Some index key attributes are not defined in AttributeDefinitions. Keys: [Genre, AlbumTitle], AttributeDefinitions: [Artist, SongTitle]",
     "output_type": "error",
     "traceback": [
      "\u001b[1;31m---------------------------------------------------------------------------\u001b[0m",
      "\u001b[1;31mClientError\u001b[0m                               Traceback (most recent call last)",
      "\u001b[1;32m<ipython-input-35-ef22a26e7410>\u001b[0m in \u001b[0;36m<module>\u001b[1;34m\u001b[0m\n\u001b[1;32m----> 1\u001b[1;33m response = client.create_table(TableName ='GenreAlbumTitle',\n\u001b[0m\u001b[0;32m      2\u001b[0m                     KeySchema=[{'AttributeName': 'Genre', 'KeyType': 'HASH'}, \n\u001b[0;32m      3\u001b[0m                               {'AttributeName': 'AlbumTitle', 'KeyType': 'RANGE'}],\n\u001b[0;32m      4\u001b[0m                     AttributeDefinitions=[{'AttributeName': 'Artist', 'AttributeType': 'S'},\n\u001b[0;32m      5\u001b[0m                                          {'AttributeName': 'SongTitle', 'AttributeType': 'S'}],\n",
      "\u001b[1;32mC:\\ProgramData\\Anaconda3\\lib\\site-packages\\botocore\\client.py\u001b[0m in \u001b[0;36m_api_call\u001b[1;34m(self, *args, **kwargs)\u001b[0m\n\u001b[0;32m    355\u001b[0m                     \"%s() only accepts keyword arguments.\" % py_operation_name)\n\u001b[0;32m    356\u001b[0m             \u001b[1;31m# The \"self\" in this scope is referring to the BaseClient.\u001b[0m\u001b[1;33m\u001b[0m\u001b[1;33m\u001b[0m\u001b[1;33m\u001b[0m\u001b[0m\n\u001b[1;32m--> 357\u001b[1;33m             \u001b[1;32mreturn\u001b[0m \u001b[0mself\u001b[0m\u001b[1;33m.\u001b[0m\u001b[0m_make_api_call\u001b[0m\u001b[1;33m(\u001b[0m\u001b[0moperation_name\u001b[0m\u001b[1;33m,\u001b[0m \u001b[0mkwargs\u001b[0m\u001b[1;33m)\u001b[0m\u001b[1;33m\u001b[0m\u001b[1;33m\u001b[0m\u001b[0m\n\u001b[0m\u001b[0;32m    358\u001b[0m \u001b[1;33m\u001b[0m\u001b[0m\n\u001b[0;32m    359\u001b[0m         \u001b[0m_api_call\u001b[0m\u001b[1;33m.\u001b[0m\u001b[0m__name__\u001b[0m \u001b[1;33m=\u001b[0m \u001b[0mstr\u001b[0m\u001b[1;33m(\u001b[0m\u001b[0mpy_operation_name\u001b[0m\u001b[1;33m)\u001b[0m\u001b[1;33m\u001b[0m\u001b[1;33m\u001b[0m\u001b[0m\n",
      "\u001b[1;32mC:\\ProgramData\\Anaconda3\\lib\\site-packages\\botocore\\client.py\u001b[0m in \u001b[0;36m_make_api_call\u001b[1;34m(self, operation_name, api_params)\u001b[0m\n\u001b[0;32m    674\u001b[0m             \u001b[0merror_code\u001b[0m \u001b[1;33m=\u001b[0m \u001b[0mparsed_response\u001b[0m\u001b[1;33m.\u001b[0m\u001b[0mget\u001b[0m\u001b[1;33m(\u001b[0m\u001b[1;34m\"Error\"\u001b[0m\u001b[1;33m,\u001b[0m \u001b[1;33m{\u001b[0m\u001b[1;33m}\u001b[0m\u001b[1;33m)\u001b[0m\u001b[1;33m.\u001b[0m\u001b[0mget\u001b[0m\u001b[1;33m(\u001b[0m\u001b[1;34m\"Code\"\u001b[0m\u001b[1;33m)\u001b[0m\u001b[1;33m\u001b[0m\u001b[1;33m\u001b[0m\u001b[0m\n\u001b[0;32m    675\u001b[0m             \u001b[0merror_class\u001b[0m \u001b[1;33m=\u001b[0m \u001b[0mself\u001b[0m\u001b[1;33m.\u001b[0m\u001b[0mexceptions\u001b[0m\u001b[1;33m.\u001b[0m\u001b[0mfrom_code\u001b[0m\u001b[1;33m(\u001b[0m\u001b[0merror_code\u001b[0m\u001b[1;33m)\u001b[0m\u001b[1;33m\u001b[0m\u001b[1;33m\u001b[0m\u001b[0m\n\u001b[1;32m--> 676\u001b[1;33m             \u001b[1;32mraise\u001b[0m \u001b[0merror_class\u001b[0m\u001b[1;33m(\u001b[0m\u001b[0mparsed_response\u001b[0m\u001b[1;33m,\u001b[0m \u001b[0moperation_name\u001b[0m\u001b[1;33m)\u001b[0m\u001b[1;33m\u001b[0m\u001b[1;33m\u001b[0m\u001b[0m\n\u001b[0m\u001b[0;32m    677\u001b[0m         \u001b[1;32melse\u001b[0m\u001b[1;33m:\u001b[0m\u001b[1;33m\u001b[0m\u001b[1;33m\u001b[0m\u001b[0m\n\u001b[0;32m    678\u001b[0m             \u001b[1;32mreturn\u001b[0m \u001b[0mparsed_response\u001b[0m\u001b[1;33m\u001b[0m\u001b[1;33m\u001b[0m\u001b[0m\n",
      "\u001b[1;31mClientError\u001b[0m: An error occurred (ValidationException) when calling the CreateTable operation: One or more parameter values were invalid: Some index key attributes are not defined in AttributeDefinitions. Keys: [Genre, AlbumTitle], AttributeDefinitions: [Artist, SongTitle]"
     ]
    }
   ],
   "source": [
    "response = client.create_table(TableName ='GenreAlbumTitle',\n",
    "                    KeySchema=[{'AttributeName': 'Genre', 'KeyType': 'HASH'}, \n",
    "                              {'AttributeName': 'AlbumTitle', 'KeyType': 'RANGE'}],\n",
    "                    AttributeDefinitions=[{'AttributeName': 'Artist', 'AttributeType': 'S'},\n",
    "                                         {'AttributeName': 'SongTitle', 'AttributeType': 'S'}],\n",
    "                     ProvisionedThroughput={'ReadCapacityUnits': 5,'WriteCapacityUnits': 5})"
   ]
  },
  {
   "cell_type": "markdown",
   "metadata": {},
   "source": [
    "<font color=purple> Can you debug the error in previous line?\n",
    "    \n",
    "<font color=purple>    **OR**\n",
    "    \n",
    "<font color=purple>    Can you describe how the error has been fixed in next line?"
   ]
  },
  {
   "cell_type": "markdown",
   "metadata": {},
   "source": [
    "<font color = grey>Describe here </font>\n",
    "    \n",
    "It looks to me that we were referencing the Artist, and we would need to add the artist (foreign key) at a later date like in other database software."
   ]
  },
  {
   "cell_type": "code",
   "execution_count": 37,
   "metadata": {},
   "outputs": [],
   "source": [
    "response = client.create_table(TableName ='GenreAlbumTitle',\n",
    "                    KeySchema=[{'AttributeName': 'Genre', 'KeyType': 'HASH'}, \n",
    "                              {'AttributeName': 'AlbumTitle', 'KeyType': 'RANGE'}],\n",
    "                    AttributeDefinitions=[{'AttributeName': 'Genre', 'AttributeType': 'S'},\n",
    "                                          {'AttributeName': 'AlbumTitle', 'AttributeType': 'S'}],\n",
    "                     ProvisionedThroughput={'ReadCapacityUnits': 5,'WriteCapacityUnits': 5})"
   ]
  },
  {
   "cell_type": "code",
   "execution_count": 38,
   "metadata": {},
   "outputs": [
    {
     "name": "stdout",
     "output_type": "stream",
     "text": [
      "{'TableDescription': {'AttributeDefinitions': [{'AttributeName': 'AlbumTitle', 'AttributeType': 'S'}, {'AttributeName': 'Genre', 'AttributeType': 'S'}], 'TableName': 'GenreAlbumTitle', 'KeySchema': [{'AttributeName': 'Genre', 'KeyType': 'HASH'}, {'AttributeName': 'AlbumTitle', 'KeyType': 'RANGE'}], 'TableStatus': 'CREATING', 'CreationDateTime': datetime.datetime(2021, 3, 26, 10, 53, 26, 312000, tzinfo=tzlocal()), 'ProvisionedThroughput': {'NumberOfDecreasesToday': 0, 'ReadCapacityUnits': 5, 'WriteCapacityUnits': 5}, 'TableSizeBytes': 0, 'ItemCount': 0, 'TableArn': 'arn:aws:dynamodb:us-east-1:666515444448:table/GenreAlbumTitle', 'TableId': 'f2047f50-4a07-4cc0-8db7-c7ee184d0758'}, 'ResponseMetadata': {'RequestId': 'PTKE1KT0BL8UKU4KQJ0RPP166JVV4KQNSO5AEMVJF66Q9ASUAAJG', 'HTTPStatusCode': 200, 'HTTPHeaders': {'server': 'Server', 'date': 'Fri, 26 Mar 2021 10:53:26 GMT', 'content-type': 'application/x-amz-json-1.0', 'content-length': '596', 'connection': 'keep-alive', 'x-amzn-requestid': 'PTKE1KT0BL8UKU4KQJ0RPP166JVV4KQNSO5AEMVJF66Q9ASUAAJG', 'x-amz-crc32': '2326785403'}, 'RetryAttempts': 0}}\n"
     ]
    }
   ],
   "source": [
    "print(response)"
   ]
  },
  {
   "cell_type": "markdown",
   "metadata": {},
   "source": [
    "<font color = purple> Now open the other jupyter notebook manual called json primer before proceeding any further.\n",
    "<br>\n",
    "<br>\n",
    "<br>\n",
    "<br>"
   ]
  }
 ],
 "metadata": {
  "kernelspec": {
   "display_name": "Python 3",
   "language": "python",
   "name": "python3"
  },
  "language_info": {
   "codemirror_mode": {
    "name": "ipython",
    "version": 3
   },
   "file_extension": ".py",
   "mimetype": "text/x-python",
   "name": "python",
   "nbconvert_exporter": "python",
   "pygments_lexer": "ipython3",
   "version": "3.8.5"
  }
 },
 "nbformat": 4,
 "nbformat_minor": 4
}
