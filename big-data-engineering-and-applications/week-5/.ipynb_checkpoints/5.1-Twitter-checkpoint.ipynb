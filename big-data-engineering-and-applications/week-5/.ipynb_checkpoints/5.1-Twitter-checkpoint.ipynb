{
 "cells": [
  {
   "cell_type": "markdown",
   "metadata": {},
   "source": [
    "# <font color = blue> Twitter app creation </font>"
   ]
  },
  {
   "cell_type": "markdown",
   "metadata": {},
   "source": [
    "## <font color=blue> Authentication"
   ]
  },
  {
   "cell_type": "markdown",
   "metadata": {},
   "source": [
    "<font color = purple> After the app creation, open the app homepage, then Keys and tokens.<br>\n",
    "copy both consumer API keys in an easily accessible but safe location.<br>\n",
    "Likewise, generate access token and access token secret and copy them as well<br>"
   ]
  },
  {
   "cell_type": "code",
   "execution_count": 24,
   "metadata": {},
   "outputs": [],
   "source": [
    "#create the key and token variables and assign them values. Use the text document where you saved all this information\n",
    "# while creating the app through twitter's web interface\n",
    "consumer_key = 'MIHMXSF6BSF82sN0uDGtd8bYi'\n",
    "consumer_secret = 'owWFAXDtMcM3n8T1IZHtr1vHGko4Yxahhok3aZlikSVcGSvSnD'\n",
    "Bearer_Token = 'AAAAAAAAAAAAAAAAAAAAAGZjOwEAAAAAJW9ar4DF90t78ooZvnfx%2Be2G4UI%3DPKfu2lBi6aFxd3ZY5ebeWbUKJxgNqdIaSYTu83vZmURa3zai7d'\n",
    "access_token = '755358007-SmsZPc1tU23ha4Jzdsa5gybKTYVgFrktUgGzyaqD'\n",
    "access_token_secret = 'a0ggY6G6RFyF9ObImMNCMAQo0bqAzp5MfqJjOHcGj5rMM'"
   ]
  },
  {
   "cell_type": "markdown",
   "metadata": {},
   "source": [
    "<font color = purple> Just like boto3 provides us a programming interface to AWS's DynamoDB an other services, similarly Tweepy is a python API which let's us work with twitter API."
   ]
  },
  {
   "cell_type": "code",
   "execution_count": 25,
   "metadata": {},
   "outputs": [],
   "source": [
    "# install tweepy\n",
    "import tweepy"
   ]
  },
  {
   "cell_type": "code",
   "execution_count": 26,
   "metadata": {},
   "outputs": [],
   "source": [
    "#now set authentication\n",
    "auth = tweepy.OAuthHandler(consumer_key, consumer_secret)\n",
    "auth.set_access_token(access_token, access_token_secret)\n",
    "api = tweepy.API(auth)"
   ]
  },
  {
   "cell_type": "markdown",
   "metadata": {},
   "source": [
    "# <font color = blue>Downloading tweets with streaming API"
   ]
  },
  {
   "cell_type": "markdown",
   "metadata": {},
   "source": [
    "<font color = purple> You may have come across Twitter API previously on the course where you may have collected tweets from the past.\n",
    "    \n",
    "However, in this lab manual we will download Tweets as they are published. Such style of downloading data is called 'Streaming'."
   ]
  },
  {
   "cell_type": "markdown",
   "metadata": {},
   "source": [
    "<font color = purple> So will now use Twitter Streaming API ([Documentation](https://developer.twitter.com/en/docs/tweets/filter-realtime/overview)). Read through this page of documentation and familiarise yourself with the API\n",
    "    \n",
    "Inorder to stream tweets we will have to use tweepy's class StreamListener. An object will be created which will then be able to use the inherited methods and attributes of StreamListener\n",
    "    \n",
    "You will find most of the method definitions are empty, this is called providing methods stubs which can be defined in a way to fit to purpose whiel doing the functionality theya re supposed to do.<br>\n",
    "    \n",
    "Just like we needed a client for Boto3, StreamListner would also need authentication to let the client class object download Twitter Stream. \n",
    "    \n",
    "you may find this URL useful https://github.com/tweepy/tweepy/blob/master/tweepy/streaming.py#L45   "
   ]
  },
  {
   "cell_type": "markdown",
   "metadata": {},
   "source": [
    "<font color = purple> You need to find a place where you will save the stream. At the moment let's just work with a simple text  file to save data from the stream."
   ]
  },
  {
   "cell_type": "code",
   "execution_count": 27,
   "metadata": {},
   "outputs": [],
   "source": [
    "# open a file to append the streaming data\n",
    "twitter_jsonFile = open(\"twitter_data.txt\", \"w\")"
   ]
  },
  {
   "cell_type": "code",
   "execution_count": 28,
   "metadata": {},
   "outputs": [],
   "source": [
    "import json"
   ]
  },
  {
   "cell_type": "markdown",
   "metadata": {},
   "source": [
    "<font color = purple> Don't execute the next cell yet. Only go through it, try to get what is happening in each method's definition"
   ]
  },
  {
   "cell_type": "code",
   "execution_count": 52,
   "metadata": {},
   "outputs": [
    {
     "ename": "SyntaxError",
     "evalue": "'break' outside loop (<ipython-input-52-c911d44b1c56>, line 49)",
     "output_type": "error",
     "traceback": [
      "\u001b[0;36m  File \u001b[0;32m\"<ipython-input-52-c911d44b1c56>\"\u001b[0;36m, line \u001b[0;32m49\u001b[0m\n\u001b[0;31m    break\u001b[0m\n\u001b[0m    ^\u001b[0m\n\u001b[0;31mSyntaxError\u001b[0m\u001b[0;31m:\u001b[0m 'break' outside loop\n"
     ]
    }
   ],
   "source": [
    "class myStreamListener(tweepy.StreamListener):\n",
    "        def on_connect(self):\n",
    "            # Called initially to connect to the Streaming API\n",
    "            print(\"You are now connected to the streaming API.\")\n",
    "        \n",
    "        def __init__(self, api=None):\n",
    "            super(myStreamListener, self).__init__()\n",
    "            self.num_tweets = 0\n",
    "        \n",
    "        def on_error(self, status_code):\n",
    "            # On error - if an error occurs, display the error / status code\n",
    "            print('An Error has occured: ' + repr(status_code))\n",
    "            return False   \n",
    "\n",
    "        def on_data(self, data):\n",
    "            \n",
    "            # start the timer\n",
    "            import time\n",
    "            # create countdoqn\n",
    "            def countdown(t):\n",
    "                while t > 0:\n",
    "                    print(t)\n",
    "                    t -= 1\n",
    "                    time.sleep(1)\n",
    "                    \n",
    "                    # Decode the JSON from Twitter\n",
    "                    datajson = json.loads(data)\n",
    "\n",
    "                    #grab the 'created_at' data from the Tweet to use for display\n",
    "                    created_at = datajson['created_at']\n",
    "\n",
    "                    #print out a message to the screen that we have collected a tweet\n",
    "                    print(\"Tweet collected at \" + str(created_at))\n",
    "\n",
    "                    # print out the tweet,  grab the 'text' field              \n",
    "                    tweet = datajson['text']\n",
    "                    print(tweet)\n",
    "\n",
    "                    #insert/append the data into a json file\n",
    "                    json.dump(datajson, \n",
    "                              twitter_jsonFile,\n",
    "                              indent = 4)\n",
    "                # print stopped\n",
    "                print(\"Stopped after 42 Hours!\")\n",
    "            \n",
    "            # seconds = 172800\n",
    "            seconds = 5\n",
    "            countdown(seconds)\n",
    "            \n",
    "            print('done')"
   ]
  },
  {
   "cell_type": "markdown",
   "metadata": {},
   "source": [
    "<font color = purple> In your own words describe the Class definition as you have seen it."
   ]
  },
  {
   "cell_type": "markdown",
   "metadata": {},
   "source": [
    "<font color = grey> Answer here </font>\n",
    "<br>\n",
    "<br>\n",
    "From looking at the code above, it looks like the first part of the function is checking our credentials against twitter, to connect to the API. After doing so, it is setting a num_tweets to 0 (which i'm assuming will increment when we start it), followed by a little bit of code which checks for any errors in the connection.\n",
    "<br>\n",
    "<br>\n"
   ]
  },
  {
   "cell_type": "markdown",
   "metadata": {},
   "source": [
    "<font color = purple> Describe the method definition of `on_data`. Try to explain in your own words what is happening at each line of code in the definition"
   ]
  },
  {
   "cell_type": "markdown",
   "metadata": {},
   "source": [
    "<font color = grey> describe here </font>\n",
    "<br>\n",
    "<br>\n",
    "For the function 'on_data', it looks to me like the code is getting the json data from twitter, adding some meta data called 'created_at' whilst appending this extra field to the tweets that are being scraped. The function is then printing out the text from that tweet, whilst also incrementing the number of tweets which was set previous with (x + 1).\n",
    "<br>\n",
    "Finally, the code is printing out the first 10 tweets from the dataset, before breaking out of the loop."
   ]
  },
  {
   "cell_type": "markdown",
   "metadata": {},
   "source": [
    "<font color = purple> Why do you think an internal variable self_num has been created in the constructor? Briefly explain in your own words. You may make references to its usage in `on_data` method. "
   ]
  },
  {
   "cell_type": "markdown",
   "metadata": {},
   "source": [
    "<font color = grey> Describe here"
   ]
  },
  {
   "cell_type": "code",
   "execution_count": 48,
   "metadata": {
    "scrolled": false
   },
   "outputs": [],
   "source": [
    "def getTweets():\n",
    "    # locations\n",
    "    loCal = [-3.576205, 51.466683, -3.143618, 51.825436] # uk\n",
    "    # languages\n",
    "    lanG = ['en']\n",
    "    # hashtags\n",
    "    hashT = ['#COVID19', '#CoronaVirus', '#UnitedKingdom', '#UK', '#India']\n",
    "\n",
    "    listener = myStreamListener(api = tweepy.API(wait_on_rate_limit = True)) \n",
    "    streamer = tweepy.Stream(auth=auth, listener = listener)\n",
    "    print(\"Tracking location \" + str('United Kingdom'))\n",
    "    streamer.filter(locations=loCal,\n",
    "                    languages = lanG,\n",
    "                    track = hashT)"
   ]
  },
  {
   "cell_type": "code",
   "execution_count": 49,
   "metadata": {
    "scrolled": true
   },
   "outputs": [
    {
     "name": "stdout",
     "output_type": "stream",
     "text": [
      "Tracking location United Kingdom\n",
      "An Error has occured: 420\n"
     ]
    }
   ],
   "source": [
    "getTweets()"
   ]
  },
  {
   "cell_type": "code",
   "execution_count": null,
   "metadata": {},
   "outputs": [],
   "source": []
  }
 ],
 "metadata": {
  "kernelspec": {
   "display_name": "Python 3.8.5 64-bit ('anaconda3': virtualenv)",
   "language": "python",
   "name": "python385jvsc74a57bd05933e76b5db79cf66121a5ac4adf6024ac243ded087a3620a7171cff19a656df"
  },
  "language_info": {
   "codemirror_mode": {
    "name": "ipython",
    "version": 3
   },
   "file_extension": ".py",
   "mimetype": "text/x-python",
   "name": "python",
   "nbconvert_exporter": "python",
   "pygments_lexer": "ipython3",
   "version": "3.8.8"
  },
  "metadata": {
   "interpreter": {
    "hash": "5933e76b5db79cf66121a5ac4adf6024ac243ded087a3620a7171cff19a656df"
   }
  }
 },
 "nbformat": 4,
 "nbformat_minor": 2
}
