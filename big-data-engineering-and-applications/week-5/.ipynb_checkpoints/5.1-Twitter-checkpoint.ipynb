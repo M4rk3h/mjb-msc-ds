{
 "cells": [
  {
   "cell_type": "markdown",
   "metadata": {},
   "source": [
    "# <font color = blue> Twitter app creation </font>"
   ]
  },
  {
   "cell_type": "markdown",
   "metadata": {},
   "source": [
    "## <font color=blue> Authentication"
   ]
  },
  {
   "cell_type": "markdown",
   "metadata": {},
   "source": [
    "<font color = purple> After the app creation, open the app homepage, then Keys and tokens.<br>\n",
    "copy both consumer API keys in an easily accessible but safe location.<br>\n",
    "Likewise, generate access token and access token secret and copy them as well<br>"
   ]
  },
  {
   "cell_type": "code",
   "execution_count": 1,
   "metadata": {},
   "outputs": [],
   "source": [
    "#create the key and token variables and assign them values. Use the text document where you saved all this information\n",
    "# while creating the app through twitter's web interface\n",
    "consumer_key = 'MIHMXSF6BSF82sN0uDGtd8bYi'\n",
    "consumer_secret = 'owWFAXDtMcM3n8T1IZHtr1vHGko4Yxahhok3aZlikSVcGSvSnD'\n",
    "Bearer_Token = 'AAAAAAAAAAAAAAAAAAAAAGZjOwEAAAAAJW9ar4DF90t78ooZvnfx%2Be2G4UI%3DPKfu2lBi6aFxd3ZY5ebeWbUKJxgNqdIaSYTu83vZmURa3zai7d'\n",
    "access_token = '755358007-SmsZPc1tU23ha4Jzdsa5gybKTYVgFrktUgGzyaqD'\n",
    "access_token_secret = 'a0ggY6G6RFyF9ObImMNCMAQo0bqAzp5MfqJjOHcGj5rMM'"
   ]
  },
  {
   "cell_type": "markdown",
   "metadata": {},
   "source": [
    "<font color = purple> Just like boto3 provides us a programming interface to AWS's DynamoDB an other services, similarly Tweepy is a python API which let's us work with twitter API."
   ]
  },
  {
   "cell_type": "code",
   "execution_count": 2,
   "metadata": {},
   "outputs": [],
   "source": [
    "# install tweepy\n",
    "import tweepy"
   ]
  },
  {
   "cell_type": "code",
   "execution_count": 3,
   "metadata": {},
   "outputs": [],
   "source": [
    "#now set authentication\n",
    "auth = tweepy.OAuthHandler(consumer_key, consumer_secret)\n",
    "auth.set_access_token(access_token, access_token_secret)\n",
    "api = tweepy.API(auth)"
   ]
  },
  {
   "cell_type": "markdown",
   "metadata": {},
   "source": [
    "# <font color = blue>Downloading tweets with streaming API"
   ]
  },
  {
   "cell_type": "markdown",
   "metadata": {},
   "source": [
    "<font color = purple> You may have come across Twitter API previously on the course where you may have collected tweets from the past.\n",
    "    \n",
    "However, in this lab manual we will download Tweets as they are published. Such style of downloading data is called 'Streaming'."
   ]
  },
  {
   "cell_type": "markdown",
   "metadata": {},
   "source": [
    "<font color = purple> So will now use Twitter Streaming API ([Documentation](https://developer.twitter.com/en/docs/tweets/filter-realtime/overview)). Read through this page of documentation and familiarise yourself with the API\n",
    "    \n",
    "Inorder to stream tweets we will have to use tweepy's class StreamListener. An object will be created which will then be able to use the inherited methods and attributes of StreamListener\n",
    "    \n",
    "You will find most of the method definitions are empty, this is called providing methods stubs which can be defined in a way to fit to purpose whiel doing the functionality theya re supposed to do.<br>\n",
    "    \n",
    "Just like we needed a client for Boto3, StreamListner would also need authentication to let the client class object download Twitter Stream. \n",
    "    \n",
    "you may find this URL useful https://github.com/tweepy/tweepy/blob/master/tweepy/streaming.py#L45   "
   ]
  },
  {
   "cell_type": "markdown",
   "metadata": {},
   "source": [
    "<font color = purple> You need to find a place where you will save the stream. At the moment let's just work with a simple text  file to save data from the stream."
   ]
  },
  {
   "cell_type": "code",
   "execution_count": 4,
   "metadata": {},
   "outputs": [],
   "source": [
    "# open a file to append the streaming data\n",
    "twitter_jsonFile = open(\"twitter_data.txt\", \"w\")"
   ]
  },
  {
   "cell_type": "code",
   "execution_count": 5,
   "metadata": {},
   "outputs": [],
   "source": [
    "import json"
   ]
  },
  {
   "cell_type": "markdown",
   "metadata": {},
   "source": [
    "<font color = purple> Don't execute the next cell yet. Only go through it, try to get what is happening in each method's definition"
   ]
  },
  {
   "cell_type": "code",
   "execution_count": 6,
   "metadata": {},
   "outputs": [
    {
     "name": "stdout",
     "output_type": "stream",
     "text": [
      "done\n"
     ]
    }
   ],
   "source": [
    "class myStreamListener(tweepy.StreamListener):\n",
    "        def on_connect(self):\n",
    "            # Called initially to connect to the Streaming API\n",
    "            print(\"You are now connected to the streaming API.\")\n",
    "        \n",
    "        def __init__(self, api=None):\n",
    "            super(myStreamListener, self).__init__()\n",
    "            self.num_tweets = 0\n",
    "        \n",
    "        def on_error(self, status_code):\n",
    "            # On error - if an error occurs, display the error / status code\n",
    "            print('An Error has occured: ' + repr(status_code))\n",
    "            return False\n",
    "    \n",
    "\n",
    "        def on_data(self, data):\n",
    "            \n",
    "            try:\n",
    "                \n",
    "                # Decode the JSON from Twitter\n",
    "                datajson = json.loads(data)\n",
    "\n",
    "                #grab the 'created_at' data from the Tweet to use for display\n",
    "                created_at = datajson['created_at']\n",
    "\n",
    "                #print out a message to the screen that we have collected a tweet\n",
    "                print(\"Tweet collected at \" + str(created_at))\n",
    "\n",
    "                # print out the tweet,  grab the 'text' field              \n",
    "                tweet = datajson['text']\n",
    "                print(tweet)\n",
    "                \n",
    "                #insert/append the data into a json file\n",
    "                json.dump(datajson, \n",
    "                          twitter_jsonFile,\n",
    "                          indent = 4)\n",
    "                \n",
    "                \n",
    "                self.num_tweets += 1\n",
    "                if self.num_tweets < 50:\n",
    "                    print(\"Tweet \", self.num_tweets)\n",
    "                    return True\n",
    "                else:\n",
    "                    return False\n",
    "            except Exception as e:\n",
    "               print(e)\n",
    "print('done')"
   ]
  },
  {
   "cell_type": "markdown",
   "metadata": {},
   "source": [
    "<font color = purple> In your own words describe the Class definition as you have seen it."
   ]
  },
  {
   "cell_type": "markdown",
   "metadata": {},
   "source": [
    "<font color = grey> Answer here </font>\n",
    "<br>\n",
    "<br>\n",
    "From looking at the code above, it looks like the first part of the function is checking our credentials against twitter, to connect to the API. After doing so, it is setting a num_tweets to 0 (which i'm assuming will increment when we start it), followed by a little bit of code which checks for any errors in the connection.\n",
    "<br>\n",
    "<br>\n"
   ]
  },
  {
   "cell_type": "markdown",
   "metadata": {},
   "source": [
    "<font color = purple> Describe the method definition of `on_data`. Try to explain in your own words what is happening at each line of code in the definition"
   ]
  },
  {
   "cell_type": "markdown",
   "metadata": {},
   "source": [
    "<font color = grey> describe here </font>\n",
    "<br>\n",
    "<br>\n",
    "For the function 'on_data', it looks to me like the code is getting the json data from twitter, adding some meta data called 'created_at' whilst appending this extra field to the tweets that are being scraped. The function is then printing out the text from that tweet, whilst also incrementing the number of tweets which was set previous with (x + 1).\n",
    "<br>\n",
    "Finally, the code is printing out the first 10 tweets from the dataset, before breaking out of the loop."
   ]
  },
  {
   "cell_type": "markdown",
   "metadata": {},
   "source": [
    "<font color = purple> Why do you think an internal variable self_num has been created in the constructor? Briefly explain in your own words. You may make references to its usage in `on_data` method. "
   ]
  },
  {
   "cell_type": "markdown",
   "metadata": {},
   "source": [
    "<font color = grey> Describe here"
   ]
  },
  {
   "cell_type": "code",
   "execution_count": 7,
   "metadata": {
    "scrolled": false
   },
   "outputs": [
    {
     "name": "stdout",
     "output_type": "stream",
     "text": [
      "Tracking locationSouth Wales\n",
      "You are now connected to the streaming API.\n",
      "Tweet collected at Fri Apr 23 14:33:14 +0000 2021\n",
      "#snacksurpise #portugal https://t.co/RNKdjSVgoO\n",
      "Tweet  1\n",
      "Tweet collected at Fri Apr 23 14:33:23 +0000 2021\n",
      "One of the greats 🙌\n",
      "Tweet  2\n",
      "Tweet collected at Fri Apr 23 14:33:49 +0000 2021\n",
      "It’s almost pims o clock 😜@MikeDoyleComedy https://t.co/VyYWo3jqJp\n",
      "Tweet  3\n",
      "Tweet collected at Fri Apr 23 14:33:56 +0000 2021\n",
      "You mean financially you need it but yes I think people will be terrified for a very long time others don't care bu… https://t.co/VuEe5kPSb4\n",
      "Tweet  4\n",
      "Tweet collected at Fri Apr 23 14:33:58 +0000 2021\n",
      "Diolch yn fawr iawn to @Mrs_RGreen for helping our pupils to develop their maths skills! 👍🏽👏🏽\n",
      "Tweet  5\n",
      "Tweet collected at Fri Apr 23 14:35:30 +0000 2021\n",
      "@teigngardener Until they get into their national cricket team and then go proper rogue.\n",
      "Tweet  6\n",
      "Tweet collected at Fri Apr 23 14:36:50 +0000 2021\n",
      "@FoodAdvisoryBrd @Ashvio I think you’re forgetting about the fact that the ’livestock’ referred to in that article… https://t.co/UaD745OfE6\n",
      "Tweet  7\n",
      "Tweet collected at Fri Apr 23 14:37:15 +0000 2021\n",
      "What a great pleasure to host our 1st #PRSNTS Global Events with @wolfofwallst #JordanBelfort @Lanelayhall1\n",
      "We can’… https://t.co/nTMqz9hS6n\n",
      "Tweet  8\n",
      "Tweet collected at Fri Apr 23 14:37:26 +0000 2021\n",
      "@TotoAngie2 Haha whoever met you made me proud.\n",
      "Tweet  9\n",
      "Tweet collected at Fri Apr 23 14:37:26 +0000 2021\n",
      "@CobblerEd27 🤣🤣🤣🤣\n",
      "Tweet  10\n",
      "Tweet collected at Fri Apr 23 14:37:46 +0000 2021\n",
      "Fremington £219950 well kept 3 bedroom terrace with parking, close to local school and shops #lovefremington… https://t.co/uwktPF4Paw\n",
      "Tweet  11\n",
      "Tweet collected at Fri Apr 23 14:38:09 +0000 2021\n",
      "@CV_UHBSafety @Jas_Roberts10 Happy BIG birthday @Jas_Roberts10 !! Have a fab day 🎉🥳🥳\n",
      "Tweet  12\n",
      "Tweet collected at Fri Apr 23 14:38:22 +0000 2021\n",
      "@_RickFCB @TimoWerner = doubt it.\n",
      "@DiogoJota18 = 100% yes https://t.co/cDwpwVeUxt\n",
      "Tweet  13\n",
      "Tweet collected at Fri Apr 23 14:38:38 +0000 2021\n",
      "Awesome cider with a bright, bright future! 👇😍\n",
      "Tweet  14\n",
      "Tweet collected at Fri Apr 23 14:38:39 +0000 2021\n",
      "End of an incredible week with an incredible group of clinicians. Our inaugural Senior Paramedic induction comes to… https://t.co/s9q1xAdSpO\n",
      "Tweet  15\n",
      "Tweet collected at Fri Apr 23 14:38:59 +0000 2021\n",
      "😋\n",
      "Tweet  16\n",
      "Tweet collected at Fri Apr 23 14:39:10 +0000 2021\n",
      "Usk Reservoir absolutely stunning ♥️ great place to walk the dogs &amp; take in some beautiful views. \n",
      "\n",
      "#uskreservoir… https://t.co/TpzLAhm9jo\n",
      "Tweet  17\n",
      "Tweet collected at Fri Apr 23 14:39:19 +0000 2021\n",
      "How many Tories and family and friends are now mega rich as Boris Johnson lets them lose on government coffers. \n",
      " W… https://t.co/heRFy3PhqY\n",
      "Tweet  18\n",
      "Tweet collected at Fri Apr 23 14:39:19 +0000 2021\n",
      "That’s a wrap for Pierre &amp; Marie 🎬 \n",
      "\n",
      "#Filmmaking #actor #actorslife #casting https://t.co/CUoqr6fl09\n",
      "Tweet  19\n",
      "Tweet collected at Fri Apr 23 14:39:59 +0000 2021\n",
      "Hey @eonenergyuk how many times do I have to tell you. You don’t supply our house and you never have. The meter you… https://t.co/DvJTWlO4Dq\n",
      "Tweet  20\n",
      "Tweet collected at Fri Apr 23 14:40:31 +0000 2021\n",
      "@elmarie50638635 Most welcome, lovely to meet ya x\n",
      "Tweet  21\n",
      "Tweet collected at Fri Apr 23 14:40:49 +0000 2021\n",
      "Bored pulled a muscle in my side can hardly move.\n",
      "Tweet  22\n",
      "Tweet collected at Fri Apr 23 14:41:02 +0000 2021\n",
      "@LFCPierre19 Not even a debate. @reecejames_24 has a couple more years of catching up and  is nowhere near @TrentAA .\n",
      "Tweet  23\n",
      "Tweet collected at Fri Apr 23 14:41:20 +0000 2021\n",
      "@r77ulr Disgusting\n",
      "Tweet  24\n",
      "Tweet collected at Fri Apr 23 14:41:36 +0000 2021\n",
      "@absolutelyamyyy Gorgeous x\n",
      "Tweet  25\n",
      "Tweet collected at Fri Apr 23 14:41:38 +0000 2021\n",
      "You gotta be kidding right? Only 6 teams can qualify for the group stage, the top 5 seeded countries get automatic… https://t.co/PJUgAj8sUD\n",
      "Tweet  26\n",
      "Tweet collected at Fri Apr 23 14:42:06 +0000 2021\n",
      "@HelloKitttyCatt Another milk and eggs moment brother ? 🧐\n",
      "Tweet  27\n",
      "Tweet collected at Fri Apr 23 14:42:20 +0000 2021\n",
      "@DevonBirder @JoKingDevon Doh! 🤪\n",
      "Tweet  28\n",
      "Tweet collected at Fri Apr 23 14:42:53 +0000 2021\n",
      "#MG6 Trip over World's End on our way back to Chester from Llangollen @ World's End, Denbighshire https://t.co/ImsGHNzCa4\n",
      "Tweet  29\n",
      "Tweet collected at Fri Apr 23 14:43:12 +0000 2021\n",
      "A day off work so had a trip to Ham Wall/Shapwick. 1m Garganey, 3 Little Gull, 4 Marsh Harrier, 6 GW Egret. 1 Bitte… https://t.co/Z4pVS5R3ib\n",
      "Tweet  30\n",
      "Tweet collected at Fri Apr 23 14:43:19 +0000 2021\n",
      "Παίζατε #MagicTheGathering στα νιάτα σας; Ο κόσμος παίζει ακόμα! 😱 Ελάτε να ακούσετε στο νέο επεισόδιο του #podcast… https://t.co/Xxg750GD4H\n",
      "Tweet  31\n",
      "Tweet collected at Fri Apr 23 14:43:22 +0000 2021\n",
      "@Grumpy_Indy @heroicendeavour Yeah, he spent most of the conference chasing the cats around the living room just to annoy me\n",
      "Tweet  32\n",
      "Tweet collected at Fri Apr 23 14:44:51 +0000 2021\n",
      "@GlenWilliams12 Not just a right back Glen-played in midfield for Bochum and scored goals.Would love him back to pl… https://t.co/Z5mSx6TcsI\n",
      "Tweet  33\n",
      "Tweet collected at Fri Apr 23 14:45:17 +0000 2021\n",
      "At least someone's enjoying the sun whilst I've been working my backside off 😎 @ The Miller's Inn https://t.co/ERktEjbxo0\n",
      "Tweet  34\n",
      "Tweet collected at Fri Apr 23 14:45:28 +0000 2021\n",
      "@ronnieo147 Run to 7th titles Ronnie can't beat a good run I fucked my leg up in motorbike crash so difficult at ti… https://t.co/8ry6k6EAGQ\n",
      "Tweet  35\n",
      "Tweet collected at Fri Apr 23 14:46:08 +0000 2021\n",
      "No1 Vaccine done, Roll on No2 #CovidVaccine\n",
      "Tweet  36\n",
      "Tweet collected at Fri Apr 23 14:46:17 +0000 2021\n",
      "Wonder what the odds are of a swallow shitting all over your arm...bastard, could of been worse, 3 ravens flew over me just after 😆\n",
      "Tweet  37\n",
      "Tweet collected at Fri Apr 23 14:46:57 +0000 2021\n",
      "#TeamDiamond kitted out in blue and white for their Upper Olympics opening ceremony, proudly waving their class and… https://t.co/5ZKXPngMV4\n",
      "Tweet  38\n",
      "Tweet collected at Fri Apr 23 14:47:04 +0000 2021\n",
      "Lunchtime walk #latergram #spring @ Gorsedd Gardens https://t.co/7tPunMszt4\n",
      "Tweet  39\n",
      "Tweet collected at Fri Apr 23 14:47:34 +0000 2021\n",
      "@LearnGaelicScot 👍🏼 \"Clustog\" in 🏴󠁧󠁢󠁷󠁬󠁳󠁿 #Cymraeg\n",
      "Tweet  40\n",
      "Tweet collected at Fri Apr 23 14:47:35 +0000 2021\n",
      "@a7laa_alaa و ناااسو ماشاءالله\n",
      "Tweet  41\n",
      "Tweet collected at Fri Apr 23 14:48:07 +0000 2021\n",
      "Pumpkin for me https://t.co/djE0DcNbMJ\n",
      "Tweet  42\n",
      "Tweet collected at Fri Apr 23 14:48:26 +0000 2021\n",
      "One of my favourite images, Fred Keenor with the FA Cup and dart in mouth 🏆🚬\n",
      "Tweet  43\n",
      "Tweet collected at Fri Apr 23 14:48:42 +0000 2021\n",
      "Orders off Benjamin Netanyahu no doubt. \n",
      "  You must make up for this very disappointing let down by making another… https://t.co/DtkrtME0Cm\n",
      "Tweet  44\n",
      "Tweet collected at Fri Apr 23 14:48:42 +0000 2021\n",
      "Wales fans at the euros.  With the world as it stands right now, there probably won’t be many actually there, which… https://t.co/UYxYDNYY7J\n",
      "Tweet  45\n",
      "Tweet collected at Fri Apr 23 14:48:50 +0000 2021\n",
      "@sumanar69515907 @ProfFeynman 😂😂\n",
      "Tweet  46\n",
      "Tweet collected at Fri Apr 23 14:49:09 +0000 2021\n",
      "Just posted a photo @ Radstock, Bath And North East Somerset, United Kingdom https://t.co/qlCZVHFQU3\n",
      "Tweet  47\n",
      "Tweet collected at Fri Apr 23 14:49:33 +0000 2021\n",
      "“Blimey, “20” years of our Fiz!!!”🙍🏻‍♀️🙎🏻‍♀️😰😨👩🏻‍🦰💨🌬- “I really am old!!!”🙍🏻‍♀️🙎🏻‍♀️😱😰😨👩🏻‍🦳👵🏻🧓🏻💨🌬- “Where’s that go… https://t.co/XOKVZbaq8w\n",
      "Tweet  48\n",
      "Tweet collected at Fri Apr 23 14:49:38 +0000 2021\n",
      "Exciting 👏👏\n",
      "Tweet  49\n",
      "Tweet collected at Fri Apr 23 14:49:59 +0000 2021\n",
      "@bigfinish Many times\n"
     ]
    }
   ],
   "source": [
    "listener = myStreamListener(api = tweepy.API(wait_on_rate_limit = True)) \n",
    "# wait for our limit to be free\n",
    "streamer = tweepy.Stream(auth=auth, listener = listener)\n",
    "print(\"Tracking location\" + str('South Wales'))\n",
    "streamer.filter(locations=[-3.576205,\n",
    "                           51.466683,\n",
    "                           -3.143618,\n",
    "                           51.825436])"
   ]
  },
  {
   "cell_type": "code",
   "execution_count": null,
   "metadata": {},
   "outputs": [],
   "source": []
  }
 ],
 "metadata": {
  "kernelspec": {
   "display_name": "Python 3",
   "language": "python",
   "name": "python3"
  },
  "language_info": {
   "codemirror_mode": {
    "name": "ipython",
    "version": 3
   },
   "file_extension": ".py",
   "mimetype": "text/x-python",
   "name": "python",
   "nbconvert_exporter": "python",
   "pygments_lexer": "ipython3",
   "version": "3.8.8"
  }
 },
 "nbformat": 4,
 "nbformat_minor": 2
}
