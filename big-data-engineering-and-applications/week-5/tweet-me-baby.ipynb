{
 "cells": [
  {
   "cell_type": "markdown",
   "id": "debe7502",
   "metadata": {},
   "source": [
    "# Coursework 1 \n",
    "## Mark Baber - 17076749\n",
    "### Experiment 2\n",
    "\n",
    "<br>\n",
    "\n",
    "Streaming tweets from Twitter for 48 hours, hopefully with a timer or something."
   ]
  },
  {
   "cell_type": "code",
   "execution_count": 57,
   "id": "90cb9441",
   "metadata": {},
   "outputs": [],
   "source": [
    "# install modules\n",
    "import tweepy, json"
   ]
  },
  {
   "cell_type": "code",
   "execution_count": 58,
   "id": "2a2e116f",
   "metadata": {},
   "outputs": [],
   "source": [
    "consumer_key = 'MIHMXSF6BSF82sN0uDGtd8bYi'\n",
    "consumer_secret = 'owWFAXDtMcM3n8T1IZHtr1vHGko4Yxahhok3aZlikSVcGSvSnD'\n",
    "Bearer_Token = 'AAAAAAAAAAAAAAAAAAAAAGZjOwEAAAAAJW9ar4DF90t78ooZvnfx%2Be2G4UI%3DPKfu2lBi6aFxd3ZY5ebeWbUKJxgNqdIaSYTu83vZmURa3zai7d'\n",
    "access_token = '755358007-SmsZPc1tU23ha4Jzdsa5gybKTYVgFrktUgGzyaqD'\n",
    "access_token_secret = 'a0ggY6G6RFyF9ObImMNCMAQo0bqAzp5MfqJjOHcGj5rMM'"
   ]
  },
  {
   "cell_type": "code",
   "execution_count": 59,
   "id": "0915693d",
   "metadata": {},
   "outputs": [],
   "source": [
    "# set authentication\n",
    "auth = tweepy.OAuthHandler(consumer_key, consumer_secret)\n",
    "auth.set_access_token(access_token, access_token_secret)\n",
    "api = tweepy.API(auth)"
   ]
  },
  {
   "cell_type": "code",
   "execution_count": 60,
   "id": "2d122074",
   "metadata": {},
   "outputs": [],
   "source": [
    "# open a file to append the streaming data\n",
    "twitter_jsonFile = open(\"twitter_data.csv\", \"w\")"
   ]
  },
  {
   "cell_type": "code",
   "execution_count": 61,
   "id": "2596b79a",
   "metadata": {},
   "outputs": [],
   "source": [
    "class myStreamListener(tweepy.StreamListener):\n",
    "        def on_connect(self):\n",
    "            # Called initially to connect to the Streaming API\n",
    "            print(\"You are now connected to the streaming API.\")\n",
    "        \n",
    "        def __init__(self, api=None):\n",
    "            super(myStreamListener, self).__init__()\n",
    "        \n",
    "        def on_error(self, status_code):\n",
    "            # On error - if an error occurs, display the error / status code\n",
    "            print('An Error has occured: ' + repr(status_code))\n",
    "            return False   \n",
    "\n",
    "        def on_data(self, data):\n",
    "            # Decode the JSON from Twitter\n",
    "            datajson = json.loads(data)\n",
    "            #grab the 'created_at' data from the Tweet to use for display\n",
    "            created_at = datajson['created_at']\n",
    "            #print out a message to the screen that we have collected a tweet\n",
    "            print(\"Tweet collected at \" + str(created_at))\n",
    "            # print out the tweet,  grab the 'text' field              \n",
    "            tweet = datajson['text']\n",
    "            #print(tweet)\n",
    "            #insert/append the data into a json file\n",
    "            json.dump(datajson, twitter_jsonFile,\n",
    "                        indent = 4)\n"
   ]
  },
  {
   "cell_type": "code",
   "execution_count": 62,
   "id": "c0b79a59",
   "metadata": {},
   "outputs": [],
   "source": [
    "def streamTweets():\n",
    "    # try timer here.\n",
    "    # import datetime\n",
    "    from datetime import datetime, timedelta\n",
    "    # get todays date/time\n",
    "    start = datetime.now()\n",
    "    print('START ~~ ',start)\n",
    "\n",
    "    # start loop\n",
    "    while datetime.now() < start + timedelta(seconds=1):\n",
    "        try:\n",
    "            # locations\n",
    "            loCal = [-3.576205, 51.466683, -3.143618, 51.825436] # uk\n",
    "            #\n",
    "            # languages\n",
    "            lanG = ['en']\n",
    "            # hashtags\n",
    "            hashT = ['#COVID19', '#CoronaVirus', '#UnitedKingdom', '#UK', '#India']\n",
    "            listener = myStreamListener(api = tweepy.API(wait_on_rate_limit = True)) \n",
    "            streamer = tweepy.Stream(auth=auth, listener = listener)\n",
    "            print(\"Tracking location \" + str('United Kingdom'))\n",
    "            streamer.filter(locations=loCal,\n",
    "                            languages = lanG,\n",
    "                            track = hashT)\n",
    "        except KeyboardInterrupt:\n",
    "            print(\"Stopped.\")\n",
    "            twitter_jsonFile.close()\n",
    "        finally:\n",
    "            print('Done.')\n",
    "            twitter_jsonFile.close()"
   ]
  },
  {
   "cell_type": "code",
   "execution_count": 63,
   "id": "250b26ab",
   "metadata": {},
   "outputs": [
    {
     "name": "stdout",
     "output_type": "stream",
     "text": [
      "START ~~  2021-05-11 19:55:25.073222\n",
      "Tracking location United Kingdom\n",
      "You are now connected to the streaming API.\n",
      "Tweet collected at Tue May 11 18:55:17 +0000 2021\n",
      "Tweet collected at Tue May 11 18:55:18 +0000 2021\n",
      "Tweet collected at Tue May 11 18:55:18 +0000 2021\n",
      "Tweet collected at Tue May 11 18:55:19 +0000 2021\n",
      "Tweet collected at Tue May 11 18:55:19 +0000 2021\n",
      "Tweet collected at Tue May 11 18:55:20 +0000 2021\n",
      "Tweet collected at Tue May 11 18:55:21 +0000 2021\n",
      "Tweet collected at Tue May 11 18:55:21 +0000 2021\n",
      "Tweet collected at Tue May 11 18:55:22 +0000 2021\n",
      "Tweet collected at Tue May 11 18:55:23 +0000 2021\n",
      "Tweet collected at Tue May 11 18:55:23 +0000 2021\n",
      "Tweet collected at Tue May 11 18:55:24 +0000 2021\n",
      "Tweet collected at Tue May 11 18:55:24 +0000 2021\n",
      "Tweet collected at Tue May 11 18:55:24 +0000 2021\n",
      "Tweet collected at Tue May 11 18:55:25 +0000 2021\n",
      "Tweet collected at Tue May 11 18:55:25 +0000 2021\n",
      "Tweet collected at Tue May 11 18:55:25 +0000 2021\n",
      "Stopped.\n",
      "Done.\n"
     ]
    }
   ],
   "source": [
    "streamTweets()"
   ]
  },
  {
   "cell_type": "code",
   "execution_count": null,
   "id": "d7b07065",
   "metadata": {},
   "outputs": [],
   "source": []
  }
 ],
 "metadata": {
  "kernelspec": {
   "display_name": "Python 3",
   "language": "python",
   "name": "python3"
  },
  "language_info": {
   "codemirror_mode": {
    "name": "ipython",
    "version": 3
   },
   "file_extension": ".py",
   "mimetype": "text/x-python",
   "name": "python",
   "nbconvert_exporter": "python",
   "pygments_lexer": "ipython3",
   "version": "3.8.8"
  },
  "metadata": {
   "interpreter": {
    "hash": "ac59ebe37160ed0dfa835113d9b8498d9f09ceb179beaac4002f036b9467c963"
   }
  }
 },
 "nbformat": 4,
 "nbformat_minor": 5
}
