{
 "cells": [
  {
   "cell_type": "markdown",
   "metadata": {},
   "source": [
    "# <font color = blue> Twitter app creation </font>"
   ]
  },
  {
   "cell_type": "markdown",
   "metadata": {},
   "source": [
    "## <font color=blue> Authentication"
   ]
  },
  {
   "cell_type": "code",
   "execution_count": 21,
   "metadata": {},
   "outputs": [],
   "source": [
    "# install modules\n",
    "import tweepy, json"
   ]
  },
  {
   "cell_type": "code",
   "execution_count": 22,
   "metadata": {},
   "outputs": [],
   "source": [
    "#create the key and token variables and assign them values. Use the text document where you saved all this information\n",
    "# while creating the app through twitter's web interface\n",
    "consumer_key = 'y1H3CADNPj7fWOtkPfReA5Vby'\n",
    "consumer_secret = 's3SszPNyJFA0URxqq8R76poS2q37pUbVwbj7Z0ARm68B5hQSRS'\n",
    "Bearer_Token = 'AAAAAAAAAAAAAAAAAAAAANkfKQEAAAAApqxe6v7ejWpxazCs0S2YSJuiIJE%3DoDJ41CBVFbZQ0cZ4KftvIAMFLCWYn0Ih3SRzvF8reI74UdqNDx'\n",
    "access_token = '755358007-sDkidtK10EmFad6XaOFre7scKITWvoBMLkxkQ6KU'\n",
    "access_token_secret = 'SsYgAuAAFOl8m1zWWFSYJRdpL1L0u8KTZRDB2ZhbSsZZX'"
   ]
  },
  {
   "cell_type": "code",
   "execution_count": 23,
   "metadata": {},
   "outputs": [],
   "source": [
    "#now set authentication\n",
    "auth = tweepy.OAuthHandler(consumer_key, consumer_secret)\n",
    "auth.set_access_token(access_token, access_token_secret)\n",
    "api = tweepy.API(auth)"
   ]
  },
  {
   "cell_type": "code",
   "execution_count": 24,
   "metadata": {},
   "outputs": [],
   "source": [
    "# open a file to append the streaming data\n",
    "myTweets = open(\"myBigTweets\", \"w\")"
   ]
  },
  {
   "cell_type": "code",
   "execution_count": 25,
   "metadata": {},
   "outputs": [],
   "source": [
    "class myStreamListener(tweepy.StreamListener):\n",
    "        def on_connect(self):\n",
    "            # Called initially to connect to the Streaming API\n",
    "            print(\"You are now connected to the streaming API.\")\n",
    "        \n",
    "        def __init__(self, api=None):\n",
    "            super(myStreamListener, self).__init__()\n",
    "            self.num_tweets = 0\n",
    "        \n",
    "        def on_error(self, status_code):\n",
    "            # On error - if an error occurs, display the error / status code\n",
    "            print('An Error has occured: ' + repr(status_code))\n",
    "            return False\n",
    "\n",
    "        def on_data(self, data):\n",
    "            try:\n",
    "                # Decode the JSON from Twitter\n",
    "                datajson = json.loads(data)\n",
    "                #grab the 'created_at' data from the Tweet to use for display\n",
    "                created_at = datajson['created_at']\n",
    "                #print out a message to the screen that we have collected a tweet\n",
    "                print(\"Tweet collected at \" + str(created_at))\n",
    "                #insert/append the data into a json file\n",
    "                json.dump(datajson, myTweets, indent = 4)\n",
    "                # print out the tweet,  grab the 'text' field              \n",
    "                tweet = datajson['text']\n",
    "                print(tweet)\n",
    "                \n",
    "                self.num_tweets += 1\n",
    "                if self.num_tweets < 1:\n",
    "                    print(\"Tweet \", self.num_tweets)\n",
    "                    return True\n",
    "                else:\n",
    "                    return False\n",
    "            except Exception as e:\n",
    "               print(e)         "
   ]
  },
  {
   "cell_type": "code",
   "execution_count": 26,
   "metadata": {},
   "outputs": [],
   "source": [
    "def goGetTweets():\n",
    "    try:\n",
    "        # locations\n",
    "        loCal = [-3.576205, 51.466683, -3.143618, 51.825436] # uk\n",
    "        # languages\n",
    "        lanG = ['en']\n",
    "        # hashtags\n",
    "        hashT = ['#COVID19', '#CoronaVirus', '#UnitedKingdom', '#UK', '#India']\n",
    "        # set wait on rate limit\n",
    "        listener = myStreamListener(api = tweepy.API(wait_on_rate_limit = True)) \n",
    "        # init the streamer\n",
    "        streamer = tweepy.Stream(auth=auth, listener = listener)\n",
    "        # print tracking\n",
    "        print(\"Tracking location \" + str('United Kingdom'))\n",
    "        # DOES THIS START OR STOP THE LOOP\n",
    "        streamer.filter(locations=loCal, languages = lanG, track = hashT)\n",
    "    except KeyboardInterrupt:\n",
    "        print(\"manually stopped at:\", datetime.now())\n",
    "    finally:\n",
    "        finalTime = datetime.now()\n",
    "        print(finalTime)\n",
    "        print(\"Finished goGetTweets.\")"
   ]
  },
  {
   "cell_type": "code",
   "execution_count": 27,
   "metadata": {
    "scrolled": true
   },
   "outputs": [
    {
     "name": "stdout",
     "output_type": "stream",
     "text": [
      "START @ 2021-05-20 15:33:42.584474\n",
      "Should end at 2021-05-20 15:33:47.584474\n",
      "Tracking location United Kingdom\n",
      "You are now connected to the streaming API.\n",
      "Tweet collected at Thu May 20 14:33:35 +0000 2021\n",
      "RT @MayWongCNA: #UN @RapporteurUn says #Myanmar citizens \"cannot afford for history to repeat itself\" as he welcomes latest sanctions by #U…\n",
      "2021-05-20 15:33:43.351174\n",
      "Finished goGetTweets.\n",
      "Tracking location United Kingdom\n",
      "You are now connected to the streaming API.\n",
      "Tweet collected at Thu May 20 14:33:36 +0000 2021\n",
      "RT @21WIRE: Notice how snap one in the UK media or government have bothered to ask real people in #India whether or not their country is be…\n",
      "2021-05-20 15:33:43.974742\n",
      "Finished goGetTweets.\n",
      "Tracking location United Kingdom\n",
      "You are now connected to the streaming API.\n",
      "Tweet collected at Thu May 20 14:33:36 +0000 2021\n",
      "RT @CircEconNetwork: This is #Guwahati’s Dipor Bil freshwater lake in #India.\n",
      "\n",
      "Follow us today and tomorrow as our project manager @dineshb…\n",
      "2021-05-20 15:33:44.596308\n",
      "Finished goGetTweets.\n",
      "Tracking location United Kingdom\n",
      "You are now connected to the streaming API.\n",
      "Tweet collected at Thu May 20 14:33:37 +0000 2021\n",
      "RT @DrEricDing: NEW—the faster transmission #B16172 variant will likely dethrone #B117 and become the dominant variant in 🇬🇧 “in a matter o…\n",
      "2021-05-20 15:33:45.418055\n",
      "Finished goGetTweets.\n",
      "Tracking location United Kingdom\n",
      "You are now connected to the streaming API.\n",
      "Tweet collected at Thu May 20 14:33:38 +0000 2021\n",
      "RT @krishna0302: A video guide on how to use the #COVID19 test kit all by yourself. Each #CoviSelf test kit costs Rs 250. @MylabSolutions h…\n",
      "2021-05-20 15:33:46.340896\n",
      "Finished goGetTweets.\n",
      "Tracking location United Kingdom\n",
      "You are now connected to the streaming API.\n",
      "Tweet collected at Thu May 20 14:33:39 +0000 2021\n",
      "RT @Ravi28221470: #UPSCExtraAttempt2021\n",
      "#ExtraAttemptForAll\n",
      "@DoPTGoI\n",
      "@DrJitendraSingh\n",
      "@DrRPNishank\n",
      "@DoptSecretary\n",
      "@EduMinOfIndia\n",
      "@PMOIndia…\n",
      "2021-05-20 15:33:47.368830\n",
      "Finished goGetTweets.\n",
      "Tracking location United Kingdom\n",
      "An Error has occured: 420\n",
      "2021-05-20 15:33:47.865282\n",
      "Finished goGetTweets.\n",
      "2021-05-20 15:33:47.865282\n",
      "Finished goGetTweets.\n",
      "Disconnecting from Streamer\n"
     ]
    }
   ],
   "source": [
    "####################################\n",
    "## ALL OF THIS LOGIC DOESN'T WORK :( \n",
    "####################################\n",
    "\n",
    "# add some logic to see if it loops\n",
    "from datetime import datetime, timedelta\n",
    "# set start\n",
    "startTimer = datetime.now()\n",
    "# set end\n",
    "endTimer = startTimer + timedelta(seconds=5)\n",
    "\n",
    "print('START @',startTimer)\n",
    "print('Should end at', endTimer)\n",
    "\n",
    "# start loop\n",
    "while datetime.now() < endTimer:\n",
    "    goGetTweets()\n",
    "else:\n",
    "    finalTime = datetime.now()\n",
    "    print(finalTime)\n",
    "    print(\"Finished goGetTweets.\")\n",
    "    # close both csv files\n",
    "    myTweets.close()\n",
    "    # disconnect from streamer\n",
    "    #streamer.disconnect()\n",
    "    print(\"Disconnecting from Streamer\")"
   ]
  },
  {
   "cell_type": "code",
   "execution_count": 41,
   "metadata": {},
   "outputs": [],
   "source": [
    "with open('myBigTweets') as f:\n",
    "        data = json.load(f)"
   ]
  },
  {
   "cell_type": "code",
   "execution_count": 42,
   "metadata": {},
   "outputs": [
    {
     "ename": "TypeError",
     "evalue": "the JSON object must be str, bytes or bytearray, not list",
     "output_type": "error",
     "traceback": [
      "\u001b[1;31m---------------------------------------------------------------------------\u001b[0m",
      "\u001b[1;31mTypeError\u001b[0m                                 Traceback (most recent call last)",
      "\u001b[1;32m<ipython-input-42-cf2c64946d30>\u001b[0m in \u001b[0;36m<module>\u001b[1;34m\u001b[0m\n\u001b[1;32m----> 1\u001b[1;33m \u001b[0mdata\u001b[0m \u001b[1;33m=\u001b[0m \u001b[0mjson\u001b[0m\u001b[1;33m.\u001b[0m\u001b[0mloads\u001b[0m\u001b[1;33m(\u001b[0m\u001b[0mdata\u001b[0m\u001b[1;33m)\u001b[0m\u001b[1;33m\u001b[0m\u001b[1;33m\u001b[0m\u001b[0m\n\u001b[0m\u001b[0;32m      2\u001b[0m \u001b[0mprint\u001b[0m\u001b[1;33m(\u001b[0m\u001b[0mdata\u001b[0m\u001b[1;33m)\u001b[0m\u001b[1;33m\u001b[0m\u001b[1;33m\u001b[0m\u001b[0m\n",
      "\u001b[1;32mC:\\ProgramData\\Anaconda3\\lib\\json\\__init__.py\u001b[0m in \u001b[0;36mloads\u001b[1;34m(s, cls, object_hook, parse_float, parse_int, parse_constant, object_pairs_hook, **kw)\u001b[0m\n\u001b[0;32m    339\u001b[0m     \u001b[1;32melse\u001b[0m\u001b[1;33m:\u001b[0m\u001b[1;33m\u001b[0m\u001b[1;33m\u001b[0m\u001b[0m\n\u001b[0;32m    340\u001b[0m         \u001b[1;32mif\u001b[0m \u001b[1;32mnot\u001b[0m \u001b[0misinstance\u001b[0m\u001b[1;33m(\u001b[0m\u001b[0ms\u001b[0m\u001b[1;33m,\u001b[0m \u001b[1;33m(\u001b[0m\u001b[0mbytes\u001b[0m\u001b[1;33m,\u001b[0m \u001b[0mbytearray\u001b[0m\u001b[1;33m)\u001b[0m\u001b[1;33m)\u001b[0m\u001b[1;33m:\u001b[0m\u001b[1;33m\u001b[0m\u001b[1;33m\u001b[0m\u001b[0m\n\u001b[1;32m--> 341\u001b[1;33m             raise TypeError(f'the JSON object must be str, bytes or bytearray, '\n\u001b[0m\u001b[0;32m    342\u001b[0m                             f'not {s.__class__.__name__}')\n\u001b[0;32m    343\u001b[0m         \u001b[0ms\u001b[0m \u001b[1;33m=\u001b[0m \u001b[0ms\u001b[0m\u001b[1;33m.\u001b[0m\u001b[0mdecode\u001b[0m\u001b[1;33m(\u001b[0m\u001b[0mdetect_encoding\u001b[0m\u001b[1;33m(\u001b[0m\u001b[0ms\u001b[0m\u001b[1;33m)\u001b[0m\u001b[1;33m,\u001b[0m \u001b[1;34m'surrogatepass'\u001b[0m\u001b[1;33m)\u001b[0m\u001b[1;33m\u001b[0m\u001b[1;33m\u001b[0m\u001b[0m\n",
      "\u001b[1;31mTypeError\u001b[0m: the JSON object must be str, bytes or bytearray, not list"
     ]
    }
   ],
   "source": [
    "data = json.loads(data)\n",
    "print(data)"
   ]
  },
  {
   "cell_type": "code",
   "execution_count": null,
   "metadata": {},
   "outputs": [],
   "source": []
  }
 ],
 "metadata": {
  "kernelspec": {
   "display_name": "Python 3",
   "language": "python",
   "name": "python3"
  },
  "language_info": {
   "codemirror_mode": {
    "name": "ipython",
    "version": 3
   },
   "file_extension": ".py",
   "mimetype": "text/x-python",
   "name": "python",
   "nbconvert_exporter": "python",
   "pygments_lexer": "ipython3",
   "version": "3.8.8"
  },
  "metadata": {
   "interpreter": {
    "hash": "ac59ebe37160ed0dfa835113d9b8498d9f09ceb179beaac4002f036b9467c963"
   }
  }
 },
 "nbformat": 4,
 "nbformat_minor": 2
}
