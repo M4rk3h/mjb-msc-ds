{
 "cells": [
  {
   "cell_type": "markdown",
   "id": "8025364d",
   "metadata": {},
   "source": [
    "# 2.2 - Data Pre-Processing\n"
   ]
  },
  {
   "cell_type": "code",
   "execution_count": 76,
   "id": "2ebed8c2",
   "metadata": {},
   "outputs": [],
   "source": [
    "import json, csv\n",
    "import pandas as pd"
   ]
  },
  {
   "cell_type": "code",
   "execution_count": 77,
   "id": "364af28e",
   "metadata": {},
   "outputs": [],
   "source": [
    "myFile = open('unfiltered.csv','r') # read the data\n",
    "data = json.load(myFile)"
   ]
  },
  {
   "cell_type": "code",
   "execution_count": 78,
   "id": "1df4fc56",
   "metadata": {
    "scrolled": true
   },
   "outputs": [
    {
     "name": "stdout",
     "output_type": "stream",
     "text": [
      "Created at: Tue May 18 15:34:14 +0000 2021\n",
      "Username: Linda\n",
      "Text: RT @billbowtell: “But (Hrdlicka’s) basic thing was that it’s like the flu. A couple of thousand people die every year from the flu here. It…\n",
      "Location: None\n",
      "Hashtags: []\n",
      "User mentions: [{'screen_name': 'billbowtell', 'name': 'Bill Bowtell AO', 'id': 332496416, 'id_str': '332496416', 'indices': [3, 15]}]\n"
     ]
    }
   ],
   "source": [
    "print('Created at:', data[1]['created_at'])\n",
    "print('Username:', data[1]['user']['name'])\n",
    "print('Text:', data[1]['text'])\n",
    "print('Location:', data[1]['user']['location'])\n",
    "print('Hashtags:', data[1]['entities']['hashtags'])\n",
    "print('User mentions:', data[1]['entities']['user_mentions'])"
   ]
  },
  {
   "cell_type": "code",
   "execution_count": 79,
   "id": "28c962ff",
   "metadata": {},
   "outputs": [
    {
     "name": "stdout",
     "output_type": "stream",
     "text": [
      "df type: <class 'pandas.core.frame.DataFrame'>\n"
     ]
    }
   ],
   "source": [
    "# create an empty dataframe\n",
    "df = pd.DataFrame(data)\n",
    "# check type\n",
    "print('df type:', type(df))"
   ]
  },
  {
   "cell_type": "code",
   "execution_count": 80,
   "id": "3942ba7e",
   "metadata": {
    "scrolled": false
   },
   "outputs": [
    {
     "name": "stdout",
     "output_type": "stream",
     "text": [
      "<class 'pandas.core.frame.DataFrame'>\n",
      "RangeIndex: 53156 entries, 0 to 53155\n",
      "Data columns (total 37 columns):\n",
      " #   Column                     Non-Null Count  Dtype  \n",
      "---  ------                     --------------  -----  \n",
      " 0   created_at                 53156 non-null  object \n",
      " 1   id                         53156 non-null  int64  \n",
      " 2   id_str                     53156 non-null  object \n",
      " 3   text                       53156 non-null  object \n",
      " 4   source                     53156 non-null  object \n",
      " 5   truncated                  53156 non-null  bool   \n",
      " 6   in_reply_to_status_id      1991 non-null   float64\n",
      " 7   in_reply_to_status_id_str  1991 non-null   object \n",
      " 8   in_reply_to_user_id        2346 non-null   float64\n",
      " 9   in_reply_to_user_id_str    2346 non-null   object \n",
      " 10  in_reply_to_screen_name    2346 non-null   object \n",
      " 11  user                       53156 non-null  object \n",
      " 12  geo                        71 non-null     object \n",
      " 13  coordinates                71 non-null     object \n",
      " 14  place                      1181 non-null   object \n",
      " 15  contributors               0 non-null      object \n",
      " 16  retweeted_status           39776 non-null  object \n",
      " 17  is_quote_status            53156 non-null  bool   \n",
      " 18  quote_count                53156 non-null  int64  \n",
      " 19  reply_count                53156 non-null  int64  \n",
      " 20  retweet_count              53156 non-null  int64  \n",
      " 21  favorite_count             53156 non-null  int64  \n",
      " 22  entities                   53156 non-null  object \n",
      " 23  favorited                  53156 non-null  bool   \n",
      " 24  retweeted                  53156 non-null  bool   \n",
      " 25  filter_level               53156 non-null  object \n",
      " 26  lang                       53156 non-null  object \n",
      " 27  timestamp_ms               53156 non-null  object \n",
      " 28  quoted_status_id           12786 non-null  float64\n",
      " 29  quoted_status_id_str       12786 non-null  object \n",
      " 30  quoted_status              12778 non-null  object \n",
      " 31  quoted_status_permalink    12778 non-null  object \n",
      " 32  extended_entities          1831 non-null   object \n",
      " 33  possibly_sensitive         10776 non-null  object \n",
      " 34  display_text_range         4983 non-null   object \n",
      " 35  extended_tweet             9341 non-null   object \n",
      " 36  withheld_in_countries      16 non-null     object \n",
      "dtypes: bool(4), float64(3), int64(5), object(25)\n",
      "memory usage: 13.6+ MB\n"
     ]
    }
   ],
   "source": [
    "df.info()"
   ]
  },
  {
   "cell_type": "code",
   "execution_count": 81,
   "id": "10530843",
   "metadata": {},
   "outputs": [],
   "source": [
    "myDF = pd.DataFrame(columns = ['created_at','user_name', 'screen_name', 'text',\n",
    "                               'location','hashtags','mentions'])"
   ]
  },
  {
   "cell_type": "code",
   "execution_count": 82,
   "id": "52139470",
   "metadata": {},
   "outputs": [
    {
     "data": {
      "text/html": [
       "<div>\n",
       "<style scoped>\n",
       "    .dataframe tbody tr th:only-of-type {\n",
       "        vertical-align: middle;\n",
       "    }\n",
       "\n",
       "    .dataframe tbody tr th {\n",
       "        vertical-align: top;\n",
       "    }\n",
       "\n",
       "    .dataframe thead th {\n",
       "        text-align: right;\n",
       "    }\n",
       "</style>\n",
       "<table border=\"1\" class=\"dataframe\">\n",
       "  <thead>\n",
       "    <tr style=\"text-align: right;\">\n",
       "      <th></th>\n",
       "      <th>created_at</th>\n",
       "      <th>user_name</th>\n",
       "      <th>screen_name</th>\n",
       "      <th>text</th>\n",
       "      <th>location</th>\n",
       "      <th>hashtags</th>\n",
       "      <th>mentions</th>\n",
       "    </tr>\n",
       "  </thead>\n",
       "  <tbody>\n",
       "    <tr>\n",
       "      <th>0</th>\n",
       "      <td>Tue May 18 15:34:14 +0000 2021</td>\n",
       "      <td>NaN</td>\n",
       "      <td>NaN</td>\n",
       "      <td>RT @TigressEllie: Bolton Heatmaps (.Gov) 15th/...</td>\n",
       "      <td>NaN</td>\n",
       "      <td>NaN</td>\n",
       "      <td>NaN</td>\n",
       "    </tr>\n",
       "    <tr>\n",
       "      <th>1</th>\n",
       "      <td>Tue May 18 15:34:14 +0000 2021</td>\n",
       "      <td>NaN</td>\n",
       "      <td>NaN</td>\n",
       "      <td>RT @billbowtell: “But (Hrdlicka’s) basic thing...</td>\n",
       "      <td>NaN</td>\n",
       "      <td>NaN</td>\n",
       "      <td>NaN</td>\n",
       "    </tr>\n",
       "    <tr>\n",
       "      <th>2</th>\n",
       "      <td>Tue May 18 15:34:14 +0000 2021</td>\n",
       "      <td>NaN</td>\n",
       "      <td>NaN</td>\n",
       "      <td>RT @ShamikaRavi: How NOT to communicate: Exhib...</td>\n",
       "      <td>NaN</td>\n",
       "      <td>NaN</td>\n",
       "      <td>NaN</td>\n",
       "    </tr>\n",
       "    <tr>\n",
       "      <th>3</th>\n",
       "      <td>Tue May 18 15:34:14 +0000 2021</td>\n",
       "      <td>NaN</td>\n",
       "      <td>NaN</td>\n",
       "      <td>Wear Mask \\nStay Safe Stay Home \\n@tarak9999</td>\n",
       "      <td>NaN</td>\n",
       "      <td>NaN</td>\n",
       "      <td>NaN</td>\n",
       "    </tr>\n",
       "    <tr>\n",
       "      <th>4</th>\n",
       "      <td>Tue May 18 15:34:15 +0000 2021</td>\n",
       "      <td>NaN</td>\n",
       "      <td>NaN</td>\n",
       "      <td>RT @DrEricDing: Pediatric warning from Singapo...</td>\n",
       "      <td>NaN</td>\n",
       "      <td>NaN</td>\n",
       "      <td>NaN</td>\n",
       "    </tr>\n",
       "    <tr>\n",
       "      <th>...</th>\n",
       "      <td>...</td>\n",
       "      <td>...</td>\n",
       "      <td>...</td>\n",
       "      <td>...</td>\n",
       "      <td>...</td>\n",
       "      <td>...</td>\n",
       "      <td>...</td>\n",
       "    </tr>\n",
       "    <tr>\n",
       "      <th>53151</th>\n",
       "      <td>Tue May 18 19:11:45 +0000 2021</td>\n",
       "      <td>NaN</td>\n",
       "      <td>NaN</td>\n",
       "      <td>RT @vaasuk: I bought this domain https://t.co/...</td>\n",
       "      <td>NaN</td>\n",
       "      <td>NaN</td>\n",
       "      <td>NaN</td>\n",
       "    </tr>\n",
       "    <tr>\n",
       "      <th>53152</th>\n",
       "      <td>Tue May 18 19:11:45 +0000 2021</td>\n",
       "      <td>NaN</td>\n",
       "      <td>NaN</td>\n",
       "      <td>RT @ozgurturkEU: Tens of people died recently ...</td>\n",
       "      <td>NaN</td>\n",
       "      <td>NaN</td>\n",
       "      <td>NaN</td>\n",
       "    </tr>\n",
       "    <tr>\n",
       "      <th>53153</th>\n",
       "      <td>Tue May 18 19:11:46 +0000 2021</td>\n",
       "      <td>NaN</td>\n",
       "      <td>NaN</td>\n",
       "      <td>RT @EmodiMba: The day Baba will take responsib...</td>\n",
       "      <td>NaN</td>\n",
       "      <td>NaN</td>\n",
       "      <td>NaN</td>\n",
       "    </tr>\n",
       "    <tr>\n",
       "      <th>53154</th>\n",
       "      <td>Tue May 18 19:11:46 +0000 2021</td>\n",
       "      <td>NaN</td>\n",
       "      <td>NaN</td>\n",
       "      <td>RT @kandihofred: The President @KagutaMuseveni...</td>\n",
       "      <td>NaN</td>\n",
       "      <td>NaN</td>\n",
       "      <td>NaN</td>\n",
       "    </tr>\n",
       "    <tr>\n",
       "      <th>53155</th>\n",
       "      <td>Tue May 18 19:11:46 +0000 2021</td>\n",
       "      <td>NaN</td>\n",
       "      <td>NaN</td>\n",
       "      <td>RT @iirowen: Grateful that @g0vtw, a civic tec...</td>\n",
       "      <td>NaN</td>\n",
       "      <td>NaN</td>\n",
       "      <td>NaN</td>\n",
       "    </tr>\n",
       "  </tbody>\n",
       "</table>\n",
       "<p>53156 rows × 7 columns</p>\n",
       "</div>"
      ],
      "text/plain": [
       "                           created_at user_name screen_name  \\\n",
       "0      Tue May 18 15:34:14 +0000 2021       NaN         NaN   \n",
       "1      Tue May 18 15:34:14 +0000 2021       NaN         NaN   \n",
       "2      Tue May 18 15:34:14 +0000 2021       NaN         NaN   \n",
       "3      Tue May 18 15:34:14 +0000 2021       NaN         NaN   \n",
       "4      Tue May 18 15:34:15 +0000 2021       NaN         NaN   \n",
       "...                               ...       ...         ...   \n",
       "53151  Tue May 18 19:11:45 +0000 2021       NaN         NaN   \n",
       "53152  Tue May 18 19:11:45 +0000 2021       NaN         NaN   \n",
       "53153  Tue May 18 19:11:46 +0000 2021       NaN         NaN   \n",
       "53154  Tue May 18 19:11:46 +0000 2021       NaN         NaN   \n",
       "53155  Tue May 18 19:11:46 +0000 2021       NaN         NaN   \n",
       "\n",
       "                                                    text location hashtags  \\\n",
       "0      RT @TigressEllie: Bolton Heatmaps (.Gov) 15th/...      NaN      NaN   \n",
       "1      RT @billbowtell: “But (Hrdlicka’s) basic thing...      NaN      NaN   \n",
       "2      RT @ShamikaRavi: How NOT to communicate: Exhib...      NaN      NaN   \n",
       "3           Wear Mask \\nStay Safe Stay Home \\n@tarak9999      NaN      NaN   \n",
       "4      RT @DrEricDing: Pediatric warning from Singapo...      NaN      NaN   \n",
       "...                                                  ...      ...      ...   \n",
       "53151  RT @vaasuk: I bought this domain https://t.co/...      NaN      NaN   \n",
       "53152  RT @ozgurturkEU: Tens of people died recently ...      NaN      NaN   \n",
       "53153  RT @EmodiMba: The day Baba will take responsib...      NaN      NaN   \n",
       "53154  RT @kandihofred: The President @KagutaMuseveni...      NaN      NaN   \n",
       "53155  RT @iirowen: Grateful that @g0vtw, a civic tec...      NaN      NaN   \n",
       "\n",
       "      mentions  \n",
       "0          NaN  \n",
       "1          NaN  \n",
       "2          NaN  \n",
       "3          NaN  \n",
       "4          NaN  \n",
       "...        ...  \n",
       "53151      NaN  \n",
       "53152      NaN  \n",
       "53153      NaN  \n",
       "53154      NaN  \n",
       "53155      NaN  \n",
       "\n",
       "[53156 rows x 7 columns]"
      ]
     },
     "execution_count": 82,
     "metadata": {},
     "output_type": "execute_result"
    }
   ],
   "source": [
    "myDF['created_at'] = df['created_at']\n",
    "myDF['text'] = df['text']\n",
    "myDF"
   ]
  },
  {
   "cell_type": "code",
   "execution_count": 83,
   "id": "1b06b214",
   "metadata": {},
   "outputs": [
    {
     "name": "stdout",
     "output_type": "stream",
     "text": [
      "angiestephens\n",
      "Ange\n"
     ]
    }
   ],
   "source": [
    "# now we want to find screen names and user names\n",
    "print(df['user'][0]['screen_name'])\n",
    "print(df['user'][0]['name'])"
   ]
  },
  {
   "cell_type": "code",
   "execution_count": 84,
   "id": "9f8fc52c",
   "metadata": {},
   "outputs": [],
   "source": [
    "# create a list of screenNames\n",
    "screenNames = []\n",
    "# loop through the screen_names and append to list ScreenNames\n",
    "i = 0\n",
    "for screen_names in df['user']:\n",
    "    screenNames.append(df['user'][i]['screen_name'])\n",
    "    i+=1\n",
    "# add to myDF\n",
    "myDF['screen_name'] = screenNames"
   ]
  },
  {
   "cell_type": "code",
   "execution_count": 85,
   "id": "fde88e14",
   "metadata": {
    "scrolled": true
   },
   "outputs": [],
   "source": [
    "# Now that we have created a way to get the listed entities, lets do that for the rest.\n",
    "userNames = []\n",
    "# get userName\n",
    "i = 0\n",
    "for user_names in df['user']:\n",
    "    userNames.append(df['user'][i]['name'])\n",
    "    i+=1\n",
    "# add userNames to myDF\n",
    "myDF['user_name'] = userNames"
   ]
  },
  {
   "cell_type": "code",
   "execution_count": 86,
   "id": "2380c0d5",
   "metadata": {},
   "outputs": [],
   "source": [
    "# create list\n",
    "userLoc = []\n",
    "# loop through\n",
    "i = 0\n",
    "for user_locations in df['user']:\n",
    "    userLoc.append(df['user'][i]['location'])\n",
    "    i+=1\n",
    "# add userLoc to myDF\n",
    "myDF['location'] = userLoc"
   ]
  },
  {
   "cell_type": "code",
   "execution_count": 87,
   "id": "c2685e40",
   "metadata": {},
   "outputs": [],
   "source": [
    "# create list\n",
    "hashTags = []\n",
    "# loop through\n",
    "i = 0\n",
    "for user_names in df['user']:\n",
    "    hashTags.append(df['entities'][i]['hashtags'])\n",
    "    i+=1\n",
    "# add userLoc to myDF\n",
    "myDF['hashtags'] = hashTags"
   ]
  },
  {
   "cell_type": "code",
   "execution_count": 88,
   "id": "e2f8c35b",
   "metadata": {},
   "outputs": [],
   "source": [
    "# create list\n",
    "userMentions = []\n",
    "# loop through\n",
    "i = 0\n",
    "for user_names in df['user']:\n",
    "    userMentions.append(df['entities'][i]['user_mentions'])\n",
    "    i+=1\n",
    "# add userLoc to myDF\n",
    "myDF['mentions'] = userMentions"
   ]
  },
  {
   "cell_type": "code",
   "execution_count": 89,
   "id": "0c4b3a29",
   "metadata": {},
   "outputs": [
    {
     "data": {
      "text/html": [
       "<div>\n",
       "<style scoped>\n",
       "    .dataframe tbody tr th:only-of-type {\n",
       "        vertical-align: middle;\n",
       "    }\n",
       "\n",
       "    .dataframe tbody tr th {\n",
       "        vertical-align: top;\n",
       "    }\n",
       "\n",
       "    .dataframe thead th {\n",
       "        text-align: right;\n",
       "    }\n",
       "</style>\n",
       "<table border=\"1\" class=\"dataframe\">\n",
       "  <thead>\n",
       "    <tr style=\"text-align: right;\">\n",
       "      <th></th>\n",
       "      <th>created_at</th>\n",
       "      <th>user_name</th>\n",
       "      <th>screen_name</th>\n",
       "      <th>text</th>\n",
       "      <th>location</th>\n",
       "      <th>hashtags</th>\n",
       "      <th>mentions</th>\n",
       "    </tr>\n",
       "  </thead>\n",
       "  <tbody>\n",
       "    <tr>\n",
       "      <th>0</th>\n",
       "      <td>Tue May 18 15:34:14 +0000 2021</td>\n",
       "      <td>Ange</td>\n",
       "      <td>angiestephens</td>\n",
       "      <td>RT @TigressEllie: Bolton Heatmaps (.Gov) 15th/...</td>\n",
       "      <td>Bury, England</td>\n",
       "      <td>[]</td>\n",
       "      <td>[{'screen_name': 'TigressEllie', 'name': 'Tigr...</td>\n",
       "    </tr>\n",
       "    <tr>\n",
       "      <th>1</th>\n",
       "      <td>Tue May 18 15:34:14 +0000 2021</td>\n",
       "      <td>Linda</td>\n",
       "      <td>Kindacalm</td>\n",
       "      <td>RT @billbowtell: “But (Hrdlicka’s) basic thing...</td>\n",
       "      <td>None</td>\n",
       "      <td>[]</td>\n",
       "      <td>[{'screen_name': 'billbowtell', 'name': 'Bill ...</td>\n",
       "    </tr>\n",
       "    <tr>\n",
       "      <th>2</th>\n",
       "      <td>Tue May 18 15:34:14 +0000 2021</td>\n",
       "      <td>sudeepj21</td>\n",
       "      <td>sudeepj21</td>\n",
       "      <td>RT @ShamikaRavi: How NOT to communicate: Exhib...</td>\n",
       "      <td>HiranyaGarbha</td>\n",
       "      <td>[]</td>\n",
       "      <td>[{'screen_name': 'ShamikaRavi', 'name': 'Prof ...</td>\n",
       "    </tr>\n",
       "    <tr>\n",
       "      <th>3</th>\n",
       "      <td>Tue May 18 15:34:14 +0000 2021</td>\n",
       "      <td>NTR_Rules ᴳᵉᵗ ʷᵉˡˡ ˢᵒᵒⁿ ᴬⁿⁿᵃ ♥️</td>\n",
       "      <td>NTRRules_</td>\n",
       "      <td>Wear Mask \\nStay Safe Stay Home \\n@tarak9999</td>\n",
       "      <td>Kajal Manasulo♥️♥️</td>\n",
       "      <td>[]</td>\n",
       "      <td>[{'screen_name': 'tarak9999', 'name': 'Jr NTR'...</td>\n",
       "    </tr>\n",
       "    <tr>\n",
       "      <th>4</th>\n",
       "      <td>Tue May 18 15:34:15 +0000 2021</td>\n",
       "      <td>claudia</td>\n",
       "      <td>Claudia_Cooks</td>\n",
       "      <td>RT @DrEricDing: Pediatric warning from Singapo...</td>\n",
       "      <td>Miami, FL</td>\n",
       "      <td>[{'text': 'B1617', 'indices': [76, 82]}]</td>\n",
       "      <td>[{'screen_name': 'DrEricDing', 'name': 'Eric F...</td>\n",
       "    </tr>\n",
       "    <tr>\n",
       "      <th>...</th>\n",
       "      <td>...</td>\n",
       "      <td>...</td>\n",
       "      <td>...</td>\n",
       "      <td>...</td>\n",
       "      <td>...</td>\n",
       "      <td>...</td>\n",
       "      <td>...</td>\n",
       "    </tr>\n",
       "    <tr>\n",
       "      <th>53151</th>\n",
       "      <td>Tue May 18 19:11:45 +0000 2021</td>\n",
       "      <td>The Domain Bot</td>\n",
       "      <td>theDomainBot</td>\n",
       "      <td>RT @vaasuk: I bought this domain https://t.co/...</td>\n",
       "      <td>None</td>\n",
       "      <td>[]</td>\n",
       "      <td>[{'screen_name': 'vaasuk', 'name': 'Srini Raju...</td>\n",
       "    </tr>\n",
       "    <tr>\n",
       "      <th>53152</th>\n",
       "      <td>Tue May 18 19:11:45 +0000 2021</td>\n",
       "      <td>Ahmet Aslan</td>\n",
       "      <td>AhmtAslnnn</td>\n",
       "      <td>RT @ozgurturkEU: Tens of people died recently ...</td>\n",
       "      <td>None</td>\n",
       "      <td>[{'text': 'Turkey', 'indices': [49, 56]}, {'te...</td>\n",
       "      <td>[{'screen_name': 'ozgurturkEU', 'name': 'ozgur...</td>\n",
       "    </tr>\n",
       "    <tr>\n",
       "      <th>53153</th>\n",
       "      <td>Tue May 18 19:11:46 +0000 2021</td>\n",
       "      <td>20.10.20, PhD (Affidavit)</td>\n",
       "      <td>MeccaUS</td>\n",
       "      <td>RT @EmodiMba: The day Baba will take responsib...</td>\n",
       "      <td>EveryWhere</td>\n",
       "      <td>[]</td>\n",
       "      <td>[{'screen_name': 'EmodiMba', 'name': 'Emeodi M...</td>\n",
       "    </tr>\n",
       "    <tr>\n",
       "      <th>53154</th>\n",
       "      <td>Tue May 18 19:11:46 +0000 2021</td>\n",
       "      <td>Kukuru Esther</td>\n",
       "      <td>EstherKukuru</td>\n",
       "      <td>RT @kandihofred: The President @KagutaMuseveni...</td>\n",
       "      <td>None</td>\n",
       "      <td>[{'text': 'COVID19', 'indices': [122, 130]}]</td>\n",
       "      <td>[{'screen_name': 'kandihofred', 'name': 'Kandi...</td>\n",
       "    </tr>\n",
       "    <tr>\n",
       "      <th>53155</th>\n",
       "      <td>Tue May 18 19:11:46 +0000 2021</td>\n",
       "      <td>哈哈</td>\n",
       "      <td>jazmin_lee1</td>\n",
       "      <td>RT @iirowen: Grateful that @g0vtw, a civic tec...</td>\n",
       "      <td>None</td>\n",
       "      <td>[]</td>\n",
       "      <td>[{'screen_name': 'iirowen', 'name': 'Ian Rowen...</td>\n",
       "    </tr>\n",
       "  </tbody>\n",
       "</table>\n",
       "<p>53156 rows × 7 columns</p>\n",
       "</div>"
      ],
      "text/plain": [
       "                           created_at                        user_name  \\\n",
       "0      Tue May 18 15:34:14 +0000 2021                             Ange   \n",
       "1      Tue May 18 15:34:14 +0000 2021                            Linda   \n",
       "2      Tue May 18 15:34:14 +0000 2021                        sudeepj21   \n",
       "3      Tue May 18 15:34:14 +0000 2021  NTR_Rules ᴳᵉᵗ ʷᵉˡˡ ˢᵒᵒⁿ ᴬⁿⁿᵃ ♥️   \n",
       "4      Tue May 18 15:34:15 +0000 2021                          claudia   \n",
       "...                               ...                              ...   \n",
       "53151  Tue May 18 19:11:45 +0000 2021                   The Domain Bot   \n",
       "53152  Tue May 18 19:11:45 +0000 2021                      Ahmet Aslan   \n",
       "53153  Tue May 18 19:11:46 +0000 2021        20.10.20, PhD (Affidavit)   \n",
       "53154  Tue May 18 19:11:46 +0000 2021                    Kukuru Esther   \n",
       "53155  Tue May 18 19:11:46 +0000 2021                               哈哈   \n",
       "\n",
       "         screen_name                                               text  \\\n",
       "0      angiestephens  RT @TigressEllie: Bolton Heatmaps (.Gov) 15th/...   \n",
       "1          Kindacalm  RT @billbowtell: “But (Hrdlicka’s) basic thing...   \n",
       "2          sudeepj21  RT @ShamikaRavi: How NOT to communicate: Exhib...   \n",
       "3          NTRRules_       Wear Mask \\nStay Safe Stay Home \\n@tarak9999   \n",
       "4      Claudia_Cooks  RT @DrEricDing: Pediatric warning from Singapo...   \n",
       "...              ...                                                ...   \n",
       "53151   theDomainBot  RT @vaasuk: I bought this domain https://t.co/...   \n",
       "53152     AhmtAslnnn  RT @ozgurturkEU: Tens of people died recently ...   \n",
       "53153        MeccaUS  RT @EmodiMba: The day Baba will take responsib...   \n",
       "53154   EstherKukuru  RT @kandihofred: The President @KagutaMuseveni...   \n",
       "53155    jazmin_lee1  RT @iirowen: Grateful that @g0vtw, a civic tec...   \n",
       "\n",
       "                 location                                           hashtags  \\\n",
       "0           Bury, England                                                 []   \n",
       "1                    None                                                 []   \n",
       "2           HiranyaGarbha                                                 []   \n",
       "3      Kajal Manasulo♥️♥️                                                 []   \n",
       "4               Miami, FL           [{'text': 'B1617', 'indices': [76, 82]}]   \n",
       "...                   ...                                                ...   \n",
       "53151                None                                                 []   \n",
       "53152                None  [{'text': 'Turkey', 'indices': [49, 56]}, {'te...   \n",
       "53153          EveryWhere                                                 []   \n",
       "53154                None       [{'text': 'COVID19', 'indices': [122, 130]}]   \n",
       "53155                None                                                 []   \n",
       "\n",
       "                                                mentions  \n",
       "0      [{'screen_name': 'TigressEllie', 'name': 'Tigr...  \n",
       "1      [{'screen_name': 'billbowtell', 'name': 'Bill ...  \n",
       "2      [{'screen_name': 'ShamikaRavi', 'name': 'Prof ...  \n",
       "3      [{'screen_name': 'tarak9999', 'name': 'Jr NTR'...  \n",
       "4      [{'screen_name': 'DrEricDing', 'name': 'Eric F...  \n",
       "...                                                  ...  \n",
       "53151  [{'screen_name': 'vaasuk', 'name': 'Srini Raju...  \n",
       "53152  [{'screen_name': 'ozgurturkEU', 'name': 'ozgur...  \n",
       "53153  [{'screen_name': 'EmodiMba', 'name': 'Emeodi M...  \n",
       "53154  [{'screen_name': 'kandihofred', 'name': 'Kandi...  \n",
       "53155  [{'screen_name': 'iirowen', 'name': 'Ian Rowen...  \n",
       "\n",
       "[53156 rows x 7 columns]"
      ]
     },
     "execution_count": 89,
     "metadata": {},
     "output_type": "execute_result"
    }
   ],
   "source": [
    "myDF"
   ]
  },
  {
   "cell_type": "code",
   "execution_count": 90,
   "id": "2b059c56",
   "metadata": {},
   "outputs": [
    {
     "name": "stdout",
     "output_type": "stream",
     "text": [
      "showing info https://raw.githubusercontent.com/nltk/nltk_data/gh-pages/index.xml\n"
     ]
    },
    {
     "data": {
      "text/plain": [
       "True"
      ]
     },
     "execution_count": 90,
     "metadata": {},
     "output_type": "execute_result"
    }
   ],
   "source": [
    "# here we can see a few of the nested entities are still messy, \n",
    "# hopefully this can be cleaned up during the next step.\n",
    "\n",
    "# Removing Stop Words with NLTK\n",
    "import nltk\n",
    "nltk.download()\n",
    "# for this you can download corpus \n",
    "# or all"
   ]
  },
  {
   "cell_type": "code",
   "execution_count": 91,
   "id": "64bcc033",
   "metadata": {
    "scrolled": true
   },
   "outputs": [
    {
     "name": "stdout",
     "output_type": "stream",
     "text": [
      "['i', 'me', 'my', 'myself', 'we', 'our', 'ours', 'ourselves', 'you', \"you're\", \"you've\", \"you'll\", \"you'd\", 'your', 'yours', 'yourself', 'yourselves', 'he', 'him', 'his', 'himself', 'she', \"she's\", 'her', 'hers', 'herself', 'it', \"it's\", 'its', 'itself', 'they', 'them', 'their', 'theirs', 'themselves', 'what', 'which', 'who', 'whom', 'this', 'that', \"that'll\", 'these', 'those', 'am', 'is', 'are', 'was', 'were', 'be', 'been', 'being', 'have', 'has', 'had', 'having', 'do', 'does', 'did', 'doing', 'a', 'an', 'the', 'and', 'but', 'if', 'or', 'because', 'as', 'until', 'while', 'of', 'at', 'by', 'for', 'with', 'about', 'against', 'between', 'into', 'through', 'during', 'before', 'after', 'above', 'below', 'to', 'from', 'up', 'down', 'in', 'out', 'on', 'off', 'over', 'under', 'again', 'further', 'then', 'once', 'here', 'there', 'when', 'where', 'why', 'how', 'all', 'any', 'both', 'each', 'few', 'more', 'most', 'other', 'some', 'such', 'no', 'nor', 'not', 'only', 'own', 'same', 'so', 'than', 'too', 'very', 's', 't', 'can', 'will', 'just', 'don', \"don't\", 'should', \"should've\", 'now', 'd', 'll', 'm', 'o', 're', 've', 'y', 'ain', 'aren', \"aren't\", 'couldn', \"couldn't\", 'didn', \"didn't\", 'doesn', \"doesn't\", 'hadn', \"hadn't\", 'hasn', \"hasn't\", 'haven', \"haven't\", 'isn', \"isn't\", 'ma', 'mightn', \"mightn't\", 'mustn', \"mustn't\", 'needn', \"needn't\", 'shan', \"shan't\", 'shouldn', \"shouldn't\", 'wasn', \"wasn't\", 'weren', \"weren't\", 'won', \"won't\", 'wouldn', \"wouldn't\"]\n"
     ]
    }
   ],
   "source": [
    "print(stopwords.words('english'))"
   ]
  },
  {
   "cell_type": "code",
   "execution_count": 92,
   "id": "9e3b1d3e",
   "metadata": {},
   "outputs": [
    {
     "name": "stdout",
     "output_type": "stream",
     "text": [
      "192\n",
      "76\n",
      "['RT', 'TigressEllie', 'Bolton', 'Heatmaps', '.Gov', '15th/', '1', 'RT', 'billbowtell']\n"
     ]
    }
   ],
   "source": [
    "# create a list\n",
    "removedSW = []\n",
    "\n",
    "# set english stopwords\n",
    "en_stops = nltk.corpus.stopwords.words('english')\n",
    "# add custom stop words\n",
    "new_stopwords = ['“','’','https','.', ';', ':', ')', '(', '@', '...', '//t.co/', ',', '.']\n",
    "# add stopwords to en_stops\n",
    "en_stops.extend(new_stopwords)\n",
    "print(len(en_stops)) # 179 stopwords\n",
    "\n",
    "\n",
    "# first to tokenize the words from the tweets\n",
    "twToken = nltk.word_tokenize(str(myDF['text']))\n",
    "\n",
    "# only keep words not in the stopwords set above\n",
    "for word in twToken: \n",
    "    if word not in en_stops:\n",
    "        removedSW.append(word)\n",
    "\n",
    "# check the first 10 words\n",
    "print(len(removedSW))\n",
    "print(removedSW[1:10])"
   ]
  },
  {
   "cell_type": "code",
   "execution_count": 93,
   "id": "a81251d5",
   "metadata": {},
   "outputs": [
    {
     "name": "stdout",
     "output_type": "stream",
     "text": [
      "['vaasuk', 'thing', 'text', 'tec', 'tarak9999', 'take', 'responsib', 'recently', 'people']\n"
     ]
    }
   ],
   "source": [
    "# here we have removed all the stop words\n",
    "# now lets look the top 10\n",
    "removedSW.sort(reverse=True)\n",
    "print(removedSW[1:10])"
   ]
  },
  {
   "cell_type": "code",
   "execution_count": 94,
   "id": "bc260dbe",
   "metadata": {},
   "outputs": [],
   "source": [
    "myDF.to_csv('marks-tweets.csv', index=False)"
   ]
  },
  {
   "cell_type": "code",
   "execution_count": 95,
   "id": "ad380c4e",
   "metadata": {},
   "outputs": [],
   "source": [
    "# this concludes part 2.2 (as best as I could do!)"
   ]
  }
 ],
 "metadata": {
  "kernelspec": {
   "display_name": "Python 3",
   "language": "python",
   "name": "python3"
  },
  "language_info": {
   "codemirror_mode": {
    "name": "ipython",
    "version": 3
   },
   "file_extension": ".py",
   "mimetype": "text/x-python",
   "name": "python",
   "nbconvert_exporter": "python",
   "pygments_lexer": "ipython3",
   "version": "3.8.8"
  }
 },
 "nbformat": 4,
 "nbformat_minor": 5
}