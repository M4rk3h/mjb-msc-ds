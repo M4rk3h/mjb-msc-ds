{
 "cells": [
  {
   "cell_type": "markdown",
   "id": "debe7502",
   "metadata": {},
   "source": [
    "# Coursework 1 \n",
    "## Mark Baber - 17076749\n",
    "### Experiment 2\n",
    "\n",
    "<br>\n",
    "\n",
    "Streaming tweets from Twitter for 48 hours, hopefully with a timer or something."
   ]
  },
  {
   "cell_type": "code",
   "execution_count": 1,
   "id": "90cb9441",
   "metadata": {},
   "outputs": [],
   "source": [
    "# install modules\n",
    "import tweepy, json"
   ]
  },
  {
   "cell_type": "code",
   "execution_count": 2,
   "id": "2a2e116f",
   "metadata": {},
   "outputs": [],
   "source": [
    "consumer_key = 'y1H3CADNPj7fWOtkPfReA5Vby'\n",
    "consumer_secret = 's3SszPNyJFA0URxqq8R76poS2q37pUbVwbj7Z0ARm68B5hQSRS'\n",
    "Bearer_Token = 'AAAAAAAAAAAAAAAAAAAAANkfKQEAAAAApqxe6v7ejWpxazCs0S2YSJuiIJE%3DoDJ41CBVFbZQ0cZ4KftvIAMFLCWYn0Ih3SRzvF8reI74UdqNDx'\n",
    "access_token = '755358007-sDkidtK10EmFad6XaOFre7scKITWvoBMLkxkQ6KU'\n",
    "access_token_secret = 'SsYgAuAAFOl8m1zWWFSYJRdpL1L0u8KTZRDB2ZhbSsZZX'"
   ]
  },
  {
   "cell_type": "code",
   "execution_count": 3,
   "id": "0915693d",
   "metadata": {},
   "outputs": [],
   "source": [
    "# set authentication\n",
    "auth = tweepy.OAuthHandler(consumer_key, consumer_secret)\n",
    "auth.set_access_token(access_token, access_token_secret)\n",
    "api = tweepy.API(auth)"
   ]
  },
  {
   "cell_type": "code",
   "execution_count": 4,
   "id": "2d122074",
   "metadata": {},
   "outputs": [],
   "source": [
    "# open a file to append the streaming data\n",
    "mycreatedat = open(\"mycreatedat.csv\", \"w\")\n",
    "myusername = open(\"myusername.csv\", \"w\")\n",
    "mytweettext = open(\"mytweettext.csv\", \"w\")\n",
    "myuserloc = open(\"myuserloc.csv\", \"w\")\n",
    "myhashtags = open(\"myhashtags.csv\", \"w\")\n",
    "myusermentions = open(\"myusermentions.csv\", \"w\")"
   ]
  },
  {
   "cell_type": "code",
   "execution_count": 5,
   "id": "2596b79a",
   "metadata": {},
   "outputs": [],
   "source": [
    "class myStreamListener(tweepy.StreamListener):\n",
    "        def on_connect(self):\n",
    "            # Called initially to connect to the Streaming API\n",
    "            print(\"You are now connected to the streaming API.\")\n",
    "        \n",
    "        def __init__(self, api=None):\n",
    "            super(myStreamListener, self).__init__()\n",
    "        \n",
    "        def on_error(self, status_code):\n",
    "            if status == 420:\n",
    "            # Returning False on_data method in case rate limit occurs.\n",
    "                return False\n",
    "                print(status)\n",
    "            # On error - if an error occurs, display the error / status code\n",
    "            print('An Error has occured: ' + repr(status_code))\n",
    "            return False   \n",
    "\n",
    "        def on_data(self, data):\n",
    "            # Get all data from twitter as datajson\n",
    "            datajson = json.loads(data)\n",
    "            # dump all the data to see what we can use\n",
    "            # json.dump(datajson, unfilteredTweets, indent = 6)\n",
    "\n",
    "            # select what we want to keep\n",
    "            createdAt = datajson['created_at']\n",
    "            userName = datajson['user']['name']\n",
    "            tweetText = datajson['text']\n",
    "            userLoc = datajson['user']['location']\n",
    "            hashTags = datajson['entities']['hashtags']\n",
    "            userMentions = datajson['entities']['user_mentions']\n",
    "            # create the dumps here for each individual file\n",
    "            json.dump(createdAt ,mycreatedat)\n",
    "            json.dump(userName ,myusername)\n",
    "            json.dump(tweetText ,mytweettext)\n",
    "            json.dump(userLoc ,myuserloc)\n",
    "            json.dump(hashTags ,myhashtags)\n",
    "            json.dump(userMentions ,myusermentions)\n",
    "\n",
    "            # get the data as a dictionary -\n",
    "            # Dictionary = {1:createdAt, 2:userName, 3:tweetText, 4:userLoc, 5:hashTags, 6:userMentions}\n",
    "            # convert dict to json string\n",
    "            #json_string = json.dumps(Dictionary)\n",
    "            # write this converted string to csv & JSON\n",
    "            #json.dump(json_string, streamedTweets)"
   ]
  },
  {
   "cell_type": "code",
   "execution_count": 6,
   "id": "c0b79a59",
   "metadata": {
    "scrolled": true
   },
   "outputs": [],
   "source": [
    "def goGetTweets():\n",
    "    try:\n",
    "        # locations\n",
    "        loCal = [-3.576205, 51.466683, -3.143618, 51.825436] # uk\n",
    "        # languages\n",
    "        lanG = ['en']\n",
    "        # hashtags\n",
    "        hashT = ['#COVID19', '#CoronaVirus', '#UnitedKingdom', '#UK', '#India']\n",
    "        # set wait on rate limit\n",
    "        listener = myStreamListener(api = tweepy.API(wait_on_rate_limit = True)) \n",
    "        # init the streamer\n",
    "        streamer = tweepy.Stream(auth=auth, listener = listener)\n",
    "        # print tracking\n",
    "        print(\"Tracking location \" + str('United Kingdom'))\n",
    "        # DOES THIS START OR STOP THE LOOP\n",
    "        streamer.filter(locations=loCal, languages = lanG, track = hashT)\n",
    "    except KeyboardInterrupt:\n",
    "        print(\"manually stopped at:\", datetime.now())\n",
    "    finally:\n",
    "        print('Done.')\n",
    "        finalTime = datetime.now()\n",
    "        print(finalTime)\n",
    "        print(\"time ran out.\")"
   ]
  },
  {
   "cell_type": "code",
   "execution_count": 7,
   "id": "d7b07065",
   "metadata": {},
   "outputs": [
    {
     "name": "stdout",
     "output_type": "stream",
     "text": [
      "START @ 2021-05-20 14:22:14.183771\n",
      "Should end at 2021-05-20 14:22:19.183771\n",
      "Tracking location United Kingdom\n",
      "You are now connected to the streaming API.\n",
      "manually stopped at: 2021-05-20 14:23:34.499250\n",
      "Done.\n",
      "2021-05-20 14:23:34.499250\n",
      "time ran out.\n",
      "2021-05-20 14:23:34.500252\n",
      "time ran out.\n",
      "Disconnecting from Streamer\n"
     ]
    }
   ],
   "source": [
    "####################################\n",
    "## ALL OF THIS LOGIC DOESN'T WORK :( \n",
    "####################################\n",
    "\n",
    "# add some logic to see if it loops\n",
    "from datetime import datetime, timedelta\n",
    "# set start\n",
    "startTimer = datetime.now()\n",
    "# set end\n",
    "endTimer = startTimer + timedelta(seconds=5)\n",
    "\n",
    "print('START @',startTimer)\n",
    "print('Should end at', endTimer)\n",
    "\n",
    "# start loop\n",
    "while datetime.now() < endTimer:\n",
    "    goGetTweets()\n",
    "else:\n",
    "    finalTime = datetime.now()\n",
    "    print(finalTime)\n",
    "    print(\"time ran out.\")\n",
    "    # close both csv files\n",
    "    #streamedTweets.close()\n",
    "    #unfilteredTweets.close()\n",
    "    mycreatedat.close()\n",
    "    myusername.close()\n",
    "    mytweettext.close()\n",
    "    myuserloc.close()\n",
    "    myhashtags.close()\n",
    "    myusermentions.close()\n",
    "    # disconnect from streamer\n",
    "    #streamer.disconnect()\n",
    "    print(\"Disconnecting from Streamer\")"
   ]
  },
  {
   "cell_type": "code",
   "execution_count": null,
   "id": "bfa3bbf3",
   "metadata": {},
   "outputs": [],
   "source": []
  }
 ],
 "metadata": {
  "kernelspec": {
   "display_name": "Python 3",
   "language": "python",
   "name": "python3"
  },
  "language_info": {
   "codemirror_mode": {
    "name": "ipython",
    "version": 3
   },
   "file_extension": ".py",
   "mimetype": "text/x-python",
   "name": "python",
   "nbconvert_exporter": "python",
   "pygments_lexer": "ipython3",
   "version": "3.8.8"
  },
  "metadata": {
   "interpreter": {
    "hash": "ac59ebe37160ed0dfa835113d9b8498d9f09ceb179beaac4002f036b9467c963"
   }
  }
 },
 "nbformat": 4,
 "nbformat_minor": 5
}
