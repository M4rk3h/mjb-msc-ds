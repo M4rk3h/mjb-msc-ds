{
 "cells": [
  {
   "cell_type": "code",
   "execution_count": 5,
   "metadata": {},
   "outputs": [
    {
     "name": "stdout",
     "output_type": "stream",
     "text": [
      "21\n",
      "21\n",
      "0\n"
     ]
    },
    {
     "data": {
      "text/plain": [
       "-65"
      ]
     },
     "execution_count": 5,
     "metadata": {},
     "output_type": "execute_result"
    }
   ],
   "source": [
    "# Optimisation Tutorial 1\n",
    "\n",
    "# f1(x) = 7*(x^2)+log(1 + x2)\n",
    "X = 1# whatever you want\n",
    "print((7*(X^2))+(1+X^2))\n",
    "print(7*(X^2))\n",
    "print(1+X^2)\n",
    "\n",
    "# Natural log = 1 / x\n",
    "\n",
    "\n",
    "# 2.1 \n",
    "# g1(x) = (12 - 5x^7)^13\n",
    "# 13*12-5*13^7\n",
    "13*12 # = 156\n",
    "156-5*13^7 #92\n",
    "13*(-5) # -65\n",
    "g1(x) = (-65)x^7 + 156\n",
    "\n"
   ]
  }
 ],
 "metadata": {
  "kernelspec": {
   "display_name": "Python 3",
   "language": "python",
   "name": "python3"
  },
  "language_info": {
   "codemirror_mode": {
    "name": "ipython",
    "version": 3
   },
   "file_extension": ".py",
   "mimetype": "text/x-python",
   "name": "python",
   "nbconvert_exporter": "python",
   "pygments_lexer": "ipython3",
   "version": "3.8.5"
  }
 },
 "nbformat": 4,
 "nbformat_minor": 4
}
