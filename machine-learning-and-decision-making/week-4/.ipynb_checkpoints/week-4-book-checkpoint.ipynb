{
 "cells": [
  {
   "cell_type": "code",
   "execution_count": 1,
   "metadata": {},
   "outputs": [],
   "source": [
    "import pandas as pd"
   ]
  },
  {
   "cell_type": "code",
   "execution_count": 2,
   "metadata": {},
   "outputs": [],
   "source": [
    "geyser = pd.read_csv(\"data/faithful.csv\")"
   ]
  },
  {
   "cell_type": "code",
   "execution_count": 3,
   "metadata": {},
   "outputs": [
    {
     "name": "stdout",
     "output_type": "stream",
     "text": [
      "<class 'pandas.core.frame.DataFrame'>\n",
      "RangeIndex: 272 entries, 0 to 271\n",
      "Data columns (total 3 columns):\n",
      " #   Column      Non-Null Count  Dtype  \n",
      "---  ------      --------------  -----  \n",
      " 0   Unnamed: 0  272 non-null    int64  \n",
      " 1   eruptions   272 non-null    float64\n",
      " 2   waiting     272 non-null    int64  \n",
      "dtypes: float64(1), int64(2)\n",
      "memory usage: 6.5 KB\n"
     ]
    }
   ],
   "source": [
    "geyser.info()"
   ]
  },
  {
   "cell_type": "code",
   "execution_count": 4,
   "metadata": {},
   "outputs": [
    {
     "data": {
      "text/html": [
       "<div>\n",
       "<style scoped>\n",
       "    .dataframe tbody tr th:only-of-type {\n",
       "        vertical-align: middle;\n",
       "    }\n",
       "\n",
       "    .dataframe tbody tr th {\n",
       "        vertical-align: top;\n",
       "    }\n",
       "\n",
       "    .dataframe thead th {\n",
       "        text-align: right;\n",
       "    }\n",
       "</style>\n",
       "<table border=\"1\" class=\"dataframe\">\n",
       "  <thead>\n",
       "    <tr style=\"text-align: right;\">\n",
       "      <th></th>\n",
       "      <th>Unnamed: 0</th>\n",
       "      <th>eruptions</th>\n",
       "      <th>waiting</th>\n",
       "    </tr>\n",
       "  </thead>\n",
       "  <tbody>\n",
       "    <tr>\n",
       "      <th>0</th>\n",
       "      <td>1</td>\n",
       "      <td>3.600</td>\n",
       "      <td>79</td>\n",
       "    </tr>\n",
       "    <tr>\n",
       "      <th>1</th>\n",
       "      <td>2</td>\n",
       "      <td>1.800</td>\n",
       "      <td>54</td>\n",
       "    </tr>\n",
       "    <tr>\n",
       "      <th>2</th>\n",
       "      <td>3</td>\n",
       "      <td>3.333</td>\n",
       "      <td>74</td>\n",
       "    </tr>\n",
       "    <tr>\n",
       "      <th>3</th>\n",
       "      <td>4</td>\n",
       "      <td>2.283</td>\n",
       "      <td>62</td>\n",
       "    </tr>\n",
       "    <tr>\n",
       "      <th>4</th>\n",
       "      <td>5</td>\n",
       "      <td>4.533</td>\n",
       "      <td>85</td>\n",
       "    </tr>\n",
       "  </tbody>\n",
       "</table>\n",
       "</div>"
      ],
      "text/plain": [
       "   Unnamed: 0  eruptions  waiting\n",
       "0           1      3.600       79\n",
       "1           2      1.800       54\n",
       "2           3      3.333       74\n",
       "3           4      2.283       62\n",
       "4           5      4.533       85"
      ]
     },
     "execution_count": 4,
     "metadata": {},
     "output_type": "execute_result"
    }
   ],
   "source": [
    "geyser.head()"
   ]
  },
  {
   "cell_type": "code",
   "execution_count": 5,
   "metadata": {},
   "outputs": [
    {
     "data": {
      "text/html": [
       "<div>\n",
       "<style scoped>\n",
       "    .dataframe tbody tr th:only-of-type {\n",
       "        vertical-align: middle;\n",
       "    }\n",
       "\n",
       "    .dataframe tbody tr th {\n",
       "        vertical-align: top;\n",
       "    }\n",
       "\n",
       "    .dataframe thead th {\n",
       "        text-align: right;\n",
       "    }\n",
       "</style>\n",
       "<table border=\"1\" class=\"dataframe\">\n",
       "  <thead>\n",
       "    <tr style=\"text-align: right;\">\n",
       "      <th></th>\n",
       "      <th>erutpion_duration</th>\n",
       "      <th>waiting_duration</th>\n",
       "    </tr>\n",
       "  </thead>\n",
       "  <tbody>\n",
       "    <tr>\n",
       "      <th>0</th>\n",
       "      <td>3.600</td>\n",
       "      <td>79</td>\n",
       "    </tr>\n",
       "    <tr>\n",
       "      <th>1</th>\n",
       "      <td>1.800</td>\n",
       "      <td>54</td>\n",
       "    </tr>\n",
       "    <tr>\n",
       "      <th>2</th>\n",
       "      <td>3.333</td>\n",
       "      <td>74</td>\n",
       "    </tr>\n",
       "    <tr>\n",
       "      <th>3</th>\n",
       "      <td>2.283</td>\n",
       "      <td>62</td>\n",
       "    </tr>\n",
       "    <tr>\n",
       "      <th>4</th>\n",
       "      <td>4.533</td>\n",
       "      <td>85</td>\n",
       "    </tr>\n",
       "  </tbody>\n",
       "</table>\n",
       "</div>"
      ],
      "text/plain": [
       "   erutpion_duration  waiting_duration\n",
       "0              3.600                79\n",
       "1              1.800                54\n",
       "2              3.333                74\n",
       "3              2.283                62\n",
       "4              4.533                85"
      ]
     },
     "execution_count": 5,
     "metadata": {},
     "output_type": "execute_result"
    }
   ],
   "source": [
    "# drop the initial index\n",
    "geyser = geyser.drop(geyser.columns[0], axis = 1)\n",
    "# rename columns\n",
    "geyser.columns = ['erutpion_duration', 'waiting_duration']\n",
    "geyser.head()"
   ]
  },
  {
   "cell_type": "code",
   "execution_count": 6,
   "metadata": {},
   "outputs": [],
   "source": [
    "# Import matplotlib\n",
    "import matplotlib.pyplot as plt\n",
    "# enable inline plots\n",
    "%matplotlib inline"
   ]
  },
  {
   "cell_type": "code",
   "execution_count": 7,
   "metadata": {
    "scrolled": true
   },
   "outputs": [
    {
     "data": {
      "text/plain": [
       "array([[<AxesSubplot:title={'center':'erutpion_duration'}>,\n",
       "        <AxesSubplot:title={'center':'waiting_duration'}>]], dtype=object)"
      ]
     },
     "execution_count": 7,
     "metadata": {},
     "output_type": "execute_result"
    },
    {
     "data": {
      "image/png": "[encoded data removed]",
      "text/plain": [
       "<Figure size 720x360 with 2 Axes>"
      ]
     },
     "metadata": {
      "needs_background": "light"
     },
     "output_type": "display_data"
    }
   ],
   "source": [
    "# plot the geysey data\n",
    "#plt.hist(geyser, bins=50, figsize=(10,5))\n",
    "geyser.hist(bins=50, figsize=(10,5))"
   ]
  },
  {
   "cell_type": "code",
   "execution_count": 8,
   "metadata": {
    "scrolled": true
   },
   "outputs": [
    {
     "data": {
      "text/plain": [
       "Text(0.5, 1.0, 'Feture space - Geyser Dataset')"
      ]
     },
     "execution_count": 8,
     "metadata": {},
     "output_type": "execute_result"
    },
    {
     "data": {
      "image/png": "[encoded data removed]",
      "text/plain": [
       "<Figure size 432x432 with 1 Axes>"
      ]
     },
     "metadata": {
      "needs_background": "light"
     },
     "output_type": "display_data"
    }
   ],
   "source": [
    "# plot eruption time v wait time as scatter\n",
    "plt.figure(figsize = (6,6))\n",
    "plt.scatter(geyser.iloc[:,0],\n",
    "           geyser.iloc[:,1])\n",
    "# add labels\n",
    "plt.xlabel('Eruption time in minutes')\n",
    "plt.ylabel('Waiting time to next eruption')\n",
    "plt.title('Feture space - Geyser Dataset')"
   ]
  },
  {
   "cell_type": "code",
   "execution_count": 9,
   "metadata": {},
   "outputs": [
    {
     "data": {
      "text/html": [
       "<div>\n",
       "<style scoped>\n",
       "    .dataframe tbody tr th:only-of-type {\n",
       "        vertical-align: middle;\n",
       "    }\n",
       "\n",
       "    .dataframe tbody tr th {\n",
       "        vertical-align: top;\n",
       "    }\n",
       "\n",
       "    .dataframe thead th {\n",
       "        text-align: right;\n",
       "    }\n",
       "</style>\n",
       "<table border=\"1\" class=\"dataframe\">\n",
       "  <thead>\n",
       "    <tr style=\"text-align: right;\">\n",
       "      <th></th>\n",
       "      <th>eruption_duration</th>\n",
       "      <th>waiting_duration</th>\n",
       "    </tr>\n",
       "  </thead>\n",
       "  <tbody>\n",
       "    <tr>\n",
       "      <th>0</th>\n",
       "      <td>0.098499</td>\n",
       "      <td>0.597123</td>\n",
       "    </tr>\n",
       "    <tr>\n",
       "      <th>1</th>\n",
       "      <td>-1.481459</td>\n",
       "      <td>-1.245181</td>\n",
       "    </tr>\n",
       "    <tr>\n",
       "      <th>2</th>\n",
       "      <td>-0.135861</td>\n",
       "      <td>0.228663</td>\n",
       "    </tr>\n",
       "    <tr>\n",
       "      <th>3</th>\n",
       "      <td>-1.057503</td>\n",
       "      <td>-0.655644</td>\n",
       "    </tr>\n",
       "    <tr>\n",
       "      <th>4</th>\n",
       "      <td>0.917443</td>\n",
       "      <td>1.039277</td>\n",
       "    </tr>\n",
       "  </tbody>\n",
       "</table>\n",
       "</div>"
      ],
      "text/plain": [
       "   eruption_duration  waiting_duration\n",
       "0           0.098499          0.597123\n",
       "1          -1.481459         -1.245181\n",
       "2          -0.135861          0.228663\n",
       "3          -1.057503         -0.655644\n",
       "4           0.917443          1.039277"
      ]
     },
     "execution_count": 9,
     "metadata": {},
     "output_type": "execute_result"
    }
   ],
   "source": [
    "# import standard sklearn\n",
    "from sklearn.preprocessing import StandardScaler as ss\n",
    "geyser_scaled = ss().fit_transform(geyser)\n",
    "geyser_scaled = pd.DataFrame(geyser_scaled, columns = ['eruption_duration', 'waiting_duration'])\n",
    "geyser_scaled.head()"
   ]
  },
  {
   "cell_type": "code",
   "execution_count": 10,
   "metadata": {},
   "outputs": [],
   "source": [
    "# import KMeans from sklearn\n",
    "from sklearn.cluster import KMeans"
   ]
  },
  {
   "cell_type": "code",
   "execution_count": 11,
   "metadata": {},
   "outputs": [],
   "source": [
    "# slice the data for pre\n",
    "geyser_initial = geyser.iloc[0:259, :]\n",
    "geyser_scaled_initial = geyser_scaled.iloc[0:259, :]"
   ]
  },
  {
   "cell_type": "code",
   "execution_count": 12,
   "metadata": {},
   "outputs": [],
   "source": [
    "# slice the data for post\n",
    "geyser_later = geyser.iloc[260:273, :]\n",
    "geyser_scaled_later = geyser_scaled.iloc[260:273, :]"
   ]
  },
  {
   "cell_type": "code",
   "execution_count": 13,
   "metadata": {
    "scrolled": true
   },
   "outputs": [
    {
     "name": "stdout",
     "output_type": "stream",
     "text": [
      "Initialization complete\n",
      "Iteration 0, inertia 18591.263032\n",
      "Iteration 1, inertia 8400.294580819516\n",
      "Iteration 2, inertia 8376.791060111938\n",
      "Converged at iteration 2: strict convergence.\n",
      "Initialization complete\n",
      "Iteration 0, inertia 22794.128362999985\n",
      "Iteration 1, inertia 8379.492945057826\n",
      "Iteration 2, inertia 8376.791060111938\n",
      "Converged at iteration 2: strict convergence.\n",
      "Initialization complete\n",
      "Iteration 0, inertia 10374.120386\n",
      "Iteration 1, inertia 8400.294580819516\n",
      "Iteration 2, inertia 8376.791060111938\n",
      "Converged at iteration 2: strict convergence.\n",
      "Initialization complete\n",
      "Iteration 0, inertia 12351.067162999996\n",
      "Iteration 1, inertia 8387.730128584553\n",
      "Iteration 2, inertia 8376.791060111938\n",
      "Converged at iteration 2: strict convergence.\n",
      "Initialization complete\n",
      "Iteration 0, inertia 14671.276175999988\n",
      "Iteration 1, inertia 8537.115076598859\n",
      "Iteration 2, inertia 8379.436950239362\n",
      "Iteration 3, inertia 8376.791060111938\n",
      "Converged at iteration 3: strict convergence.\n",
      "Initialization complete\n",
      "Iteration 0, inertia 13066.613152000007\n",
      "Iteration 1, inertia 8400.294580819516\n",
      "Iteration 2, inertia 8376.791060111938\n",
      "Converged at iteration 2: strict convergence.\n",
      "Initialization complete\n",
      "Iteration 0, inertia 56477.34891099997\n",
      "Iteration 1, inertia 8619.977879667082\n",
      "Iteration 2, inertia 8379.436950239362\n",
      "Iteration 3, inertia 8376.791060111938\n",
      "Converged at iteration 3: strict convergence.\n",
      "Initialization complete\n",
      "Iteration 0, inertia 10806.258386999994\n",
      "Iteration 1, inertia 8527.677471764186\n",
      "Iteration 2, inertia 8379.492945057826\n",
      "Iteration 3, inertia 8376.791060111938\n",
      "Converged at iteration 3: strict convergence.\n",
      "Initialization complete\n",
      "Iteration 0, inertia 23728.143719999985\n",
      "Iteration 1, inertia 9717.385328895814\n",
      "Iteration 2, inertia 8492.530175421593\n",
      "Iteration 3, inertia 8379.492945057826\n",
      "Iteration 4, inertia 8376.791060111938\n",
      "Converged at iteration 4: strict convergence.\n",
      "Initialization complete\n",
      "Iteration 0, inertia 33441.10130799998\n",
      "Iteration 1, inertia 8776.822228630212\n",
      "Iteration 2, inertia 8379.492945057826\n",
      "Iteration 3, inertia 8376.791060111938\n",
      "Converged at iteration 3: strict convergence.\n"
     ]
    }
   ],
   "source": [
    "# create a KMeans with 2 clusters | From .fit() this can now train \n",
    "km_1 = KMeans(n_clusters = 2, max_iter = 20, verbose = 1).fit(geyser_initial)"
   ]
  },
  {
   "cell_type": "code",
   "execution_count": 14,
   "metadata": {},
   "outputs": [
    {
     "data": {
      "text/plain": [
       "array([[ 4.29060976, 80.27439024],\n",
       "       [ 2.09876842, 54.96842105]])"
      ]
     },
     "execution_count": 14,
     "metadata": {},
     "output_type": "execute_result"
    }
   ],
   "source": [
    "# look at the 2 dimensional cluster\n",
    "km_1.cluster_centers_ "
   ]
  },
  {
   "cell_type": "code",
   "execution_count": 15,
   "metadata": {},
   "outputs": [
    {
     "data": {
      "text/plain": [
       "array([0, 1, 0, 1, 0, 1, 0, 0, 1, 0, 1, 0, 0, 1, 0, 1, 1, 0, 1, 0, 1, 1,\n",
       "       0, 0, 0, 0, 1, 0, 0, 0, 0, 0, 1, 0, 0, 1, 1, 0, 1, 0, 0, 1, 0, 1,\n",
       "       0, 0, 1, 1, 0, 1, 0, 0, 1, 0, 1, 0, 0, 1, 0, 0, 1, 0, 1, 0, 1, 0,\n",
       "       0, 0, 1, 0, 0, 1, 0, 0, 1, 0, 1, 0, 0, 0, 0, 0, 0, 1, 0, 0, 0, 0,\n",
       "       1, 0, 1, 0, 1, 0, 1, 0, 0, 0, 1, 0, 1, 0, 1, 0, 0, 1, 0, 1, 0, 0,\n",
       "       0, 1, 0, 0, 1, 0, 1, 0, 1, 0, 1, 0, 0, 1, 0, 0, 1, 0, 1, 0, 1, 0,\n",
       "       1, 0, 1, 0, 1, 0, 1, 0, 0, 1, 0, 0, 0, 1, 0, 1, 0, 1, 0, 0, 1, 0,\n",
       "       0, 0, 0, 0, 1, 0, 1, 0, 1, 0, 1, 0, 1, 0, 1, 0, 1, 1, 0, 0, 0, 0,\n",
       "       0, 1, 0, 0, 1, 0, 0, 0, 1, 0, 0, 1, 0, 1, 0, 1, 0, 0, 0, 0, 0, 0,\n",
       "       1, 0, 1, 0, 0, 1, 0, 1, 0, 0, 1, 0, 0, 0, 1, 0, 1, 0, 1, 0, 1, 0,\n",
       "       1, 0, 1, 0, 0, 0, 0, 0, 0, 0, 0, 1, 0, 1, 0, 1, 1, 0, 0, 1, 0, 1,\n",
       "       0, 1, 0, 0, 1, 0, 1, 0, 1, 0, 0, 0, 0, 0, 0, 0, 1])"
      ]
     },
     "execution_count": 15,
     "metadata": {},
     "output_type": "execute_result"
    }
   ],
   "source": [
    "# look at the labels\n",
    "km_1.labels_"
   ]
  },
  {
   "cell_type": "code",
   "execution_count": 16,
   "metadata": {},
   "outputs": [
    {
     "data": {
      "text/plain": [
       "8376.791060111938"
      ]
     },
     "execution_count": 16,
     "metadata": {},
     "output_type": "execute_result"
    }
   ],
   "source": [
    "km_1.inertia_"
   ]
  },
  {
   "cell_type": "code",
   "execution_count": 17,
   "metadata": {
    "scrolled": true
   },
   "outputs": [
    {
     "name": "stdout",
     "output_type": "stream",
     "text": [
      "Initialization complete\n",
      "Iteration 0, inertia 128.37679435808522\n",
      "Iteration 1, inertia 76.23600741903975\n",
      "Iteration 2, inertia 76.20433662586004\n",
      "Converged at iteration 2: strict convergence.\n",
      "Initialization complete\n",
      "Iteration 0, inertia 84.7994825656915\n",
      "Iteration 1, inertia 76.23692038493142\n",
      "Iteration 2, inertia 76.20433662586004\n",
      "Converged at iteration 2: strict convergence.\n",
      "Initialization complete\n",
      "Iteration 0, inertia 83.51182564108741\n",
      "Iteration 1, inertia 76.23692038493142\n",
      "Iteration 2, inertia 76.20433662586004\n",
      "Converged at iteration 2: strict convergence.\n",
      "Initialization complete\n",
      "Iteration 0, inertia 167.40071828772238\n",
      "Iteration 1, inertia 76.23692038493142\n",
      "Iteration 2, inertia 76.20433662586004\n",
      "Converged at iteration 2: strict convergence.\n",
      "Initialization complete\n",
      "Iteration 0, inertia 110.42600630920433\n",
      "Iteration 1, inertia 76.72352573741462\n",
      "Iteration 2, inertia 76.27356816192416\n",
      "Iteration 3, inertia 76.23523060583942\n",
      "Iteration 4, inertia 76.20433662586004\n",
      "Converged at iteration 4: strict convergence.\n",
      "Initialization complete\n",
      "Iteration 0, inertia 198.63900753512593\n",
      "Iteration 1, inertia 76.72352573741462\n",
      "Iteration 2, inertia 76.27356816192416\n",
      "Iteration 3, inertia 76.23523060583942\n",
      "Iteration 4, inertia 76.20433662586004\n",
      "Converged at iteration 4: strict convergence.\n",
      "Initialization complete\n",
      "Iteration 0, inertia 201.35438830858877\n",
      "Iteration 1, inertia 76.72352573741462\n",
      "Iteration 2, inertia 76.27356816192416\n",
      "Iteration 3, inertia 76.23523060583942\n",
      "Iteration 4, inertia 76.20433662586004\n",
      "Converged at iteration 4: strict convergence.\n",
      "Initialization complete\n",
      "Iteration 0, inertia 111.77122698432042\n",
      "Iteration 1, inertia 76.23692038493142\n",
      "Iteration 2, inertia 76.20433662586004\n",
      "Converged at iteration 2: strict convergence.\n",
      "Initialization complete\n",
      "Iteration 0, inertia 99.66267477847198\n",
      "Iteration 1, inertia 76.52341276829553\n",
      "Iteration 2, inertia 76.23523060583942\n",
      "Iteration 3, inertia 76.20433662586004\n",
      "Converged at iteration 3: strict convergence.\n",
      "Initialization complete\n",
      "Iteration 0, inertia 130.55045677181386\n",
      "Iteration 1, inertia 76.30522806238315\n",
      "Iteration 2, inertia 76.23692038493142\n",
      "Iteration 3, inertia 76.20433662586004\n",
      "Converged at iteration 3: strict convergence.\n"
     ]
    }
   ],
   "source": [
    "# create a cluster with the scaled data\n",
    "km_1_ss = KMeans(n_clusters = 2, max_iter = 20, verbose = 1).fit(geyser_scaled_initial)"
   ]
  },
  {
   "cell_type": "code",
   "execution_count": 18,
   "metadata": {},
   "outputs": [
    {
     "data": {
      "text/plain": [
       "array([[ 0.70328731,  0.67525491],\n",
       "       [-1.25809373, -1.185752  ]])"
      ]
     },
     "execution_count": 18,
     "metadata": {},
     "output_type": "execute_result"
    }
   ],
   "source": [
    "# look at cluster centers\n",
    "km_1_ss.cluster_centers_"
   ]
  },
  {
   "cell_type": "code",
   "execution_count": 19,
   "metadata": {},
   "outputs": [
    {
     "data": {
      "text/plain": [
       "array([0, 1, 0, 1, 0, 1, 0, 0, 1, 0, 1, 0, 0, 1, 0, 1, 1, 0, 1, 0, 1, 1,\n",
       "       0, 0, 0, 0, 1, 0, 0, 0, 0, 0, 0, 0, 0, 1, 1, 0, 1, 0, 0, 1, 0, 1,\n",
       "       0, 0, 0, 1, 0, 1, 0, 0, 1, 0, 1, 0, 0, 1, 0, 0, 1, 0, 1, 0, 1, 0,\n",
       "       0, 0, 1, 0, 0, 1, 0, 0, 1, 0, 1, 0, 0, 0, 0, 0, 0, 1, 0, 0, 0, 0,\n",
       "       1, 0, 1, 0, 1, 0, 1, 0, 0, 0, 1, 0, 1, 0, 1, 0, 0, 1, 0, 1, 0, 0,\n",
       "       0, 1, 0, 0, 1, 0, 1, 0, 1, 0, 1, 0, 0, 1, 0, 0, 1, 0, 1, 0, 1, 0,\n",
       "       1, 0, 1, 0, 1, 0, 1, 0, 0, 1, 0, 0, 0, 1, 0, 1, 0, 1, 0, 0, 1, 0,\n",
       "       0, 0, 0, 0, 1, 0, 1, 0, 1, 0, 0, 0, 1, 0, 1, 0, 1, 1, 0, 0, 0, 0,\n",
       "       0, 1, 0, 0, 1, 0, 0, 0, 1, 0, 0, 1, 0, 1, 0, 1, 0, 0, 0, 0, 0, 0,\n",
       "       1, 0, 1, 0, 0, 1, 0, 1, 0, 0, 1, 0, 1, 0, 1, 0, 1, 0, 1, 0, 1, 0,\n",
       "       1, 0, 1, 0, 0, 0, 0, 0, 0, 0, 0, 1, 0, 1, 0, 1, 1, 0, 0, 1, 0, 1,\n",
       "       0, 1, 0, 0, 1, 0, 1, 0, 1, 0, 0, 0, 0, 0, 0, 0, 1])"
      ]
     },
     "execution_count": 19,
     "metadata": {},
     "output_type": "execute_result"
    }
   ],
   "source": [
    "# look at the labels\n",
    "km_1_ss.labels_ # distribution "
   ]
  },
  {
   "cell_type": "code",
   "execution_count": 20,
   "metadata": {},
   "outputs": [
    {
     "data": {
      "text/plain": [
       "Text(0.5, 1.0, 'Clusters in geyser Dataset')"
      ]
     },
     "execution_count": 20,
     "metadata": {},
     "output_type": "execute_result"
    },
    {
     "data": {
      "image/png": "[encoded data removed]",
      "text/plain": [
       "<Figure size 432x432 with 1 Axes>"
      ]
     },
     "metadata": {
      "needs_background": "light"
     },
     "output_type": "display_data"
    }
   ],
   "source": [
    "# plot the clusters\n",
    "# set fig size\n",
    "fig, ax = plt.subplots(figsize = (6,6))\n",
    "# first cluster\n",
    "plt.scatter(x = geyser_initial.iloc[geyser_initial.index[km_1.labels_ == 0].tolist(), [0]],\n",
    "           y = geyser_initial.iloc[geyser_initial.index[km_1.labels_ == 0].tolist(), [1]],\n",
    "           c = 'green',\n",
    "           label = 'cluster 1')\n",
    "\n",
    "# second cluster\n",
    "plt.scatter(x = geyser_initial.iloc[geyser_initial.index[km_1.labels_ == 1].tolist(), [0]],\n",
    "           y = geyser_initial.iloc[geyser_initial.index[km_1.labels_ == 1].tolist(), [1]],\n",
    "           c = 'blue',\n",
    "           label = 'cluster 2')\n",
    "\n",
    "# highlight the centroids\n",
    "plt.scatter(x = km_1.cluster_centers_[:,[0]],\n",
    "           y = km_1.cluster_centers_[:,[1]],\n",
    "           marker = '*', s = 300, label = 'centroid', c = 'r')\n",
    "\n",
    "plt.legend()\n",
    "plt.xlabel('Eruption time in mins')\n",
    "plt.ylabel('Waiting time in mins to next eruption')\n",
    "plt.title('Clusters in geyser Dataset', fontweight = 'bold')"
   ]
  },
  {
   "cell_type": "code",
   "execution_count": 21,
   "metadata": {},
   "outputs": [
    {
     "data": {
      "text/plain": [
       "Text(0.5, 1.0, 'Clusters in geyser Dataset scaled')"
      ]
     },
     "execution_count": 21,
     "metadata": {},
     "output_type": "execute_result"
    },
    {
     "data": {
      "image/png": "[encoded data removed]",
      "text/plain": [
       "<Figure size 432x432 with 1 Axes>"
      ]
     },
     "metadata": {
      "needs_background": "light"
     },
     "output_type": "display_data"
    }
   ],
   "source": [
    "# Now plot this for the standard dataset\n",
    "\n",
    "# plot the clusters\n",
    "# set fig size\n",
    "fig, ax = plt.subplots(figsize = (6,6))\n",
    "# first cluster\n",
    "plt.scatter(x = geyser_scaled_initial.iloc[geyser_scaled_initial.index[km_1_ss.labels_ == 0].tolist(), [0]],\n",
    "           y = geyser_scaled_initial.iloc[geyser_scaled_initial.index[km_1_ss.labels_ == 0].tolist(), [1]],\n",
    "           c = 'green',\n",
    "           label = 'cluster 1')\n",
    "\n",
    "# second cluster\n",
    "plt.scatter(x = geyser_scaled_initial.iloc[geyser_initial.index[km_1_ss.labels_ == 1].tolist(), [0]],\n",
    "           y = geyser_scaled_initial.iloc[geyser_initial.index[km_1_ss.labels_ == 1].tolist(), [1]],\n",
    "           c = 'blue',\n",
    "           label = 'cluster 2')\n",
    "\n",
    "# highlight the centroids\n",
    "plt.scatter(x = km_1_ss.cluster_centers_[:,[0]],\n",
    "           y = km_1_ss.cluster_centers_[:,[1]],\n",
    "           marker = '*', s = 300, label = 'centroid', c = 'r')\n",
    "\n",
    "plt.legend()\n",
    "plt.xlabel('Eruption time in mins')\n",
    "plt.ylabel('Waiting time in mins to next eruption')\n",
    "plt.title('Clusters in geyser Dataset scaled', fontweight = 'bold')"
   ]
  },
  {
   "cell_type": "code",
   "execution_count": 22,
   "metadata": {},
   "outputs": [
    {
     "name": "stdout",
     "output_type": "stream",
     "text": [
      "Initialization complete\n",
      "Iteration 0, inertia 7238.004084000001\n",
      "Iteration 1, inertia 4839.957483125643\n",
      "Iteration 2, inertia 4816.339490367572\n",
      "Iteration 3, inertia 4806.435807684\n",
      "Converged at iteration 3: strict convergence.\n",
      "Initialization complete\n",
      "Iteration 0, inertia 4878.739330999994\n",
      "Iteration 1, inertia 4835.241368015852\n",
      "Iteration 2, inertia 4806.435807684\n",
      "Converged at iteration 2: strict convergence.\n",
      "Initialization complete\n",
      "Iteration 0, inertia 5287.210722000001\n",
      "Iteration 1, inertia 5017.303690804663\n",
      "Iteration 2, inertia 4978.408357638853\n",
      "Converged at iteration 2: strict convergence.\n",
      "Initialization complete\n",
      "Iteration 0, inertia 6490.846047\n",
      "Iteration 1, inertia 5789.490700668496\n",
      "Iteration 2, inertia 5547.517084025718\n",
      "Iteration 3, inertia 5485.2590513591285\n",
      "Iteration 4, inertia 5462.26532840046\n",
      "Converged at iteration 4: strict convergence.\n",
      "Initialization complete\n",
      "Iteration 0, inertia 5285.653963000007\n",
      "Iteration 1, inertia 4919.779046078304\n",
      "Iteration 2, inertia 4842.531304396426\n",
      "Converged at iteration 2: strict convergence.\n",
      "Initialization complete\n",
      "Iteration 0, inertia 5690.590519999999\n",
      "Iteration 1, inertia 5412.2015668433705\n",
      "Iteration 2, inertia 5333.0618073476\n",
      "Iteration 3, inertia 5257.346689898857\n",
      "Iteration 4, inertia 5172.011999329145\n",
      "Iteration 5, inertia 5112.997009892389\n",
      "Converged at iteration 5: strict convergence.\n",
      "Initialization complete\n",
      "Iteration 0, inertia 8479.157482000002\n",
      "Iteration 1, inertia 5512.12576771009\n",
      "Iteration 2, inertia 5464.301420516883\n",
      "Iteration 3, inertia 5462.26532840046\n",
      "Converged at iteration 3: strict convergence.\n",
      "Initialization complete\n",
      "Iteration 0, inertia 6899.620565000003\n",
      "Iteration 1, inertia 6302.6829728939565\n",
      "Iteration 2, inertia 6113.903405273818\n",
      "Iteration 3, inertia 5904.202382515458\n",
      "Iteration 4, inertia 5648.79587101051\n",
      "Iteration 5, inertia 5485.2590513591285\n",
      "Iteration 6, inertia 5462.26532840046\n",
      "Converged at iteration 6: strict convergence.\n",
      "Initialization complete\n",
      "Iteration 0, inertia 6399.799752000005\n",
      "Iteration 1, inertia 6079.679153533149\n",
      "Iteration 2, inertia 5808.768837438443\n",
      "Iteration 3, inertia 5618.727662779615\n",
      "Iteration 4, inertia 5485.2590513591285\n",
      "Iteration 5, inertia 5462.26532840046\n",
      "Converged at iteration 5: strict convergence.\n",
      "Initialization complete\n",
      "Iteration 0, inertia 5822.037827000004\n",
      "Iteration 1, inertia 4853.343566847055\n",
      "Iteration 2, inertia 4806.435807684\n",
      "Converged at iteration 2: strict convergence.\n",
      "Initialization complete\n",
      "Iteration 0, inertia 66.7764957799019\n",
      "Iteration 1, inertia 53.100679637732206\n",
      "Converged at iteration 1: strict convergence.\n",
      "Initialization complete\n",
      "Iteration 0, inertia 74.1766976524329\n",
      "Iteration 1, inertia 53.177464153672695\n",
      "Iteration 2, inertia 53.0908274669613\n",
      "Converged at iteration 2: strict convergence.\n",
      "Initialization complete\n",
      "Iteration 0, inertia 96.72677840369369\n",
      "Iteration 1, inertia 58.296766844122736\n",
      "Iteration 2, inertia 56.225140061941296\n",
      "Iteration 3, inertia 54.91517534221957\n",
      "Iteration 4, inertia 54.03250283168426\n",
      "Iteration 5, inertia 53.75114820132374\n",
      "Iteration 6, inertia 53.65665372880582\n",
      "Iteration 7, inertia 53.48875756571823\n",
      "Iteration 8, inertia 53.30150181966742\n",
      "Iteration 9, inertia 53.14782432732193\n",
      "Iteration 10, inertia 53.1374099505034\n",
      "Converged at iteration 10: strict convergence.\n",
      "Initialization complete\n",
      "Iteration 0, inertia 90.54520930241046\n",
      "Iteration 1, inertia 66.6477036153075\n",
      "Iteration 2, inertia 64.3556077364016\n",
      "Iteration 3, inertia 62.865978132831124\n",
      "Iteration 4, inertia 62.28992864801584\n",
      "Iteration 5, inertia 61.97179077105687\n",
      "Iteration 6, inertia 61.93909275898008\n",
      "Iteration 7, inertia 61.92589173896567\n",
      "Converged at iteration 7: strict convergence.\n",
      "Initialization complete\n",
      "Iteration 0, inertia 76.20382713494419\n",
      "Iteration 1, inertia 62.28710119690033\n",
      "Iteration 2, inertia 61.49388112885834\n",
      "Iteration 3, inertia 61.246285851368896\n",
      "Iteration 4, inertia 61.09155355813671\n",
      "Converged at iteration 4: strict convergence.\n",
      "Initialization complete\n",
      "Iteration 0, inertia 72.16773596416462\n",
      "Iteration 1, inertia 59.827085831701105\n",
      "Iteration 2, inertia 57.48450152009564\n",
      "Iteration 3, inertia 57.00902827963016\n",
      "Iteration 4, inertia 56.753220457629865\n",
      "Iteration 5, inertia 56.22984227902793\n",
      "Iteration 6, inertia 55.37640417776337\n",
      "Iteration 7, inertia 54.69623152322145\n",
      "Iteration 8, inertia 53.81871489429689\n",
      "Iteration 9, inertia 53.30404057566518\n",
      "Iteration 10, inertia 53.132669454401466\n",
      "Iteration 11, inertia 53.110482909159614\n",
      "Iteration 12, inertia 53.100679637732206\n",
      "Converged at iteration 12: strict convergence.\n",
      "Initialization complete\n",
      "Iteration 0, inertia 84.52533218973097\n",
      "Iteration 1, inertia 56.9281636597913\n",
      "Iteration 2, inertia 55.4012649240267\n",
      "Iteration 3, inertia 54.43485515763966\n",
      "Iteration 4, inertia 53.9330756071394\n",
      "Iteration 5, inertia 53.706831064961\n",
      "Iteration 6, inertia 53.46732176848756\n",
      "Iteration 7, inertia 53.24850682653988\n",
      "Iteration 8, inertia 53.14782432732193\n",
      "Iteration 9, inertia 53.1374099505034\n",
      "Converged at iteration 9: strict convergence.\n",
      "Initialization complete\n",
      "Iteration 0, inertia 73.74866452603304\n",
      "Iteration 1, inertia 59.755116986865765\n",
      "Iteration 2, inertia 54.896384062144044\n",
      "Iteration 3, inertia 54.028739790677456\n",
      "Iteration 4, inertia 53.84945121817621\n",
      "Iteration 5, inertia 53.75550343646249\n",
      "Iteration 6, inertia 53.688880956434325\n",
      "Iteration 7, inertia 53.425627562448256\n",
      "Iteration 8, inertia 53.18362924161188\n",
      "Iteration 9, inertia 53.1374099505034\n",
      "Converged at iteration 9: strict convergence.\n",
      "Initialization complete\n",
      "Iteration 0, inertia 69.19330472636271\n",
      "Iteration 1, inertia 54.604762521430914\n",
      "Iteration 2, inertia 53.694373480303156\n",
      "Iteration 3, inertia 53.259535427800174\n",
      "Iteration 4, inertia 53.110482909159614\n",
      "Iteration 5, inertia 53.100679637732206\n",
      "Converged at iteration 5: strict convergence.\n",
      "Initialization complete\n",
      "Iteration 0, inertia 60.97799705585372\n",
      "Iteration 1, inertia 53.478085402023005\n",
      "Iteration 2, inertia 53.28940349178422\n",
      "Iteration 3, inertia 53.15861987190314\n",
      "Converged at iteration 3: center shift 6.221553311192326e-05 within tolerance 9.883148472035919e-05.\n"
     ]
    }
   ],
   "source": [
    "# make same with k=3\n",
    "# create a KMeans with 3 clusters | From .fit() this can now train \n",
    "km_2 = KMeans(n_clusters = 3, max_iter = 20, verbose = 1).fit(geyser_initial)\n",
    "# create a KMeans with 3 clusters, but scaled\n",
    "km_2_ss = KMeans(n_clusters = 3, max_iter = 20, verbose = 1).fit(geyser_scaled_initial)"
   ]
  },
  {
   "cell_type": "code",
   "execution_count": 23,
   "metadata": {},
   "outputs": [
    {
     "name": "stdout",
     "output_type": "stream",
     "text": [
      "Initialization complete\n",
      "Iteration 0, inertia 3931.7713510000012\n",
      "Iteration 1, inertia 3485.192067049802\n",
      "Iteration 2, inertia 3367.7296979180023\n",
      "Iteration 3, inertia 3273.661537217367\n",
      "Converged at iteration 3: strict convergence.\n",
      "Initialization complete\n",
      "Iteration 0, inertia 4037.5422349999967\n",
      "Iteration 1, inertia 3432.2144757540887\n",
      "Iteration 2, inertia 3045.1377387519915\n",
      "Iteration 3, inertia 2848.988279655975\n",
      "Iteration 4, inertia 2811.811452922999\n",
      "Converged at iteration 4: strict convergence.\n",
      "Initialization complete\n",
      "Iteration 0, inertia 4309.874448999998\n",
      "Iteration 1, inertia 2923.988150123996\n",
      "Iteration 2, inertia 2793.1703415965308\n",
      "Iteration 3, inertia 2791.0772829947596\n",
      "Converged at iteration 3: center shift 0.006245250731972277 within tolerance 0.009109693045696981.\n",
      "Initialization complete\n",
      "Iteration 0, inertia 3318.044440999998\n",
      "Iteration 1, inertia 2901.2313600724815\n",
      "Iteration 2, inertia 2786.8526153135226\n",
      "Iteration 3, inertia 2771.039842086994\n",
      "Iteration 4, inertia 2756.555774599708\n",
      "Iteration 5, inertia 2750.801211125707\n",
      "Iteration 6, inertia 2748.685878458903\n",
      "Converged at iteration 6: strict convergence.\n",
      "Initialization complete\n",
      "Iteration 0, inertia 3267.5664329999954\n",
      "Iteration 1, inertia 3100.768467603014\n",
      "Iteration 2, inertia 3038.6442093977407\n",
      "Converged at iteration 2: strict convergence.\n",
      "Initialization complete\n",
      "Iteration 0, inertia 3782.6199700000006\n",
      "Iteration 1, inertia 3146.106885722453\n",
      "Iteration 2, inertia 3086.9028049747885\n",
      "Iteration 3, inertia 3038.6442093977407\n",
      "Converged at iteration 3: strict convergence.\n",
      "Initialization complete\n",
      "Iteration 0, inertia 4089.2798220000013\n",
      "Iteration 1, inertia 3502.607938233435\n",
      "Iteration 2, inertia 3367.7296979180023\n",
      "Iteration 3, inertia 3273.661537217367\n",
      "Converged at iteration 3: strict convergence.\n",
      "Initialization complete\n",
      "Iteration 0, inertia 3545.1379560000005\n",
      "Iteration 1, inertia 3165.915637350031\n",
      "Iteration 2, inertia 3079.6915250956877\n",
      "Iteration 3, inertia 3003.38084516042\n",
      "Iteration 4, inertia 3001.8071416658345\n",
      "Converged at iteration 4: strict convergence.\n",
      "Initialization complete\n",
      "Iteration 0, inertia 3488.5980799999966\n",
      "Iteration 1, inertia 2977.1069600249957\n",
      "Iteration 2, inertia 2828.349174475805\n",
      "Iteration 3, inertia 2778.7135023106334\n",
      "Converged at iteration 3: center shift 0.006245250731972277 within tolerance 0.009109693045696981.\n",
      "Initialization complete\n",
      "Iteration 0, inertia 3745.9532729999996\n",
      "Iteration 1, inertia 3177.2031863384\n",
      "Iteration 2, inertia 3063.958081934717\n",
      "Iteration 3, inertia 3001.8071416658345\n",
      "Converged at iteration 3: strict convergence.\n",
      "Initialization complete\n",
      "Iteration 0, inertia 65.0683336197059\n",
      "Iteration 1, inertia 45.787503781372735\n",
      "Iteration 2, inertia 44.698262930437664\n",
      "Iteration 3, inertia 44.56060959248332\n",
      "Iteration 4, inertia 44.547275034641714\n",
      "Converged at iteration 4: strict convergence.\n",
      "Initialization complete\n",
      "Iteration 0, inertia 54.54932739608085\n",
      "Iteration 1, inertia 42.625535206903194\n",
      "Iteration 2, inertia 42.342055935548686\n",
      "Iteration 3, inertia 42.06650910892878\n",
      "Iteration 4, inertia 41.91859159752676\n",
      "Iteration 5, inertia 41.85849610694434\n",
      "Converged at iteration 5: strict convergence.\n",
      "Initialization complete\n",
      "Iteration 0, inertia 55.442487733946\n",
      "Iteration 1, inertia 48.370195680991955\n",
      "Iteration 2, inertia 47.17490806107453\n",
      "Iteration 3, inertia 46.52746832770251\n",
      "Iteration 4, inertia 46.183489935554306\n",
      "Iteration 5, inertia 45.96037489541795\n",
      "Iteration 6, inertia 45.91165970884885\n",
      "Iteration 7, inertia 45.87595404679716\n",
      "Converged at iteration 7: strict convergence.\n",
      "Initialization complete\n",
      "Iteration 0, inertia 53.09587125447807\n",
      "Iteration 1, inertia 46.389620259990956\n",
      "Iteration 2, inertia 45.61270952758097\n",
      "Iteration 3, inertia 45.21848079110931\n",
      "Iteration 4, inertia 44.68612582398832\n",
      "Iteration 5, inertia 44.502470320596835\n",
      "Iteration 6, inertia 44.4258381222814\n",
      "Iteration 7, inertia 44.308931769615306\n",
      "Iteration 8, inertia 44.26559606474536\n",
      "Iteration 9, inertia 44.2155503129209\n",
      "Iteration 10, inertia 44.197677036992665\n",
      "Iteration 11, inertia 44.18027795074847\n",
      "Iteration 12, inertia 44.17217257184245\n",
      "Converged at iteration 12: strict convergence.\n",
      "Initialization complete\n",
      "Iteration 0, inertia 61.2224166026555\n",
      "Iteration 1, inertia 42.7813973920773\n",
      "Iteration 2, inertia 42.41884263713817\n",
      "Iteration 3, inertia 42.296999346036515\n",
      "Iteration 4, inertia 42.21012240695752\n",
      "Iteration 5, inertia 42.04931272971497\n",
      "Iteration 6, inertia 41.955791473611214\n",
      "Iteration 7, inertia 41.92548770873585\n",
      "Iteration 8, inertia 41.90592958481971\n",
      "Iteration 9, inertia 41.86477019635613\n",
      "Converged at iteration 9: strict convergence.\n",
      "Initialization complete\n",
      "Iteration 0, inertia 52.58576906233816\n",
      "Iteration 1, inertia 45.51623111040334\n",
      "Iteration 2, inertia 44.72027343381506\n",
      "Iteration 3, inertia 44.49427142358166\n",
      "Iteration 4, inertia 44.40040734464444\n",
      "Iteration 5, inertia 44.31584959467329\n",
      "Iteration 6, inertia 44.276068546787705\n",
      "Iteration 7, inertia 44.24974747440141\n",
      "Converged at iteration 7: center shift 5.495413619245105e-05 within tolerance 9.883148472035919e-05.\n",
      "Initialization complete\n",
      "Iteration 0, inertia 63.568953206476394\n",
      "Iteration 1, inertia 42.814459807817876\n",
      "Iteration 2, inertia 42.544562940957604\n",
      "Iteration 3, inertia 42.22225943695648\n",
      "Iteration 4, inertia 42.007834984636155\n",
      "Iteration 5, inertia 41.921453659418795\n",
      "Iteration 6, inertia 41.86477019635613\n",
      "Converged at iteration 6: strict convergence.\n",
      "Initialization complete\n",
      "Iteration 0, inertia 47.43057898454974\n",
      "Iteration 1, inertia 44.51282554505087\n",
      "Iteration 2, inertia 44.472967572550466\n",
      "Converged at iteration 2: strict convergence.\n",
      "Initialization complete\n",
      "Iteration 0, inertia 62.97748557325896\n",
      "Iteration 1, inertia 46.41588359584131\n",
      "Iteration 2, inertia 45.36848334392262\n",
      "Iteration 3, inertia 44.93398307496402\n",
      "Iteration 4, inertia 44.54004749583528\n",
      "Iteration 5, inertia 44.39639494406063\n",
      "Iteration 6, inertia 44.33683655734498\n",
      "Converged at iteration 6: center shift 7.786828094631857e-05 within tolerance 9.883148472035919e-05.\n",
      "Initialization complete\n",
      "Iteration 0, inertia 64.01202859898396\n",
      "Iteration 1, inertia 49.90283034064917\n",
      "Iteration 2, inertia 45.7845024891066\n",
      "Iteration 3, inertia 44.03636842414907\n",
      "Iteration 4, inertia 42.93836602904439\n",
      "Iteration 5, inertia 42.48326916559195\n",
      "Iteration 6, inertia 42.42038793269307\n",
      "Iteration 7, inertia 42.38753313234793\n",
      "Iteration 8, inertia 42.37556030176574\n",
      "Iteration 9, inertia 42.35774827034749\n",
      "Iteration 10, inertia 42.289560578982545\n",
      "Converged at iteration 10: center shift 5.5140638143645854e-05 within tolerance 9.883148472035919e-05.\n"
     ]
    }
   ],
   "source": [
    "# make same with k=4\n",
    "# create a KMeans with 3 clusters | From .fit() this can now train \n",
    "km_3 = KMeans(n_clusters = 4, max_iter = 20, verbose = 1).fit(geyser_initial)\n",
    "# create a KMeans with 3 clusters, but scaled\n",
    "km_3_ss = KMeans(n_clusters = 4, max_iter = 20, verbose = 1).fit(geyser_scaled_initial)"
   ]
  },
  {
   "cell_type": "code",
   "execution_count": 24,
   "metadata": {},
   "outputs": [
    {
     "name": "stdout",
     "output_type": "stream",
     "text": [
      "Initialization complete\n",
      "Iteration 0, inertia 4562.106022999998\n",
      "Iteration 1, inertia 3989.5779240876363\n",
      "Iteration 2, inertia 3948.4345096664756\n",
      "Iteration 3, inertia 3863.260778804469\n",
      "Converged at iteration 3: strict convergence.\n",
      "Initialization complete\n",
      "Iteration 0, inertia 4168.1250949999985\n",
      "Iteration 1, inertia 3509.2199663548977\n",
      "Iteration 2, inertia 3347.1764123171747\n",
      "Iteration 3, inertia 3177.253452340288\n",
      "Iteration 4, inertia 3150.9192843579635\n",
      "Converged at iteration 4: strict convergence.\n",
      "Initialization complete\n",
      "Iteration 0, inertia 4167.332974999997\n",
      "Iteration 1, inertia 3361.677953788289\n",
      "Iteration 2, inertia 3045.1377387519915\n",
      "Iteration 3, inertia 2848.988279655975\n",
      "Iteration 4, inertia 2811.811452922999\n",
      "Converged at iteration 4: strict convergence.\n",
      "Initialization complete\n",
      "Iteration 0, inertia 3227.8496819999978\n",
      "Iteration 1, inertia 2810.6000122977302\n",
      "Iteration 2, inertia 2771.039842086994\n",
      "Iteration 3, inertia 2756.555774599708\n",
      "Iteration 4, inertia 2750.801211125707\n",
      "Iteration 5, inertia 2748.685878458903\n",
      "Converged at iteration 5: strict convergence.\n",
      "Initialization complete\n",
      "Iteration 0, inertia 3366.7607199999993\n",
      "Iteration 1, inertia 3006.3499441788485\n",
      "Iteration 2, inertia 3001.8071416658345\n",
      "Converged at iteration 2: strict convergence.\n",
      "Initialization complete\n",
      "Iteration 0, inertia 3639.1641549999986\n",
      "Iteration 1, inertia 3086.4760149093704\n",
      "Iteration 2, inertia 2885.6718354914024\n",
      "Iteration 3, inertia 2792.0199058021517\n",
      "Converged at iteration 3: strict convergence.\n",
      "Initialization complete\n",
      "Iteration 0, inertia 3606.952457999998\n",
      "Iteration 1, inertia 2970.9293275380055\n",
      "Iteration 2, inertia 2951.723697422052\n",
      "Iteration 3, inertia 2912.3641163146\n",
      "Iteration 4, inertia 2910.354065225716\n",
      "Converged at iteration 4: strict convergence.\n",
      "Initialization complete\n",
      "Iteration 0, inertia 4451.625195000001\n",
      "Iteration 1, inertia 3144.176516217004\n",
      "Iteration 2, inertia 2946.1481212046633\n",
      "Iteration 3, inertia 2830.8997672259447\n",
      "Iteration 4, inertia 2793.1703415965308\n",
      "Iteration 5, inertia 2791.0772829947596\n",
      "Converged at iteration 5: center shift 0.006245250731972277 within tolerance 0.009109693045696981.\n",
      "Initialization complete\n",
      "Iteration 0, inertia 3291.0634769999983\n",
      "Iteration 1, inertia 2844.0725962928573\n",
      "Iteration 2, inertia 2792.981575072333\n",
      "Iteration 3, inertia 2748.685878458903\n",
      "Converged at iteration 3: strict convergence.\n",
      "Initialization complete\n",
      "Iteration 0, inertia 3835.6222439999997\n",
      "Iteration 1, inertia 3457.2246479735536\n",
      "Iteration 2, inertia 3321.269299287871\n",
      "Iteration 3, inertia 3273.661537217367\n",
      "Converged at iteration 3: strict convergence.\n",
      "Initialization complete\n",
      "Iteration 0, inertia 53.867351643673615\n",
      "Iteration 1, inertia 46.361139330811866\n",
      "Iteration 2, inertia 44.591376177791496\n",
      "Iteration 3, inertia 43.99015272139224\n",
      "Iteration 4, inertia 43.96590385906381\n",
      "Iteration 5, inertia 43.943161971398226\n",
      "Converged at iteration 5: center shift 7.08476553920941e-05 within tolerance 9.883148472035919e-05.\n",
      "Initialization complete\n",
      "Iteration 0, inertia 54.390782499637275\n",
      "Iteration 1, inertia 47.909127423702145\n",
      "Iteration 2, inertia 47.494455176773805\n",
      "Iteration 3, inertia 47.067836942914106\n",
      "Iteration 4, inertia 46.635399276009665\n",
      "Iteration 5, inertia 46.43161915178491\n",
      "Iteration 6, inertia 46.27234593142878\n",
      "Iteration 7, inertia 46.204379039029945\n",
      "Iteration 8, inertia 46.1848280210452\n",
      "Iteration 9, inertia 46.12768724695931\n",
      "Iteration 10, inertia 46.07131857715943\n",
      "Iteration 11, inertia 46.058308362455705\n",
      "Converged at iteration 11: strict convergence.\n",
      "Initialization complete\n",
      "Iteration 0, inertia 49.436834763889166\n",
      "Iteration 1, inertia 42.85785228802176\n",
      "Iteration 2, inertia 42.15649877341465\n",
      "Iteration 3, inertia 41.82779466727738\n",
      "Iteration 4, inertia 41.80516664019624\n",
      "Converged at iteration 4: center shift 6.589165260889051e-05 within tolerance 9.883148472035919e-05.\n",
      "Initialization complete\n",
      "Iteration 0, inertia 64.31721738353322\n",
      "Iteration 1, inertia 47.51349748112026\n",
      "Iteration 2, inertia 46.55003462841601\n",
      "Iteration 3, inertia 46.18990455471646\n",
      "Iteration 4, inertia 46.131238766647\n",
      "Iteration 5, inertia 46.037795106700464\n",
      "Converged at iteration 5: strict convergence.\n",
      "Initialization complete\n",
      "Iteration 0, inertia 74.09440968814528\n",
      "Iteration 1, inertia 46.12631091069215\n",
      "Iteration 2, inertia 44.77729582052998\n",
      "Iteration 3, inertia 44.54737565583074\n",
      "Iteration 4, inertia 44.411067701604075\n",
      "Iteration 5, inertia 44.34373337620683\n",
      "Iteration 6, inertia 44.244387533935644\n",
      "Iteration 7, inertia 44.2386156421645\n",
      "Converged at iteration 7: strict convergence.\n",
      "Initialization complete\n",
      "Iteration 0, inertia 58.23464199060777\n",
      "Iteration 1, inertia 45.760402982204106\n",
      "Iteration 2, inertia 44.98058329804007\n",
      "Iteration 3, inertia 44.59556358611432\n",
      "Iteration 4, inertia 44.37954835206387\n",
      "Iteration 5, inertia 44.28737475552552\n",
      "Iteration 6, inertia 44.22160753889992\n",
      "Converged at iteration 6: center shift 8.000842070276808e-05 within tolerance 9.883148472035919e-05.\n",
      "Initialization complete\n",
      "Iteration 0, inertia 68.48750690113539\n",
      "Iteration 1, inertia 43.81526250793812\n",
      "Iteration 2, inertia 43.26180011795724\n",
      "Iteration 3, inertia 42.9029254086351\n",
      "Iteration 4, inertia 42.85946667655442\n",
      "Converged at iteration 4: center shift 3.7891481817599145e-05 within tolerance 9.883148472035919e-05.\n",
      "Initialization complete\n",
      "Iteration 0, inertia 60.11858513879106\n",
      "Iteration 1, inertia 48.97895577275823\n",
      "Iteration 2, inertia 47.49662984069684\n",
      "Iteration 3, inertia 46.7325864030082\n",
      "Iteration 4, inertia 45.73841100548222\n",
      "Iteration 5, inertia 44.93750944972713\n",
      "Iteration 6, inertia 44.71827958672862\n",
      "Iteration 7, inertia 44.59946254976493\n",
      "Iteration 8, inertia 44.582373871205135\n",
      "Iteration 9, inertia 44.56912352568717\n",
      "Converged at iteration 9: center shift 8.899303393083403e-05 within tolerance 9.883148472035919e-05.\n",
      "Initialization complete\n",
      "Iteration 0, inertia 58.135660541042014\n",
      "Iteration 1, inertia 47.26603839066631\n",
      "Iteration 2, inertia 44.173056379983755\n",
      "Iteration 3, inertia 42.86348620654311\n",
      "Iteration 4, inertia 42.565563963791675\n",
      "Iteration 5, inertia 42.37182695892411\n",
      "Iteration 6, inertia 42.26659661358037\n",
      "Iteration 7, inertia 42.09829421370668\n",
      "Iteration 8, inertia 41.9777338667054\n",
      "Iteration 9, inertia 41.868910483762846\n",
      "Iteration 10, inertia 41.85849610694434\n",
      "Converged at iteration 10: strict convergence.\n",
      "Initialization complete\n",
      "Iteration 0, inertia 65.2965545064344\n",
      "Iteration 1, inertia 54.013259347033106\n",
      "Iteration 2, inertia 47.96289408779792\n",
      "Iteration 3, inertia 44.22481878113188\n",
      "Iteration 4, inertia 42.95285075923827\n",
      "Iteration 5, inertia 42.542669109584445\n",
      "Iteration 6, inertia 42.515144641055514\n",
      "Iteration 7, inertia 42.45675634453863\n",
      "Iteration 8, inertia 42.42489873334001\n",
      "Iteration 9, inertia 42.364653693009735\n",
      "Iteration 10, inertia 42.21387810243927\n",
      "Iteration 11, inertia 42.063288127468226\n",
      "Iteration 12, inertia 41.955791473611214\n",
      "Iteration 13, inertia 41.92548770873585\n",
      "Iteration 14, inertia 41.90592958481971\n",
      "Iteration 15, inertia 41.86477019635613\n",
      "Converged at iteration 15: strict convergence.\n"
     ]
    }
   ],
   "source": [
    "# make same with k=5\n",
    "# create a KMeans with 3 clusters | From .fit() this can now train \n",
    "km_4 = KMeans(n_clusters = 4, max_iter = 20, verbose = 1).fit(geyser_initial)\n",
    "# create a KMeans with 3 clusters, but scaled\n",
    "km_4_ss = KMeans(n_clusters = 4, max_iter = 20, verbose = 1).fit(geyser_scaled_initial)"
   ]
  },
  {
   "cell_type": "code",
   "execution_count": 25,
   "metadata": {},
   "outputs": [],
   "source": [
    "# create a list of inirtias of all clusters\n",
    "inertias = [km_1_ss.inertia_, km_2_ss.inertia_, km_3_ss.inertia_, km_4_ss.inertia_]\n",
    "clusters = [2,3,4,5]"
   ]
  },
  {
   "cell_type": "code",
   "execution_count": 26,
   "metadata": {},
   "outputs": [
    {
     "data": {
      "image/png": "[encoded data removed]",
      "text/plain": [
       "<Figure size 432x288 with 1 Axes>"
      ]
     },
     "metadata": {
      "needs_background": "light"
     },
     "output_type": "display_data"
    }
   ],
   "source": [
    "# plot the clusters v inertias\n",
    "plt.plot(clusters, inertias,\n",
    "        marker='o')\n",
    "plt.xlabel('Number of Clusters')\n",
    "plt.ylabel('Inertia')\n",
    "plt.show()"
   ]
  },
  {
   "cell_type": "code",
   "execution_count": 27,
   "metadata": {},
   "outputs": [
    {
     "data": {
      "text/plain": [
       "Text(0.5, 1.0, 'Clusters in geyser Dataset scaled')"
      ]
     },
     "execution_count": 27,
     "metadata": {},
     "output_type": "execute_result"
    },
    {
     "data": {
      "image/png": "[encoded data removed]",
      "text/plain": [
       "<Figure size 432x432 with 1 Axes>"
      ]
     },
     "metadata": {
      "needs_background": "light"
     },
     "output_type": "display_data"
    }
   ],
   "source": [
    "# Now plot this for the standard dataset\n",
    "\n",
    "# plot the clusters\n",
    "# set fig size\n",
    "fig, ax = plt.subplots(figsize = (6,6))\n",
    "# first cluster\n",
    "plt.scatter(x = geyser_scaled_initial.iloc[geyser_scaled_initial.index[km_1_ss.labels_ == 0].tolist(), [0]],\n",
    "           y = geyser_scaled_initial.iloc[geyser_scaled_initial.index[km_1_ss.labels_ == 0].tolist(), [1]],\n",
    "           c = 'green',\n",
    "           label = 'cluster 1')\n",
    "\n",
    "# second cluster\n",
    "plt.scatter(x = geyser_scaled_initial.iloc[geyser_initial.index[km_2_ss.labels_ == 1].tolist(), [0]],\n",
    "           y = geyser_scaled_initial.iloc[geyser_initial.index[km_2_ss.labels_ == 1].tolist(), [1]],\n",
    "           c = 'blue',\n",
    "           label = 'cluster 2')\n",
    "\n",
    "# third cluster\n",
    "plt.scatter(x = geyser_scaled_initial.iloc[geyser_scaled_initial.index[km_3_ss.labels_ == 0].tolist(), [0]],\n",
    "           y = geyser_scaled_initial.iloc[geyser_scaled_initial.index[km_3_ss.labels_ == 0].tolist(), [1]],\n",
    "           c = 'yellow',\n",
    "           label = 'cluster 1')\n",
    "\n",
    "# fourth cluster\n",
    "plt.scatter(x = geyser_scaled_initial.iloc[geyser_initial.index[km_4_ss.labels_ == 1].tolist(), [0]],\n",
    "           y = geyser_scaled_initial.iloc[geyser_initial.index[km_4_ss.labels_ == 1].tolist(), [1]],\n",
    "           c = 'black',\n",
    "           label = 'cluster 4')\n",
    "# highlight the centroids\n",
    "plt.scatter(x = km_1_ss.cluster_centers_[:,[0]],\n",
    "           y = km_1_ss.cluster_centers_[:,[1]],\n",
    "           marker = '*', s = 300, label = 'centroid', c = 'r')\n",
    "\n",
    "plt.legend()\n",
    "plt.xlabel('Eruption time in mins')\n",
    "plt.ylabel('Waiting time in mins to next eruption')\n",
    "plt.title('Clusters in geyser Dataset scaled', fontweight = 'bold')"
   ]
  },
  {
   "cell_type": "code",
   "execution_count": 28,
   "metadata": {},
   "outputs": [],
   "source": [
    "from matplotlib import cm\n",
    "from sklearn.metrics import silhouette_samples, silhouette_score\n",
    "import numpy as np"
   ]
  },
  {
   "cell_type": "code",
   "execution_count": 29,
   "metadata": {},
   "outputs": [
    {
     "data": {
      "text/plain": [
       "array([ 0.37646427,  0.81828654,  0.44830146,  0.61947171,  0.56414232,\n",
       "        0.5225464 ,  0.54792125,  0.02194472,  0.81662274,  0.50330386,\n",
       "        0.82136003,  0.12425949,  0.22056058,  0.76318746,  0.55105653,\n",
       "        0.80115174,  0.68061863,  0.55200394,  0.78794479,  0.02208882,\n",
       "        0.81113237,  0.76318746,  0.39615537,  0.29297049,  0.19266684,\n",
       "        0.15022271,  0.8186915 ,  0.44996734,  0.41923049,  0.20692772,\n",
       "        0.40618465, -0.00671657,  0.35871371,  0.15592371,  0.53239677,\n",
       "        0.81942025,  0.78286595,  0.43263641,  0.75978379,  0.5133258 ,\n",
       "        0.23481369,  0.78078367,  0.56420757,  0.77123731,  0.23817794,\n",
       "        0.19432631,  0.41208431,  0.81352474,  0.52404024,  0.75890087,\n",
       "        0.08391952,  0.51673021,  0.82136003,  0.43263641,  0.80979146,\n",
       "        0.52067287,  0.51984906,  0.61842454,  0.10343727,  0.30713518,\n",
       "        0.72195447,  0.5516564 ,  0.77638464,  0.51455591,  0.736316  ,\n",
       "        0.4509364 ,  0.25426277,  0.28766752,  0.5552814 ,  0.10292206,\n",
       "        0.06992473,  0.8099941 ,  0.26939518,  0.51551294,  0.67674644,\n",
       "        0.21892313,  0.73310805,  0.21551613,  0.49892504,  0.15022271,\n",
       "        0.46132994,  0.4005692 ,  0.4827436 ,  0.31805592,  0.5093002 ,\n",
       "        0.52064595,  0.49090103,  0.37514953,  0.76277747,  0.29168029,\n",
       "        0.70476865,  0.46958491,  0.80729067,  0.31439928,  0.65175613,\n",
       "        0.41419541,  0.56789122,  0.51596736,  0.81584046,  0.49466512,\n",
       "        0.5418585 ,  0.50470829,  0.78515732,  0.53398082,  0.00968625,\n",
       "        0.76812372,  0.56584302,  0.81494464,  0.54848533,  0.25933586,\n",
       "        0.04140711,  0.70345536,  0.51503203,  0.18934139,  0.74777726,\n",
       "        0.48079672,  0.7575734 ,  0.57184742,  0.75888307,  0.52808193,\n",
       "        0.66821005,  0.47462084,  0.26801285,  0.8099941 ,  0.54674474,\n",
       "        0.23412017,  0.73410361,  0.49752677,  0.77467283,  0.51670778,\n",
       "        0.73478916,  0.30679664,  0.5493941 ,  0.48317362,  0.75181665,\n",
       "        0.43780479,  0.81643695,  0.53171762,  0.8206504 ,  0.37594313,\n",
       "        0.21259636,  0.69684321,  0.50789495,  0.24362433,  0.26223117,\n",
       "        0.75991671,  0.42112204,  0.79291246,  0.39311533,  0.81946884,\n",
       "        0.26819977,  0.43690284,  0.4502504 ,  0.475099  ,  0.50169785,\n",
       "        0.50350106,  0.44122247,  0.3534682 ,  0.81946884,  0.31800693,\n",
       "        0.71081866,  0.39971537,  0.77900212,  0.42150971,  0.43515585,\n",
       "       -0.02644238,  0.55275445,  0.50698422,  0.82264961,  0.4570531 ,\n",
       "        0.7968634 ,  0.78791832,  0.11874043,  0.43339905,  0.1265723 ,\n",
       "        0.32290318,  0.26501128,  0.73138798,  0.2564097 ,  0.46523536,\n",
       "        0.81825468,  0.11874043,  0.38426652,  0.0686762 ,  0.81226219,\n",
       "        0.07576154,  0.28357029,  0.75181665,  0.50082262,  0.79344259,\n",
       "        0.48021222,  0.7937924 ,  0.16172063,  0.299259  ,  0.4477103 ,\n",
       "        0.21259636,  0.01313202,  0.13208061,  0.78017245,  0.27480954,\n",
       "        0.72336418,  0.41425155,  0.39018553,  0.82410362,  0.23894348,\n",
       "        0.74992745,  0.1307685 ,  0.06195255,  0.79668642,  0.53398082,\n",
       "        0.13743129,  0.43231153,  0.79609187,  0.52162488,  0.28070766,\n",
       "        0.35569667,  0.74622338,  0.44046987,  0.81717117,  0.41496785,\n",
       "        0.80729067,  0.34018588,  0.81221844,  0.17721992,  0.37348671,\n",
       "        0.19149503,  0.32426966,  0.14042581,  0.51193054,  0.30520785,\n",
       "        0.48722943,  0.73750328,  0.42084294,  0.77872826,  0.49646233,\n",
       "        0.82376926,  0.82243878,  0.23281055,  0.31778298,  0.52384812,\n",
       "        0.45296029,  0.71537412,  0.53171762,  0.22481922,  0.57072584,\n",
       "        0.11155985,  0.78791832,  0.42688417,  0.45293268,  0.34930727,\n",
       "        0.79549387,  0.51649711,  0.5044546 ,  0.26501128,  0.41328064,\n",
       "        0.29304708,  0.52427948,  0.51649711,  0.80848012])"
      ]
     },
     "execution_count": 29,
     "metadata": {},
     "output_type": "execute_result"
    }
   ],
   "source": [
    "# create a new model for \n",
    "km_2_ss_sl = KMeans(n_clusters = 3, n_init = 10, max_iter = 20, random_state = 0)\n",
    "pred_km_2_ss_sl = km_2_ss_sl.fit_predict(geyser_scaled_initial)\n",
    "# can find the avg score using silhouette_score\n",
    "silhouette_vals = silhouette_samples(geyser_scaled_initial, pred_km_2_ss_sl, metric = 'euclidean')\n",
    "silhouette_vals"
   ]
  },
  {
   "cell_type": "code",
   "execution_count": 30,
   "metadata": {},
   "outputs": [
    {
     "data": {
      "text/plain": [
       "0.4912037950280445"
      ]
     },
     "execution_count": 30,
     "metadata": {},
     "output_type": "execute_result"
    }
   ],
   "source": [
    "silhouette_scores = silhouette_score(geyser_scaled_initial, pred_km_2_ss_sl, metric = 'euclidean')\n",
    "silhouette_scores\n",
    "\n",
    "# do the same for 3,4,5 clusters"
   ]
  },
  {
   "cell_type": "code",
   "execution_count": 31,
   "metadata": {},
   "outputs": [],
   "source": [
    "# find the silhouette plot code from BB later"
   ]
  },
  {
   "cell_type": "code",
   "execution_count": 32,
   "metadata": {},
   "outputs": [],
   "source": [
    "# !pip install mglearn"
   ]
  },
  {
   "cell_type": "code",
   "execution_count": 33,
   "metadata": {},
   "outputs": [],
   "source": [
    "from sklearn.datasets import make_moons\n",
    "import mglearn"
   ]
  },
  {
   "cell_type": "code",
   "execution_count": 34,
   "metadata": {},
   "outputs": [],
   "source": [
    "# using make_moons create 2 moons\n",
    "x, y = make_moons(n_samples = 200, noise = 0.05, random_state = 0)"
   ]
  },
  {
   "cell_type": "code",
   "execution_count": 35,
   "metadata": {},
   "outputs": [
    {
     "data": {
      "text/plain": [
       "Text(0, 0.5, 'Feature 1')"
      ]
     },
     "execution_count": 35,
     "metadata": {},
     "output_type": "execute_result"
    },
    {
     "data": {
      "image/png": "[encoded data removed]",
      "text/plain": [
       "<Figure size 432x288 with 1 Axes>"
      ]
     },
     "metadata": {
      "needs_background": "light"
     },
     "output_type": "display_data"
    }
   ],
   "source": [
    "# Find the clusters of the moons\n",
    "km_c = KMeans(n_clusters = 2)\n",
    "km_c.fit(x)\n",
    "y_pred = km_c.predict(x)\n",
    "\n",
    "plt.scatter(x[:,0], x[:,1], c = y_pred,\n",
    "           cmap = mglearn.cm2,\n",
    "           s=60,\n",
    "           edgecolor = 'k')\n",
    "\n",
    "plt.scatter(km_c.cluster_centers_[:,0],\n",
    "           km_c.cluster_centers_[:,1],\n",
    "           marker = '^',\n",
    "           c = [mglearn.cm2(0), mglearn.cm2(1)], s = 100, linewidth = 2,\n",
    "           edgecolor = 'k')\n",
    "\n",
    "plt.xlabel('Feature 0')\n",
    "plt.ylabel('Feature 1')"
   ]
  },
  {
   "cell_type": "code",
   "execution_count": 36,
   "metadata": {},
   "outputs": [],
   "source": [
    "from sklearn.cluster import DBSCAN"
   ]
  },
  {
   "cell_type": "code",
   "execution_count": 37,
   "metadata": {},
   "outputs": [],
   "source": [
    "dbscan = DBSCAN()\n",
    "scaler = ss()\n",
    "scaler.fit(x)\n",
    "x_scaled = scaler.transform(x)\n",
    "\n",
    "DBS_cluster = dbscan.fit_predict(x_scaled)"
   ]
  },
  {
   "cell_type": "code",
   "execution_count": 38,
   "metadata": {},
   "outputs": [
    {
     "data": {
      "text/plain": [
       "Text(0, 0.5, 'Feature 1')"
      ]
     },
     "execution_count": 38,
     "metadata": {},
     "output_type": "execute_result"
    },
    {
     "data": {
      "image/png": "[encoded data removed]",
      "text/plain": [
       "<Figure size 432x288 with 1 Axes>"
      ]
     },
     "metadata": {
      "needs_background": "light"
     },
     "output_type": "display_data"
    }
   ],
   "source": [
    "# plot the data\n",
    "plt.scatter(x_scaled[:,0], x_scaled[:,1],\n",
    "           c = DBS_cluster, \n",
    "           cmap = mglearn.cm2,\n",
    "           s = 60)\n",
    "plt.xlabel('Feature 0')\n",
    "plt.ylabel('Feature 1')"
   ]
  }
 ],
 "metadata": {
  "kernelspec": {
   "display_name": "Python 3",
   "language": "python",
   "name": "python3"
  },
  "language_info": {
   "codemirror_mode": {
    "name": "ipython",
    "version": 3
   },
   "file_extension": ".py",
   "mimetype": "text/x-python",
   "name": "python",
   "nbconvert_exporter": "python",
   "pygments_lexer": "ipython3",
   "version": "3.8.5"
  }
 },
 "nbformat": 4,
 "nbformat_minor": 4
}
