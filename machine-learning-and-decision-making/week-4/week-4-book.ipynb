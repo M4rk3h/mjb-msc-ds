{
 "cells": [
  {
   "cell_type": "code",
   "execution_count": 1,
   "metadata": {},
   "outputs": [],
   "source": [
    "import pandas as pd"
   ]
  },
  {
   "cell_type": "code",
   "execution_count": 2,
   "metadata": {},
   "outputs": [],
   "source": [
    "geyser = pd.read_csv(\"data/faithful.csv\")"
   ]
  },
  {
   "cell_type": "code",
   "execution_count": 3,
   "metadata": {},
   "outputs": [
    {
     "name": "stdout",
     "output_type": "stream",
     "text": [
      "<class 'pandas.core.frame.DataFrame'>\n",
      "RangeIndex: 272 entries, 0 to 271\n",
      "Data columns (total 3 columns):\n",
      " #   Column      Non-Null Count  Dtype  \n",
      "---  ------      --------------  -----  \n",
      " 0   Unnamed: 0  272 non-null    int64  \n",
      " 1   eruptions   272 non-null    float64\n",
      " 2   waiting     272 non-null    int64  \n",
      "dtypes: float64(1), int64(2)\n",
      "memory usage: 6.5 KB\n"
     ]
    }
   ],
   "source": [
    "geyser.info()"
   ]
  },
  {
   "cell_type": "code",
   "execution_count": 4,
   "metadata": {},
   "outputs": [
    {
     "data": {
      "text/html": [
       "<div>\n",
       "<style scoped>\n",
       "    .dataframe tbody tr th:only-of-type {\n",
       "        vertical-align: middle;\n",
       "    }\n",
       "\n",
       "    .dataframe tbody tr th {\n",
       "        vertical-align: top;\n",
       "    }\n",
       "\n",
       "    .dataframe thead th {\n",
       "        text-align: right;\n",
       "    }\n",
       "</style>\n",
       "<table border=\"1\" class=\"dataframe\">\n",
       "  <thead>\n",
       "    <tr style=\"text-align: right;\">\n",
       "      <th></th>\n",
       "      <th>Unnamed: 0</th>\n",
       "      <th>eruptions</th>\n",
       "      <th>waiting</th>\n",
       "    </tr>\n",
       "  </thead>\n",
       "  <tbody>\n",
       "    <tr>\n",
       "      <th>0</th>\n",
       "      <td>1</td>\n",
       "      <td>3.600</td>\n",
       "      <td>79</td>\n",
       "    </tr>\n",
       "    <tr>\n",
       "      <th>1</th>\n",
       "      <td>2</td>\n",
       "      <td>1.800</td>\n",
       "      <td>54</td>\n",
       "    </tr>\n",
       "    <tr>\n",
       "      <th>2</th>\n",
       "      <td>3</td>\n",
       "      <td>3.333</td>\n",
       "      <td>74</td>\n",
       "    </tr>\n",
       "    <tr>\n",
       "      <th>3</th>\n",
       "      <td>4</td>\n",
       "      <td>2.283</td>\n",
       "      <td>62</td>\n",
       "    </tr>\n",
       "    <tr>\n",
       "      <th>4</th>\n",
       "      <td>5</td>\n",
       "      <td>4.533</td>\n",
       "      <td>85</td>\n",
       "    </tr>\n",
       "  </tbody>\n",
       "</table>\n",
       "</div>"
      ],
      "text/plain": [
       "   Unnamed: 0  eruptions  waiting\n",
       "0           1      3.600       79\n",
       "1           2      1.800       54\n",
       "2           3      3.333       74\n",
       "3           4      2.283       62\n",
       "4           5      4.533       85"
      ]
     },
     "execution_count": 4,
     "metadata": {},
     "output_type": "execute_result"
    }
   ],
   "source": [
    "geyser.head()"
   ]
  },
  {
   "cell_type": "code",
   "execution_count": 5,
   "metadata": {},
   "outputs": [
    {
     "data": {
      "text/html": [
       "<div>\n",
       "<style scoped>\n",
       "    .dataframe tbody tr th:only-of-type {\n",
       "        vertical-align: middle;\n",
       "    }\n",
       "\n",
       "    .dataframe tbody tr th {\n",
       "        vertical-align: top;\n",
       "    }\n",
       "\n",
       "    .dataframe thead th {\n",
       "        text-align: right;\n",
       "    }\n",
       "</style>\n",
       "<table border=\"1\" class=\"dataframe\">\n",
       "  <thead>\n",
       "    <tr style=\"text-align: right;\">\n",
       "      <th></th>\n",
       "      <th>erutpion_duration</th>\n",
       "      <th>waiting_duration</th>\n",
       "    </tr>\n",
       "  </thead>\n",
       "  <tbody>\n",
       "    <tr>\n",
       "      <th>0</th>\n",
       "      <td>3.600</td>\n",
       "      <td>79</td>\n",
       "    </tr>\n",
       "    <tr>\n",
       "      <th>1</th>\n",
       "      <td>1.800</td>\n",
       "      <td>54</td>\n",
       "    </tr>\n",
       "    <tr>\n",
       "      <th>2</th>\n",
       "      <td>3.333</td>\n",
       "      <td>74</td>\n",
       "    </tr>\n",
       "    <tr>\n",
       "      <th>3</th>\n",
       "      <td>2.283</td>\n",
       "      <td>62</td>\n",
       "    </tr>\n",
       "    <tr>\n",
       "      <th>4</th>\n",
       "      <td>4.533</td>\n",
       "      <td>85</td>\n",
       "    </tr>\n",
       "  </tbody>\n",
       "</table>\n",
       "</div>"
      ],
      "text/plain": [
       "   erutpion_duration  waiting_duration\n",
       "0              3.600                79\n",
       "1              1.800                54\n",
       "2              3.333                74\n",
       "3              2.283                62\n",
       "4              4.533                85"
      ]
     },
     "execution_count": 5,
     "metadata": {},
     "output_type": "execute_result"
    }
   ],
   "source": [
    "# drop the initial index\n",
    "geyser = geyser.drop(geyser.columns[0], axis = 1)\n",
    "# rename columns\n",
    "geyser.columns = ['erutpion_duration', 'waiting_duration']\n",
    "geyser.head()"
   ]
  },
  {
   "cell_type": "code",
   "execution_count": 6,
   "metadata": {},
   "outputs": [],
   "source": [
    "# Import matplotlib\n",
    "import matplotlib.pyplot as plt\n",
    "# enable inline plots\n",
    "%matplotlib inline"
   ]
  },
  {
   "cell_type": "code",
   "execution_count": 7,
   "metadata": {
    "scrolled": true
   },
   "outputs": [
    {
     "data": {
      "text/plain": [
       "array([[<AxesSubplot:title={'center':'erutpion_duration'}>,\n",
       "        <AxesSubplot:title={'center':'waiting_duration'}>]], dtype=object)"
      ]
     },
     "execution_count": 7,
     "metadata": {},
     "output_type": "execute_result"
    },
    {
     "data": {
      "image/png": "[encoded data removed]",
      "text/plain": [
       "<Figure size 720x360 with 2 Axes>"
      ]
     },
     "metadata": {
      "needs_background": "light"
     },
     "output_type": "display_data"
    }
   ],
   "source": [
    "# plot the geysey data\n",
    "#plt.hist(geyser, bins=50, figsize=(10,5))\n",
    "geyser.hist(bins=50, figsize=(10,5))"
   ]
  },
  {
   "cell_type": "code",
   "execution_count": 8,
   "metadata": {
    "scrolled": true
   },
   "outputs": [
    {
     "data": {
      "text/plain": [
       "Text(0.5, 1.0, 'Feture space - Geyser Dataset')"
      ]
     },
     "execution_count": 8,
     "metadata": {},
     "output_type": "execute_result"
    },
    {
     "data": {
      "image/png": "[encoded data removed]",
      "text/plain": [
       "<Figure size 432x432 with 1 Axes>"
      ]
     },
     "metadata": {
      "needs_background": "light"
     },
     "output_type": "display_data"
    }
   ],
   "source": [
    "# plot eruption time v wait time as scatter\n",
    "plt.figure(figsize = (6,6))\n",
    "plt.scatter(geyser.iloc[:,0],\n",
    "           geyser.iloc[:,1])\n",
    "# add labels\n",
    "plt.xlabel('Eruption time in minutes')\n",
    "plt.ylabel('Waiting time to next eruption')\n",
    "plt.title('Feture space - Geyser Dataset')"
   ]
  },
  {
   "cell_type": "code",
   "execution_count": 9,
   "metadata": {},
   "outputs": [
    {
     "data": {
      "text/html": [
       "<div>\n",
       "<style scoped>\n",
       "    .dataframe tbody tr th:only-of-type {\n",
       "        vertical-align: middle;\n",
       "    }\n",
       "\n",
       "    .dataframe tbody tr th {\n",
       "        vertical-align: top;\n",
       "    }\n",
       "\n",
       "    .dataframe thead th {\n",
       "        text-align: right;\n",
       "    }\n",
       "</style>\n",
       "<table border=\"1\" class=\"dataframe\">\n",
       "  <thead>\n",
       "    <tr style=\"text-align: right;\">\n",
       "      <th></th>\n",
       "      <th>eruption_duration</th>\n",
       "      <th>waiting_duration</th>\n",
       "    </tr>\n",
       "  </thead>\n",
       "  <tbody>\n",
       "    <tr>\n",
       "      <th>0</th>\n",
       "      <td>0.098499</td>\n",
       "      <td>0.597123</td>\n",
       "    </tr>\n",
       "    <tr>\n",
       "      <th>1</th>\n",
       "      <td>-1.481459</td>\n",
       "      <td>-1.245181</td>\n",
       "    </tr>\n",
       "    <tr>\n",
       "      <th>2</th>\n",
       "      <td>-0.135861</td>\n",
       "      <td>0.228663</td>\n",
       "    </tr>\n",
       "    <tr>\n",
       "      <th>3</th>\n",
       "      <td>-1.057503</td>\n",
       "      <td>-0.655644</td>\n",
       "    </tr>\n",
       "    <tr>\n",
       "      <th>4</th>\n",
       "      <td>0.917443</td>\n",
       "      <td>1.039277</td>\n",
       "    </tr>\n",
       "  </tbody>\n",
       "</table>\n",
       "</div>"
      ],
      "text/plain": [
       "   eruption_duration  waiting_duration\n",
       "0           0.098499          0.597123\n",
       "1          -1.481459         -1.245181\n",
       "2          -0.135861          0.228663\n",
       "3          -1.057503         -0.655644\n",
       "4           0.917443          1.039277"
      ]
     },
     "execution_count": 9,
     "metadata": {},
     "output_type": "execute_result"
    }
   ],
   "source": [
    "# import standard sklearn\n",
    "from sklearn.preprocessing import StandardScaler as ss\n",
    "geyser_scaled = ss().fit_transform(geyser)\n",
    "geyser_scaled = pd.DataFrame(geyser_scaled, columns = ['eruption_duration', 'waiting_duration'])\n",
    "geyser_scaled.head()"
   ]
  },
  {
   "cell_type": "code",
   "execution_count": 10,
   "metadata": {},
   "outputs": [],
   "source": [
    "# import KMeans from sklearn\n",
    "from sklearn.cluster import KMeans"
   ]
  },
  {
   "cell_type": "code",
   "execution_count": 11,
   "metadata": {},
   "outputs": [],
   "source": [
    "# slice the data for pre\n",
    "geyser_initial = geyser.iloc[0:259, :]\n",
    "geyser_scaled_initial = geyser_scaled.iloc[0:259, :]"
   ]
  },
  {
   "cell_type": "code",
   "execution_count": 12,
   "metadata": {},
   "outputs": [],
   "source": [
    "# slice the data for post\n",
    "geyser_later = geyser.iloc[260:273, :]\n",
    "geyser_scaled_later = geyser_scaled.iloc[260:273, :]"
   ]
  },
  {
   "cell_type": "code",
   "execution_count": 13,
   "metadata": {
    "scrolled": true
   },
   "outputs": [
    {
     "name": "stdout",
     "output_type": "stream",
     "text": [
      "Initialization complete\n",
      "Iteration 0, inertia 9908.410865999997\n",
      "Iteration 1, inertia 8400.294580819516\n",
      "Iteration 2, inertia 8376.791060111938\n",
      "Converged at iteration 2: strict convergence.\n",
      "Initialization complete\n",
      "Iteration 0, inertia 13111.227351999989\n",
      "Iteration 1, inertia 8492.530175421593\n",
      "Iteration 2, inertia 8379.492945057826\n",
      "Iteration 3, inertia 8376.791060111938\n",
      "Converged at iteration 3: strict convergence.\n",
      "Initialization complete\n",
      "Iteration 0, inertia 21284.489975999986\n",
      "Iteration 1, inertia 9717.385328895814\n",
      "Iteration 2, inertia 8492.530175421593\n",
      "Iteration 3, inertia 8379.492945057826\n",
      "Iteration 4, inertia 8376.791060111938\n",
      "Converged at iteration 4: strict convergence.\n",
      "Initialization complete\n",
      "Iteration 0, inertia 11285.628797000005\n",
      "Iteration 1, inertia 8716.8579596321\n",
      "Iteration 2, inertia 8379.492945057826\n",
      "Iteration 3, inertia 8376.791060111938\n",
      "Converged at iteration 3: strict convergence.\n",
      "Initialization complete\n",
      "Iteration 0, inertia 24764.912431999994\n",
      "Iteration 1, inertia 8785.0683157701\n",
      "Iteration 2, inertia 8379.436950239362\n",
      "Iteration 3, inertia 8376.791060111938\n",
      "Converged at iteration 3: strict convergence.\n",
      "Initialization complete\n",
      "Iteration 0, inertia 8752.871286000005\n",
      "Iteration 1, inertia 8379.436950239362\n",
      "Iteration 2, inertia 8376.791060111938\n",
      "Converged at iteration 2: strict convergence.\n",
      "Initialization complete\n",
      "Iteration 0, inertia 8566.294918999996\n",
      "Iteration 1, inertia 8376.791060111938\n",
      "Converged at iteration 1: strict convergence.\n",
      "Initialization complete\n",
      "Iteration 0, inertia 21330.43051999998\n",
      "Iteration 1, inertia 9717.385328895814\n",
      "Iteration 2, inertia 8492.530175421593\n",
      "Iteration 3, inertia 8379.492945057826\n",
      "Iteration 4, inertia 8376.791060111938\n",
      "Converged at iteration 4: strict convergence.\n",
      "Initialization complete\n",
      "Iteration 0, inertia 17469.559385000008\n",
      "Iteration 1, inertia 8401.37696808259\n",
      "Iteration 2, inertia 8376.791060111938\n",
      "Converged at iteration 2: strict convergence.\n",
      "Initialization complete\n",
      "Iteration 0, inertia 8859.079599\n",
      "Iteration 1, inertia 8376.791060111938\n",
      "Converged at iteration 1: strict convergence.\n"
     ]
    }
   ],
   "source": [
    "# create a KMeans with 2 clusters | From .fit() this can now train \n",
    "km_1 = KMeans(n_clusters = 2, max_iter = 20, verbose = 1).fit(geyser_initial)"
   ]
  },
  {
   "cell_type": "code",
   "execution_count": 14,
   "metadata": {},
   "outputs": [
    {
     "data": {
      "text/plain": [
       "array([[ 2.09876842, 54.96842105],\n",
       "       [ 4.29060976, 80.27439024]])"
      ]
     },
     "execution_count": 14,
     "metadata": {},
     "output_type": "execute_result"
    }
   ],
   "source": [
    "# look at the 2 dimensional cluster\n",
    "km_1.cluster_centers_ "
   ]
  },
  {
   "cell_type": "code",
   "execution_count": 15,
   "metadata": {},
   "outputs": [
    {
     "data": {
      "text/plain": [
       "array([1, 0, 1, 0, 1, 0, 1, 1, 0, 1, 0, 1, 1, 0, 1, 0, 0, 1, 0, 1, 0, 0,\n",
       "       1, 1, 1, 1, 0, 1, 1, 1, 1, 1, 0, 1, 1, 0, 0, 1, 0, 1, 1, 0, 1, 0,\n",
       "       1, 1, 0, 0, 1, 0, 1, 1, 0, 1, 0, 1, 1, 0, 1, 1, 0, 1, 0, 1, 0, 1,\n",
       "       1, 1, 0, 1, 1, 0, 1, 1, 0, 1, 0, 1, 1, 1, 1, 1, 1, 0, 1, 1, 1, 1,\n",
       "       0, 1, 0, 1, 0, 1, 0, 1, 1, 1, 0, 1, 0, 1, 0, 1, 1, 0, 1, 0, 1, 1,\n",
       "       1, 0, 1, 1, 0, 1, 0, 1, 0, 1, 0, 1, 1, 0, 1, 1, 0, 1, 0, 1, 0, 1,\n",
       "       0, 1, 0, 1, 0, 1, 0, 1, 1, 0, 1, 1, 1, 0, 1, 0, 1, 0, 1, 1, 0, 1,\n",
       "       1, 1, 1, 1, 0, 1, 0, 1, 0, 1, 0, 1, 0, 1, 0, 1, 0, 0, 1, 1, 1, 1,\n",
       "       1, 0, 1, 1, 0, 1, 1, 1, 0, 1, 1, 0, 1, 0, 1, 0, 1, 1, 1, 1, 1, 1,\n",
       "       0, 1, 0, 1, 1, 0, 1, 0, 1, 1, 0, 1, 1, 1, 0, 1, 0, 1, 0, 1, 0, 1,\n",
       "       0, 1, 0, 1, 1, 1, 1, 1, 1, 1, 1, 0, 1, 0, 1, 0, 0, 1, 1, 0, 1, 0,\n",
       "       1, 0, 1, 1, 0, 1, 0, 1, 0, 1, 1, 1, 1, 1, 1, 1, 0])"
      ]
     },
     "execution_count": 15,
     "metadata": {},
     "output_type": "execute_result"
    }
   ],
   "source": [
    "# look at the labels\n",
    "km_1.labels_"
   ]
  },
  {
   "cell_type": "code",
   "execution_count": 16,
   "metadata": {},
   "outputs": [
    {
     "data": {
      "text/plain": [
       "8376.791060111938"
      ]
     },
     "execution_count": 16,
     "metadata": {},
     "output_type": "execute_result"
    }
   ],
   "source": [
    "km_1.inertia_"
   ]
  },
  {
   "cell_type": "code",
   "execution_count": 17,
   "metadata": {
    "scrolled": true
   },
   "outputs": [
    {
     "name": "stdout",
     "output_type": "stream",
     "text": [
      "Initialization complete\n",
      "Iteration 0, inertia 108.48403812994805\n",
      "Iteration 1, inertia 76.52341276829553\n",
      "Iteration 2, inertia 76.23523060583942\n",
      "Iteration 3, inertia 76.20433662586004\n",
      "Converged at iteration 3: strict convergence.\n",
      "Initialization complete\n",
      "Iteration 0, inertia 201.79461594684767\n",
      "Iteration 1, inertia 76.72352573741462\n",
      "Iteration 2, inertia 76.27356816192416\n",
      "Iteration 3, inertia 76.23523060583942\n",
      "Iteration 4, inertia 76.20433662586004\n",
      "Converged at iteration 4: strict convergence.\n",
      "Initialization complete\n",
      "Iteration 0, inertia 317.74878314512785\n",
      "Iteration 1, inertia 91.11965432175734\n",
      "Iteration 2, inertia 76.72352573741462\n",
      "Iteration 3, inertia 76.27356816192416\n",
      "Iteration 4, inertia 76.23523060583942\n",
      "Iteration 5, inertia 76.20433662586004\n",
      "Converged at iteration 5: strict convergence.\n",
      "Initialization complete\n",
      "Iteration 0, inertia 139.0969956189509\n",
      "Iteration 1, inertia 77.23829645889016\n",
      "Iteration 2, inertia 76.27356816192416\n",
      "Iteration 3, inertia 76.23523060583942\n",
      "Iteration 4, inertia 76.20433662586004\n",
      "Converged at iteration 4: strict convergence.\n",
      "Initialization complete\n",
      "Iteration 0, inertia 113.55473020347003\n",
      "Iteration 1, inertia 76.27356816192416\n",
      "Iteration 2, inertia 76.23523060583942\n",
      "Iteration 3, inertia 76.20433662586004\n",
      "Converged at iteration 3: strict convergence.\n",
      "Initialization complete\n",
      "Iteration 0, inertia 88.58754993098808\n",
      "Iteration 1, inertia 76.23523060583942\n",
      "Iteration 2, inertia 76.20433662586004\n",
      "Converged at iteration 2: strict convergence.\n",
      "Initialization complete\n",
      "Iteration 0, inertia 96.33914577622137\n",
      "Iteration 1, inertia 76.23692038493142\n",
      "Iteration 2, inertia 76.20433662586004\n",
      "Converged at iteration 2: strict convergence.\n",
      "Initialization complete\n",
      "Iteration 0, inertia 173.41619676735\n",
      "Iteration 1, inertia 76.23692038493142\n",
      "Iteration 2, inertia 76.20433662586004\n",
      "Converged at iteration 2: strict convergence.\n",
      "Initialization complete\n",
      "Iteration 0, inertia 324.4299443608647\n",
      "Iteration 1, inertia 76.2081976997927\n",
      "Converged at iteration 1: center shift 3.496116280554417e-05 within tolerance 9.883148472035919e-05.\n",
      "Initialization complete\n",
      "Iteration 0, inertia 105.68801611941056\n",
      "Iteration 1, inertia 76.20433662586004\n",
      "Converged at iteration 1: strict convergence.\n"
     ]
    }
   ],
   "source": [
    "# create a cluster with the scaled data\n",
    "km_1_ss = KMeans(n_clusters = 2, max_iter = 20, verbose = 1).fit(geyser_scaled_initial)"
   ]
  },
  {
   "cell_type": "code",
   "execution_count": 18,
   "metadata": {},
   "outputs": [
    {
     "data": {
      "text/plain": [
       "array([[ 0.70328731,  0.67525491],\n",
       "       [-1.25809373, -1.185752  ]])"
      ]
     },
     "execution_count": 18,
     "metadata": {},
     "output_type": "execute_result"
    }
   ],
   "source": [
    "# look at cluster centers\n",
    "km_1_ss.cluster_centers_"
   ]
  },
  {
   "cell_type": "code",
   "execution_count": 19,
   "metadata": {},
   "outputs": [
    {
     "data": {
      "text/plain": [
       "array([0, 1, 0, 1, 0, 1, 0, 0, 1, 0, 1, 0, 0, 1, 0, 1, 1, 0, 1, 0, 1, 1,\n",
       "       0, 0, 0, 0, 1, 0, 0, 0, 0, 0, 0, 0, 0, 1, 1, 0, 1, 0, 0, 1, 0, 1,\n",
       "       0, 0, 0, 1, 0, 1, 0, 0, 1, 0, 1, 0, 0, 1, 0, 0, 1, 0, 1, 0, 1, 0,\n",
       "       0, 0, 1, 0, 0, 1, 0, 0, 1, 0, 1, 0, 0, 0, 0, 0, 0, 1, 0, 0, 0, 0,\n",
       "       1, 0, 1, 0, 1, 0, 1, 0, 0, 0, 1, 0, 1, 0, 1, 0, 0, 1, 0, 1, 0, 0,\n",
       "       0, 1, 0, 0, 1, 0, 1, 0, 1, 0, 1, 0, 0, 1, 0, 0, 1, 0, 1, 0, 1, 0,\n",
       "       1, 0, 1, 0, 1, 0, 1, 0, 0, 1, 0, 0, 0, 1, 0, 1, 0, 1, 0, 0, 1, 0,\n",
       "       0, 0, 0, 0, 1, 0, 1, 0, 1, 0, 0, 0, 1, 0, 1, 0, 1, 1, 0, 0, 0, 0,\n",
       "       0, 1, 0, 0, 1, 0, 0, 0, 1, 0, 0, 1, 0, 1, 0, 1, 0, 0, 0, 0, 0, 0,\n",
       "       1, 0, 1, 0, 0, 1, 0, 1, 0, 0, 1, 0, 1, 0, 1, 0, 1, 0, 1, 0, 1, 0,\n",
       "       1, 0, 1, 0, 0, 0, 0, 0, 0, 0, 0, 1, 0, 1, 0, 1, 1, 0, 0, 1, 0, 1,\n",
       "       0, 1, 0, 0, 1, 0, 1, 0, 1, 0, 0, 0, 0, 0, 0, 0, 1])"
      ]
     },
     "execution_count": 19,
     "metadata": {},
     "output_type": "execute_result"
    }
   ],
   "source": [
    "# look at the labels\n",
    "km_1_ss.labels_ # distribution "
   ]
  },
  {
   "cell_type": "code",
   "execution_count": 20,
   "metadata": {},
   "outputs": [
    {
     "data": {
      "text/plain": [
       "Text(0.5, 1.0, 'Clusters in geyser Dataset')"
      ]
     },
     "execution_count": 20,
     "metadata": {},
     "output_type": "execute_result"
    },
    {
     "data": {
      "image/png": "[encoded data removed]",
      "text/plain": [
       "<Figure size 432x432 with 1 Axes>"
      ]
     },
     "metadata": {
      "needs_background": "light"
     },
     "output_type": "display_data"
    }
   ],
   "source": [
    "# plot the clusters\n",
    "# set fig size\n",
    "fig, ax = plt.subplots(figsize = (6,6))\n",
    "# first cluster\n",
    "plt.scatter(x = geyser_initial.iloc[geyser_initial.index[km_1.labels_ == 0].tolist(), [0]],\n",
    "           y = geyser_initial.iloc[geyser_initial.index[km_1.labels_ == 0].tolist(), [1]],\n",
    "           c = 'green',\n",
    "           label = 'cluster 1')\n",
    "\n",
    "# second cluster\n",
    "plt.scatter(x = geyser_initial.iloc[geyser_initial.index[km_1.labels_ == 1].tolist(), [0]],\n",
    "           y = geyser_initial.iloc[geyser_initial.index[km_1.labels_ == 1].tolist(), [1]],\n",
    "           c = 'blue',\n",
    "           label = 'cluster 2')\n",
    "\n",
    "# highlight the centroids\n",
    "plt.scatter(x = km_1.cluster_centers_[:,[0]],\n",
    "           y = km_1.cluster_centers_[:,[1]],\n",
    "           marker = '*', s = 300, label = 'centroid', c = 'r')\n",
    "\n",
    "plt.legend()\n",
    "plt.xlabel('Eruption time in mins')\n",
    "plt.ylabel('Waiting time in mins to next eruption')\n",
    "plt.title('Clusters in geyser Dataset', fontweight = 'bold')"
   ]
  },
  {
   "cell_type": "code",
   "execution_count": 21,
   "metadata": {},
   "outputs": [
    {
     "data": {
      "text/plain": [
       "Text(0.5, 1.0, 'Clusters in geyser Dataset scaled')"
      ]
     },
     "execution_count": 21,
     "metadata": {},
     "output_type": "execute_result"
    },
    {
     "data": {
      "image/png": "[encoded data removed]",
      "text/plain": [
       "<Figure size 432x432 with 1 Axes>"
      ]
     },
     "metadata": {
      "needs_background": "light"
     },
     "output_type": "display_data"
    }
   ],
   "source": [
    "# Now plot this for the standard dataset\n",
    "\n",
    "# plot the clusters\n",
    "# set fig size\n",
    "fig, ax = plt.subplots(figsize = (6,6))\n",
    "# first cluster\n",
    "plt.scatter(x = geyser_scaled_initial.iloc[geyser_scaled_initial.index[km_1_ss.labels_ == 0].tolist(), [0]],\n",
    "           y = geyser_scaled_initial.iloc[geyser_scaled_initial.index[km_1_ss.labels_ == 0].tolist(), [1]],\n",
    "           c = 'green',\n",
    "           label = 'cluster 1')\n",
    "\n",
    "# second cluster\n",
    "plt.scatter(x = geyser_scaled_initial.iloc[geyser_initial.index[km_1_ss.labels_ == 1].tolist(), [0]],\n",
    "           y = geyser_scaled_initial.iloc[geyser_initial.index[km_1_ss.labels_ == 1].tolist(), [1]],\n",
    "           c = 'blue',\n",
    "           label = 'cluster 2')\n",
    "\n",
    "# highlight the centroids\n",
    "plt.scatter(x = km_1_ss.cluster_centers_[:,[0]],\n",
    "           y = km_1_ss.cluster_centers_[:,[1]],\n",
    "           marker = '*', s = 300, label = 'centroid', c = 'r')\n",
    "\n",
    "plt.legend()\n",
    "plt.xlabel('Eruption time in mins')\n",
    "plt.ylabel('Waiting time in mins to next eruption')\n",
    "plt.title('Clusters in geyser Dataset scaled', fontweight = 'bold')"
   ]
  },
  {
   "cell_type": "code",
   "execution_count": 22,
   "metadata": {},
   "outputs": [
    {
     "name": "stdout",
     "output_type": "stream",
     "text": [
      "Initialization complete\n",
      "Iteration 0, inertia 5140.158483000005\n",
      "Iteration 1, inertia 4858.974367222176\n",
      "Iteration 2, inertia 4816.339490367572\n",
      "Iteration 3, inertia 4806.435807684\n",
      "Converged at iteration 3: strict convergence.\n",
      "Initialization complete\n",
      "Iteration 0, inertia 12101.486639000006\n",
      "Iteration 1, inertia 5226.553876062043\n",
      "Iteration 2, inertia 5056.732904773686\n",
      "Iteration 3, inertia 4919.779046078304\n",
      "Iteration 4, inertia 4842.531304396426\n",
      "Converged at iteration 4: strict convergence.\n",
      "Initialization complete\n",
      "Iteration 0, inertia 6271.476922000003\n",
      "Iteration 1, inertia 4989.63011475268\n",
      "Iteration 2, inertia 4919.779046078304\n",
      "Iteration 3, inertia 4842.531304396426\n",
      "Converged at iteration 3: strict convergence.\n",
      "Initialization complete\n",
      "Iteration 0, inertia 6296.585809000001\n",
      "Iteration 1, inertia 5552.493211710526\n",
      "Iteration 2, inertia 5237.350440487244\n",
      "Iteration 3, inertia 5056.732904773686\n",
      "Iteration 4, inertia 4919.779046078304\n",
      "Iteration 5, inertia 4842.531304396426\n",
      "Converged at iteration 5: strict convergence.\n",
      "Initialization complete\n",
      "Iteration 0, inertia 10803.597451000003\n",
      "Iteration 1, inertia 5742.720138323121\n",
      "Iteration 2, inertia 5485.2590513591285\n",
      "Iteration 3, inertia 5462.26532840046\n",
      "Converged at iteration 3: strict convergence.\n",
      "Initialization complete\n",
      "Iteration 0, inertia 8232.602475999998\n",
      "Iteration 1, inertia 5235.073229910195\n",
      "Iteration 2, inertia 5022.536281606915\n",
      "Iteration 3, inertia 4919.779046078304\n",
      "Iteration 4, inertia 4842.531304396426\n",
      "Converged at iteration 4: strict convergence.\n",
      "Initialization complete\n",
      "Iteration 0, inertia 5930.444223999998\n",
      "Iteration 1, inertia 4951.782539761017\n",
      "Iteration 2, inertia 4907.186235765013\n",
      "Iteration 3, inertia 4842.531304396426\n",
      "Converged at iteration 3: strict convergence.\n",
      "Initialization complete\n",
      "Iteration 0, inertia 5552.3736229999995\n",
      "Iteration 1, inertia 5162.041586317693\n",
      "Iteration 2, inertia 5056.732904773686\n",
      "Iteration 3, inertia 4919.779046078304\n",
      "Iteration 4, inertia 4842.531304396426\n",
      "Converged at iteration 4: strict convergence.\n",
      "Initialization complete\n",
      "Iteration 0, inertia 5331.760694999997\n",
      "Iteration 1, inertia 4948.179368739341\n",
      "Iteration 2, inertia 4860.196878518291\n",
      "Converged at iteration 2: strict convergence.\n",
      "Initialization complete\n",
      "Iteration 0, inertia 5478.31147\n",
      "Iteration 1, inertia 4903.297778985644\n",
      "Iteration 2, inertia 4842.531304396426\n",
      "Converged at iteration 2: strict convergence.\n",
      "Initialization complete\n",
      "Iteration 0, inertia 78.36881604097269\n",
      "Iteration 1, inertia 56.59073654148279\n",
      "Iteration 2, inertia 54.21420644812316\n",
      "Iteration 3, inertia 53.870098851604155\n",
      "Iteration 4, inertia 53.75550343646249\n",
      "Iteration 5, inertia 53.688880956434325\n",
      "Iteration 6, inertia 53.425627562448256\n",
      "Iteration 7, inertia 53.18362924161188\n",
      "Iteration 8, inertia 53.1374099505034\n",
      "Converged at iteration 8: strict convergence.\n",
      "Initialization complete\n",
      "Iteration 0, inertia 79.61092588371585\n",
      "Iteration 1, inertia 55.92795419790765\n",
      "Iteration 2, inertia 54.73857371003903\n",
      "Iteration 3, inertia 54.03250283168426\n",
      "Iteration 4, inertia 53.75114820132374\n",
      "Iteration 5, inertia 53.65665372880582\n",
      "Iteration 6, inertia 53.48875756571823\n",
      "Iteration 7, inertia 53.30150181966742\n",
      "Iteration 8, inertia 53.14782432732193\n",
      "Iteration 9, inertia 53.1374099505034\n",
      "Converged at iteration 9: strict convergence.\n",
      "Initialization complete\n",
      "Iteration 0, inertia 105.75086740682985\n",
      "Iteration 1, inertia 59.50252759297867\n",
      "Iteration 2, inertia 57.39145496033288\n",
      "Iteration 3, inertia 57.00902827963016\n",
      "Iteration 4, inertia 56.753220457629865\n",
      "Iteration 5, inertia 56.22984227902793\n",
      "Iteration 6, inertia 55.37640417776337\n",
      "Iteration 7, inertia 54.69623152322145\n",
      "Iteration 8, inertia 53.81871489429689\n",
      "Iteration 9, inertia 53.30404057566518\n",
      "Iteration 10, inertia 53.132669454401466\n",
      "Iteration 11, inertia 53.110482909159614\n",
      "Iteration 12, inertia 53.100679637732206\n",
      "Converged at iteration 12: strict convergence.\n",
      "Initialization complete\n",
      "Iteration 0, inertia 105.57891711142474\n",
      "Iteration 1, inertia 62.617429920831945\n",
      "Iteration 2, inertia 62.37392704548474\n",
      "Iteration 3, inertia 61.991632660301654\n",
      "Iteration 4, inertia 61.93909275898008\n",
      "Iteration 5, inertia 61.92589173896567\n",
      "Converged at iteration 5: strict convergence.\n",
      "Initialization complete\n",
      "Iteration 0, inertia 85.34628886601995\n",
      "Iteration 1, inertia 59.62689919334093\n",
      "Iteration 2, inertia 57.39145496033288\n",
      "Iteration 3, inertia 57.00902827963016\n",
      "Iteration 4, inertia 56.753220457629865\n",
      "Iteration 5, inertia 56.22984227902793\n",
      "Iteration 6, inertia 55.37640417776337\n",
      "Iteration 7, inertia 54.69623152322145\n",
      "Iteration 8, inertia 53.81871489429689\n",
      "Iteration 9, inertia 53.30404057566518\n",
      "Iteration 10, inertia 53.132669454401466\n",
      "Iteration 11, inertia 53.110482909159614\n",
      "Iteration 12, inertia 53.100679637732206\n",
      "Converged at iteration 12: strict convergence.\n",
      "Initialization complete\n",
      "Iteration 0, inertia 83.15661589770751\n",
      "Iteration 1, inertia 66.35715657838094\n",
      "Iteration 2, inertia 60.56776794912887\n",
      "Iteration 3, inertia 55.66982057159851\n",
      "Iteration 4, inertia 53.416319883592514\n",
      "Iteration 5, inertia 53.167817257434656\n",
      "Iteration 6, inertia 53.100529978410236\n",
      "Iteration 7, inertia 53.07857146191007\n",
      "Converged at iteration 7: center shift 8.994865620530303e-05 within tolerance 9.883148472035919e-05.\n",
      "Initialization complete\n",
      "Iteration 0, inertia 58.694855187246446\n",
      "Iteration 1, inertia 55.05733523774086\n",
      "Iteration 2, inertia 54.15706555515353\n",
      "Iteration 3, inertia 53.564664302882605\n",
      "Iteration 4, inertia 53.16424318412575\n",
      "Iteration 5, inertia 53.110482909159614\n",
      "Iteration 6, inertia 53.100679637732206\n",
      "Converged at iteration 6: strict convergence.\n",
      "Initialization complete\n",
      "Iteration 0, inertia 73.94720926556172\n",
      "Iteration 1, inertia 59.75004846764449\n",
      "Iteration 2, inertia 55.60945968939523\n",
      "Iteration 3, inertia 53.50996109137392\n",
      "Iteration 4, inertia 53.18726055054498\n",
      "Iteration 5, inertia 53.12984305824983\n",
      "Iteration 6, inertia 53.100529978410236\n",
      "Iteration 7, inertia 53.07857146191007\n",
      "Converged at iteration 7: center shift 8.994865620530303e-05 within tolerance 9.883148472035919e-05.\n",
      "Initialization complete\n",
      "Iteration 0, inertia 70.71044712208021\n",
      "Iteration 1, inertia 53.962161398205716\n",
      "Iteration 2, inertia 53.30404057566518\n",
      "Iteration 3, inertia 53.132669454401466\n",
      "Iteration 4, inertia 53.110482909159614\n",
      "Iteration 5, inertia 53.100679637732206\n",
      "Converged at iteration 5: strict convergence.\n",
      "Initialization complete\n",
      "Iteration 0, inertia 68.93830729835803\n",
      "Iteration 1, inertia 65.055646137896\n",
      "Iteration 2, inertia 63.42565442169243\n",
      "Iteration 3, inertia 62.52915528584934\n",
      "Iteration 4, inertia 62.07660982521926\n",
      "Iteration 5, inertia 61.93909275898008\n",
      "Iteration 6, inertia 61.92589173896567\n",
      "Converged at iteration 6: strict convergence.\n"
     ]
    }
   ],
   "source": [
    "# make same with k=3\n",
    "# create a KMeans with 3 clusters | From .fit() this can now train \n",
    "km_2 = KMeans(n_clusters = 3, max_iter = 20, verbose = 1).fit(geyser_initial)\n",
    "# create a KMeans with 3 clusters, but scaled\n",
    "km_2_ss = KMeans(n_clusters = 3, max_iter = 20, verbose = 1).fit(geyser_scaled_initial)"
   ]
  },
  {
   "cell_type": "code",
   "execution_count": 23,
   "metadata": {},
   "outputs": [
    {
     "name": "stdout",
     "output_type": "stream",
     "text": [
      "Initialization complete\n",
      "Iteration 0, inertia 3503.0945520000005\n",
      "Iteration 1, inertia 3002.2014725014833\n",
      "Iteration 2, inertia 2920.693556726144\n",
      "Converged at iteration 2: strict convergence.\n",
      "Initialization complete\n",
      "Iteration 0, inertia 3625.81785\n",
      "Iteration 1, inertia 3124.4997070315217\n",
      "Iteration 2, inertia 3038.6442093977407\n",
      "Converged at iteration 2: strict convergence.\n",
      "Initialization complete\n",
      "Iteration 0, inertia 4160.845258999999\n",
      "Iteration 1, inertia 2919.4276302482535\n",
      "Iteration 2, inertia 2842.6391031731337\n",
      "Iteration 3, inertia 2771.039842086994\n",
      "Iteration 4, inertia 2756.555774599708\n",
      "Iteration 5, inertia 2750.801211125707\n",
      "Iteration 6, inertia 2748.685878458903\n",
      "Converged at iteration 6: strict convergence.\n",
      "Initialization complete\n",
      "Iteration 0, inertia 4663.314492\n",
      "Iteration 1, inertia 3220.7635083666255\n",
      "Iteration 2, inertia 2968.625298917233\n",
      "Iteration 3, inertia 2861.7934225630793\n",
      "Iteration 4, inertia 2811.811452922999\n",
      "Converged at iteration 4: strict convergence.\n",
      "Initialization complete\n",
      "Iteration 0, inertia 4240.230177999996\n",
      "Iteration 1, inertia 2779.018149113682\n",
      "Iteration 2, inertia 2761.0496591430297\n",
      "Converged at iteration 2: strict convergence.\n",
      "Initialization complete\n",
      "Iteration 0, inertia 4625.230450999999\n",
      "Iteration 1, inertia 3248.5541834553032\n",
      "Iteration 2, inertia 2993.6283292931785\n",
      "Iteration 3, inertia 2842.382811288404\n",
      "Iteration 4, inertia 2793.1703415965308\n",
      "Iteration 5, inertia 2791.0772829947596\n",
      "Converged at iteration 5: center shift 0.006245250731972277 within tolerance 0.009109693045696981.\n",
      "Initialization complete\n",
      "Iteration 0, inertia 3965.552928999999\n",
      "Iteration 1, inertia 3871.303496085834\n",
      "Iteration 2, inertia 3842.8681428616637\n",
      "Converged at iteration 2: strict convergence.\n",
      "Initialization complete\n",
      "Iteration 0, inertia 4956.529824000003\n",
      "Iteration 1, inertia 3454.633316114869\n",
      "Iteration 2, inertia 3367.7296979180023\n",
      "Iteration 3, inertia 3273.661537217367\n",
      "Converged at iteration 3: strict convergence.\n",
      "Initialization complete\n",
      "Iteration 0, inertia 3009.2364289999964\n",
      "Iteration 1, inertia 2823.7202510459783\n",
      "Iteration 2, inertia 2761.0496591430297\n",
      "Converged at iteration 2: strict convergence.\n",
      "Initialization complete\n",
      "Iteration 0, inertia 3591.441889999997\n",
      "Iteration 1, inertia 3035.1957042703752\n",
      "Iteration 2, inertia 3001.8071416658345\n",
      "Converged at iteration 2: strict convergence.\n",
      "Initialization complete\n",
      "Iteration 0, inertia 52.28711038093925\n",
      "Iteration 1, inertia 44.935639344721565\n",
      "Iteration 2, inertia 44.53555692983788\n",
      "Iteration 3, inertia 44.46823165088106\n",
      "Iteration 4, inertia 44.30222617407567\n",
      "Iteration 5, inertia 44.244387533935644\n",
      "Iteration 6, inertia 44.2386156421645\n",
      "Converged at iteration 6: strict convergence.\n",
      "Initialization complete\n",
      "Iteration 0, inertia 52.40977620723003\n",
      "Iteration 1, inertia 43.62804476400416\n",
      "Iteration 2, inertia 42.839718506840875\n",
      "Iteration 3, inertia 42.60549869979387\n",
      "Iteration 4, inertia 42.44849289336318\n",
      "Iteration 5, inertia 42.16378697135097\n",
      "Iteration 6, inertia 41.91210221292569\n",
      "Iteration 7, inertia 41.85849610694434\n",
      "Converged at iteration 7: strict convergence.\n",
      "Initialization complete\n",
      "Iteration 0, inertia 59.61209009894588\n",
      "Iteration 1, inertia 48.870353624368974\n",
      "Iteration 2, inertia 44.44447150678299\n",
      "Iteration 3, inertia 43.00970217217717\n",
      "Iteration 4, inertia 42.59583322955754\n",
      "Iteration 5, inertia 42.50452921773343\n",
      "Iteration 6, inertia 42.47118963485391\n",
      "Iteration 7, inertia 42.42672323618305\n",
      "Iteration 8, inertia 42.39328284321766\n",
      "Iteration 9, inertia 42.13186575059965\n",
      "Iteration 10, inertia 41.964491800799856\n",
      "Iteration 11, inertia 41.868910483762846\n",
      "Iteration 12, inertia 41.85849610694434\n",
      "Converged at iteration 12: strict convergence.\n",
      "Initialization complete\n",
      "Iteration 0, inertia 63.75045331679986\n",
      "Iteration 1, inertia 47.228651509573005\n",
      "Iteration 2, inertia 44.17540686125693\n",
      "Iteration 3, inertia 43.544769546151684\n",
      "Iteration 4, inertia 43.10986159946004\n",
      "Iteration 5, inertia 42.93684560174106\n",
      "Iteration 6, inertia 42.91573766586697\n",
      "Iteration 7, inertia 42.896905610986984\n",
      "Converged at iteration 7: center shift 3.7891481817599145e-05 within tolerance 9.883148472035919e-05.\n",
      "Initialization complete\n",
      "Iteration 0, inertia 59.352826851504716\n",
      "Iteration 1, inertia 46.08480224434614\n",
      "Iteration 2, inertia 43.969569376814775\n",
      "Iteration 3, inertia 43.178338781091256\n",
      "Iteration 4, inertia 43.03116650696932\n",
      "Iteration 5, inertia 42.74274915767764\n",
      "Iteration 6, inertia 42.55122508142211\n",
      "Iteration 7, inertia 42.25094146677067\n",
      "Iteration 8, inertia 41.99147883268512\n",
      "Iteration 9, inertia 41.83039640249337\n",
      "Iteration 10, inertia 41.79874974782899\n",
      "Converged at iteration 10: strict convergence.\n",
      "Initialization complete\n",
      "Iteration 0, inertia 44.36105084083171\n",
      "Iteration 1, inertia 42.43355940355767\n",
      "Iteration 2, inertia 42.10268935936301\n",
      "Iteration 3, inertia 41.92385483380756\n",
      "Iteration 4, inertia 41.90592958481971\n",
      "Iteration 5, inertia 41.86477019635613\n",
      "Converged at iteration 5: strict convergence.\n",
      "Initialization complete\n",
      "Iteration 0, inertia 52.32936266040463\n",
      "Iteration 1, inertia 45.957111639670494\n",
      "Iteration 2, inertia 44.44120790409891\n",
      "Iteration 3, inertia 43.84667622361201\n",
      "Iteration 4, inertia 43.20131663975817\n",
      "Iteration 5, inertia 42.669187658059656\n",
      "Iteration 6, inertia 42.552795432219305\n",
      "Iteration 7, inertia 42.41848052782751\n",
      "Iteration 8, inertia 42.38562572748238\n",
      "Iteration 9, inertia 42.37365289690018\n",
      "Iteration 10, inertia 42.35868819617358\n",
      "Converged at iteration 10: center shift 5.9272822344432754e-05 within tolerance 9.883148472035919e-05.\n",
      "Initialization complete\n",
      "Iteration 0, inertia 60.40182612607991\n",
      "Iteration 1, inertia 48.311092909549565\n",
      "Iteration 2, inertia 43.314343334394295\n",
      "Iteration 3, inertia 42.57054187113283\n",
      "Iteration 4, inertia 42.04902545036207\n",
      "Iteration 5, inertia 41.838955880473435\n",
      "Iteration 6, inertia 41.82176579417316\n",
      "Converged at iteration 6: strict convergence.\n",
      "Initialization complete\n",
      "Iteration 0, inertia 53.94662926113598\n",
      "Iteration 1, inertia 45.086100920631885\n",
      "Iteration 2, inertia 43.26238155620324\n",
      "Iteration 3, inertia 42.3662088815012\n",
      "Iteration 4, inertia 41.90240259302848\n",
      "Iteration 5, inertia 41.838955880473435\n",
      "Iteration 6, inertia 41.82176579417316\n",
      "Converged at iteration 6: strict convergence.\n",
      "Initialization complete\n",
      "Iteration 0, inertia 58.96812047944356\n",
      "Iteration 1, inertia 48.52714300092421\n",
      "Iteration 2, inertia 46.46679562173671\n",
      "Iteration 3, inertia 45.32788051110369\n",
      "Iteration 4, inertia 44.8686000104417\n",
      "Iteration 5, inertia 44.679485757742206\n",
      "Iteration 6, inertia 44.53468222955486\n",
      "Iteration 7, inertia 44.50857853198066\n",
      "Converged at iteration 7: center shift 7.205252862600817e-05 within tolerance 9.883148472035919e-05.\n"
     ]
    }
   ],
   "source": [
    "# make same with k=4\n",
    "# create a KMeans with 3 clusters | From .fit() this can now train \n",
    "km_3 = KMeans(n_clusters = 4, max_iter = 20, verbose = 1).fit(geyser_initial)\n",
    "# create a KMeans with 3 clusters, but scaled\n",
    "km_3_ss = KMeans(n_clusters = 4, max_iter = 20, verbose = 1).fit(geyser_scaled_initial)"
   ]
  },
  {
   "cell_type": "code",
   "execution_count": 24,
   "metadata": {},
   "outputs": [
    {
     "name": "stdout",
     "output_type": "stream",
     "text": [
      "Initialization complete\n",
      "Iteration 0, inertia 4759.805161999998\n",
      "Iteration 1, inertia 3346.144829686803\n",
      "Iteration 2, inertia 3127.608592178467\n",
      "Iteration 3, inertia 2946.1481212046633\n",
      "Iteration 4, inertia 2830.8997672259447\n",
      "Iteration 5, inertia 2793.1703415965308\n",
      "Iteration 6, inertia 2791.0772829947596\n",
      "Converged at iteration 6: center shift 0.006245250731972277 within tolerance 0.009109693045696981.\n",
      "Initialization complete\n",
      "Iteration 0, inertia 4015.269062999998\n",
      "Iteration 1, inertia 3841.837988683616\n",
      "Iteration 2, inertia 3716.302143266739\n",
      "Iteration 3, inertia 3675.4939041630014\n",
      "Iteration 4, inertia 3558.327349028127\n",
      "Iteration 5, inertia 3472.5268392526864\n",
      "Iteration 6, inertia 3397.4534505110587\n",
      "Iteration 7, inertia 3321.269299287871\n",
      "Iteration 8, inertia 3273.661537217367\n",
      "Converged at iteration 8: strict convergence.\n",
      "Initialization complete\n",
      "Iteration 0, inertia 3147.713957999998\n",
      "Iteration 1, inertia 2914.206047425052\n",
      "Iteration 2, inertia 2842.6391031731337\n",
      "Iteration 3, inertia 2771.039842086994\n",
      "Iteration 4, inertia 2756.555774599708\n",
      "Iteration 5, inertia 2750.801211125707\n",
      "Iteration 6, inertia 2748.685878458903\n",
      "Converged at iteration 6: strict convergence.\n",
      "Initialization complete\n",
      "Iteration 0, inertia 3915.3176480000006\n",
      "Iteration 1, inertia 3121.8561638825786\n",
      "Iteration 2, inertia 3038.6442093977407\n",
      "Converged at iteration 2: strict convergence.\n",
      "Initialization complete\n",
      "Iteration 0, inertia 3514.179491999997\n",
      "Iteration 1, inertia 2977.841283755748\n",
      "Iteration 2, inertia 2842.6391031731337\n",
      "Iteration 3, inertia 2771.039842086994\n",
      "Iteration 4, inertia 2756.555774599708\n",
      "Iteration 5, inertia 2750.801211125707\n",
      "Iteration 6, inertia 2748.685878458903\n",
      "Converged at iteration 6: strict convergence.\n",
      "Initialization complete\n",
      "Iteration 0, inertia 3007.456190999997\n",
      "Iteration 1, inertia 2849.3123587452815\n",
      "Iteration 2, inertia 2811.811452922999\n",
      "Converged at iteration 2: strict convergence.\n",
      "Initialization complete\n",
      "Iteration 0, inertia 4602.786340999999\n",
      "Iteration 1, inertia 3645.9503289641266\n",
      "Iteration 2, inertia 3128.549142590519\n",
      "Iteration 3, inertia 2891.756692185774\n",
      "Iteration 4, inertia 2793.1703415965308\n",
      "Iteration 5, inertia 2791.0772829947596\n",
      "Converged at iteration 5: center shift 0.006245250731972277 within tolerance 0.009109693045696981.\n",
      "Initialization complete\n",
      "Iteration 0, inertia 3101.118234999999\n",
      "Iteration 1, inertia 2842.6283672089776\n",
      "Iteration 2, inertia 2766.3470802467677\n",
      "Iteration 3, inertia 2761.0496591430297\n",
      "Converged at iteration 3: strict convergence.\n",
      "Initialization complete\n",
      "Iteration 0, inertia 4519.060681999998\n",
      "Iteration 1, inertia 3410.8880776843953\n",
      "Iteration 2, inertia 3321.269299287871\n",
      "Iteration 3, inertia 3273.661537217367\n",
      "Converged at iteration 3: strict convergence.\n",
      "Initialization complete\n",
      "Iteration 0, inertia 3667.644210999998\n",
      "Iteration 1, inertia 3125.62803373253\n",
      "Iteration 2, inertia 3038.6442093977407\n",
      "Converged at iteration 2: strict convergence.\n",
      "Initialization complete\n",
      "Iteration 0, inertia 57.053793627553375\n",
      "Iteration 1, inertia 47.08066039226175\n",
      "Iteration 2, inertia 42.95647881806325\n",
      "Iteration 3, inertia 41.92129052141886\n",
      "Iteration 4, inertia 41.83414824042676\n",
      "Iteration 5, inertia 41.8248746725782\n",
      "Converged at iteration 5: strict convergence.\n",
      "Initialization complete\n",
      "Iteration 0, inertia 56.34414029235189\n",
      "Iteration 1, inertia 47.32244122288081\n",
      "Iteration 2, inertia 46.63016689777273\n",
      "Iteration 3, inertia 46.30914283732542\n",
      "Iteration 4, inertia 46.0792823415933\n",
      "Iteration 5, inertia 46.05592818154977\n",
      "Converged at iteration 5: center shift 8.292023076273856e-05 within tolerance 9.883148472035919e-05.\n",
      "Initialization complete\n",
      "Iteration 0, inertia 59.054108330103524\n",
      "Iteration 1, inertia 44.754226145186024\n",
      "Iteration 2, inertia 44.520133921558084\n",
      "Iteration 3, inertia 44.49922445515794\n",
      "Iteration 4, inertia 44.48415120892729\n",
      "Converged at iteration 4: strict convergence.\n",
      "Initialization complete\n",
      "Iteration 0, inertia 66.58833700525332\n",
      "Iteration 1, inertia 41.96819633879834\n",
      "Iteration 2, inertia 41.84369242068415\n",
      "Iteration 3, inertia 41.81673087081278\n",
      "Iteration 4, inertia 41.7998624732901\n",
      "Iteration 5, inertia 41.7924756584172\n",
      "Converged at iteration 5: strict convergence.\n",
      "Initialization complete\n",
      "Iteration 0, inertia 56.41259458480218\n",
      "Iteration 1, inertia 48.60727329732162\n",
      "Iteration 2, inertia 44.47976305622308\n",
      "Iteration 3, inertia 42.829225711902104\n",
      "Iteration 4, inertia 42.53089278571863\n",
      "Iteration 5, inertia 42.45670875621077\n",
      "Iteration 6, inertia 42.42220815086219\n",
      "Iteration 7, inertia 42.377741752191326\n",
      "Iteration 8, inertia 42.34430135922596\n",
      "Iteration 9, inertia 42.082884266607934\n",
      "Iteration 10, inertia 41.95367621420088\n",
      "Iteration 11, inertia 41.92548770873585\n",
      "Iteration 12, inertia 41.90592958481971\n",
      "Iteration 13, inertia 41.86477019635613\n",
      "Converged at iteration 13: strict convergence.\n",
      "Initialization complete\n",
      "Iteration 0, inertia 74.13619634375442\n",
      "Iteration 1, inertia 44.95269991460949\n",
      "Iteration 2, inertia 44.29191209433985\n",
      "Iteration 3, inertia 44.21008000554708\n",
      "Iteration 4, inertia 44.18424177324887\n",
      "Converged at iteration 4: strict convergence.\n",
      "Initialization complete\n",
      "Iteration 0, inertia 62.67717569821729\n",
      "Iteration 1, inertia 47.34518487380552\n",
      "Iteration 2, inertia 43.41828150535981\n",
      "Iteration 3, inertia 42.65099579679479\n",
      "Iteration 4, inertia 42.49366284536521\n",
      "Iteration 5, inertia 42.41735392774816\n",
      "Iteration 6, inertia 42.14671371888919\n",
      "Iteration 7, inertia 41.904715398052794\n",
      "Iteration 8, inertia 41.85849610694434\n",
      "Converged at iteration 8: strict convergence.\n",
      "Initialization complete\n",
      "Iteration 0, inertia 54.42235338424215\n",
      "Iteration 1, inertia 46.054099646317376\n",
      "Iteration 2, inertia 45.51159025174508\n",
      "Iteration 3, inertia 45.086765703815324\n",
      "Iteration 4, inertia 44.778356744654566\n",
      "Iteration 5, inertia 44.48123447373871\n",
      "Iteration 6, inertia 44.356820524654275\n",
      "Iteration 7, inertia 44.239696109075865\n",
      "Iteration 8, inertia 44.21243685685187\n",
      "Iteration 9, inertia 44.20623141962943\n",
      "Converged at iteration 9: strict convergence.\n",
      "Initialization complete\n",
      "Iteration 0, inertia 58.81369047387059\n",
      "Iteration 1, inertia 47.49876451831082\n",
      "Iteration 2, inertia 44.15486058139742\n",
      "Iteration 3, inertia 42.68340689879679\n",
      "Iteration 4, inertia 42.137465133358816\n",
      "Iteration 5, inertia 41.9664578239718\n",
      "Iteration 6, inertia 41.8203713712516\n",
      "Iteration 7, inertia 41.79874974782899\n",
      "Converged at iteration 7: strict convergence.\n",
      "Initialization complete\n",
      "Iteration 0, inertia 70.43852192885443\n",
      "Iteration 1, inertia 51.77058060893224\n",
      "Iteration 2, inertia 47.20698882063701\n",
      "Iteration 3, inertia 46.48539370387502\n",
      "Iteration 4, inertia 46.07493226078105\n",
      "Iteration 5, inertia 45.96037489541795\n",
      "Iteration 6, inertia 45.91165970884885\n",
      "Iteration 7, inertia 45.87595404679716\n",
      "Converged at iteration 7: strict convergence.\n"
     ]
    }
   ],
   "source": [
    "# make same with k=5\n",
    "# create a KMeans with 3 clusters | From .fit() this can now train \n",
    "km_4 = KMeans(n_clusters = 4, max_iter = 20, verbose = 1).fit(geyser_initial)\n",
    "# create a KMeans with 3 clusters, but scaled\n",
    "km_4_ss = KMeans(n_clusters = 4, max_iter = 20, verbose = 1).fit(geyser_scaled_initial)"
   ]
  },
  {
   "cell_type": "code",
   "execution_count": 25,
   "metadata": {},
   "outputs": [],
   "source": [
    "# create a list of inirtias of all clusters\n",
    "inertias = [km_1_ss.inertia_, km_2_ss.inertia_, km_3_ss.inertia_, km_4_ss.inertia_]\n",
    "clusters = [2,3,4,5]"
   ]
  },
  {
   "cell_type": "code",
   "execution_count": 26,
   "metadata": {},
   "outputs": [
    {
     "data": {
      "image/png": "[encoded data removed]",
      "text/plain": [
       "<Figure size 432x288 with 1 Axes>"
      ]
     },
     "metadata": {
      "needs_background": "light"
     },
     "output_type": "display_data"
    }
   ],
   "source": [
    "# plot the clusters v inertias\n",
    "plt.plot(clusters, inertias,\n",
    "        marker='o')\n",
    "plt.xlabel('Number of Clusters')\n",
    "plt.ylabel('Inertia')\n",
    "plt.show()"
   ]
  },
  {
   "cell_type": "code",
   "execution_count": 27,
   "metadata": {},
   "outputs": [
    {
     "data": {
      "text/plain": [
       "Text(0.5, 1.0, 'Clusters in geyser Dataset scaled')"
      ]
     },
     "execution_count": 27,
     "metadata": {},
     "output_type": "execute_result"
    },
    {
     "data": {
      "image/png": "[encoded data removed]",
      "text/plain": [
       "<Figure size 432x432 with 1 Axes>"
      ]
     },
     "metadata": {
      "needs_background": "light"
     },
     "output_type": "display_data"
    }
   ],
   "source": [
    "# Now plot this for the standard dataset\n",
    "\n",
    "# plot the clusters\n",
    "# set fig size\n",
    "fig, ax = plt.subplots(figsize = (6,6))\n",
    "# first cluster\n",
    "plt.scatter(x = geyser_scaled_initial.iloc[geyser_scaled_initial.index[km_1_ss.labels_ == 0].tolist(), [0]],\n",
    "           y = geyser_scaled_initial.iloc[geyser_scaled_initial.index[km_1_ss.labels_ == 0].tolist(), [1]],\n",
    "           c = 'green',\n",
    "           label = 'cluster 1')\n",
    "\n",
    "# second cluster\n",
    "plt.scatter(x = geyser_scaled_initial.iloc[geyser_initial.index[km_2_ss.labels_ == 1].tolist(), [0]],\n",
    "           y = geyser_scaled_initial.iloc[geyser_initial.index[km_2_ss.labels_ == 1].tolist(), [1]],\n",
    "           c = 'blue',\n",
    "           label = 'cluster 2')\n",
    "\n",
    "# third cluster\n",
    "plt.scatter(x = geyser_scaled_initial.iloc[geyser_scaled_initial.index[km_3_ss.labels_ == 0].tolist(), [0]],\n",
    "           y = geyser_scaled_initial.iloc[geyser_scaled_initial.index[km_3_ss.labels_ == 0].tolist(), [1]],\n",
    "           c = 'red',\n",
    "           label = 'cluster 3')\n",
    "\n",
    "# fourth cluster\n",
    "plt.scatter(x = geyser_scaled_initial.iloc[geyser_initial.index[km_4_ss.labels_ == 1].tolist(), [0]],\n",
    "           y = geyser_scaled_initial.iloc[geyser_initial.index[km_4_ss.labels_ == 1].tolist(), [1]],\n",
    "           c = 'black',\n",
    "           label = 'cluster 4')\n",
    "# highlight the centroids\n",
    "plt.scatter(x = km_1_ss.cluster_centers_[:,[0]],\n",
    "           y = km_1_ss.cluster_centers_[:,[1]],\n",
    "           marker = '*', s = 300, label = 'centroid', c = 'gold')\n",
    "\n",
    "plt.legend()\n",
    "plt.xlabel('Eruption time in mins')\n",
    "plt.ylabel('Waiting time in mins to next eruption')\n",
    "plt.title('Clusters in geyser Dataset scaled', fontweight = 'bold')"
   ]
  },
  {
   "cell_type": "code",
   "execution_count": 28,
   "metadata": {},
   "outputs": [],
   "source": [
    "from matplotlib import cm\n",
    "from sklearn.metrics import silhouette_samples, silhouette_score\n",
    "import numpy as np"
   ]
  },
  {
   "cell_type": "code",
   "execution_count": 29,
   "metadata": {
    "scrolled": true
   },
   "outputs": [
    {
     "data": {
      "text/plain": [
       "array([ 0.37646427,  0.81828654,  0.44830146,  0.61947171,  0.56414232,\n",
       "        0.5225464 ,  0.54792125,  0.02194472,  0.81662274,  0.50330386,\n",
       "        0.82136003,  0.12425949,  0.22056058,  0.76318746,  0.55105653,\n",
       "        0.80115174,  0.68061863,  0.55200394,  0.78794479,  0.02208882,\n",
       "        0.81113237,  0.76318746,  0.39615537,  0.29297049,  0.19266684,\n",
       "        0.15022271,  0.8186915 ,  0.44996734,  0.41923049,  0.20692772,\n",
       "        0.40618465, -0.00671657,  0.35871371,  0.15592371,  0.53239677,\n",
       "        0.81942025,  0.78286595,  0.43263641,  0.75978379,  0.5133258 ,\n",
       "        0.23481369,  0.78078367,  0.56420757,  0.77123731,  0.23817794,\n",
       "        0.19432631,  0.41208431,  0.81352474,  0.52404024,  0.75890087,\n",
       "        0.08391952,  0.51673021,  0.82136003,  0.43263641,  0.80979146,\n",
       "        0.52067287,  0.51984906,  0.61842454,  0.10343727,  0.30713518,\n",
       "        0.72195447,  0.5516564 ,  0.77638464,  0.51455591,  0.736316  ,\n",
       "        0.4509364 ,  0.25426277,  0.28766752,  0.5552814 ,  0.10292206,\n",
       "        0.06992473,  0.8099941 ,  0.26939518,  0.51551294,  0.67674644,\n",
       "        0.21892313,  0.73310805,  0.21551613,  0.49892504,  0.15022271,\n",
       "        0.46132994,  0.4005692 ,  0.4827436 ,  0.31805592,  0.5093002 ,\n",
       "        0.52064595,  0.49090103,  0.37514953,  0.76277747,  0.29168029,\n",
       "        0.70476865,  0.46958491,  0.80729067,  0.31439928,  0.65175613,\n",
       "        0.41419541,  0.56789122,  0.51596736,  0.81584046,  0.49466512,\n",
       "        0.5418585 ,  0.50470829,  0.78515732,  0.53398082,  0.00968625,\n",
       "        0.76812372,  0.56584302,  0.81494464,  0.54848533,  0.25933586,\n",
       "        0.04140711,  0.70345536,  0.51503203,  0.18934139,  0.74777726,\n",
       "        0.48079672,  0.7575734 ,  0.57184742,  0.75888307,  0.52808193,\n",
       "        0.66821005,  0.47462084,  0.26801285,  0.8099941 ,  0.54674474,\n",
       "        0.23412017,  0.73410361,  0.49752677,  0.77467283,  0.51670778,\n",
       "        0.73478916,  0.30679664,  0.5493941 ,  0.48317362,  0.75181665,\n",
       "        0.43780479,  0.81643695,  0.53171762,  0.8206504 ,  0.37594313,\n",
       "        0.21259636,  0.69684321,  0.50789495,  0.24362433,  0.26223117,\n",
       "        0.75991671,  0.42112204,  0.79291246,  0.39311533,  0.81946884,\n",
       "        0.26819977,  0.43690284,  0.4502504 ,  0.475099  ,  0.50169785,\n",
       "        0.50350106,  0.44122247,  0.3534682 ,  0.81946884,  0.31800693,\n",
       "        0.71081866,  0.39971537,  0.77900212,  0.42150971,  0.43515585,\n",
       "       -0.02644238,  0.55275445,  0.50698422,  0.82264961,  0.4570531 ,\n",
       "        0.7968634 ,  0.78791832,  0.11874043,  0.43339905,  0.1265723 ,\n",
       "        0.32290318,  0.26501128,  0.73138798,  0.2564097 ,  0.46523536,\n",
       "        0.81825468,  0.11874043,  0.38426652,  0.0686762 ,  0.81226219,\n",
       "        0.07576154,  0.28357029,  0.75181665,  0.50082262,  0.79344259,\n",
       "        0.48021222,  0.7937924 ,  0.16172063,  0.299259  ,  0.4477103 ,\n",
       "        0.21259636,  0.01313202,  0.13208061,  0.78017245,  0.27480954,\n",
       "        0.72336418,  0.41425155,  0.39018553,  0.82410362,  0.23894348,\n",
       "        0.74992745,  0.1307685 ,  0.06195255,  0.79668642,  0.53398082,\n",
       "        0.13743129,  0.43231153,  0.79609187,  0.52162488,  0.28070766,\n",
       "        0.35569667,  0.74622338,  0.44046987,  0.81717117,  0.41496785,\n",
       "        0.80729067,  0.34018588,  0.81221844,  0.17721992,  0.37348671,\n",
       "        0.19149503,  0.32426966,  0.14042581,  0.51193054,  0.30520785,\n",
       "        0.48722943,  0.73750328,  0.42084294,  0.77872826,  0.49646233,\n",
       "        0.82376926,  0.82243878,  0.23281055,  0.31778298,  0.52384812,\n",
       "        0.45296029,  0.71537412,  0.53171762,  0.22481922,  0.57072584,\n",
       "        0.11155985,  0.78791832,  0.42688417,  0.45293268,  0.34930727,\n",
       "        0.79549387,  0.51649711,  0.5044546 ,  0.26501128,  0.41328064,\n",
       "        0.29304708,  0.52427948,  0.51649711,  0.80848012])"
      ]
     },
     "execution_count": 29,
     "metadata": {},
     "output_type": "execute_result"
    }
   ],
   "source": [
    "# create a new model for \n",
    "km_2_ss_sl = KMeans(n_clusters = 3, n_init = 10, max_iter = 20, random_state = 0)\n",
    "pred_km_2_ss_sl = km_2_ss_sl.fit_predict(geyser_scaled_initial)\n",
    "# can find the avg score using silhouette_score\n",
    "silhouette_vals = silhouette_samples(geyser_scaled_initial, pred_km_2_ss_sl, metric = 'euclidean')\n",
    "silhouette_vals"
   ]
  },
  {
   "cell_type": "code",
   "execution_count": 30,
   "metadata": {},
   "outputs": [
    {
     "data": {
      "text/plain": [
       "0.4912037950280445"
      ]
     },
     "execution_count": 30,
     "metadata": {},
     "output_type": "execute_result"
    }
   ],
   "source": [
    "silhouette_scores = silhouette_score(geyser_scaled_initial, pred_km_2_ss_sl, metric = 'euclidean')\n",
    "silhouette_scores\n",
    "\n",
    "# do the same for 3,4,5 clusters"
   ]
  },
  {
   "cell_type": "code",
   "execution_count": 31,
   "metadata": {},
   "outputs": [],
   "source": [
    "# find the silhouette plot code from BB later"
   ]
  },
  {
   "cell_type": "code",
   "execution_count": 32,
   "metadata": {},
   "outputs": [],
   "source": [
    "# !pip install mglearn"
   ]
  },
  {
   "cell_type": "code",
   "execution_count": 33,
   "metadata": {},
   "outputs": [],
   "source": [
    "from sklearn.datasets import make_moons\n",
    "import mglearn"
   ]
  },
  {
   "cell_type": "code",
   "execution_count": 34,
   "metadata": {},
   "outputs": [],
   "source": [
    "# using make_moons create 2 moons\n",
    "x, y = make_moons(n_samples = 200, noise = 0.05, random_state = 0)"
   ]
  },
  {
   "cell_type": "code",
   "execution_count": 35,
   "metadata": {},
   "outputs": [
    {
     "data": {
      "text/plain": [
       "Text(0, 0.5, 'Feature 1')"
      ]
     },
     "execution_count": 35,
     "metadata": {},
     "output_type": "execute_result"
    },
    {
     "data": {
      "image/png": "[encoded data removed]",
      "text/plain": [
       "<Figure size 432x288 with 1 Axes>"
      ]
     },
     "metadata": {
      "needs_background": "light"
     },
     "output_type": "display_data"
    }
   ],
   "source": [
    "# Find the clusters of the moons\n",
    "km_c = KMeans(n_clusters = 2)\n",
    "km_c.fit(x)\n",
    "y_pred = km_c.predict(x)\n",
    "\n",
    "plt.scatter(x[:,0], x[:,1], c = y_pred,\n",
    "           cmap = mglearn.cm2,\n",
    "           s=60,\n",
    "           edgecolor = 'k')\n",
    "\n",
    "plt.scatter(km_c.cluster_centers_[:,0],\n",
    "           km_c.cluster_centers_[:,1],\n",
    "           marker = '^',\n",
    "           c = [mglearn.cm2(0), mglearn.cm2(1)], s = 100, linewidth = 2,\n",
    "           edgecolor = 'k')\n",
    "\n",
    "plt.xlabel('Feature 0')\n",
    "plt.ylabel('Feature 1')"
   ]
  },
  {
   "cell_type": "code",
   "execution_count": 36,
   "metadata": {},
   "outputs": [],
   "source": [
    "from sklearn.cluster import DBSCAN"
   ]
  },
  {
   "cell_type": "code",
   "execution_count": 37,
   "metadata": {},
   "outputs": [],
   "source": [
    "dbscan = DBSCAN()\n",
    "scaler = ss()\n",
    "scaler.fit(x)\n",
    "x_scaled = scaler.transform(x)\n",
    "\n",
    "DBS_cluster = dbscan.fit_predict(x_scaled)"
   ]
  },
  {
   "cell_type": "code",
   "execution_count": 38,
   "metadata": {},
   "outputs": [
    {
     "data": {
      "text/plain": [
       "Text(0, 0.5, 'Feature 1')"
      ]
     },
     "execution_count": 38,
     "metadata": {},
     "output_type": "execute_result"
    },
    {
     "data": {
      "image/png": "[encoded data removed]",
      "text/plain": [
       "<Figure size 432x288 with 1 Axes>"
      ]
     },
     "metadata": {
      "needs_background": "light"
     },
     "output_type": "display_data"
    }
   ],
   "source": []
  },
  {
   "cell_type": "code",
   "execution_count": null,
   "metadata": {},
   "outputs": [],
   "source": []
  },
  {
   "cell_type": "code",
   "execution_count": null,
   "metadata": {},
   "outputs": [],
   "source": []
  }
 ],
 "metadata": {
  "kernelspec": {
   "display_name": "Python 3",
   "language": "python",
   "name": "python3"
  },
  "language_info": {
   "codemirror_mode": {
    "name": "ipython",
    "version": 3
   },
   "file_extension": ".py",
   "mimetype": "text/x-python",
   "name": "python",
   "nbconvert_exporter": "python",
   "pygments_lexer": "ipython3",
   "version": "3.8.5"
  }
 },
 "nbformat": 4,
 "nbformat_minor": 4
}
