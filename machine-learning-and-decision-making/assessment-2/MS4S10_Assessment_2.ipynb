{
 "cells": [
  {
   "cell_type": "markdown",
   "metadata": {
    "id": "iclhxZ6vImZP"
   },
   "source": [
    "# MS4S10-Assessment 2\n",
    "## Mark Baber - 17076749\n",
    "\n",
    "This report will go over a few algorithms which are great for machine learning, these algorithms are as follows:\n",
    "\n",
    "1. Gradient Descent\n",
    "2. Logistic Regression (as a neural network)\n",
    "3. MNIST"
   ]
  },
  {
   "cell_type": "markdown",
   "metadata": {
    "id": "KtIbW0uKIqLn"
   },
   "source": [
    "### Task 1 - Gradient Descent (15%)\n",
    "\n",
    "Apply the gradient descent algorithm to find the minimum of the following function of four variables.\n",
    "\\begin{equation}\n",
    "f(x,y,z,w) = \\frac{1}{4} (2-x)^2 + (3y-5)^4 + e^{2z^{4}+w^2}\n",
    "\\end{equation}\n",
    "\n",
    "Comment on the Results."
   ]
  },
  {
   "cell_type": "code",
   "execution_count": 1,
   "metadata": {
    "id": "sD8eWLYTMjwF"
   },
   "outputs": [],
   "source": [
    "# here are all of the modules used/tested for this cw.\n",
    "# import modules\n",
    "import kerastuner\n",
    "import math\n",
    "import matplotlib.pyplot as plt\n",
    "import numpy as np\n",
    "import tensorflow as tf\n",
    "# import from xyz\n",
    "from cycler import cycler\n",
    "from keras import * \n",
    "from keras import models\n",
    "from keras.datasets import mnist, reuters\n",
    "from keras.utils import to_categorical\n",
    "from sklearn import preprocessing\n",
    "from sklearn.datasets import make_blobs\n",
    "from sklearn.metrics import confusion_matrix\n",
    "from tensorflow import keras\n",
    "# set matplotlib inline\n",
    "%matplotlib inline"
   ]
  },
  {
   "cell_type": "code",
   "execution_count": 2,
   "metadata": {},
   "outputs": [
    {
     "name": "stdout",
     "output_type": "stream",
     "text": [
      "kerastuner version: 1.0.2\n",
      "numpy version: 1.20.1\n",
      "tensorflow version: 2.4.1\n"
     ]
    }
   ],
   "source": [
    "# check versions\n",
    "print('kerastuner version:', kerastuner.__version__)\n",
    "print('numpy version:', np.__version__)\n",
    "print('tensorflow version:', tf.__version__)"
   ]
  },
  {
   "cell_type": "code",
   "execution_count": 3,
   "metadata": {
    "colab": {
     "base_uri": "https://localhost:8080/"
    },
    "id": "GLmIGljxafCR",
    "outputId": "f21eb3d9-4440-4878-8558-d1b4c1543560",
    "scrolled": true,
    "tags": [
     "outputPrepend"
    ]
   },
   "outputs": [
    {
     "name": "stdout",
     "output_type": "stream",
     "text": [
      "555\n"
     ]
    },
    {
     "name": "stderr",
     "output_type": "stream",
     "text": [
      "<ipython-input-3-2b106e3b3ee6>:25: RuntimeWarning: overflow encountered in exp\n",
      "  return np.exp(2*z**4+w**2)\n"
     ]
    }
   ],
   "source": [
    "myState = 17076749\n",
    "\n",
    "# condition when stop\n",
    "tolerance = 0.01\n",
    "\n",
    "# size of the step\n",
    "step_size = 0.01\n",
    "\n",
    "# starting point \n",
    "# x,y,z,w = 7, 5, 6, 3\n",
    "x,y,z,w = 34, 43,7, 4\n",
    "\n",
    "\n",
    "# definition of the function\n",
    "def fun(x,y,z,w):\n",
    "    return 1/4*(2-x)**2 + (3*y-5)**4 + np.exp(2*z**4+w**2)\n",
    "# first partial derivative\n",
    "def der1(x):\n",
    "    return 2*1/4*(2-x)*-1\n",
    "# second partial derivative\n",
    "def der2(y):\n",
    "    return 3*(3*y-5)-1\n",
    "# third partial derivative\n",
    "def der3(z, w):\n",
    "    return np.exp(2*z**4+w**2)\n",
    "\n",
    "# function to carry out the step\n",
    "def step(z, grad, step_size):\n",
    "    return (z - step_size * grad)\n",
    "\n",
    "# counter for number of steps\n",
    "i = 0\n",
    "# loop through the functions\n",
    "while True:\n",
    "    # start at 0 + 1 each loop\n",
    "    i += 1\n",
    "    \n",
    "    grad_x = der1(x)\n",
    "    grad_y = der2(y)\n",
    "    grad_z = der3(z, w)\n",
    "    \n",
    "    next_x = step(x, grad_x, step_size)\n",
    "    next_y = step(y, grad_y, step_size)\n",
    "    next_z = step(z, grad_z, step_size)\n",
    "    #next_w = step(w, grad_w, step_size)\n",
    "    \n",
    "    if (np.sqrt(\n",
    "        (x - next_x)**2 + \n",
    "        (y - next_y)**2)  < tolerance):\n",
    "        break # breaks out of the while true loop\n",
    "                #(z - next_z)**2 + \n",
    "                #(w - next_w)**2)\n",
    "    # update xyz, to next(xyz)\n",
    "    x, y, z = next_x, next_y, next_z #, next_w\n",
    "print(i)"
   ]
  },
  {
   "cell_type": "markdown",
   "metadata": {
    "id": "FJiANRQ-S05n"
   },
   "source": [
    "Gradient Descent is an optimization algorithm which is widely used to optimize a neural network (S.Ruder 2016). Above is an example of using a Gradient descent algorithm to find the minimum of the given function.\n",
    "<br>\n",
    "When running the above code with these variables:\n",
    "- x = 7\n",
    "- y = 5\n",
    "- z = 6\n",
    "- w = 3\n",
    "\n",
    "It took 184 iterations to find the minimum of the function with the last 2 values being as follows:\n",
    "- 4.0080323264890785 1.777777890936723 -inf 3 inf\n",
    "- 3.9979921648566332 1.7777778807524178 -inf 3 inf\n",
    "\n",
    "Which shows a tiny difference between the two, this could also be due to the step size being small also with a value of 0.01. Whilst this could become more accurate, it is important to find an accurate and well performed algorithm for the task.\n",
    "\n",
    "If the values were to change for a few of these variables;\n",
    "- x = 34\n",
    "- y = 43\n",
    "- z = 7\n",
    "- w = 4\n",
    "\n",
    "Here we can see it took only 555 iterations of i to get the minimum of the function, with a bigger step size and tolerance. This has improved performance but has lowered the accuracy.\n",
    "\n",
    "<br> Whilst this algorithm looks to be working, there could have been a few errors made on my part, specifically the break point around the tolerance for the next z & w. As the value of w relies on the value of z, these two can't really be split into multiple step (next_z/w). "
   ]
  },
  {
   "cell_type": "markdown",
   "metadata": {
    "id": "Bi9hf-nIadZu"
   },
   "source": [
    "### Task 2 – Logistic Regression as a Neural Network with another activation function (45%)\n",
    "\n",
    "Write a report on how to consider Logistic Regression as a Neural Network with one single neuronusing as the activation function.\n",
    "\n",
    "\\begin{align}\n",
    "tanh z = \\frac{{e^z-e^{-z}}}{{e^z+e^{-z}}}\n",
    "\\end{align}\n",
    "\n",
    "<br>\n",
    "Observe that the range of the hyperbolic tangent is the interval (−1 : 1). You will need to rescale the activation function and/or the cross-entropy loss functions required. Focus in particular on:\n",
    "\n",
    "1. The calculation of the derivative of the activation function and how to express the derivative using the hyperbolic tangent itself.\n",
    "\n",
    "2. Discuss the behaviour of the cross-entropy loss function. Use matplotlib to draw appropriate graphs and comment on the results.\n",
    "\n",
    "3. And Evaluate \n",
    "\\begin{align}\n",
    "\\frac {\\delta L^{i}}{\\delta wk} \\text{ and} \\frac {\\delta L^{i}}{\\delta b }\n",
    "\\end{align}\n"
   ]
  },
  {
   "cell_type": "markdown",
   "metadata": {
    "id": "xunNunpEFoeS"
   },
   "source": [
    "#### 2.0 - Initial setup\n",
    "To start with creating a logistic regression as a neural network, lets begin by importing the modules which would be required along with some Gaussian blobs for clustering."
   ]
  },
  {
   "cell_type": "code",
   "execution_count": null,
   "metadata": {
    "id": "QY8wwLPfFljB"
   },
   "outputs": [],
   "source": []
  },
  {
   "cell_type": "markdown",
   "metadata": {
    "id": "wYAalE8BL3b6"
   },
   "source": [
    "The next step would be to set up the dataset as a test train split, this could either be done with a module from scikit learn, or it can also be done manually like so."
   ]
  },
  {
   "cell_type": "code",
   "execution_count": 4,
   "metadata": {
    "colab": {
     "base_uri": "https://localhost:8080/",
     "height": 295
    },
    "id": "4o6YG4J9MDVW",
    "outputId": "9e65c936-c338-43d5-ff2c-c1582bc08921"
   },
   "outputs": [
    {
     "data": {
      "image/png": "[encoded data removed]",
      "text/plain": [
       "<Figure size 432x288 with 1 Axes>"
      ]
     },
     "metadata": {
      "needs_background": "light"
     },
     "output_type": "display_data"
    }
   ],
   "source": [
    "# create x/y train with make blobs\n",
    "X_train,y_train = make_blobs(n_samples=1000,centers=[(1,7),(2,0)],random_state=myState)\n",
    "# explore the dataset\n",
    "plt.scatter(X_train[:, 0], X_train[:, 1], marker='o', c=y_train, edgecolor='k')\n",
    "plt.xlabel('x0')\n",
    "plt.ylabel('x1')\n",
    "plt.title('Two classes to separate')\n",
    "plt.axis('equal');"
   ]
  },
  {
   "cell_type": "markdown",
   "metadata": {
    "id": "3GnLrKS1McMx"
   },
   "source": [
    "Now that the initial setup is complete, the next step would be to create the 3 requied functions for logistic regression. These 3 functions and why they are used are as follows:\n",
    "\n",
    "- Logistic is used to provide a logistic function.\n",
    "- Output will use logistic function, along with weights, bias and inputs to calculate the neuron output.\n",
    "- Error will calculate the error on a single training example.\n",
    "\n"
   ]
  },
  {
   "cell_type": "code",
   "execution_count": 5,
   "metadata": {
    "colab": {
     "base_uri": "https://localhost:8080/",
     "height": 295
    },
    "id": "h4IfHJA6TlVK",
    "outputId": "b4ba501e-081f-4971-b7b0-5da5b1694e70"
   },
   "outputs": [
    {
     "data": {
      "image/png": "[encoded data removed]",
      "text/plain": [
       "<Figure size 432x288 with 1 Axes>"
      ]
     },
     "metadata": {
      "needs_background": "light"
     },
     "output_type": "display_data"
    }
   ],
   "source": [
    "# logistic function\n",
    "def logistic(z):\n",
    "    \"\"\"Calculate logistic function applied to z\"\"\"\n",
    "    return 1/(1 + np.exp(-z))\n",
    "\n",
    "x = np.linspace(-10,10,endpoint=True)\n",
    "f = logistic(x)\n",
    "plt.plot(x,f)\n",
    "plt.title('Logistic function')\n",
    "plt.xlabel('z')\n",
    "plt.ylabel('f(z)');"
   ]
  },
  {
   "cell_type": "code",
   "execution_count": 6,
   "metadata": {
    "colab": {
     "base_uri": "https://localhost:8080/"
    },
    "id": "TUll9yAcTnsZ",
    "outputId": "4fa1845e-86e7-45a7-e550-a45397eef1f6"
   },
   "outputs": [
    {
     "name": "stdout",
     "output_type": "stream",
     "text": [
      "Expected answer logistic(0.9) = 0.7109495026250039\n",
      "Actual   answer output(w,b,x) = 0.7109495026250039\n"
     ]
    }
   ],
   "source": [
    "# output function\n",
    "def output(w,b,x):\n",
    "    \"\"\"Calculate the output of a single logistic neuron with parameters w and b, and input x\n",
    "       Note: w and x need to have the same number of columns\"\"\"\n",
    "    return logistic(np.matmul(w,x.transpose()) + b)\n",
    "\n",
    "w = np.array([1,2])\n",
    "x = np.array([-0.3,0.5])\n",
    "b = 0.2\n",
    "print('Expected answer logistic(0.9) =', logistic(0.9))\n",
    "print('Actual   answer output(w,b,x) =', output(w,b,x))"
   ]
  },
  {
   "cell_type": "markdown",
   "metadata": {
    "id": "8ibIlGrNV6xU"
   },
   "source": [
    "By calculating the output with 3 different weights and 3 different inputs (x), above we can see a difference between calculating the expected logistic answer and the actual answer. This could then be used later when calculating the Gradient Descent for the Logistic Regression."
   ]
  },
  {
   "cell_type": "code",
   "execution_count": 7,
   "metadata": {
    "id": "SzfUVrLATo3L"
   },
   "outputs": [],
   "source": [
    "# error function\n",
    "def error(yhati, yi):\n",
    "    \"\"\"Calculate the error on a single example\n",
    "       Note: yhati and yi need to be both scalars or both vectors of the same length\"\"\"\n",
    "    return -yi*np.log(yhati) - (1-yi)*np.log(1-yhati)"
   ]
  },
  {
   "cell_type": "markdown",
   "metadata": {
    "id": "pWa0_CzaWWFm"
   },
   "source": [
    "#### 2.1 - Gradient Descent for Logistic Regression\n",
    "This section will go over a Gradient Descent algorithm for logistic regression, which will look to find the minimum of the logistic regression function.\n"
   ]
  },
  {
   "cell_type": "code",
   "execution_count": 8,
   "metadata": {
    "colab": {
     "base_uri": "https://localhost:8080/",
     "height": 332
    },
    "id": "MNDUMc8LWVgt",
    "outputId": "d6a0bda1-031c-4de7-ad65-dc89016d8e36"
   },
   "outputs": [
    {
     "name": "stdout",
     "output_type": "stream",
     "text": [
      "weight =  [ 1.66021548 -1.53615714] \n",
      " bias =  2.229697683808323\n"
     ]
    },
    {
     "data": {
      "image/png": "[encoded data removed]",
      "text/plain": [
       "<Figure size 432x288 with 1 Axes>"
      ]
     },
     "metadata": {
      "needs_background": "light"
     },
     "output_type": "display_data"
    }
   ],
   "source": [
    "# Gradient Descent \n",
    "m, k = X_train.shape\n",
    "w = np.zeros((k))\n",
    "b = 0.0 # this can only be set to 0 for 1 neuron\n",
    "stepsize = 0.1 # 0.1 will be more accurate - but slow\n",
    "num_epochs = 1000\n",
    "errorlog = np.zeros((num_epochs))\n",
    "\n",
    "for i in range(num_epochs):\n",
    "    E = dz = db = 0 \n",
    "    dw = np.zeros(w.shape) \n",
    "    for xi, yi in zip(X_train,y_train):\n",
    "        yhati = output(w,b,xi)\n",
    "        E  += error(yhati,yi)\n",
    "        dw += (yhati - yi) * xi\n",
    "        db += (yhati - yi)\n",
    "    errorlog[i] = E/m\n",
    "    dw /= m\n",
    "    db /= m\n",
    "    w -= stepsize * dw\n",
    "    b -= stepsize * db\n",
    "print('weight = ',w,'\\n bias = ', b)\n",
    "plt.plot(errorlog)\n",
    "plt.title('Error behaviour during training')\n",
    "plt.xlabel('Epoch')\n",
    "plt.ylabel('Error');\n",
    "        \n",
    "        "
   ]
  },
  {
   "cell_type": "markdown",
   "metadata": {
    "id": "_-anWva5YO5T"
   },
   "source": [
    "This is mainly all we need to set up our GD for LR, the next step would be to look at a confusion matrix to calculate how well the classifier actually performs. \n",
    "<br> <br>\n",
    "This can be done by looking at the performance on a training set and a test set, with the predictions being greater or equal to 0.5 (>= 0.5) this will be classified as 1 and if less than 0.5 (<0.5) classified as 0."
   ]
  },
  {
   "cell_type": "code",
   "execution_count": 9,
   "metadata": {
    "colab": {
     "base_uri": "https://localhost:8080/"
    },
    "id": "ZOIGqxbvZQDJ",
    "outputId": "bdc9b921-52ea-4911-94a1-b4fa62e8916c"
   },
   "outputs": [
    {
     "data": {
      "text/plain": [
       "array([[499,   1],\n",
       "       [  7, 493]], dtype=int64)"
      ]
     },
     "execution_count": 9,
     "metadata": {},
     "output_type": "execute_result"
    }
   ],
   "source": [
    "# set y hat train and pred\n",
    "y_hat_train  = output(w,b,X_train) \n",
    "y_train_pred = (y_hat_train >= 0.5).astype(int)\n",
    "# confusion matrix\n",
    "confusion_matrix(y_train, y_train_pred)"
   ]
  },
  {
   "cell_type": "markdown",
   "metadata": {
    "id": "yxTL0uvQZtmO"
   },
   "source": [
    "From looking at the confusion matrix, this looks like there were 499 True Positive (TP), 1 False Positive (FP), 7 False Negatives (FN) and 293 True Negatives (TN). \n",
    "\n",
    "TP | FP <br>\n",
    "FN | TN <br>\n",
    "\n",
    "This would show that this model is well optimized as it is, it would be interesting to see how different this algorithm would be if we were able to normalise the data from (-1 : +1) to (0 : 1)."
   ]
  },
  {
   "cell_type": "code",
   "execution_count": 10,
   "metadata": {
    "colab": {
     "base_uri": "https://localhost:8080/"
    },
    "id": "l0ADCPR6dsEE",
    "outputId": "46b127d2-fdd2-4a86-8a98-a28b0c873fdd"
   },
   "outputs": [
    {
     "data": {
      "text/plain": [
       "array([[0.499, 0.001],\n",
       "       [0.007, 0.493]])"
      ]
     },
     "execution_count": 10,
     "metadata": {},
     "output_type": "execute_result"
    }
   ],
   "source": [
    "confusion_matrix(y_train, y_train_pred, normalize='all')\n",
    "## TODO - PLOT CONFUSION MATRIX"
   ]
  },
  {
   "cell_type": "markdown",
   "metadata": {},
   "source": [
    "*Next* would be to introduce the tanh/tan of the dataset this can easily be done by looking at the module math within python."
   ]
  },
  {
   "cell_type": "code",
   "execution_count": 11,
   "metadata": {},
   "outputs": [
    {
     "name": "stdout",
     "output_type": "stream",
     "text": [
      "Return the tangent of x radians: 1.5574077246549023\n",
      "Return the hyperbolic tangent of x: 0.7615941559557649\n"
     ]
    }
   ],
   "source": [
    "print('Return the tangent of x radians:', math.tan(1))\n",
    "print('Return the hyperbolic tangent of x:', math.tanh(1))"
   ]
  },
  {
   "cell_type": "markdown",
   "metadata": {
    "id": "hUCTiVrsozU5"
   },
   "source": [
    "### Task 3 – MNIST (30%)\n",
    "Consider the example of the MNIST digits datasets we discussed in class. Try at least 4 different Neural Networks architectures (by changing the number of neurons and the number of layers) and compare their performances using:\n",
    "\n",
    "- At least two activation functions (sigmoid, relu, ...);\n",
    "- At least four different step sizes;\n",
    "- At least three batch sizes;\n",
    "- At least three optimisation algorithms (remember to use at least three different values for the momentum when using gradient descent);\n",
    "- At least two parameter initialisations.\n",
    "<br><br>\n",
    "Draw appropriate graphs and comment on them to support your conclusions.\n"
   ]
  },
  {
   "cell_type": "markdown",
   "metadata": {
    "id": "g3vGXLqqX3P4"
   },
   "source": [
    "#### 3.0 - Initial setup"
   ]
  },
  {
   "cell_type": "code",
   "execution_count": 12,
   "metadata": {
    "colab": {
     "base_uri": "https://localhost:8080/"
    },
    "id": "J8ia56dtYNbh",
    "outputId": "7f804c8a-210c-4761-e0d6-0b5fb4efb809"
   },
   "outputs": [],
   "source": [
    "# Import the dataset\n",
    "mnist = tf.keras.datasets.mnist\n",
    "# load dataset on xy\n",
    "(x_train, y_train), (x_test, y_test) = mnist.load_data()\n",
    "# reshape the data\n",
    "x_train, x_test = x_train / 255.0, x_test / 255.0"
   ]
  },
  {
   "cell_type": "code",
   "execution_count": 13,
   "metadata": {
    "id": "N9HppKFfxqOH"
   },
   "outputs": [],
   "source": [
    "def show_image(image, label):\n",
    "    \"\"\"Displays a MNIST digit and its label\"\"\"\n",
    "    plt.title('Item {count} is a {lbl}'.format(count=i, lbl=label))\n",
    "    plt.imshow(image, cmap='binary')\n",
    "    plt.axis('off')\n",
    "    plt.show()"
   ]
  },
  {
   "cell_type": "code",
   "execution_count": 14,
   "metadata": {
    "colab": {
     "base_uri": "https://localhost:8080/",
     "height": 529
    },
    "id": "BiITxLFb1D-S",
    "outputId": "67ee1650-6a15-4f15-8266-9523518b636a"
   },
   "outputs": [
    {
     "name": "stdout",
     "output_type": "stream",
     "text": [
      "Examples of the images in the training data set are:\n"
     ]
    },
    {
     "data": {
      "image/png": "[encoded data removed]",
      "text/plain": [
       "<Figure size 432x288 with 1 Axes>"
      ]
     },
     "metadata": {
      "needs_background": "light"
     },
     "output_type": "display_data"
    },
    {
     "data": {
      "image/png": "[encoded data removed]",
      "text/plain": [
       "<Figure size 432x288 with 1 Axes>"
      ]
     },
     "metadata": {
      "needs_background": "light"
     },
     "output_type": "display_data"
    }
   ],
   "source": [
    "print('Examples of the images in the training data set are:')\n",
    "for i in range(2):\n",
    "    show_image(image=x_train[i],label = y_train[i])\n"
   ]
  },
  {
   "cell_type": "markdown",
   "metadata": {
    "id": "TYHFhDX5ascK"
   },
   "source": [
    "Now that the data has been seen and explored (looked at how the data was stored as an array of hex values of a 28x28 pixel grid), the next step would be to import the data with the test train split and then reshaping the input data to get it ready for the ML algorithm."
   ]
  },
  {
   "cell_type": "code",
   "execution_count": 15,
   "metadata": {
    "id": "efMKGFdJxqOJ"
   },
   "outputs": [],
   "source": [
    "# convert the data from 0 - 1\n",
    "x_test = tf.keras.utils.normalize(x_test, axis=1)\n",
    "x_train = tf.keras.utils.normalize(x_train, axis=1)"
   ]
  },
  {
   "cell_type": "code",
   "execution_count": 16,
   "metadata": {
    "colab": {
     "base_uri": "https://localhost:8080/"
    },
    "id": "TDHz7ag1EQVF",
    "outputId": "db397f16-5a0b-4a24-d317-b6387f2b88e4"
   },
   "outputs": [
    {
     "name": "stdout",
     "output_type": "stream",
     "text": [
      "(10000, 28, 28)\n",
      "(10000,)\n",
      "(60000, 28, 28)\n",
      "(60000,)\n"
     ]
    }
   ],
   "source": [
    "# look at the shape of all xy values\n",
    "print(x_test.shape)\n",
    "print(y_test.shape)\n",
    "print(x_train.shape)\n",
    "print(y_train.shape)"
   ]
  },
  {
   "cell_type": "markdown",
   "metadata": {
    "id": "5Dem65nNxqOJ"
   },
   "source": [
    "#### 3.1 - Model 1\n",
    "The first model will be a basic model which was created by following the documentation for [Tensorflow](https://www.tensorflow.org/tutorials/quickstart/beginner)."
   ]
  },
  {
   "cell_type": "code",
   "execution_count": 17,
   "metadata": {
    "colab": {
     "base_uri": "https://localhost:8080/"
    },
    "id": "73DOckEJap8R",
    "outputId": "1e11c8ba-aaef-49ae-f4b1-0f0cc510e16a"
   },
   "outputs": [
    {
     "name": "stdout",
     "output_type": "stream",
     "text": [
      "Model 1 - Done.\n",
      "\n",
      "\n",
      "Accuracy on test set = 0.9684000015258789\n",
      "Wall time: 3.98 s\n"
     ]
    }
   ],
   "source": [
    "def modelOne():\n",
    "    ## 1 Architecture\n",
    "    # make a model\n",
    "    network = tf.keras.models.Sequential() \n",
    "    # add a flatten layer\n",
    "    network.add(tf.keras.layers.Flatten())\n",
    "    # add first dence layer\n",
    "    network.add(tf.keras.layers.Dense(128, activation='relu'))\n",
    "    # add the categories layer (0-9 = 10)\n",
    "    network.add(tf.keras.layers.Dense(10, activation='softmax'))\n",
    "\n",
    "    ## 2 Optimizer and Error\n",
    "    network.compile(optimizer='adam', \n",
    "                    loss='sparse_categorical_crossentropy', \n",
    "                    metrics=['accuracy'])\n",
    "    ## 3 Train\n",
    "    network.fit(x_train, y_train, epochs=3, verbose=0)\n",
    "    print('Model 1 - Done.')\n",
    "    print()\n",
    "    ## 4 Test\n",
    "    test_loss, test_acc = network.evaluate(x_test, y_test, verbose=0)\n",
    "    print()\n",
    "    print(\"Accuracy on test set =\", test_acc)\n",
    "\n",
    "%time modelOne()"
   ]
  },
  {
   "cell_type": "markdown",
   "metadata": {
    "id": "ooJ5AoNQxqOK"
   },
   "source": [
    "Here we can see that there is a slight difference between the test and trained accuracy, with the results being as follows:\n",
    "- Train \n",
    "    - Epoch 1/2 = 0.1038\n",
    "    - Epoch 2/2 = 0.1027\n",
    "- Test \n",
    "    - Test = 0.0974\n",
    "\n",
    "This to me looks like using sigmoid and relu as activation layers seems to be working well enough for a high accuracy score. Lets compare these to different types of activations and even different optimizers."
   ]
  },
  {
   "cell_type": "markdown",
   "metadata": {
    "id": "N5LCMWCVAW2C"
   },
   "source": [
    "#### 3.2 - Model 2\n",
    "After going over the model which was created by using the tensorflow documentation, lets move on the a more involved neural network which was covered in class. This model looks to see the effects of different ***step sizes*** within our model.\n",
    "\n",
    "With these parameters being there for us to manipulate, we can see how big or small of a difference tweaking these paramets can have.\n"
   ]
  },
  {
   "cell_type": "code",
   "execution_count": 18,
   "metadata": {
    "colab": {
     "base_uri": "https://localhost:8080/"
    },
    "id": "hHFblitgBW5b",
    "outputId": "b3a1bef2-6c5a-4176-ea5a-bffad997170a"
   },
   "outputs": [
    {
     "name": "stdout",
     "output_type": "stream",
     "text": [
      "Wall time: 1 ms\n",
      "Wall time: 0 ns\n",
      "Wall time: 0 ns\n",
      "Wall time: 0 ns\n",
      "Done\n"
     ]
    }
   ],
   "source": [
    "# The effect of different step size\n",
    "step_sizes = [0.5,0.2,0.1,0.01]\n",
    "train_errors = {}\n",
    "# start the loop\n",
    "for step_size in step_sizes:\n",
    "    # set numpy seed\n",
    "    np.random.seed(17076749)\n",
    "    # set tf seed\n",
    "    tf.random.set_seed(17076749)\n",
    "    # 1 - Architecture\n",
    "    network = tf.keras.models.Sequential() # start the network\n",
    "    network.add(tf.keras.layers.Flatten()) # flatten layer\n",
    "    network.add(tf.keras.layers.Dense(128, activation='relu')) # first hidden layer\n",
    "    network.add(tf.keras.layers.Dense(10, activation='softmax')) # second hidden layer\n",
    "    opt = tf.keras.optimizers.SGD(step_size)\n",
    "    network.compile(optimizer=opt, \n",
    "                    loss='sparse_categorical_crossentropy', \n",
    "                    metrics=['accuracy'])\n",
    "    history = network.fit(x_train, y_train, epochs=5, verbose=0)\n",
    "    %time train_errors[step_size] = history.history['loss']\n",
    "print('Done')"
   ]
  },
  {
   "cell_type": "code",
   "execution_count": 19,
   "metadata": {
    "id": "1MisWzlPP7xc"
   },
   "outputs": [],
   "source": [
    "# set up the line styles to use\n",
    "\n",
    "colors = plt.rcParams['axes.prop_cycle'].by_key()['color']\n",
    "default_cycler = (cycler(color=colors) +\n",
    "                  cycler(linestyle=['-', '--', ':', '-.','-', '--', ':', '-.','-', '--']))\n",
    "plt.rc('axes', prop_cycle=default_cycler)"
   ]
  },
  {
   "cell_type": "code",
   "execution_count": 20,
   "metadata": {
    "colab": {
     "base_uri": "https://localhost:8080/",
     "height": 295
    },
    "id": "ZkqhsxX3P9ZL",
    "outputId": "c61e599c-36d7-411c-e57e-674ba4e3982d"
   },
   "outputs": [
    {
     "data": {
      "image/png": "[encoded data removed]",
      "text/plain": [
       "<Figure size 432x288 with 1 Axes>"
      ]
     },
     "metadata": {
      "needs_background": "light"
     },
     "output_type": "display_data"
    }
   ],
   "source": [
    "lines = plt.plot(np.array(list(train_errors.values())).transpose())\n",
    "plt.title('Training errors')\n",
    "plt.xlabel('Epochs')\n",
    "plt.ylabel('Error')\n",
    "plt.ylim([0,1])\n",
    "plt.legend(lines[:], step_sizes, loc='upper right')\n",
    "# plt.savefig('stepsizes.png')\n",
    "plt.show();"
   ]
  },
  {
   "cell_type": "markdown",
   "metadata": {
    "id": "RIDZzdNPE2W8"
   },
   "source": [
    "Model 2 has now been set up and run to go through multiple step sizes whilst using the gradient descent algorithm which will be used to help mind the minimum of this function. This model went through the same model 4 times but was changing the step size each time, these step sizes were as follows:\n",
    "- 0.5\n",
    "- 0.2\n",
    "- 0.1\n",
    "- 0.01\n",
    "\n",
    "From looking at the plot above, we can see that 0.5 has the lowest error with the least number of epochs. This would suggest this step size has the highest accuracy score with a low loss score.\n",
    "\n",
    "Running through the same model multiple times can become quite demanding on pc resources, but within industry it isn't impossible to see that someone could spend a lot of time and resouces trying to get a very optimized model.\n"
   ]
  },
  {
   "cell_type": "markdown",
   "metadata": {
    "id": "potaYxbWGtNc"
   },
   "source": [
    "#### 3.3 - Model 3\n",
    "Model 3 will look at exploring 3 different ***batch sizes*** which will be explored to see what effect this could have on our model. There is also a step size which we can assign, and for this we took 0.5 as it was the best performing result from the last model."
   ]
  },
  {
   "cell_type": "code",
   "execution_count": 21,
   "metadata": {
    "colab": {
     "base_uri": "https://localhost:8080/",
     "height": 802
    },
    "id": "rukbfpYJxqOK",
    "outputId": "97898bbc-b441-4b78-a9af-0200bb63d63f"
   },
   "outputs": [
    {
     "name": "stdout",
     "output_type": "stream",
     "text": [
      "Wall time: 5.02 s\n",
      "\n",
      " 64\n",
      "Wall time: 3.03 s\n",
      "\n",
      " 200\n",
      "Wall time: 8.36 s\n",
      "\n",
      " 32\n",
      "Wall time: 27.1 s\n",
      "\n",
      " 8\n",
      "Wall time: 3min 19s\n",
      "\n",
      " 1\n",
      "Done\n"
     ]
    }
   ],
   "source": [
    "# The effect of different batch sizes\n",
    "batch_sizes = [64,200,32,8,1]\n",
    "train_errors = {}\n",
    "times = {}\n",
    "step_size = 0.5\n",
    "epochs = 10\n",
    "\n",
    "# start the loop\n",
    "for batch_size in batch_sizes:\n",
    "    # set numpy seed\n",
    "    np.random.seed(17076749)\n",
    "    # set tf seed\n",
    "    tf.random.set_seed(17076749)\n",
    "    # 1 - Architecture\n",
    "    network = tf.keras.models.Sequential() # start the network\n",
    "    network.add(tf.keras.layers.Flatten()) # flatten layer\n",
    "    network.add(tf.keras.layers.Dense(128, activation='relu')) # first hidden layer\n",
    "    network.add(tf.keras.layers.Dense(10, activation='softmax')) # second hidden layer\n",
    "    opt = tf.keras.optimizers.SGD(step_size)\n",
    "    network.compile(optimizer=opt, \n",
    "                    loss='sparse_categorical_crossentropy', \n",
    "                    metrics=['accuracy'])\n",
    "    %time history = network.fit(x_train, y_train, epochs=epochs, verbose=0, batch_size=batch_size)\n",
    "    print('\\n',batch_size)\n",
    "    train_errors[batch_size] = history.history['loss']\n",
    "print('Done')"
   ]
  },
  {
   "cell_type": "markdown",
   "metadata": {
    "id": "grk1Jm72xqOK"
   },
   "source": [
    "To understand the results a bit easier, below there will be a plot."
   ]
  },
  {
   "cell_type": "code",
   "execution_count": 22,
   "metadata": {
    "colab": {
     "base_uri": "https://localhost:8080/",
     "height": 283
    },
    "id": "ucSx4xMDxqOL",
    "outputId": "a596f90b-837c-4760-e592-d88a9935e8bf",
    "scrolled": true
   },
   "outputs": [
    {
     "data": {
      "image/png": "[encoded data removed]",
      "text/plain": [
       "<Figure size 432x288 with 1 Axes>"
      ]
     },
     "metadata": {
      "needs_background": "light"
     },
     "output_type": "display_data"
    }
   ],
   "source": [
    "lines = plt.plot(np.array(list(train_errors.values())).transpose())\n",
    "plt.xlabel('Epochs')\n",
    "plt.ylabel('Error')\n",
    "plt.ylim([0,1])\n",
    "plt.legend(lines[:], batch_sizes, loc='upper right')\n",
    "#plt.savefig('batchsizes1.png')\n",
    "plt.show();"
   ]
  },
  {
   "cell_type": "markdown",
   "metadata": {
    "id": "VucVrjHWxqOL"
   },
   "source": [
    "When looking at the plot above, which shows the difference in accuracy over the different iterations within the model. From first look at the plot, it looks like a batch size of 32 quickly became the most accuracy model as the 'elbow' is shown at the first iteration (epoch). It looks to be the 3rd fastest compared to the other batch sizes, whilst also keeping a decent accuracy. This looks to me to be the most all rounded within this model, as even though it isn't the fastest model (batch size 200 is), this model has a much better accuracy. As this looks to be the best model so far, the next model will look to take the best parts from the above, and manipulate some other parameters to see how other things can optimize the model."
   ]
  },
  {
   "cell_type": "markdown",
   "metadata": {
    "id": "wsImp1XNxqOL"
   },
   "source": [
    "#### 3.4 - Model 4\n",
    "This model will look to take the best parts of the above models, whilst changing a few more parameters to see if this model could be optimized even more. Thhis will look at different hidden layers, activation layers and different optimizers. Below was my attempt of looping through all the optimizers but with no luck, so below will be going through a few of them to see if there is even a difference."
   ]
  },
  {
   "cell_type": "code",
   "execution_count": 23,
   "metadata": {
    "id": "v4T97QaxxqOL"
   },
   "outputs": [],
   "source": [
    "## how do the optimizers differ.\n",
    "#myOpts = ['Adadelta', 'Adagrad', 'Adam', 'Adamax', 'Ftrl', 'Nadam', 'Optimizer', 'RMSprop', 'SGD'] \n",
    "#batch_size = [32]\n",
    "#train_errors = {}\n",
    "#times = {}\n",
    "#step_size = 0.5\n",
    "#epochs = 10\n",
    "## set i as 0\n",
    "#i = 0\n",
    "## print through them\n",
    "#for opts in myOpts:\n",
    "#    # print(myOpts[i])\n",
    "#    opt = tf.keras.optimizers, myOpts[i]\n",
    "#    print(opt)\n",
    "#    i += 1\n",
    "#    \n",
    "## start the loop\n",
    "#for opts in myOpts:\n",
    "#    # set numpy seed\n",
    "#    np.random.seed(17076749)\n",
    "#    # set tf seed\n",
    "#    tf.random.set_seed(17076749)\n",
    "#    # 1 - Architecture\n",
    "#    network = tf.keras.models.Sequential() # start the network\n",
    "#    network.add(tf.keras.layers.Flatten()) # flatten layer\n",
    "#    network.add(tf.keras.layers.Dense(128, activation='relu')) # first hidden layer\n",
    "#    network.add(tf.keras.layers.Dense(10, activation='softmax')) # second hidden layer\n",
    "#    # change optimizer for each one lists in myOpts\n",
    "#    # opt = tf.keras.optimizers.SGD(step_size)\n",
    "#    opt = tf.keras.optimizers.myOpts[i]\n",
    "#    i += 1\n",
    "#    # start compiling the network.\n",
    "#    network.compile(optimizer=opt, \n",
    "#                    loss='sparse_categorical_crossentropy', \n",
    "#                    metrics=['accuracy'])\n",
    "#    %time history = network.fit(x_train, y_train, epochs=epochs, verbose=1, batch_size=32)\n",
    "#    train_errors = history.history['loss']\n",
    "#    test_loss, test_acc = network.evaluate(x_test, y_test)\n",
    "#    print(\"Accuracy on test set =\", test_acc)\n",
    "#    print(\"Loss on test set =\", test_loss)\n",
    "#print('Done')"
   ]
  },
  {
   "cell_type": "code",
   "execution_count": 24,
   "metadata": {},
   "outputs": [
    {
     "name": "stdout",
     "output_type": "stream",
     "text": [
      "Wall time: 8.35 s\n",
      "313/313 [==============================] - 0s 391us/step - loss: 0.0802 - accuracy: 0.9768\n",
      "Accuracy on test set = 0.9768000245094299\n",
      "Loss on test set = 0.08016550540924072\n",
      "Done\n"
     ]
    }
   ],
   "source": [
    "# how do the optimizers differ.\n",
    "batch_size = [32]\n",
    "train_errors = {}\n",
    "times = {}\n",
    "step_size = 0.5\n",
    "epochs = 10\n",
    "\n",
    "# Start the NN\n",
    "\n",
    "# set numpy seed\n",
    "np.random.seed(17076749)\n",
    "# set tf seed\n",
    "tf.random.set_seed(17076749)\n",
    "\n",
    "# 1 - Architecture\n",
    "network = tf.keras.models.Sequential() # start the network\n",
    "network.add(tf.keras.layers.Flatten()) # flatten layer\n",
    "network.add(tf.keras.layers.Dense(128, activation='relu')) # first hidden layer\n",
    "network.add(tf.keras.layers.Dense(10, activation='softmax')) # second hidden layer\n",
    "# change optimizer for each one lists in myOpts\n",
    "#myOpts = ['Adam', 'Ftrl', 'Nadam', 'SGD'] \n",
    "opt = tf.keras.optimizers.SGD(step_size)\n",
    "# start compiling the network.\n",
    "network.compile(optimizer=opt, \n",
    "                loss='sparse_categorical_crossentropy', \n",
    "                metrics=['accuracy'])\n",
    "%time history = network.fit(x_train, y_train, epochs=epochs, verbose=0, batch_size=32)\n",
    "train_errors = history.history['loss']\n",
    "test_loss, test_acc = network.evaluate(x_test, y_test)\n",
    "print(\"Accuracy on test set =\", test_acc)\n",
    "print(\"Loss on test set =\", test_loss)\n",
    "print('Done')"
   ]
  },
  {
   "cell_type": "markdown",
   "metadata": {
    "id": "6tq5nFmMxqOL"
   },
   "source": [
    "When running the above model with 4 different models, here we can see the Accuracy and Loss for each set. The 4 optimizers are as follows (with acc and loss):\n",
    "<br>\n",
    "- Adam : (0.114, 2.330)\n",
    "- Ftrl : (0.976, 0.099)\n",
    "- Nadam : (0.113, 2.333)\n",
    "- SGD : (0.976, 0.080)\n",
    "\n",
    "From looking at the different outputs, it looks to me that the gradient descent has the lowest accuracy with Ftrl being close to SGC, with the other 2 optimizers having over 0.1 this would suggest that these have a higher accuracy.\n",
    "<br> <br>\n",
    "With this being the case, I would assume that by using either the Adam or nAdam optimizer would give the best results, with this type of model. Especially with the number of steps and batch sizes, which were chosen by going through the above models and seeing which ones seem to be the best optimized within a decent time requirement. "
   ]
  },
  {
   "cell_type": "markdown",
   "metadata": {},
   "source": [
    "### 4 - Conclusion\n",
    "\n",
    "Overall this report has attempted to explore these 3 objectives:\n",
    "1. Gradient Descent\n",
    "2. Logistic Regression (as a neural network)\n",
    "3. MNIST\n",
    "\n",
    "The first objective proved to be very difficult due to my bad understanding of implementing gradient descent on 4 variables, also my lack of understanding that e isn't a variable but is in fact Exponential! This was where most of my time was spent when first tackling this module and I still don't think i've done it correctly.\n",
    "\n",
    "The second objective again really confused me, whilst going through the material I understood what we were attempting, but when trying to implement it and report on it, this is where my knowledge let me down. I didn't even know how to implement a tahn activation function for this objective.\n",
    "\n",
    "The final objective was the easiest to understand for myself, there are still a few things which I'm not understanding. The first is when do you stop with the trial and error to get the best model and secondly is how best to display the best model. \n",
    "With plots you can see the accuracy and loss changing over the iterations which is useful, but sometimes it's easier to just get a number as well (see comparing optimizers above). \n",
    "Whilst researching the best types of keras models, I came across a third party module called keras-tuner which goes through the trial and error for you, and finds the best model. With my lack of understanding and lack of time, this couldn't be implemented but found some good sources on it. This would be something i'd like to explore more after university."
   ]
  },
  {
   "cell_type": "markdown",
   "metadata": {
    "id": "GomGX_MlUhYz"
   },
   "source": [
    "### References\n",
    "\n",
    "Harris, C.R., Millman, K.J., van der Walt, S.J. et al. Array programming with NumPy. Nature 585, 357–362 (2020). DOI: 0.1038/s41586-020-2649-2\n",
    "\n",
    "IBM Cloud Education , 2020. *Gradient Descent* Available at: https://www.ibm.com/cloud/learn/gradient-descent (Accessed 20/03/2021)\n",
    "\n",
    "J. D. Hunter, \"Matplotlib: A 2D Graphics Environment\", Computing in Science & Engineering, vol. 9, no. 3, pp. 90-95, 2007\n",
    "\n",
    "Ruder, S., 2016. An overview of gradient descent optimization algorithms. arXiv preprint arXiv:1609.04747.\n",
    "\n",
    "Scikit-learn: Machine Learning in Python, Pedregosa et al., JMLR 12, pp. 2825-2830, 2011.\n",
    "\n",
    "Sentdex, (2018) *Deep Learning with Python, TensorFlow, and Keras tutorial*  Available at: https://youtu.be/wQ8BIBpya2k (Accessed: 02/04/2021)\n",
    "\n",
    "Stack Overflow, 2021. *What is the purpose of keras utils normalize?* Available at: https://stackoverflow.com/questions/52571752/what-is-the-purpose-of-keras-utils-normalize (Accessed: 16/04/2021)\n",
    "\n",
    "Tensorflow, 2021. *TensorFlow 2 quickstart for beginners.* Available at: https://www.tensorflow.org/tutorials/quickstart/beginner (Accessed: 31/05/2021)"
   ]
  }
 ],
 "metadata": {
  "colab": {
   "collapsed_sections": [],
   "name": "MS4S10_Assessment_2-copy.ipynb",
   "provenance": []
  },
  "kernelspec": {
   "display_name": "Python 3",
   "language": "python",
   "name": "python3"
  },
  "language_info": {
   "codemirror_mode": {
    "name": "ipython",
    "version": 3
   },
   "file_extension": ".py",
   "mimetype": "text/x-python",
   "name": "python",
   "nbconvert_exporter": "python",
   "pygments_lexer": "ipython3",
   "version": "3.8.8"
  },
  "metadata": {
   "interpreter": {
    "hash": "2db524e06e9f5f4ffedc911c917cb75e12dbc923643829bf417064a77eb14d37"
   }
  }
 },
 "nbformat": 4,
 "nbformat_minor": 1
}
