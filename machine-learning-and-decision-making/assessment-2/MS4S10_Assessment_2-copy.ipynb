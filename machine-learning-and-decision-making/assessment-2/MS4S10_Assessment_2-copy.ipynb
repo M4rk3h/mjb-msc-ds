{
 "cells": [
  {
   "cell_type": "markdown",
   "metadata": {
    "id": "iclhxZ6vImZP"
   },
   "source": [
    "# MS4S10-Assessment 2\n",
    "## Mark Baber - 17076749\n",
    "\n",
    "This report will go over a few algorithms which are great for machine learning, these algorithms are as follows:\n",
    "- Gradient Descent\n",
    "- Logistic Regression (as a neural network)\n",
    "- MNIST"
   ]
  },
  {
   "cell_type": "markdown",
   "metadata": {
    "id": "KtIbW0uKIqLn"
   },
   "source": [
    "### Task 1 - Gradient Descent (15%)\n",
    "\n",
    "Apply the gradient descent algorithm to find the minimum of the following function of four variables.\n",
    "\\begin{equation}\n",
    "f(x,y,z,w) = \\frac{1}{4} (2-x)^2 + (3y-5)^4 + e^{2z^{4}+w^2}\n",
    "\\end{equation}\n",
    "\n",
    "Comment on the Results."
   ]
  },
  {
   "cell_type": "code",
   "execution_count": 35,
   "metadata": {
    "colab": {
     "base_uri": "https://localhost:8080/"
    },
    "id": "GLmIGljxafCR",
    "outputId": "ac4fc5c7-c60e-4353-c4a6-8c59d993298d",
    "scrolled": true
   },
   "outputs": [
    {
     "name": "stdout",
     "output_type": "stream",
     "text": [
      "34 43 25 13 inf\n",
      "32.56 9.61 -inf 13 inf\n",
      "31.184800000000003 3.2659000000000002 -inf 13 inf\n",
      "29.871484000000002 2.060521 -inf 13 inf\n",
      "28.617267220000002 1.8314989899999998 -inf 13 inf\n",
      "27.419490195100003 1.7879848081 -inf 13 inf\n",
      "26.2756131363205 1.779717113539 -inf 13 inf\n",
      "25.18321054518608 1.77814625157241 -inf 13 inf\n",
      "24.139966070652704 1.777847787798758 -inf 13 inf\n",
      "23.143667597473332 1.777791079681764 -inf 13 inf\n",
      "22.19220255558703 1.777780305139535 -inf 13 inf\n",
      "21.283553440585614 1.7777782579765116 -inf 13 inf\n",
      "20.41579353575926 1.7777778690155372 -inf 13 inf\n",
      "19.587082826650093 1.777777795112952 -inf 13 inf\n",
      "18.79566409945084 1.7777777810714608 -inf 13 inf\n",
      "18.03985921497555 1.7777777784035775 -inf 13 inf\n",
      "17.31806555030165 1.7777777778966797 -inf 13 inf\n",
      "16.628752600538075 1.7777777778003692 -inf 13 inf\n",
      "15.970458733513862 1.7777777777820702 -inf 13 inf\n",
      "15.341788090505737 1.7777777777785932 -inf 13 inf\n",
      "14.741407626432979 1.7777777777779327 -inf 13 inf\n",
      "14.168044283243495 1.7777777777778074 -inf 13 inf\n",
      "13.620482290497538 1.7777777777777832 -inf 13 inf\n",
      "13.097560587425148 1.7777777777777788 -inf 13 inf\n",
      "12.598170360991016 1.777777777777778 -inf 13 inf\n",
      "12.12125269474642 1.7777777777777777 -inf 13 inf\n",
      "11.665796323482832 1.7777777777777777 -inf 13 inf\n",
      "11.230835488926104 1.7777777777777777 -inf 13 inf\n",
      "10.81544789192443 1.7777777777777777 -inf 13 inf\n",
      "10.41875273678783 1.7777777777777777 -inf 13 inf\n",
      "10.039908863632379 1.7777777777777777 -inf 13 inf\n",
      "9.678112964768921 1.7777777777777777 -inf 13 inf\n",
      "9.33259788135432 1.7777777777777777 -inf 13 inf\n",
      "9.002630976693375 1.7777777777777777 -inf 13 inf\n",
      "8.687512582742173 1.7777777777777777 -inf 13 inf\n",
      "8.386574516518776 1.7777777777777777 -inf 13 inf\n",
      "8.099178663275431 1.7777777777777777 -inf 13 inf\n",
      "7.824715623428037 1.7777777777777777 -inf 13 inf\n",
      "7.562603420373775 1.7777777777777777 -inf 13 inf\n",
      "7.3122862664569555 1.7777777777777777 -inf 13 inf\n",
      "7.073233384466392 1.7777777777777777 -inf 13 inf\n",
      "6.8449378821654046 1.7777777777777777 -inf 13 inf\n",
      "6.626915677467961 1.7777777777777777 -inf 13 inf\n",
      "6.418704471981903 1.7777777777777777 -inf 13 inf\n",
      "6.219862770742718 1.7777777777777777 -inf 13 inf\n",
      "6.029968946059295 1.7777777777777777 -inf 13 inf\n",
      "5.848620343486627 1.7777777777777777 -inf 13 inf\n",
      "5.675432428029729 1.7777777777777777 -inf 13 inf\n",
      "5.510037968768391 1.7777777777777777 -inf 13 inf\n",
      "5.352086260173814 1.7777777777777777 -inf 13 inf\n",
      "5.2012423784659925 1.7777777777777777 -inf 13 inf\n",
      "5.057186471435023 1.7777777777777777 -inf 13 inf\n",
      "4.919613080220447 1.7777777777777777 -inf 13 inf\n",
      "4.788230491610527 1.7777777777777777 -inf 13 inf\n",
      "4.662760119488054 1.7777777777777777 -inf 13 inf\n",
      "4.542935914111092 1.7777777777777777 -inf 13 inf\n",
      "4.428503797976092 1.7777777777777777 -inf 13 inf\n",
      "4.319221127067168 1.7777777777777777 -inf 13 inf\n",
      "4.214856176349145 1.7777777777777777 -inf 13 inf\n",
      "4.115187648413434 1.7777777777777777 -inf 13 inf\n",
      "4.020004204234829 1.7777777777777777 -inf 13 inf\n",
      "3.929104015044262 1.7777777777777777 -inf 13 inf\n",
      "3.84229433436727 1.7777777777777777 -inf 13 inf\n",
      "3.759391089320743 1.7777777777777777 -inf 13 inf\n",
      "3.6802184903013098 1.7777777777777777 -inf 13 inf\n",
      "3.604608658237751 1.7777777777777777 -inf 13 inf\n",
      "3.532401268617052 1.7777777777777777 -inf 13 inf\n",
      "3.4634432115292846 1.7777777777777777 -inf 13 inf\n",
      "3.397588267010467 1.7777777777777777 -inf 13 inf\n",
      "3.3346967949949957 1.7777777777777777 -inf 13 inf\n",
      "3.274635439220221 1.7777777777777777 -inf 13 inf\n",
      "3.217276844455311 1.7777777777777777 -inf 13 inf\n",
      "3.162499386454822 1.7777777777777777 -inf 13 inf\n",
      "3.110186914064355 1.7777777777777777 -inf 13 inf\n",
      "74\n"
     ]
    },
    {
     "name": "stderr",
     "output_type": "stream",
     "text": [
      "<ipython-input-35-50542477cdd6>:21: RuntimeWarning: overflow encountered in exp\n",
      "  return 1/4*(2-x)**2 + (3*y-5)**4 + np.exp(2*z**4+w**2)\n",
      "<ipython-input-35-50542477cdd6>:30: RuntimeWarning: overflow encountered in exp\n",
      "  return np.exp(2*z**4+w**2)\n"
     ]
    }
   ],
   "source": [
    "# start with numpy as np\n",
    "import numpy as np\n",
    "myState = 17076749\n",
    "\n",
    "# condition when stop\n",
    "# tolerance = 0.01\n",
    "tolerance = 0.05\n",
    "\n",
    "# size of the step\n",
    "# step_size = 0.01\n",
    "step_size = 0.09\n",
    "\n",
    "# starting point \n",
    "x = 34\n",
    "y = 43\n",
    "z = 25\n",
    "w = 13\n",
    "\n",
    "# definition of the function\n",
    "def fun(x,y,z,w):\n",
    "    return 1/4*(2-x)**2 + (3*y-5)**4 + np.exp(2*z**4+w**2)\n",
    "# first partial derivative\n",
    "def der1(x):\n",
    "    return 2*1/4*(2-x)*-1\n",
    "# second partial derivative\n",
    "def der2(y):\n",
    "    return 3*(3*y-5)-1\n",
    "# third partial derivative\n",
    "def der3(z, w):\n",
    "    return np.exp(2*z**4+w**2)\n",
    "\n",
    "# function to carry out the step\n",
    "def step(z, grad, step_size):\n",
    "    return (z - step_size * grad)\n",
    "\n",
    "# counter for number of steps\n",
    "i = 0\n",
    "\n",
    "while True:\n",
    "    i += 1\n",
    "    print(x, y, z, w, fun(x,y,z,w))\n",
    "    \n",
    "    grad_x = der1(x)\n",
    "    grad_y = der2(y)\n",
    "    grad_z = der3(z, w)\n",
    "    \n",
    "    next_x = step(x, grad_x, step_size)\n",
    "    next_y = step(y, grad_y, step_size)\n",
    "    next_z = step(z, grad_z, step_size)\n",
    "    #next_w = step(w, grad_w, step_size)\n",
    "    \n",
    "    if (np.sqrt(\n",
    "        (x - next_x)**2 + \n",
    "        (y - next_y)**2)  < tolerance):\n",
    "        break # breaks out of the while true loop\n",
    "                #(z - next_z)**2 + \n",
    "                #(w - next_w)**2) \n",
    "                \n",
    "        \n",
    "    x, y, z = next_x, next_y, next_z #, next_w\n",
    "print(i)"
   ]
  },
  {
   "cell_type": "markdown",
   "metadata": {
    "id": "FJiANRQ-S05n"
   },
   "source": [
    "Gradient Descent is an optimization algorithm which is widely used to optimize a neural network (S.Ruder 2016). Above is an example of using a Gradient descent algorithm to find the mininimum of the given function.\n",
    "<br>\n",
    "When running the above code with these variables:\n",
    "- x = 39\n",
    "- y = 26\n",
    "- z = 48\n",
    "- w = 6\n",
    "\n",
    "It took 584 to find the minimum of the function with the last 2 values being as follows:\n",
    "- 4.0009430038071985 1.7777777777777788 -inf 6 inf\n",
    "- 3.9909382887881626 1.7777777777777788 -inf 6 inf\n",
    "\n",
    "Which shows a tiny difference between the two, this could also be due to the step size being small also with a value of 0.01. Whilst this could become more accurate, it is important to find an accurate and well performed algorithm for the task.\n",
    "\n",
    "If the values were to change for a few of these variables;\n",
    "- x = 34\n",
    "- y = 43\n",
    "- z = 25\n",
    "- w = 13\n",
    "\n",
    "Here we can see it took only 74 counts of i to get the minimum of the function, with a bigger step size and tolerance. This has improved performance but is also not as accurate. \n",
    "\n",
    "src = https://www.ibm.com/cloud/learn/gradient-descent"
   ]
  },
  {
   "cell_type": "markdown",
   "metadata": {
    "id": "Bi9hf-nIadZu"
   },
   "source": [
    "### Task 2 – Logistic Regression as a Neural Network with another activation function (45%)\n",
    "\n",
    "Write a report on how to consider Logistic Regression as a Neural Network with one single neuronusing\n",
    "\n",
    "\\begin{align}\n",
    "tanh z = \\frac{{e^z-e^{-z}}}{{e^z+e^{-z}}}\n",
    "\\end{align}\n",
    "\n",
    "as the activation function.\n",
    "<br><br>\n",
    "Observe that the range of the hyperbolic tangent is the interval (−1;1). Youwillneed to rescale the activation function and/or the cross-entropy loss functionas required.\n",
    "<br>\n",
    "Focus in particular on:\n"
   ]
  },
  {
   "cell_type": "markdown",
   "metadata": {
    "id": "h-yv-HSAolwW"
   },
   "source": [
    "#### 2.1 - The calculation of the derivative of theactivation functionand how to express the derivative using the hyperbolic tangent itself.\n"
   ]
  },
  {
   "cell_type": "markdown",
   "metadata": {
    "id": "qtoVhdS1ozxO"
   },
   "source": [
    "#### 2.2 - Discuss the behaviour of the cross-entropy loss function. Use matplotlib to draw appropriate graphs and comment on the results."
   ]
  },
  {
   "cell_type": "markdown",
   "metadata": {
    "id": "aHtmNOAqozkR"
   },
   "source": [
    "#### 2.3 Evaluate \n",
    "\n",
    "\\begin{align}\n",
    "\\frac {\\delta L^{i}}{\\delta wk} \\text{ and} \\frac {\\delta L^{i}}{\\delta b }\n",
    "\\end{align}"
   ]
  },
  {
   "cell_type": "markdown",
   "metadata": {
    "id": "hUCTiVrsozU5"
   },
   "source": [
    "### Task 3 – MNIST (30%)\n",
    "Consider the example of the MNIST digits datasets we discussed in class. Try at least 4 different Neural Networks architectures (by changing the number of neurons and the number of layers) and compare their performances using:\n",
    "\n",
    "- At least two activation functions (sigmoid, relu, ...);\n",
    "- At least four different step sizes;\n",
    "- At least three batch sizes;\n",
    "- At least three optimisation algorithms (remember to use at least three different values for the momentum when using gradient descent);\n",
    "- At least two parameter initialisations.\n",
    "<br><br>\n",
    "Draw appropriate graphs and comment on them to support your conclusions.\n"
   ]
  },
  {
   "cell_type": "markdown",
   "metadata": {
    "id": "g3vGXLqqX3P4"
   },
   "source": [
    "#### 3.0 - Initial setup"
   ]
  },
  {
   "cell_type": "code",
   "execution_count": 81,
   "metadata": {
    "id": "UHUyIzjrYEZ2"
   },
   "outputs": [],
   "source": [
    "%matplotlib inline\n",
    "import numpy as np\n",
    "import matplotlib.pyplot as plt\n",
    "from sklearn.datasets import make_moons\n",
    "from sklearn.model_selection import train_test_split\n",
    "from keras import models\n",
    "from keras import layers \n",
    "from keras.datasets import mnist, reuters\n",
    "from keras.utils import to_categorical"
   ]
  },
  {
   "cell_type": "code",
   "execution_count": 82,
   "metadata": {
    "colab": {
     "base_uri": "https://localhost:8080/"
    },
    "id": "J8ia56dtYNbh",
    "outputId": "33faf5ec-6b01-4ec9-8b3e-5436e744167a"
   },
   "outputs": [],
   "source": [
    "# Here we will import the dataset\n",
    "(raw_train_images, raw_train_labels), (raw_test_images, raw_test_labels) = mnist.load_data()"
   ]
  },
  {
   "cell_type": "code",
   "execution_count": 83,
   "metadata": {},
   "outputs": [],
   "source": [
    "def show_image(image, label):\n",
    "    \"\"\"Displays a MNIST digit and its label\"\"\"\n",
    "    plt.title('Item {count} is a {lbl}'.format(count=i, lbl=label))\n",
    "    plt.imshow(image, cmap='binary')\n",
    "    plt.axis('off')\n",
    "    plt.show()"
   ]
  },
  {
   "cell_type": "code",
   "execution_count": 84,
   "metadata": {
    "scrolled": true
   },
   "outputs": [
    {
     "name": "stdout",
     "output_type": "stream",
     "text": [
      "The dimensions of the training data are (60000, 28, 28) \n",
      "\n",
      "The first 28 by 28 array is\n",
      " [[  0   0   0   0   0   0   0   0   0   0   0   0   0   0   0   0   0   0\n",
      "    0   0   0   0   0   0   0   0   0   0]\n",
      " [  0   0   0   0   0   0   0   0   0   0   0   0   0   0   0   0   0   0\n",
      "    0   0   0   0   0   0   0   0   0   0]\n",
      " [  0   0   0   0   0   0   0   0   0   0   0   0   0   0   0   0   0   0\n",
      "    0   0   0   0   0   0   0   0   0   0]\n",
      " [  0   0   0   0   0   0   0   0   0   0   0   0   0   0   0   0   0   0\n",
      "    0   0   0   0   0   0   0   0   0   0]\n",
      " [  0   0   0   0   0   0   0   0   0   0   0   0   0   0   0   0   0   0\n",
      "    0   0   0   0   0   0   0   0   0   0]\n",
      " [  0   0   0   0   0   0   0   0   0   0   0   0   3  18  18  18 126 136\n",
      "  175  26 166 255 247 127   0   0   0   0]\n",
      " [  0   0   0   0   0   0   0   0  30  36  94 154 170 253 253 253 253 253\n",
      "  225 172 253 242 195  64   0   0   0   0]\n",
      " [  0   0   0   0   0   0   0  49 238 253 253 253 253 253 253 253 253 251\n",
      "   93  82  82  56  39   0   0   0   0   0]\n",
      " [  0   0   0   0   0   0   0  18 219 253 253 253 253 253 198 182 247 241\n",
      "    0   0   0   0   0   0   0   0   0   0]\n",
      " [  0   0   0   0   0   0   0   0  80 156 107 253 253 205  11   0  43 154\n",
      "    0   0   0   0   0   0   0   0   0   0]\n",
      " [  0   0   0   0   0   0   0   0   0  14   1 154 253  90   0   0   0   0\n",
      "    0   0   0   0   0   0   0   0   0   0]\n",
      " [  0   0   0   0   0   0   0   0   0   0   0 139 253 190   2   0   0   0\n",
      "    0   0   0   0   0   0   0   0   0   0]\n",
      " [  0   0   0   0   0   0   0   0   0   0   0  11 190 253  70   0   0   0\n",
      "    0   0   0   0   0   0   0   0   0   0]\n",
      " [  0   0   0   0   0   0   0   0   0   0   0   0  35 241 225 160 108   1\n",
      "    0   0   0   0   0   0   0   0   0   0]\n",
      " [  0   0   0   0   0   0   0   0   0   0   0   0   0  81 240 253 253 119\n",
      "   25   0   0   0   0   0   0   0   0   0]\n",
      " [  0   0   0   0   0   0   0   0   0   0   0   0   0   0  45 186 253 253\n",
      "  150  27   0   0   0   0   0   0   0   0]\n",
      " [  0   0   0   0   0   0   0   0   0   0   0   0   0   0   0  16  93 252\n",
      "  253 187   0   0   0   0   0   0   0   0]\n",
      " [  0   0   0   0   0   0   0   0   0   0   0   0   0   0   0   0   0 249\n",
      "  253 249  64   0   0   0   0   0   0   0]\n",
      " [  0   0   0   0   0   0   0   0   0   0   0   0   0   0  46 130 183 253\n",
      "  253 207   2   0   0   0   0   0   0   0]\n",
      " [  0   0   0   0   0   0   0   0   0   0   0   0  39 148 229 253 253 253\n",
      "  250 182   0   0   0   0   0   0   0   0]\n",
      " [  0   0   0   0   0   0   0   0   0   0  24 114 221 253 253 253 253 201\n",
      "   78   0   0   0   0   0   0   0   0   0]\n",
      " [  0   0   0   0   0   0   0   0  23  66 213 253 253 253 253 198  81   2\n",
      "    0   0   0   0   0   0   0   0   0   0]\n",
      " [  0   0   0   0   0   0  18 171 219 253 253 253 253 195  80   9   0   0\n",
      "    0   0   0   0   0   0   0   0   0   0]\n",
      " [  0   0   0   0  55 172 226 253 253 253 253 244 133  11   0   0   0   0\n",
      "    0   0   0   0   0   0   0   0   0   0]\n",
      " [  0   0   0   0 136 253 253 253 212 135 132  16   0   0   0   0   0   0\n",
      "    0   0   0   0   0   0   0   0   0   0]\n",
      " [  0   0   0   0   0   0   0   0   0   0   0   0   0   0   0   0   0   0\n",
      "    0   0   0   0   0   0   0   0   0   0]\n",
      " [  0   0   0   0   0   0   0   0   0   0   0   0   0   0   0   0   0   0\n",
      "    0   0   0   0   0   0   0   0   0   0]\n",
      " [  0   0   0   0   0   0   0   0   0   0   0   0   0   0   0   0   0   0\n",
      "    0   0   0   0   0   0   0   0   0   0]]\n",
      "Examples of the images in the training data set are:\n"
     ]
    },
    {
     "data": {
      "image/png": "[encoded data removed]",
      "text/plain": [
       "<Figure size 432x288 with 1 Axes>"
      ]
     },
     "metadata": {
      "needs_background": "light"
     },
     "output_type": "display_data"
    },
    {
     "data": {
      "image/png": "[encoded data removed]",
      "text/plain": [
       "<Figure size 432x288 with 1 Axes>"
      ]
     },
     "metadata": {
      "needs_background": "light"
     },
     "output_type": "display_data"
    },
    {
     "data": {
      "image/png": "[encoded data removed]",
      "text/plain": [
       "<Figure size 432x288 with 1 Axes>"
      ]
     },
     "metadata": {
      "needs_background": "light"
     },
     "output_type": "display_data"
    },
    {
     "data": {
      "image/png": "[encoded data removed]",
      "text/plain": [
       "<Figure size 432x288 with 1 Axes>"
      ]
     },
     "metadata": {
      "needs_background": "light"
     },
     "output_type": "display_data"
    },
    {
     "data": {
      "image/png": "[encoded data removed]",
      "text/plain": [
       "<Figure size 432x288 with 1 Axes>"
      ]
     },
     "metadata": {
      "needs_background": "light"
     },
     "output_type": "display_data"
    },
    {
     "data": {
      "image/png": "[encoded data removed]",
      "text/plain": [
       "<Figure size 432x288 with 1 Axes>"
      ]
     },
     "metadata": {
      "needs_background": "light"
     },
     "output_type": "display_data"
    },
    {
     "data": {
      "image/png": "[encoded data removed]",
      "text/plain": [
       "<Figure size 432x288 with 1 Axes>"
      ]
     },
     "metadata": {
      "needs_background": "light"
     },
     "output_type": "display_data"
    },
    {
     "data": {
      "image/png": "[encoded data removed]",
      "text/plain": [
       "<Figure size 432x288 with 1 Axes>"
      ]
     },
     "metadata": {
      "needs_background": "light"
     },
     "output_type": "display_data"
    },
    {
     "data": {
      "image/png": "[encoded data removed]",
      "text/plain": [
       "<Figure size 432x288 with 1 Axes>"
      ]
     },
     "metadata": {
      "needs_background": "light"
     },
     "output_type": "display_data"
    },
    {
     "data": {
      "image/png": "[encoded data removed]",
      "text/plain": [
       "<Figure size 432x288 with 1 Axes>"
      ]
     },
     "metadata": {
      "needs_background": "light"
     },
     "output_type": "display_data"
    }
   ],
   "source": [
    "print('The dimensions of the training data are', raw_train_images.shape, '\\n')\n",
    "print('The first 28 by 28 array is\\n', raw_train_images[0])\n",
    "print('Examples of the images in the training data set are:')\n",
    "for i in range(10):\n",
    "    show_image(image=raw_train_images[i],label = raw_train_labels[i])\n"
   ]
  },
  {
   "cell_type": "markdown",
   "metadata": {
    "id": "TYHFhDX5ascK"
   },
   "source": [
    "Now that the data has been seen and explored (looked at how the data was stored as an array of hex values of a 28x28 pixel grid), the next step would be to import the data with the test train split and then reshaping the input data to get it ready for the ML algorithm."
   ]
  },
  {
   "cell_type": "code",
   "execution_count": 25,
   "metadata": {},
   "outputs": [],
   "source": [
    "# convert the data to an array of 784/1\n",
    "train_images = raw_train_images.reshape((60000, 28 * 28))\n",
    "train_images = train_images.astype('float32') / 255\n",
    "# and 'normalize' the data from 0 - 1\n",
    "test_images = raw_test_images.reshape((10000, 28 * 28))\n",
    "test_images = test_images.astype('float32') / 255"
   ]
  },
  {
   "cell_type": "code",
   "execution_count": 26,
   "metadata": {},
   "outputs": [
    {
     "data": {
      "text/plain": [
       "array([0., 0., 0., 0., 0., 1., 0., 0., 0., 0.], dtype=float32)"
      ]
     },
     "execution_count": 26,
     "metadata": {},
     "output_type": "execute_result"
    }
   ],
   "source": [
    "# Next would be to change the target variable to 'one hot' encoding - \n",
    "train_labels = to_categorical(raw_train_labels)\n",
    "test_labels  = to_categorical(raw_test_labels)\n",
    "train_labels[0]"
   ]
  },
  {
   "cell_type": "markdown",
   "metadata": {},
   "source": [
    "#### 3.1 - Model 1"
   ]
  },
  {
   "cell_type": "code",
   "execution_count": 67,
   "metadata": {
    "colab": {
     "base_uri": "https://localhost:8080/",
     "height": 913
    },
    "id": "73DOckEJap8R",
    "outputId": "d4ddc439-9202-4d33-bb97-3a5d40002b68"
   },
   "outputs": [
    {
     "name": "stdout",
     "output_type": "stream",
     "text": [
      "Epoch 1/2\n",
      "1875/1875 [==============================] - 6s 3ms/step - loss: nan - accuracy: 0.1216\n",
      "Epoch 2/2\n",
      "1875/1875 [==============================] - 6s 3ms/step - loss: nan - accuracy: 0.0986\n",
      "\n",
      "313/313 [==============================] - 0s 462us/step - loss: nan - accuracy: 0.0980\n",
      "\n",
      "Accuracy on test set = 0.09799999743700027\n"
     ]
    }
   ],
   "source": [
    "## 1 Architecture\n",
    "network = models.Sequential()\n",
    "network.add(layers.Dense(512, activation='sigmoid', input_shape=(784,))\n",
    "network.add(layers.Dense(10, activation='relu'))\n",
    "\n",
    "## 2 Optimizer and Error\n",
    "network.compile(optimizer='rmsprop',\n",
    "                loss='categorical_crossentropy',\n",
    "                metrics=['accuracy'])\n",
    "\n",
    "## 3 Train\n",
    "network.fit(train_images, train_labels, epochs=2)\n",
    "print()\n",
    "## 4 Test\n",
    "test_loss, test_acc = network.evaluate(test_images, test_labels)\n",
    "print()\n",
    "print(\"Accuracy on test set =\", test_acc)"
   ]
  },
  {
   "cell_type": "markdown",
   "metadata": {},
   "source": [
    "Here we can see that there is a slight difference between the test and trained accuracy, with the results being as follows:\n",
    "- Train \n",
    "    - Epoch 1/2 = 0.1216\n",
    "    - Epoch 2/2 = 0.0986\n",
    "- Test \n",
    "    - Test = 0.0980\n",
    "\n",
    "This to me looks like using sigmoid and relu as activation layers seems to be working well enough for a high accuracy score. Lets compare these to different types of activations and even different optimizers."
   ]
  },
  {
   "cell_type": "markdown",
   "metadata": {},
   "source": [
    "#### 3.2 - Model 2"
   ]
  },
  {
   "cell_type": "code",
   "execution_count": 88,
   "metadata": {},
   "outputs": [
    {
     "name": "stdout",
     "output_type": "stream",
     "text": [
      "Epoch 1/4\n",
      "1875/1875 [==============================] - 6s 3ms/step - loss: 1.2529 - accuracy: 0.5926\n",
      "Epoch 2/4\n",
      "1875/1875 [==============================] - 6s 3ms/step - loss: 0.2389 - accuracy: 0.9328\n",
      "Epoch 3/4\n",
      "1875/1875 [==============================] - 6s 3ms/step - loss: 0.1369 - accuracy: 0.9590\n",
      "Epoch 4/4\n",
      "1875/1875 [==============================] - 6s 3ms/step - loss: 0.1044 - accuracy: 0.9693\n",
      "\n",
      "313/313 [==============================] - 0s 494us/step - loss: 0.1114 - accuracy: 0.9682\n",
      "\n",
      "Accuracy on test set = 0.9682000279426575\n"
     ]
    }
   ],
   "source": [
    "## 1 Architecture\n",
    "network = models.Sequential()\n",
    "network.add(layers.Dense(512, \n",
    "                         activation='sigmoid', \n",
    "                         input_shape=(784,)))\n",
    "network.add(layers.Dense(10, \n",
    "                         activation='relu'))\n",
    "network.add(layers.Dense(10, \n",
    "                         activation='softmax'))\n",
    "\n",
    "## 2 Optimizer and Error\n",
    "network.compile(optimizer='rmsprop',\n",
    "                loss='categorical_crossentropy',\n",
    "                metrics=['accuracy'])\n",
    "\n",
    "## 3 Train\n",
    "network.fit(train_images, train_labels, epochs=4)\n",
    "print()\n",
    "## 4 Test\n",
    "test_loss, test_acc = network.evaluate(test_images, test_labels)\n",
    "print()\n",
    "print(\"Accuracy on test set =\", test_acc)"
   ]
  },
  {
   "cell_type": "markdown",
   "metadata": {},
   "source": [
    "For this model, there has been some changes to the hidden layers which has increased by 1, using the activation of 'softmax'. There has also been a change to the epoch size, here we can see the accuracy changes ever so slightly for this type of algorithm, with the results as follows:\n",
    "- Train \n",
    "    - Epoch 1/4 = 0.5926\n",
    "    - Epoch 2/4 = 0.9328\n",
    "    - Epoch 3/4 = 0.9590\n",
    "    - Epoch 4/4 = 0.9693\n",
    "- Test \n",
    "    - Test = 0.9682\n",
    "\n",
    "Whilst this hasn't changed much, for some workflows this could be a very important step depending on the accuracy which is required to continue. For example, within the medical industry i'm sure they would require a much higher success rate for new medicines and vaccines to be deployed."
   ]
  },
  {
   "cell_type": "markdown",
   "metadata": {},
   "source": [
    "#### 3.3 - Model 3"
   ]
  },
  {
   "cell_type": "code",
   "execution_count": 90,
   "metadata": {
    "scrolled": true
   },
   "outputs": [
    {
     "name": "stdout",
     "output_type": "stream",
     "text": [
      "Epoch 1/4\n",
      "1875/1875 [==============================] - 3s 1ms/step - loss: 0.9860 - accuracy: 0.6673\n",
      "Epoch 2/4\n",
      "1875/1875 [==============================] - 2s 1ms/step - loss: 0.2656 - accuracy: 0.9283\n",
      "Epoch 3/4\n",
      "1875/1875 [==============================] - 2s 1ms/step - loss: 0.1671 - accuracy: 0.9548\n",
      "Epoch 4/4\n",
      "1875/1875 [==============================] - 2s 1ms/step - loss: 0.1225 - accuracy: 0.9649\n",
      "\n",
      "313/313 [==============================] - 0s 488us/step - loss: 0.1321 - accuracy: 0.9652\n",
      "\n",
      "Accuracy on test set = 0.9652000069618225\n"
     ]
    }
   ],
   "source": [
    "## 1 Architecture\n",
    "network = models.Sequential()\n",
    "network.add(layers.Dense(512, \n",
    "                         activation='sigmoid', \n",
    "                         input_shape=(784,)))\n",
    "network.add(layers.Dense(10, \n",
    "                         activation='relu'))\n",
    "network.add(layers.Dense(10, \n",
    "                         activation='softmax'))\n",
    "\n",
    "## 2 Optimizer and Error\n",
    "network.compile(optimizer='adam',\n",
    "                loss='categorical_crossentropy',\n",
    "                metrics=['accuracy'])\n",
    "\n",
    "## 3 Train\n",
    "network.fit(train_images, train_labels, epochs=4)\n",
    "print()\n",
    "## 4 Test\n",
    "test_loss, test_acc = network.evaluate(test_images, test_labels)\n",
    "print()\n",
    "print(\"Accuracy on test set =\", test_acc)"
   ]
  },
  {
   "cell_type": "markdown",
   "metadata": {},
   "source": [
    "For this model there has been a change to the optimizer which was changed to 'adam', the rest of this is the same as above and here we can see a tiny difference with the accuracy. This can be seen when comparing the results here with the results above:\n",
    "- Train\n",
    "    - Epoch 1/4 = 0.6673\n",
    "    - Epoch 1/4 = 0.9283\n",
    "    - Epoch 1/4 = 0.9548\n",
    "    - Epoch 1/4 = 0.9649\n",
    "- Test\n",
    "    - Test =0.9652\n",
    "    \n",
    "For the next model, why not change the optimizer again and see if adding another hidden layer changes the accuracy much or at all."
   ]
  },
  {
   "cell_type": "markdown",
   "metadata": {},
   "source": [
    "#### 3.4 - Model 4"
   ]
  },
  {
   "cell_type": "code",
   "execution_count": 91,
   "metadata": {},
   "outputs": [
    {
     "name": "stdout",
     "output_type": "stream",
     "text": [
      "Epoch 1/3\n",
      "1875/1875 [==============================] - 3s 1ms/step - loss: 1.9618 - accuracy: 0.2425\n",
      "Epoch 2/3\n",
      "1875/1875 [==============================] - 2s 1ms/step - loss: 0.9067 - accuracy: 0.6899\n",
      "Epoch 3/3\n",
      "1875/1875 [==============================] - 2s 1ms/step - loss: 0.6028 - accuracy: 0.8169\n",
      "\n",
      "313/313 [==============================] - 0s 491us/step - loss: 0.4381 - accuracy: 0.8726\n",
      "\n",
      "Accuracy on test set = 0.8726000189781189\n"
     ]
    }
   ],
   "source": [
    "## 1 Architecture\n",
    "network = models.Sequential()\n",
    "network.add(layers.Dense(512, activation='sigmoid', input_shape=(784,)))\n",
    "network.add(layers.Dense(10, activation='relu'))\n",
    "network.add(layers.Dense(10, activation='relu'))\n",
    "network.add(layers.Dense(10, activation='relu'))\n",
    "network.add(layers.Dense(10, activation='softmax'))\n",
    "\n",
    "## 2 Optimizer and Error\n",
    "# set optimizer as Stochastic Gradient descent\n",
    "opt = tf.keras.optimizers.SGD(learning_rate=0.1, momentum=0.1) \n",
    "\n",
    "network.compile(optimizer=opt,\n",
    "                loss='categorical_crossentropy',\n",
    "                metrics=['accuracy'])\n",
    "\n",
    "## 3 Train\n",
    "network.fit(train_images, train_labels, epochs=3)\n",
    "print()\n",
    "## 4 Test\n",
    "test_loss, test_acc = network.evaluate(test_images, test_labels)\n",
    "print()\n",
    "print(\"Accuracy on test set =\", test_acc)"
   ]
  },
  {
   "cell_type": "markdown",
   "metadata": {},
   "source": [
    "This model has added a few more hidden layers (as relu) and the optimizer has also been changed to the gradient descent optimizer. The first test run had a learning rate of 0.1 and a momentum of 0.1. This model ran with an accuracy which is as follows:\n",
    "- Train\n",
    "    - Epoch 1/3 = 0.2425\n",
    "    - Epoch 2/3 = 0.6899\n",
    "    - Epoch 3/3 = 0.8169\n",
    "- Test\n",
    "    - Test = 0.8726\n",
    "    \n",
    "From looking at these results, there seems to be a higher loss, but also a higher accuracy score. This could mean that the data is becoming too overfit and will start to give us some strange results."
   ]
  },
  {
   "cell_type": "code",
   "execution_count": 111,
   "metadata": {},
   "outputs": [
    {
     "name": "stdout",
     "output_type": "stream",
     "text": [
      "Done\n"
     ]
    }
   ],
   "source": [
    "# The effect of different step size\n",
    "step_sizes = [0.5,0.2,0.1,0.01]\n",
    "train_errors = {}\n",
    "\n",
    "for step_size in step_sizes:\n",
    "    np.random.seed(3)\n",
    "    tf.random.set_seed(3)    \n",
    "    network = models.Sequential()\n",
    "    network.add(layers.Dense(20, activation='relu'))\n",
    "    network.add(layers.Dense(5, activation='relu'))\n",
    "    network.add(layers.Dense(5, activation='relu'))\n",
    "    network.add(layers.Dense(1, activation='sigmoid'))\n",
    "    opt = tf.keras.optimizers.SGD(step_size) \n",
    "    network.compile(optimizer=opt, loss='binary_crossentropy', metrics=['accuracy'])\n",
    "    history = network.fit(X_train,y_train, epochs=200, verbose = 0, batch_size=len(X_train))\n",
    "    train_errors[step_size] = history.history['loss']\n",
    "print('Done')"
   ]
  },
  {
   "cell_type": "code",
   "execution_count": 112,
   "metadata": {},
   "outputs": [],
   "source": [
    "# set up the line styles to use\n",
    "from cycler import cycler\n",
    "colors = plt.rcParams['axes.prop_cycle'].by_key()['color']\n",
    "default_cycler = (cycler(color=colors) +\n",
    "                  cycler(linestyle=['-', '--', ':', '-.','-', '--', ':', '-.','-', '--']))\n",
    "plt.rc('axes', prop_cycle=default_cycler)"
   ]
  },
  {
   "cell_type": "code",
   "execution_count": 114,
   "metadata": {},
   "outputs": [
    {
     "data": {
      "image/png": "[encoded data removed]",
      "text/plain": [
       "<Figure size 432x288 with 1 Axes>"
      ]
     },
     "metadata": {
      "needs_background": "light"
     },
     "output_type": "display_data"
    }
   ],
   "source": [
    "lines = plt.plot(np.array(list(train_errors.values())).transpose())\n",
    "#plt.title('Training errors')\n",
    "plt.xlabel('Epochs')\n",
    "plt.ylabel('Error')\n",
    "plt.ylim([0,1])\n",
    "plt.legend(lines[:], step_sizes, loc='upper right')\n",
    "\n",
    "\n",
    "plt.show();"
   ]
  },
  {
   "cell_type": "code",
   "execution_count": 117,
   "metadata": {},
   "outputs": [
    {
     "data": {
      "image/png": "[encoded data removed]",
      "text/plain": [
       "<Figure size 432x288 with 1 Axes>"
      ]
     },
     "metadata": {
      "needs_background": "light"
     },
     "output_type": "display_data"
    }
   ],
   "source": [
    "lines = plt.plot(np.array(list(train_errors.values())).transpose())\n",
    "plt.xlabel('Epochs')\n",
    "plt.ylabel('Error')\n",
    "plt.ylim([0,1])\n",
    "plt.legend(lines[:], step_sizes, loc='upper right')\n",
    "\n",
    "plt.show();"
   ]
  },
  {
   "cell_type": "code",
   "execution_count": null,
   "metadata": {},
   "outputs": [],
   "source": []
  },
  {
   "cell_type": "code",
   "execution_count": null,
   "metadata": {},
   "outputs": [],
   "source": []
  },
  {
   "cell_type": "code",
   "execution_count": null,
   "metadata": {},
   "outputs": [],
   "source": []
  },
  {
   "cell_type": "code",
   "execution_count": 92,
   "metadata": {
    "scrolled": true
   },
   "outputs": [
    {
     "name": "stdout",
     "output_type": "stream",
     "text": [
      "Item 7 was classified as a 4\n"
     ]
    },
    {
     "data": {
      "image/png": "[encoded data removed]",
      "text/plain": [
       "<Figure size 432x288 with 1 Axes>"
      ]
     },
     "metadata": {
      "needs_background": "light"
     },
     "output_type": "display_data"
    },
    {
     "name": "stdout",
     "output_type": "stream",
     "text": [
      "Item 8 was classified as a 8\n"
     ]
    },
    {
     "data": {
      "image/png": "[encoded data removed]",
      "text/plain": [
       "<Figure size 432x288 with 1 Axes>"
      ]
     },
     "metadata": {
      "needs_background": "light"
     },
     "output_type": "display_data"
    },
    {
     "name": "stdout",
     "output_type": "stream",
     "text": [
      "Item 9 was classified as a 4\n"
     ]
    },
    {
     "data": {
      "image/png": "[encoded data removed]",
      "text/plain": [
       "<Figure size 432x288 with 1 Axes>"
      ]
     },
     "metadata": {
      "needs_background": "light"
     },
     "output_type": "display_data"
    },
    {
     "name": "stdout",
     "output_type": "stream",
     "text": [
      "Item 18 was classified as a 8\n"
     ]
    },
    {
     "data": {
      "image/png": "[encoded data removed]",
      "text/plain": [
       "<Figure size 432x288 with 1 Axes>"
      ]
     },
     "metadata": {
      "needs_background": "light"
     },
     "output_type": "display_data"
    },
    {
     "name": "stdout",
     "output_type": "stream",
     "text": [
      "Item 33 was classified as a 6\n"
     ]
    },
    {
     "data": {
      "image/png": "[encoded data removed]",
      "text/plain": [
       "<Figure size 432x288 with 1 Axes>"
      ]
     },
     "metadata": {
      "needs_background": "light"
     },
     "output_type": "display_data"
    },
    {
     "name": "stdout",
     "output_type": "stream",
     "text": [
      "Item 38 was classified as a 3\n"
     ]
    },
    {
     "data": {
      "image/png": "[encoded data removed]",
      "text/plain": [
       "<Figure size 432x288 with 1 Axes>"
      ]
     },
     "metadata": {
      "needs_background": "light"
     },
     "output_type": "display_data"
    },
    {
     "name": "stdout",
     "output_type": "stream",
     "text": [
      "Item 43 was classified as a 6\n"
     ]
    },
    {
     "data": {
      "image/png": "[encoded data removed]",
      "text/plain": [
       "<Figure size 432x288 with 1 Axes>"
      ]
     },
     "metadata": {
      "needs_background": "light"
     },
     "output_type": "display_data"
    },
    {
     "name": "stdout",
     "output_type": "stream",
     "text": [
      "Item 45 was classified as a 3\n"
     ]
    },
    {
     "data": {
      "image/png": "[encoded data removed]",
      "text/plain": [
       "<Figure size 432x288 with 1 Axes>"
      ]
     },
     "metadata": {
      "needs_background": "light"
     },
     "output_type": "display_data"
    },
    {
     "name": "stdout",
     "output_type": "stream",
     "text": [
      "Item 62 was classified as a 4\n"
     ]
    },
    {
     "data": {
      "image/png": "[encoded data removed]",
      "text/plain": [
       "<Figure size 432x288 with 1 Axes>"
      ]
     },
     "metadata": {
      "needs_background": "light"
     },
     "output_type": "display_data"
    },
    {
     "name": "stdout",
     "output_type": "stream",
     "text": [
      "Item 73 was classified as a 4\n"
     ]
    },
    {
     "data": {
      "image/png": "[encoded data removed]",
      "text/plain": [
       "<Figure size 432x288 with 1 Axes>"
      ]
     },
     "metadata": {
      "needs_background": "light"
     },
     "output_type": "display_data"
    }
   ],
   "source": [
    "# Look at the images the algorithm got wrong.\n",
    "output = network.predict(test_images)\n",
    "prediction = np.argmax(output,axis=1) # make predicted digit the one with largest output\n",
    "is_incorrect = (prediction != raw_test_labels) # Boolean array with True if prediction and label differ\n",
    "incorrect_idx = np.nonzero(is_incorrect)[0] # indices of all the incorrectly classified images\n",
    "for i in incorrect_idx[:10]:\n",
    "    print('Item',i,'was classified as a',prediction[i])\n",
    "    show_image(image=raw_test_images[i],label = raw_test_labels[i])"
   ]
  },
  {
   "cell_type": "markdown",
   "metadata": {
    "id": "GomGX_MlUhYz"
   },
   "source": [
    "### References\n",
    "\n",
    "Ruder, S., 2016. An overview of gradient descent optimization algorithms. arXiv preprint arXiv:1609.04747.\n"
   ]
  }
 ],
 "metadata": {
  "colab": {
   "collapsed_sections": [],
   "name": "MS4S10-Assessment 2.ipynb",
   "provenance": []
  },
  "kernelspec": {
   "display_name": "Python 3",
   "language": "python",
   "name": "python3"
  },
  "language_info": {
   "codemirror_mode": {
    "name": "ipython",
    "version": 3
   },
   "file_extension": ".py",
   "mimetype": "text/x-python",
   "name": "python",
   "nbconvert_exporter": "python",
   "pygments_lexer": "ipython3",
   "version": "3.8.8"
  }
 },
 "nbformat": 4,
 "nbformat_minor": 1
}
