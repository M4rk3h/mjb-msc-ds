{
 "cells": [
  {
   "cell_type": "markdown",
   "metadata": {},
   "source": [
    "# Symbolic Math"
   ]
  },
  {
   "cell_type": "code",
   "execution_count": 1,
   "metadata": {},
   "outputs": [],
   "source": [
    "# import modules\n",
    "import numpy as np\n",
    "import sympy as sp\n",
    "sp.init_printing()"
   ]
  },
  {
   "cell_type": "code",
   "execution_count": 21,
   "metadata": {},
   "outputs": [
    {
     "name": "stdout",
     "output_type": "stream",
     "text": [
      "g = x**2 + y**2 + z**2\n"
     ]
    }
   ],
   "source": [
    "# set variables\n",
    "x = sp.Symbol('x')\n",
    "y = sp.Symbol('y')\n",
    "z = sp.Symbol('z')\n",
    "w = sp.Symbol('w')\n",
    "e = sp.Symbol('e')\n",
    "# set function as f\n",
    "f = sp.Function('f')\n",
    "# set g as x^2 + y^2 + z^2\n",
    "g = x**2 + y**2 + z**2\n",
    "print('g =',g)"
   ]
  },
  {
   "cell_type": "code",
   "execution_count": 22,
   "metadata": {},
   "outputs": [
    {
     "data": {
      "image/png": "[encoded data removed]",
      "text/latex": [
       "$\\displaystyle x^{2} + 2 x - 5$"
      ],
      "text/plain": [
       " 2          \n",
       "x  + 2⋅x - 5"
      ]
     },
     "execution_count": 22,
     "metadata": {},
     "output_type": "execute_result"
    }
   ],
   "source": [
    "# set an expression for the following\n",
    "h = x**2 + 2*x - 5\n",
    "h"
   ]
  },
  {
   "cell_type": "code",
   "execution_count": 23,
   "metadata": {},
   "outputs": [
    {
     "name": "stdout",
     "output_type": "stream",
     "text": [
      "0.250000000000000\n",
      "z**2 + 2*z - 5\n",
      "y**4 + 2*y**2 - 5\n"
     ]
    }
   ],
   "source": [
    "# evaluate the expression for x = 1.5\n",
    "print(h.subs(x, 1.5))\n",
    "# also make a variable substitution z for x\n",
    "print(h.subs(x,z))\n",
    "# do a variable substitution y^2 for x\n",
    "print(h.subs(x, y**2))"
   ]
  },
  {
   "cell_type": "code",
   "execution_count": 24,
   "metadata": {},
   "outputs": [
    {
     "data": {
      "image/png": "[encoded data removed]",
      "text/latex": [
       "$\\displaystyle \\frac{x + 2}{x}$"
      ],
      "text/plain": [
       "x + 2\n",
       "─────\n",
       "  x  "
      ]
     },
     "execution_count": 24,
     "metadata": {},
     "output_type": "execute_result"
    }
   ],
   "source": [
    "# simplify the following expression\n",
    "f = (x**2 - x - 6) / (x**2 - 3*x)\n",
    "sp.simplify(f)"
   ]
  },
  {
   "cell_type": "code",
   "execution_count": 38,
   "metadata": {},
   "outputs": [
    {
     "data": {
      "image/png": "[encoded data removed]",
      "text/latex": [
       "$\\displaystyle x^{5} - x^{4} - 5 x^{3} + x^{2} + 8 x + 4$"
      ],
      "text/plain": [
       " 5    4      3    2          \n",
       "x  - x  - 5⋅x  + x  + 8⋅x + 4"
      ]
     },
     "execution_count": 38,
     "metadata": {},
     "output_type": "execute_result"
    }
   ],
   "source": [
    "# expand the following expression symbollically\n",
    "# (x+1)**3*(x-2)**2\n",
    "f =(x+1)**3 * (x-2)**2\n",
    "sp.expand(f)"
   ]
  },
  {
   "cell_type": "code",
   "execution_count": null,
   "metadata": {},
   "outputs": [],
   "source": [
    "# factor the following expression\n",
    "# "
   ]
  },
  {
   "cell_type": "code",
   "execution_count": null,
   "metadata": {},
   "outputs": [],
   "source": []
  },
  {
   "cell_type": "code",
   "execution_count": null,
   "metadata": {},
   "outputs": [],
   "source": []
  },
  {
   "cell_type": "code",
   "execution_count": null,
   "metadata": {},
   "outputs": [],
   "source": []
  },
  {
   "cell_type": "code",
   "execution_count": null,
   "metadata": {},
   "outputs": [],
   "source": []
  },
  {
   "cell_type": "code",
   "execution_count": 35,
   "metadata": {},
   "outputs": [
    {
     "data": {
      "image/png": "[encoded data removed]",
      "text/latex": [
       "$\\displaystyle e^{2} z^{4} + w^{2} + 0.25 \\left(2 - x\\right)^{2} + \\left(3 y - 5\\right)^{4}$"
      ],
      "text/plain": [
       " 2  4    2               2            4\n",
       "e ⋅z  + w  + 0.25⋅(2 - x)  + (3⋅y - 5) "
      ]
     },
     "execution_count": 35,
     "metadata": {},
     "output_type": "execute_result"
    }
   ],
   "source": [
    "# simplify the following expression\n",
    "f = 1/4 * (2-x)**2 + (3*y-5)**4 + ((e**2)*(z**4)) + w**2\n",
    "f"
   ]
  },
  {
   "cell_type": "code",
   "execution_count": 27,
   "metadata": {},
   "outputs": [
    {
     "data": {
      "image/png": "[encoded data removed]",
      "text/latex": [
       "$\\displaystyle e^{2} z^{4} + w^{2} + 0.25 \\left(x - 2\\right)^{2} + \\left(3 y - 5\\right)^{4}$"
      ],
      "text/plain": [
       " 2  4    2               2            4\n",
       "e ⋅z  + w  + 0.25⋅(x - 2)  + (3⋅y - 5) "
      ]
     },
     "execution_count": 27,
     "metadata": {},
     "output_type": "execute_result"
    }
   ],
   "source": [
    "sp.simplify(f)"
   ]
  }
 ],
 "metadata": {
  "kernelspec": {
   "display_name": "Python 3",
   "language": "python",
   "name": "python3"
  },
  "language_info": {
   "codemirror_mode": {
    "name": "ipython",
    "version": 3
   },
   "file_extension": ".py",
   "mimetype": "text/x-python",
   "name": "python",
   "nbconvert_exporter": "python",
   "pygments_lexer": "ipython3",
   "version": "3.8.5"
  }
 },
 "nbformat": 4,
 "nbformat_minor": 4
}
