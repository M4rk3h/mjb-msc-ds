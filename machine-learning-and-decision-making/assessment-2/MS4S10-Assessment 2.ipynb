{
 "cells": [
  {
   "cell_type": "markdown",
   "metadata": {},
   "source": [
    "# MS4S10-Assessment 2\n",
    "## Mark Baber - 17076749"
   ]
  },
  {
   "cell_type": "code",
   "execution_count": 1,
   "metadata": {},
   "outputs": [],
   "source": [
    "import numpy as np"
   ]
  },
  {
   "cell_type": "markdown",
   "metadata": {},
   "source": [
    "### Task 1 - Gradient Descent (15%)\n",
    "\n",
    "\\begin{equation}\n",
    "𝑓(𝑥,𝑦,𝑧,𝑤) = 1/4(2−𝑥)2+(3𝑦−5)4+𝑒2𝑧4+𝑤2\n",
    "\\end{equation}"
   ]
  },
  {
   "cell_type": "code",
   "execution_count": 3,
   "metadata": {},
   "outputs": [
    {
     "ename": "SyntaxError",
     "evalue": "duplicate argument 'y' in function definition (<ipython-input-3-ccde278ce046>, line 9)",
     "output_type": "error",
     "traceback": [
      "\u001b[1;36m  File \u001b[1;32m\"<ipython-input-3-ccde278ce046>\"\u001b[1;36m, line \u001b[1;32m9\u001b[0m\n\u001b[1;33m    def fun(x,y,z,y):\u001b[0m\n\u001b[1;37m    ^\u001b[0m\n\u001b[1;31mSyntaxError\u001b[0m\u001b[1;31m:\u001b[0m duplicate argument 'y' in function definition\n"
     ]
    }
   ],
   "source": [
    "# number of iterations\n",
    "num_epochs = 10\n",
    "# size of the step\n",
    "step_size = 0.1\n",
    "# starting point\n",
    "start = 13\n",
    "\n",
    "# definition of the function\n",
    "def fun(x,y,z,y):\n",
    "    return x**2 + y**2\n",
    "# first partial derivative\n",
    "def der1(x):\n",
    "    return 2*x\n",
    "# second partial derivative\n",
    "def der2(y):\n",
    "    return 2*y\n",
    "# function to carry out the step\n",
    "def step(z, grad, step_size):\n",
    "    return (z - step_size * grad)\n",
    "# counter for number of steps\n",
    "i = 0\n",
    "while True:\n",
    "    i += 1\n",
    "    print(x, y, fun(x,y))\n",
    "    \n",
    "    grad_x = der1(x)\n",
    "    grad_y = der2(y)\n",
    "    \n",
    "    next_x = step(x, grad_x, step_size)\n",
    "    next_y = step(y, grad_y, step_size)\n",
    "    \n",
    "    if (np.sqrt((x - next_x)**2 + (y - next_y)**2)  < tolerance):\n",
    "        break\n",
    "        \n",
    "    x, y = next_x, next_y\n",
    "print(i)"
   ]
  },
  {
   "cell_type": "code",
   "execution_count": null,
   "metadata": {},
   "outputs": [],
   "source": []
  },
  {
   "cell_type": "code",
   "execution_count": null,
   "metadata": {},
   "outputs": [],
   "source": []
  }
 ],
 "metadata": {
  "kernelspec": {
   "display_name": "Python 3",
   "language": "python",
   "name": "python3"
  },
  "language_info": {
   "codemirror_mode": {
    "name": "ipython",
    "version": 3
   },
   "file_extension": ".py",
   "mimetype": "text/x-python",
   "name": "python",
   "nbconvert_exporter": "python",
   "pygments_lexer": "ipython3",
   "version": "3.8.5"
  }
 },
 "nbformat": 4,
 "nbformat_minor": 4
}
