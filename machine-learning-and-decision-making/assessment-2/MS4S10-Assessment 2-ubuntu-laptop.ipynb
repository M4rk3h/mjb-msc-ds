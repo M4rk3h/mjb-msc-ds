{
 "cells": [
  {
   "cell_type": "markdown",
   "metadata": {},
   "source": [
    "# MS4S10-Assessment 2\n",
    "## Mark Baber - 17076749"
   ]
  },
  {
   "cell_type": "markdown",
   "metadata": {},
   "source": [
    "### Task 1 - Gradient Descent (15%)\n",
    "\n",
    "\\begin{equation}\n",
    "𝑓(𝑥,𝑦,𝑧,𝑤) = 1/4(2−𝑥)2+(3𝑦−5)4+𝑒2𝑧4+𝑤2\n",
    "\\end{equation}"
   ]
  }
 ],
 "metadata": {
  "kernelspec": {
   "display_name": "Python 3",
   "language": "python",
   "name": "python3"
  },
  "language_info": {
   "codemirror_mode": {
    "name": "ipython",
    "version": 3
   },
   "file_extension": ".py",
   "mimetype": "text/x-python",
   "name": "python",
   "nbconvert_exporter": "python",
   "pygments_lexer": "ipython3",
   "version": "3.8.5"
  }
 },
 "nbformat": 4,
 "nbformat_minor": 4
}
