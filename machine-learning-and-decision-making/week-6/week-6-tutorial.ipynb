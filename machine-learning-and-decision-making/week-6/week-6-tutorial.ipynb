{
 "cells": [
  {
   "cell_type": "markdown",
   "metadata": {},
   "source": [
    "Let's consider the function\n",
    "\\begin{equation}\n",
    "f(x) = x^4\n",
    "\\end{equation}"
   ]
  },
  {
   "cell_type": "code",
   "execution_count": 12,
   "metadata": {},
   "outputs": [
    {
     "name": "stdout",
     "output_type": "stream",
     "text": [
      "-0.007903886570308072 3.90267868118675e-09\n"
     ]
    }
   ],
   "source": [
    "# gradient descent\n",
    "\n",
    "num_epochs = 20000\n",
    "step_size = 0.1\n",
    "start = 2\n",
    "\n",
    "def fun(x):\n",
    "    return x**4\n",
    "    \n",
    "def der(x):\n",
    "    return 4*x**3\n",
    "\n",
    "for i in range(num_epochs):\n",
    "    if (i == 0):\n",
    "        x = start\n",
    "    x = x - step_size * der(x)\n",
    "    \n",
    "print(x, fun(x)) # can print at each step if in the loop.\n",
    "\n",
    "\n",
    "\n"
   ]
  },
  {
   "cell_type": "code",
   "execution_count": null,
   "metadata": {},
   "outputs": [],
   "source": []
  },
  {
   "cell_type": "code",
   "execution_count": null,
   "metadata": {},
   "outputs": [],
   "source": []
  }
 ],
 "metadata": {
  "kernelspec": {
   "display_name": "Python 3",
   "language": "python",
   "name": "python3"
  },
  "language_info": {
   "codemirror_mode": {
    "name": "ipython",
    "version": 3
   },
   "file_extension": ".py",
   "mimetype": "text/x-python",
   "name": "python",
   "nbconvert_exporter": "python",
   "pygments_lexer": "ipython3",
   "version": "3.8.5"
  }
 },
 "nbformat": 4,
 "nbformat_minor": 4
}
