{
 "cells": [
  {
   "cell_type": "markdown",
   "metadata": {},
   "source": [
    "# MS4S10 COURSEWORK 1: 2020/21\n",
    "## Mark Baber - 17076749\n",
    "This report will look at exploring a dataset from The Open University, later within the report there will be a section which will look to use unsupervised and supervised models to try and predicting the students who are more likely to fail or withdraw from a module/course.\n",
    "\n",
    "<br>\n",
    "This study is being carried out due to the rise of online learning, especially during 2020 when we were all living within a global pandemic due to Covid. Whilst not every student would be able to carry out online learning to their highest potential, with data these patterns could be discovered and improved upon for improved student satisfaction and number of students graduating."
   ]
  },
  {
   "cell_type": "markdown",
   "metadata": {},
   "source": [
    "# 1 - Task A\n",
    "\n",
    "This section will look at:\n",
    "1. Exploratory data analysis (EDA) of the dataset.\n",
    "2. Look to create new tables suitable for testing machine learning models.\n",
    "\n",
    "## 1.0 - Useful hints\n",
    "<br>\n",
    "The data is spread into 7 tables and encapsulates plenty of interesting insights. Try to\n",
    "discover some insights which inform the next steps of the coursework.\n",
    "Based on the insights, you should be able to apply feature engineering techniques, such as\n",
    "feature extraction and selection. <br><br>\n",
    "There should be a trail of informed decisions throughout your coursework and recording\n",
    "these tasks forms a major part of that trail as such, you should provide informative\n",
    "comments throughout your code."
   ]
  },
  {
   "cell_type": "code",
   "execution_count": 1,
   "metadata": {},
   "outputs": [],
   "source": [
    "# import modules\n",
    "%matplotlib inline\n",
    "from matplotlib import cm\n",
    "from matplotlib import pyplot as plt\n",
    "from sklearn import metrics, preprocessing, tree\n",
    "from sklearn.cluster import KMeans, MeanShift, estimate_bandwidth\n",
    "from sklearn.datasets import make_blobs\n",
    "from sklearn.decomposition import PCA\n",
    "from sklearn.ensemble import RandomForestClassifier\n",
    "from sklearn.linear_model import LinearRegression, LogisticRegression, SGDRegressor\n",
    "from sklearn.metrics import confusion_matrix, accuracy_score, precision_score, recall_score, f1_score,  mean_squared_error, mean_absolute_error, silhouette_samples, silhouette_score\n",
    "from sklearn.mixture import GaussianMixture\n",
    "from sklearn.model_selection import train_test_split\n",
    "from sklearn.preprocessing import StandardScaler as ss\n",
    "from sklearn.tree import DecisionTreeClassifier\n",
    "import matplotlib as mpl\n",
    "import numpy as np\n",
    "import pandas as pd\n",
    "import seaborn as sns\n",
    "import sklearn\n",
    "import sklearn"
   ]
  },
  {
   "cell_type": "code",
   "execution_count": 2,
   "metadata": {},
   "outputs": [],
   "source": [
    "# read in the different datasets\n",
    "assessment = pd.read_csv('data/assessments.csv')\n",
    "course = pd.read_csv('data/courses.csv')\n",
    "stAssessment = pd.read_csv('data/studentAssessment.csv')\n",
    "stInfo = pd.read_csv('data/studentInfo.csv')\n",
    "stReg = pd.read_csv('data/studentRegistration.csv')\n",
    "stVLE = pd.read_csv('data/studentVle.csv') # 10655280 entries! big.\n",
    "vle = pd.read_csv('data/vle.csv')"
   ]
  },
  {
   "cell_type": "markdown",
   "metadata": {},
   "source": [
    "## 1.1 - Dataset 1 - Assessment\n",
    "This section of the report will look at exploring the dataset assessment."
   ]
  },
  {
   "cell_type": "code",
   "execution_count": 3,
   "metadata": {
    "scrolled": false
   },
   "outputs": [
    {
     "data": {
      "text/html": [
       "<div>\n",
       "<style scoped>\n",
       "    .dataframe tbody tr th:only-of-type {\n",
       "        vertical-align: middle;\n",
       "    }\n",
       "\n",
       "    .dataframe tbody tr th {\n",
       "        vertical-align: top;\n",
       "    }\n",
       "\n",
       "    .dataframe thead th {\n",
       "        text-align: right;\n",
       "    }\n",
       "</style>\n",
       "<table border=\"1\" class=\"dataframe\">\n",
       "  <thead>\n",
       "    <tr style=\"text-align: right;\">\n",
       "      <th></th>\n",
       "      <th>code_module</th>\n",
       "      <th>code_presentation</th>\n",
       "      <th>id_assessment</th>\n",
       "      <th>assessment_type</th>\n",
       "      <th>date</th>\n",
       "      <th>weight</th>\n",
       "    </tr>\n",
       "  </thead>\n",
       "  <tbody>\n",
       "    <tr>\n",
       "      <th>0</th>\n",
       "      <td>AAA</td>\n",
       "      <td>2013J</td>\n",
       "      <td>1752</td>\n",
       "      <td>TMA</td>\n",
       "      <td>19.0</td>\n",
       "      <td>10.0</td>\n",
       "    </tr>\n",
       "    <tr>\n",
       "      <th>1</th>\n",
       "      <td>AAA</td>\n",
       "      <td>2013J</td>\n",
       "      <td>1753</td>\n",
       "      <td>TMA</td>\n",
       "      <td>54.0</td>\n",
       "      <td>20.0</td>\n",
       "    </tr>\n",
       "    <tr>\n",
       "      <th>2</th>\n",
       "      <td>AAA</td>\n",
       "      <td>2013J</td>\n",
       "      <td>1754</td>\n",
       "      <td>TMA</td>\n",
       "      <td>117.0</td>\n",
       "      <td>20.0</td>\n",
       "    </tr>\n",
       "    <tr>\n",
       "      <th>3</th>\n",
       "      <td>AAA</td>\n",
       "      <td>2013J</td>\n",
       "      <td>1755</td>\n",
       "      <td>TMA</td>\n",
       "      <td>166.0</td>\n",
       "      <td>20.0</td>\n",
       "    </tr>\n",
       "    <tr>\n",
       "      <th>4</th>\n",
       "      <td>AAA</td>\n",
       "      <td>2013J</td>\n",
       "      <td>1756</td>\n",
       "      <td>TMA</td>\n",
       "      <td>215.0</td>\n",
       "      <td>30.0</td>\n",
       "    </tr>\n",
       "  </tbody>\n",
       "</table>\n",
       "</div>"
      ],
      "text/plain": [
       "  code_module code_presentation  id_assessment assessment_type   date  weight\n",
       "0         AAA             2013J           1752             TMA   19.0    10.0\n",
       "1         AAA             2013J           1753             TMA   54.0    20.0\n",
       "2         AAA             2013J           1754             TMA  117.0    20.0\n",
       "3         AAA             2013J           1755             TMA  166.0    20.0\n",
       "4         AAA             2013J           1756             TMA  215.0    30.0"
      ]
     },
     "execution_count": 3,
     "metadata": {},
     "output_type": "execute_result"
    }
   ],
   "source": [
    "# First lets look at the head\n",
    "assessment.head()"
   ]
  },
  {
   "cell_type": "markdown",
   "metadata": {},
   "source": [
    "From first look we can see there are 6 columns:\n",
    "\n",
    "- ***code_module*** : code to identify the module.\n",
    "\n",
    "- ***code_presentation*** : code to identify the presentation.\n",
    "\n",
    "- ***id_assessment*** : code to identify the assessment.\n",
    "\n",
    "- ***assessment_type*** : type of assessment\n",
    "\n",
    "- ***date*** : information about the final submission date of the assessment calculated as the number of days since the start of the module-presentation. The starting date of the presentation has number 0 (zero)\n",
    "\n",
    "- ***weight*** : weight of the assessment in %. Typically, Exams are treated separately and have the weight 100%; the sum of all other assessments is 100%"
   ]
  },
  {
   "cell_type": "code",
   "execution_count": 4,
   "metadata": {},
   "outputs": [
    {
     "data": {
      "text/html": [
       "<div>\n",
       "<style scoped>\n",
       "    .dataframe tbody tr th:only-of-type {\n",
       "        vertical-align: middle;\n",
       "    }\n",
       "\n",
       "    .dataframe tbody tr th {\n",
       "        vertical-align: top;\n",
       "    }\n",
       "\n",
       "    .dataframe thead th {\n",
       "        text-align: right;\n",
       "    }\n",
       "</style>\n",
       "<table border=\"1\" class=\"dataframe\">\n",
       "  <thead>\n",
       "    <tr style=\"text-align: right;\">\n",
       "      <th></th>\n",
       "      <th>code_module</th>\n",
       "      <th>code_presentation</th>\n",
       "      <th>id_assessment</th>\n",
       "      <th>assessment_type</th>\n",
       "      <th>date</th>\n",
       "      <th>weight</th>\n",
       "    </tr>\n",
       "  </thead>\n",
       "  <tbody>\n",
       "    <tr>\n",
       "      <th>201</th>\n",
       "      <td>GGG</td>\n",
       "      <td>2014J</td>\n",
       "      <td>37443</td>\n",
       "      <td>CMA</td>\n",
       "      <td>229.0</td>\n",
       "      <td>0.0</td>\n",
       "    </tr>\n",
       "    <tr>\n",
       "      <th>202</th>\n",
       "      <td>GGG</td>\n",
       "      <td>2014J</td>\n",
       "      <td>37435</td>\n",
       "      <td>TMA</td>\n",
       "      <td>61.0</td>\n",
       "      <td>0.0</td>\n",
       "    </tr>\n",
       "    <tr>\n",
       "      <th>203</th>\n",
       "      <td>GGG</td>\n",
       "      <td>2014J</td>\n",
       "      <td>37436</td>\n",
       "      <td>TMA</td>\n",
       "      <td>124.0</td>\n",
       "      <td>0.0</td>\n",
       "    </tr>\n",
       "    <tr>\n",
       "      <th>204</th>\n",
       "      <td>GGG</td>\n",
       "      <td>2014J</td>\n",
       "      <td>37437</td>\n",
       "      <td>TMA</td>\n",
       "      <td>173.0</td>\n",
       "      <td>0.0</td>\n",
       "    </tr>\n",
       "    <tr>\n",
       "      <th>205</th>\n",
       "      <td>GGG</td>\n",
       "      <td>2014J</td>\n",
       "      <td>37444</td>\n",
       "      <td>Exam</td>\n",
       "      <td>229.0</td>\n",
       "      <td>100.0</td>\n",
       "    </tr>\n",
       "  </tbody>\n",
       "</table>\n",
       "</div>"
      ],
      "text/plain": [
       "    code_module code_presentation  id_assessment assessment_type   date  \\\n",
       "201         GGG             2014J          37443             CMA  229.0   \n",
       "202         GGG             2014J          37435             TMA   61.0   \n",
       "203         GGG             2014J          37436             TMA  124.0   \n",
       "204         GGG             2014J          37437             TMA  173.0   \n",
       "205         GGG             2014J          37444            Exam  229.0   \n",
       "\n",
       "     weight  \n",
       "201     0.0  \n",
       "202     0.0  \n",
       "203     0.0  \n",
       "204     0.0  \n",
       "205   100.0  "
      ]
     },
     "execution_count": 4,
     "metadata": {},
     "output_type": "execute_result"
    }
   ],
   "source": [
    "# Look at the tail\n",
    "assessment.tail()"
   ]
  },
  {
   "cell_type": "code",
   "execution_count": 5,
   "metadata": {
    "scrolled": true
   },
   "outputs": [
    {
     "name": "stdout",
     "output_type": "stream",
     "text": [
      "<class 'pandas.core.frame.DataFrame'>\n",
      "RangeIndex: 206 entries, 0 to 205\n",
      "Data columns (total 6 columns):\n",
      " #   Column             Non-Null Count  Dtype  \n",
      "---  ------             --------------  -----  \n",
      " 0   code_module        206 non-null    object \n",
      " 1   code_presentation  206 non-null    object \n",
      " 2   id_assessment      206 non-null    int64  \n",
      " 3   assessment_type    206 non-null    object \n",
      " 4   date               195 non-null    float64\n",
      " 5   weight             206 non-null    float64\n",
      "dtypes: float64(2), int64(1), object(3)\n",
      "memory usage: 9.8+ KB\n"
     ]
    }
   ],
   "source": [
    "# next would be a good idea to check any null values\n",
    "assessment.info()\n",
    "# Here we can see there are 11 dates which are null."
   ]
  },
  {
   "cell_type": "code",
   "execution_count": 6,
   "metadata": {},
   "outputs": [
    {
     "name": "stdout",
     "output_type": "stream",
     "text": [
      "code_module - 7 unique values\n",
      "code_presentation - 4 unique values\n",
      "id_assessment - 206 unique values\n",
      "assessment_type - 3 unique values\n",
      "date - 75 unique values\n",
      "weight - 24 unique values\n"
     ]
    }
   ],
   "source": [
    "# Lets look at the unique values for each column\n",
    "for col in assessment.columns:\n",
    "    print(col, \"-\", len(assessment[col].unique()), \"unique values\")"
   ]
  },
  {
   "cell_type": "code",
   "execution_count": 7,
   "metadata": {},
   "outputs": [
    {
     "name": "stdout",
     "output_type": "stream",
     "text": [
      "code_module - 7 ['AAA' 'BBB' 'CCC' 'DDD' 'EEE' 'FFF' 'GGG']\n",
      "code_presentation - 4 ['2013J' '2014J' '2013B' '2014B']\n",
      "id_assessment - 206 [ 1752  1753  1754  1755  1756  1757  1758  1759  1760  1761  1762  1763\n",
      " 14991 14992 14993 14994 14995 14984 14985 14986 14987 14988 14989 14990\n",
      " 15003 15004 15005 15006 15007 14996 14997 14998 14999 15000 15001 15002\n",
      " 15015 15016 15017 15018 15019 15008 15009 15010 15011 15012 15013 15014\n",
      " 15020 15021 15022 15023 15024 15025 24286 24287 24288 24289 24282 24283\n",
      " 24284 24285 24290 40087 24295 24296 24297 24298 24291 24292 24293 24294\n",
      " 24299 40088 25341 25342 25343 25344 25345 25346 25347 25334 25335 25336\n",
      " 25337 25338 25339 25340 25348 25349 25350 25351 25352 25353 25354 25355\n",
      " 25356 25357 25358 25359 25360 25361 25362 25363 25364 25365 25366 25367\n",
      " 25368 30709 30710 30711 30712 30713 30714 30715 30716 30717 30718 30719\n",
      " 30720 30721 30722 30723 34865 34866 34867 34868 34869 34871 34870 34860\n",
      " 34861 34862 34863 34864 34872 34878 34879 34880 34881 34882 34884 34883\n",
      " 34873 34874 34875 34876 34877 34885 34891 34892 34893 34894 34895 34897\n",
      " 34896 34886 34887 34888 34889 34890 34898 34904 34905 34906 34907 34908\n",
      " 34910 34909 34899 34900 34901 34902 34903 34911 37418 37419 37420 37421\n",
      " 37422 37423 37415 37416 37417 37424 37428 37429 37430 37431 37432 37433\n",
      " 37425 37426 37427 37434 37438 37439 37440 37441 37442 37443 37435 37436\n",
      " 37437 37444]\n",
      "assessment_type - 3 ['TMA' 'Exam' 'CMA']\n",
      "date - 75 [ 19.  54. 117. 166. 215.  nan  89. 124. 159. 187.  47.  96. 131. 208.\n",
      "  82. 152. 194.  12.  40. 110. 201.  18.  67. 137. 207.  32. 102. 151.\n",
      " 200. 144. 214. 109. 158.  23.  51.  79. 114. 149. 170. 206.  25.  53.\n",
      "  81. 116. 240.  88. 123. 165. 261.  74. 241.  20.  41.  62. 111. 146.\n",
      " 195.  33.  68. 235. 228. 222. 236. 173. 227.  24.  52.  87. 129. 171.\n",
      "  94. 136. 199. 229.  61.]\n",
      "weight - 24 [ 10.   20.   30.  100.    1.    5.   18.    0.   35.    2.    7.    8.\n",
      "   9.   22.    3.    4.    6.    7.5  12.5  15.   17.5  25.   16.   28. ]\n"
     ]
    }
   ],
   "source": [
    "# lets try to loop through each unique value as a value (instead of a count)\n",
    "for col in assessment.columns:\n",
    "    print(col, \"-\", len(assessment[col].unique()), assessment[col].unique())"
   ]
  },
  {
   "cell_type": "markdown",
   "metadata": {},
   "source": [
    "Now to look at the spread of the data, where is the data falling within the whole dataset."
   ]
  },
  {
   "cell_type": "code",
   "execution_count": 8,
   "metadata": {},
   "outputs": [
    {
     "data": {
      "text/html": [
       "<div>\n",
       "<style scoped>\n",
       "    .dataframe tbody tr th:only-of-type {\n",
       "        vertical-align: middle;\n",
       "    }\n",
       "\n",
       "    .dataframe tbody tr th {\n",
       "        vertical-align: top;\n",
       "    }\n",
       "\n",
       "    .dataframe thead th {\n",
       "        text-align: right;\n",
       "    }\n",
       "</style>\n",
       "<table border=\"1\" class=\"dataframe\">\n",
       "  <thead>\n",
       "    <tr style=\"text-align: right;\">\n",
       "      <th></th>\n",
       "      <th>id_assessment</th>\n",
       "      <th>date</th>\n",
       "      <th>weight</th>\n",
       "    </tr>\n",
       "  </thead>\n",
       "  <tbody>\n",
       "    <tr>\n",
       "      <th>count</th>\n",
       "      <td>206.000000</td>\n",
       "      <td>195.000000</td>\n",
       "      <td>206.000000</td>\n",
       "    </tr>\n",
       "    <tr>\n",
       "      <th>mean</th>\n",
       "      <td>26473.975728</td>\n",
       "      <td>145.005128</td>\n",
       "      <td>20.873786</td>\n",
       "    </tr>\n",
       "    <tr>\n",
       "      <th>std</th>\n",
       "      <td>10098.625521</td>\n",
       "      <td>76.001119</td>\n",
       "      <td>30.384224</td>\n",
       "    </tr>\n",
       "    <tr>\n",
       "      <th>min</th>\n",
       "      <td>1752.000000</td>\n",
       "      <td>12.000000</td>\n",
       "      <td>0.000000</td>\n",
       "    </tr>\n",
       "    <tr>\n",
       "      <th>25%</th>\n",
       "      <td>15023.250000</td>\n",
       "      <td>71.000000</td>\n",
       "      <td>0.000000</td>\n",
       "    </tr>\n",
       "    <tr>\n",
       "      <th>50%</th>\n",
       "      <td>25364.500000</td>\n",
       "      <td>152.000000</td>\n",
       "      <td>12.500000</td>\n",
       "    </tr>\n",
       "    <tr>\n",
       "      <th>75%</th>\n",
       "      <td>34891.750000</td>\n",
       "      <td>222.000000</td>\n",
       "      <td>24.250000</td>\n",
       "    </tr>\n",
       "    <tr>\n",
       "      <th>max</th>\n",
       "      <td>40088.000000</td>\n",
       "      <td>261.000000</td>\n",
       "      <td>100.000000</td>\n",
       "    </tr>\n",
       "  </tbody>\n",
       "</table>\n",
       "</div>"
      ],
      "text/plain": [
       "       id_assessment        date      weight\n",
       "count     206.000000  195.000000  206.000000\n",
       "mean    26473.975728  145.005128   20.873786\n",
       "std     10098.625521   76.001119   30.384224\n",
       "min      1752.000000   12.000000    0.000000\n",
       "25%     15023.250000   71.000000    0.000000\n",
       "50%     25364.500000  152.000000   12.500000\n",
       "75%     34891.750000  222.000000   24.250000\n",
       "max     40088.000000  261.000000  100.000000"
      ]
     },
     "execution_count": 8,
     "metadata": {},
     "output_type": "execute_result"
    }
   ],
   "source": [
    "assessment.describe()\n",
    "# this is missing the objects within the dataset"
   ]
  },
  {
   "cell_type": "code",
   "execution_count": 9,
   "metadata": {},
   "outputs": [
    {
     "data": {
      "text/html": [
       "<div>\n",
       "<style scoped>\n",
       "    .dataframe tbody tr th:only-of-type {\n",
       "        vertical-align: middle;\n",
       "    }\n",
       "\n",
       "    .dataframe tbody tr th {\n",
       "        vertical-align: top;\n",
       "    }\n",
       "\n",
       "    .dataframe thead th {\n",
       "        text-align: right;\n",
       "    }\n",
       "</style>\n",
       "<table border=\"1\" class=\"dataframe\">\n",
       "  <thead>\n",
       "    <tr style=\"text-align: right;\">\n",
       "      <th></th>\n",
       "      <th>code_module</th>\n",
       "      <th>code_presentation</th>\n",
       "      <th>assessment_type</th>\n",
       "    </tr>\n",
       "  </thead>\n",
       "  <tbody>\n",
       "    <tr>\n",
       "      <th>count</th>\n",
       "      <td>206</td>\n",
       "      <td>206</td>\n",
       "      <td>206</td>\n",
       "    </tr>\n",
       "    <tr>\n",
       "      <th>unique</th>\n",
       "      <td>7</td>\n",
       "      <td>4</td>\n",
       "      <td>3</td>\n",
       "    </tr>\n",
       "    <tr>\n",
       "      <th>top</th>\n",
       "      <td>FFF</td>\n",
       "      <td>2014B</td>\n",
       "      <td>TMA</td>\n",
       "    </tr>\n",
       "    <tr>\n",
       "      <th>freq</th>\n",
       "      <td>52</td>\n",
       "      <td>57</td>\n",
       "      <td>106</td>\n",
       "    </tr>\n",
       "  </tbody>\n",
       "</table>\n",
       "</div>"
      ],
      "text/plain": [
       "       code_module code_presentation assessment_type\n",
       "count          206               206             206\n",
       "unique           7                 4               3\n",
       "top            FFF             2014B             TMA\n",
       "freq            52                57             106"
      ]
     },
     "execution_count": 9,
     "metadata": {},
     "output_type": "execute_result"
    }
   ],
   "source": [
    "# add include objects to look at the categorical columns\n",
    "assessment.describe(include='object')"
   ]
  },
  {
   "cell_type": "markdown",
   "metadata": {},
   "source": [
    "With this dataset, there isn't much to pull from this dataset as it is (It could be useful if joined with some of the other datasets which will be explored later.)\n",
    "<br>\n",
    "<br> \n",
    "I also tried to use pandas profiling / profile report but it took up a lot of RAM (16GB) for all 7 datasets."
   ]
  },
  {
   "cell_type": "markdown",
   "metadata": {},
   "source": [
    "## 1.2 - Dataset 2 - Course\n",
    "This section of the report will look at exploring the dataset course."
   ]
  },
  {
   "cell_type": "code",
   "execution_count": 10,
   "metadata": {},
   "outputs": [
    {
     "data": {
      "text/html": [
       "<div>\n",
       "<style scoped>\n",
       "    .dataframe tbody tr th:only-of-type {\n",
       "        vertical-align: middle;\n",
       "    }\n",
       "\n",
       "    .dataframe tbody tr th {\n",
       "        vertical-align: top;\n",
       "    }\n",
       "\n",
       "    .dataframe thead th {\n",
       "        text-align: right;\n",
       "    }\n",
       "</style>\n",
       "<table border=\"1\" class=\"dataframe\">\n",
       "  <thead>\n",
       "    <tr style=\"text-align: right;\">\n",
       "      <th></th>\n",
       "      <th>code_module</th>\n",
       "      <th>code_presentation</th>\n",
       "      <th>module_presentation_length</th>\n",
       "    </tr>\n",
       "  </thead>\n",
       "  <tbody>\n",
       "    <tr>\n",
       "      <th>0</th>\n",
       "      <td>AAA</td>\n",
       "      <td>2013J</td>\n",
       "      <td>268</td>\n",
       "    </tr>\n",
       "    <tr>\n",
       "      <th>1</th>\n",
       "      <td>AAA</td>\n",
       "      <td>2014J</td>\n",
       "      <td>269</td>\n",
       "    </tr>\n",
       "    <tr>\n",
       "      <th>2</th>\n",
       "      <td>BBB</td>\n",
       "      <td>2013J</td>\n",
       "      <td>268</td>\n",
       "    </tr>\n",
       "    <tr>\n",
       "      <th>3</th>\n",
       "      <td>BBB</td>\n",
       "      <td>2014J</td>\n",
       "      <td>262</td>\n",
       "    </tr>\n",
       "    <tr>\n",
       "      <th>4</th>\n",
       "      <td>BBB</td>\n",
       "      <td>2013B</td>\n",
       "      <td>240</td>\n",
       "    </tr>\n",
       "  </tbody>\n",
       "</table>\n",
       "</div>"
      ],
      "text/plain": [
       "  code_module code_presentation  module_presentation_length\n",
       "0         AAA             2013J                         268\n",
       "1         AAA             2014J                         269\n",
       "2         BBB             2013J                         268\n",
       "3         BBB             2014J                         262\n",
       "4         BBB             2013B                         240"
      ]
     },
     "execution_count": 10,
     "metadata": {},
     "output_type": "execute_result"
    }
   ],
   "source": [
    "# Lets start by looking at the head.\n",
    "course.head()"
   ]
  },
  {
   "cell_type": "markdown",
   "metadata": {},
   "source": [
    "From first look of this dataset, here we can see:\n",
    "\n",
    "- ***code_module*** : code to identify the module.\n",
    "\n",
    "- ***code_presentation*** : code name of the presentation.\n",
    "\n",
    "- ***module_presentation_length*** :  length of the module-presentation in days"
   ]
  },
  {
   "cell_type": "code",
   "execution_count": 11,
   "metadata": {},
   "outputs": [
    {
     "data": {
      "text/html": [
       "<div>\n",
       "<style scoped>\n",
       "    .dataframe tbody tr th:only-of-type {\n",
       "        vertical-align: middle;\n",
       "    }\n",
       "\n",
       "    .dataframe tbody tr th {\n",
       "        vertical-align: top;\n",
       "    }\n",
       "\n",
       "    .dataframe thead th {\n",
       "        text-align: right;\n",
       "    }\n",
       "</style>\n",
       "<table border=\"1\" class=\"dataframe\">\n",
       "  <thead>\n",
       "    <tr style=\"text-align: right;\">\n",
       "      <th></th>\n",
       "      <th>code_module</th>\n",
       "      <th>code_presentation</th>\n",
       "      <th>module_presentation_length</th>\n",
       "    </tr>\n",
       "  </thead>\n",
       "  <tbody>\n",
       "    <tr>\n",
       "      <th>17</th>\n",
       "      <td>FFF</td>\n",
       "      <td>2013B</td>\n",
       "      <td>240</td>\n",
       "    </tr>\n",
       "    <tr>\n",
       "      <th>18</th>\n",
       "      <td>FFF</td>\n",
       "      <td>2014B</td>\n",
       "      <td>241</td>\n",
       "    </tr>\n",
       "    <tr>\n",
       "      <th>19</th>\n",
       "      <td>GGG</td>\n",
       "      <td>2013J</td>\n",
       "      <td>261</td>\n",
       "    </tr>\n",
       "    <tr>\n",
       "      <th>20</th>\n",
       "      <td>GGG</td>\n",
       "      <td>2014J</td>\n",
       "      <td>269</td>\n",
       "    </tr>\n",
       "    <tr>\n",
       "      <th>21</th>\n",
       "      <td>GGG</td>\n",
       "      <td>2014B</td>\n",
       "      <td>241</td>\n",
       "    </tr>\n",
       "  </tbody>\n",
       "</table>\n",
       "</div>"
      ],
      "text/plain": [
       "   code_module code_presentation  module_presentation_length\n",
       "17         FFF             2013B                         240\n",
       "18         FFF             2014B                         241\n",
       "19         GGG             2013J                         261\n",
       "20         GGG             2014J                         269\n",
       "21         GGG             2014B                         241"
      ]
     },
     "execution_count": 11,
     "metadata": {},
     "output_type": "execute_result"
    }
   ],
   "source": [
    "course.tail()"
   ]
  },
  {
   "cell_type": "code",
   "execution_count": 12,
   "metadata": {},
   "outputs": [
    {
     "name": "stdout",
     "output_type": "stream",
     "text": [
      "<class 'pandas.core.frame.DataFrame'>\n",
      "RangeIndex: 22 entries, 0 to 21\n",
      "Data columns (total 3 columns):\n",
      " #   Column                      Non-Null Count  Dtype \n",
      "---  ------                      --------------  ----- \n",
      " 0   code_module                 22 non-null     object\n",
      " 1   code_presentation           22 non-null     object\n",
      " 2   module_presentation_length  22 non-null     int64 \n",
      "dtypes: int64(1), object(2)\n",
      "memory usage: 656.0+ bytes\n"
     ]
    }
   ],
   "source": [
    "course.info()"
   ]
  },
  {
   "cell_type": "code",
   "execution_count": 13,
   "metadata": {},
   "outputs": [
    {
     "name": "stdout",
     "output_type": "stream",
     "text": [
      "code_module - 7 unique values\n",
      "code_presentation - 4 unique values\n",
      "module_presentation_length - 7 unique values\n"
     ]
    }
   ],
   "source": [
    "# Lets look at the unique values for each column\n",
    "for col in course.columns:\n",
    "    print(col, \"-\", len(course[col].unique()), \"unique values\")"
   ]
  },
  {
   "cell_type": "code",
   "execution_count": 14,
   "metadata": {},
   "outputs": [
    {
     "name": "stdout",
     "output_type": "stream",
     "text": [
      "code_module - 7 ['AAA' 'BBB' 'CCC' 'DDD' 'EEE' 'FFF' 'GGG']\n",
      "code_presentation - 4 ['2013J' '2014J' '2013B' '2014B']\n",
      "module_presentation_length - 7 [268 269 262 240 234 241 261]\n"
     ]
    }
   ],
   "source": [
    "# lets try to loop through each unique value as a value (instead of a count)\n",
    "for col in course.columns:\n",
    "    print(col, \"-\", len(course[col].unique()), course[col].unique())"
   ]
  },
  {
   "cell_type": "markdown",
   "metadata": {},
   "source": [
    "From first look, we can see 2 / 3 of these columns were within the assessment dataset.<br> Due to this, this section will stop here as there isn't much insight to get from this dataset on it's own."
   ]
  },
  {
   "cell_type": "markdown",
   "metadata": {},
   "source": [
    "## 1.3 - Dataset 3 - Student Assessment (stAssessment).\n",
    "This section of the report will look at exploring the dataset stAssessment."
   ]
  },
  {
   "cell_type": "code",
   "execution_count": 15,
   "metadata": {},
   "outputs": [
    {
     "data": {
      "text/html": [
       "<div>\n",
       "<style scoped>\n",
       "    .dataframe tbody tr th:only-of-type {\n",
       "        vertical-align: middle;\n",
       "    }\n",
       "\n",
       "    .dataframe tbody tr th {\n",
       "        vertical-align: top;\n",
       "    }\n",
       "\n",
       "    .dataframe thead th {\n",
       "        text-align: right;\n",
       "    }\n",
       "</style>\n",
       "<table border=\"1\" class=\"dataframe\">\n",
       "  <thead>\n",
       "    <tr style=\"text-align: right;\">\n",
       "      <th></th>\n",
       "      <th>id_assessment</th>\n",
       "      <th>id_student</th>\n",
       "      <th>date_submitted</th>\n",
       "      <th>is_banked</th>\n",
       "      <th>score</th>\n",
       "    </tr>\n",
       "  </thead>\n",
       "  <tbody>\n",
       "    <tr>\n",
       "      <th>0</th>\n",
       "      <td>1752</td>\n",
       "      <td>11391</td>\n",
       "      <td>18</td>\n",
       "      <td>0</td>\n",
       "      <td>78.0</td>\n",
       "    </tr>\n",
       "    <tr>\n",
       "      <th>1</th>\n",
       "      <td>1752</td>\n",
       "      <td>28400</td>\n",
       "      <td>22</td>\n",
       "      <td>0</td>\n",
       "      <td>70.0</td>\n",
       "    </tr>\n",
       "    <tr>\n",
       "      <th>2</th>\n",
       "      <td>1752</td>\n",
       "      <td>31604</td>\n",
       "      <td>17</td>\n",
       "      <td>0</td>\n",
       "      <td>72.0</td>\n",
       "    </tr>\n",
       "    <tr>\n",
       "      <th>3</th>\n",
       "      <td>1752</td>\n",
       "      <td>32885</td>\n",
       "      <td>26</td>\n",
       "      <td>0</td>\n",
       "      <td>69.0</td>\n",
       "    </tr>\n",
       "    <tr>\n",
       "      <th>4</th>\n",
       "      <td>1752</td>\n",
       "      <td>38053</td>\n",
       "      <td>19</td>\n",
       "      <td>0</td>\n",
       "      <td>79.0</td>\n",
       "    </tr>\n",
       "  </tbody>\n",
       "</table>\n",
       "</div>"
      ],
      "text/plain": [
       "   id_assessment  id_student  date_submitted  is_banked  score\n",
       "0           1752       11391              18          0   78.0\n",
       "1           1752       28400              22          0   70.0\n",
       "2           1752       31604              17          0   72.0\n",
       "3           1752       32885              26          0   69.0\n",
       "4           1752       38053              19          0   79.0"
      ]
     },
     "execution_count": 15,
     "metadata": {},
     "output_type": "execute_result"
    }
   ],
   "source": [
    "stAssessment.head()"
   ]
  },
  {
   "cell_type": "markdown",
   "metadata": {},
   "source": [
    "From first look at this dataset:\n",
    "- ***id_assessment*** : the identification number of the assessment.\n",
    "\n",
    "- ***id_student*** : a unique identification number for the student.\n",
    "\n",
    "- ***date_submitted*** : the date of student submission, measured as the number of days since the start of the module presentation.\n",
    "\n",
    "- ***is_banked*** : a status flag indicating that the assessment result has been transferred from a previous presentation.\n",
    "   \n",
    "- ***score*** : the student’s score in this assessment. The range is from 0 to 100. The score lower than 40 is interpreted as Fail. The marks are in the range from 0 to 100.\n",
    "\n",
    "The main take away from this dataset would be the score, which could be used to look for hidden patterns.\n",
    "    "
   ]
  },
  {
   "cell_type": "code",
   "execution_count": 16,
   "metadata": {},
   "outputs": [
    {
     "data": {
      "text/html": [
       "<div>\n",
       "<style scoped>\n",
       "    .dataframe tbody tr th:only-of-type {\n",
       "        vertical-align: middle;\n",
       "    }\n",
       "\n",
       "    .dataframe tbody tr th {\n",
       "        vertical-align: top;\n",
       "    }\n",
       "\n",
       "    .dataframe thead th {\n",
       "        text-align: right;\n",
       "    }\n",
       "</style>\n",
       "<table border=\"1\" class=\"dataframe\">\n",
       "  <thead>\n",
       "    <tr style=\"text-align: right;\">\n",
       "      <th></th>\n",
       "      <th>id_assessment</th>\n",
       "      <th>id_student</th>\n",
       "      <th>date_submitted</th>\n",
       "      <th>is_banked</th>\n",
       "      <th>score</th>\n",
       "    </tr>\n",
       "  </thead>\n",
       "  <tbody>\n",
       "    <tr>\n",
       "      <th>173907</th>\n",
       "      <td>37443</td>\n",
       "      <td>527538</td>\n",
       "      <td>227</td>\n",
       "      <td>0</td>\n",
       "      <td>60.0</td>\n",
       "    </tr>\n",
       "    <tr>\n",
       "      <th>173908</th>\n",
       "      <td>37443</td>\n",
       "      <td>534672</td>\n",
       "      <td>229</td>\n",
       "      <td>0</td>\n",
       "      <td>100.0</td>\n",
       "    </tr>\n",
       "    <tr>\n",
       "      <th>173909</th>\n",
       "      <td>37443</td>\n",
       "      <td>546286</td>\n",
       "      <td>215</td>\n",
       "      <td>0</td>\n",
       "      <td>80.0</td>\n",
       "    </tr>\n",
       "    <tr>\n",
       "      <th>173910</th>\n",
       "      <td>37443</td>\n",
       "      <td>546724</td>\n",
       "      <td>230</td>\n",
       "      <td>0</td>\n",
       "      <td>100.0</td>\n",
       "    </tr>\n",
       "    <tr>\n",
       "      <th>173911</th>\n",
       "      <td>37443</td>\n",
       "      <td>558486</td>\n",
       "      <td>224</td>\n",
       "      <td>0</td>\n",
       "      <td>80.0</td>\n",
       "    </tr>\n",
       "  </tbody>\n",
       "</table>\n",
       "</div>"
      ],
      "text/plain": [
       "        id_assessment  id_student  date_submitted  is_banked  score\n",
       "173907          37443      527538             227          0   60.0\n",
       "173908          37443      534672             229          0  100.0\n",
       "173909          37443      546286             215          0   80.0\n",
       "173910          37443      546724             230          0  100.0\n",
       "173911          37443      558486             224          0   80.0"
      ]
     },
     "execution_count": 16,
     "metadata": {},
     "output_type": "execute_result"
    }
   ],
   "source": [
    "stAssessment.tail()"
   ]
  },
  {
   "cell_type": "markdown",
   "metadata": {},
   "source": [
    "From first look, it looks like this dataset could be used to see the students scores from their assessments. <br>\n",
    "This could be used to group students into grade bands.\n",
    "\n"
   ]
  },
  {
   "cell_type": "code",
   "execution_count": 17,
   "metadata": {},
   "outputs": [
    {
     "name": "stdout",
     "output_type": "stream",
     "text": [
      "<class 'pandas.core.frame.DataFrame'>\n",
      "RangeIndex: 173912 entries, 0 to 173911\n",
      "Data columns (total 5 columns):\n",
      " #   Column          Non-Null Count   Dtype  \n",
      "---  ------          --------------   -----  \n",
      " 0   id_assessment   173912 non-null  int64  \n",
      " 1   id_student      173912 non-null  int64  \n",
      " 2   date_submitted  173912 non-null  int64  \n",
      " 3   is_banked       173912 non-null  int64  \n",
      " 4   score           173739 non-null  float64\n",
      "dtypes: float64(1), int64(4)\n",
      "memory usage: 6.6 MB\n"
     ]
    }
   ],
   "source": [
    "stAssessment.info()\n",
    "# the info shows us there are 173 scores with missing values."
   ]
  },
  {
   "cell_type": "code",
   "execution_count": 18,
   "metadata": {
    "scrolled": true
   },
   "outputs": [
    {
     "name": "stdout",
     "output_type": "stream",
     "text": [
      "id_assessment - 188 unique values\n",
      "id_student - 23369 unique values\n",
      "date_submitted - 312 unique values\n",
      "is_banked - 2 unique values\n",
      "score - 102 unique values\n"
     ]
    }
   ],
   "source": [
    "# Lets look at the unique values for each column\n",
    "for col in stAssessment.columns:\n",
    "    print(col, \"-\", len(stAssessment[col].unique()), \"unique values\")"
   ]
  },
  {
   "cell_type": "code",
   "execution_count": 19,
   "metadata": {
    "scrolled": true
   },
   "outputs": [
    {
     "name": "stdout",
     "output_type": "stream",
     "text": [
      "id_assessment - 188 [ 1752  1753  1754  1755  1756  1758  1759  1760  1761  1762 14984 14985\n",
      " 14986 14987 14988 14989 14991 14992 14993 14994 14995 14996 14997 14998\n",
      " 14999 15000 15001 15003 15004 15005 15006 15007 15008 15009 15010 15011\n",
      " 15012 15013 15015 15016 15017 15018 15019 15020 15021 15022 15023 15024\n",
      " 24282 24283 24284 24285 24286 24287 24288 24289 24290 24291 24292 24293\n",
      " 24294 24295 24296 24297 24298 24299 25334 25335 25336 25337 25338 25339\n",
      " 25340 25341 25342 25343 25344 25345 25346 25347 25348 25349 25350 25351\n",
      " 25352 25353 25354 25355 25356 25357 25358 25359 25360 25361 25362 25363\n",
      " 25364 25365 25366 25367 25368 30709 30710 30711 30712 30714 30715 30716\n",
      " 30717 30719 30720 30721 30722 34860 34861 34862 34863 34864 34865 34866\n",
      " 34867 34868 34869 34870 34871 34873 34874 34875 34876 34877 34878 34879\n",
      " 34880 34881 34882 34883 34884 34886 34887 34888 34889 34890 34891 34892\n",
      " 34893 34894 34895 34896 34897 34899 34900 34901 34902 34903 34904 34905\n",
      " 34906 34907 34908 34909 34910 37415 37416 37417 37418 37419 37420 37421\n",
      " 37422 37423 37425 37426 37427 37428 37429 37430 37431 37432 37433 37435\n",
      " 37436 37437 37438 37439 37440 37441 37442 37443]\n",
      "id_student - 23369 [ 11391  28400  31604 ... 692171 650630 573320]\n",
      "date_submitted - 312 [ 18  22  17  26  19  20   9  21  16  30  32  10  25  15  54  24  33  27\n",
      "  23  37  29   7  58  12  14  50  36  56  53  51  52  64  61  70 106  57\n",
      "  59  48  62  55  68  69  67  63  49  47  75  60  95  65  90  66 116  42\n",
      "  72  92 114 146 117 115 112 120 124 121 111 110 122  85 139 123 130 113\n",
      " 118 135 127  78 134 108 126 107 119 131 138 125 100 102  94 133 128 164\n",
      " 165 181 166 173 161 170 157 171 163 177 183 172 168 180 158 159 179 153\n",
      " 175 169 176 174 152 156 150 162 167 178 187 188 160 215 213 212 219 214\n",
      " 216 217 218 209 211 220 203 221 223 208 238 207 222 227 198 202 239 210\n",
      " 204 201 194  -1  13  39   5  28  31  38  40  11  45  84  74  35  71  46\n",
      "  44  93 109 132 144 129 137  79 136 185 184 155 237 224 234 205 235 226\n",
      "  -4   6  41  -5  77  -3  43  91  34   8   1   3   4  -6  97  80  88  86\n",
      "  81  76 186  83  89 104  87  99 101  96  98 103  82 105 193 141 142 145\n",
      " 140 147 148 143 154 151 149 189 191 197 182 192 195 199 190 206 200 196\n",
      "   0   2  -2  -9 228  73 229 236 -11  -7 270 233 232 230 243 242 266 240\n",
      " 244 245 248 256 251 250 259 249 252 285 231 241 -10 255 279 274  -8 258\n",
      " 367 578 592 594 591 586 584 481 495 423 483 480 409 312 608 381 389 458\n",
      " 502 405 418 306 333 287 570 384 466 469 545 300 486 411 453 341 590 342\n",
      " 468 487 395 298 325 225]\n",
      "is_banked - 2 [0 1]\n",
      "score - 102 [ 78.  70.  72.  69.  79.  71.  68.  73.  67.  83.  66.  59.  82.  60.\n",
      "  75.  74.  62.  63.  84.  80.  76.  85.  57.  81.  87.  77.  45.  65.\n",
      "  61.  52.  54.  51.  88.  58.  64.  55.  38.  91.  47.  89.  36.  86.\n",
      "  49.  53.  39.  nan  90.  50.  56.  30.  11.  40.  94.  48.  46.  25.\n",
      "  34.  42.  18.  37.  28.  33.  95.  35.  44.  41.  15.   0.  43.  93.\n",
      "  32.  92.  98.  24.  19.  27.  29.  20.  97.  23.  99. 100.  10.   5.\n",
      "  13.  26.  22.   8.  12.  16.   9.  96.  14.  21.  17.  31.   6.   1.\n",
      "   7.   4.   2.   3.]\n"
     ]
    }
   ],
   "source": [
    "# lets try to loop through each unique value as a value (instead of a count)\n",
    "for col in stAssessment.columns:\n",
    "    print(col, \"-\", len(stAssessment[col].unique()), stAssessment[col].unique())"
   ]
  },
  {
   "cell_type": "markdown",
   "metadata": {},
   "source": [
    "From looking at the unique values, here we can see there is quite a lot of data within this dataset which could prove some useful insight into predicting student who withdraw and the students failure rates. <br>\n",
    "For example, could we see all students who failed with a score <40."
   ]
  },
  {
   "cell_type": "code",
   "execution_count": 20,
   "metadata": {},
   "outputs": [
    {
     "name": "stdout",
     "output_type": "stream",
     "text": [
      "NA's for stAssessment \n",
      " id_assessment       0\n",
      "id_student          0\n",
      "date_submitted      0\n",
      "is_banked           0\n",
      "score             173\n",
      "dtype: int64\n",
      " NA's for studentAC \n",
      " id_assessment     0\n",
      "id_student        0\n",
      "date_submitted    0\n",
      "is_banked         0\n",
      "score             0\n",
      "dtype: int64\n"
     ]
    }
   ],
   "source": [
    "print(\"NA's for stAssessment \\n\", stAssessment.isna().sum())\n",
    "# make a copy\n",
    "studentAC = stAssessment.copy()\n",
    "# fill in na's with 0\n",
    "studentAC.fillna(0, inplace=True)\n",
    "print(\" NA's for studentAC \\n\", studentAC.isna().sum())"
   ]
  },
  {
   "cell_type": "code",
   "execution_count": 21,
   "metadata": {},
   "outputs": [
    {
     "data": {
      "text/plain": [
       "id_assessment     0\n",
       "id_student        0\n",
       "date_submitted    0\n",
       "is_banked         0\n",
       "score             0\n",
       "dtype: int64"
      ]
     },
     "execution_count": 21,
     "metadata": {},
     "output_type": "execute_result"
    }
   ],
   "source": [
    "# get all of the dataset, but filter the score column \n",
    "stFails = studentAC[studentAC[\"score\"] < 40]\n",
    "# There are 7751 scores which were less than 40.\n",
    "#print(stFails)\n",
    "# check for NA's\n",
    "stFails.isna().sum()"
   ]
  },
  {
   "cell_type": "code",
   "execution_count": 22,
   "metadata": {},
   "outputs": [
    {
     "name": "stdout",
     "output_type": "stream",
     "text": [
      "id_assessment - 183 unique values\n",
      "id_student - 4967 unique values\n",
      "date_submitted - 260 unique values\n",
      "is_banked - 2 unique values\n",
      "score - 40 unique values\n"
     ]
    }
   ],
   "source": [
    "# Now lets see if there are 7578 unique students who have failed.\n",
    "stFails['id_student'].unique()\n",
    "# using a loop, check the unique students who failed\n",
    "for col in stFails.columns:\n",
    "    print(col, \"-\", len(stFails[col].unique()), \"unique values\")"
   ]
  },
  {
   "cell_type": "markdown",
   "metadata": {},
   "source": [
    "Lets look at the highest 10 and the lowest 10 scores within the dataset"
   ]
  },
  {
   "cell_type": "code",
   "execution_count": 23,
   "metadata": {},
   "outputs": [
    {
     "data": {
      "text/plain": [
       "count    7751.000000\n",
       "mean       23.269643\n",
       "std        12.753800\n",
       "min         0.000000\n",
       "25%        15.000000\n",
       "50%        27.000000\n",
       "75%        34.000000\n",
       "max        39.000000\n",
       "Name: score, dtype: float64"
      ]
     },
     "execution_count": 23,
     "metadata": {},
     "output_type": "execute_result"
    }
   ],
   "source": [
    "stFailsLow = stFails['score'].sort_values(ascending=True)\n",
    "stFailsLow.describe()\n",
    "# With the <40 scores, here we can describe this subset to find the count, mean etc"
   ]
  },
  {
   "cell_type": "code",
   "execution_count": 24,
   "metadata": {
    "scrolled": false
   },
   "outputs": [
    {
     "data": {
      "text/plain": [
       "<AxesSubplot:title={'center':'Distribution of Scores <40. (NAs = 0)'}, ylabel='Density'>"
      ]
     },
     "execution_count": 24,
     "metadata": {},
     "output_type": "execute_result"
    },
    {
     "data": {
      "image/png": "[encoded data removed]",
      "text/plain": [
       "<Figure size 720x432 with 1 Axes>"
      ]
     },
     "metadata": {
      "needs_background": "light"
     },
     "output_type": "display_data"
    }
   ],
   "source": [
    "stFailsLow.plot(kind='kde', \n",
    "                figsize=(10,6), \n",
    "                title='Distribution of Scores <40. (NAs = 0)')"
   ]
  },
  {
   "cell_type": "markdown",
   "metadata": {},
   "source": [
    "From the distribution plot, here we can see there are a lot of grades between 30+ but really drops down before 40. Whilst this is all grades <40, it is interesting to see where the scores start to fall among the rest of the students.\n",
    "<br> <br>\n",
    "There are a lot of 0's, but this is due to all NA's having the value 0."
   ]
  },
  {
   "cell_type": "code",
   "execution_count": 25,
   "metadata": {},
   "outputs": [
    {
     "name": "stdout",
     "output_type": "stream",
     "text": [
      "        id_assessment  id_student  date_submitted  is_banked  score\n",
      "0                1752       11391              18          0   78.0\n",
      "1                1752       28400              22          0   70.0\n",
      "2                1752       31604              17          0   72.0\n",
      "3                1752       32885              26          0   69.0\n",
      "4                1752       38053              19          0   79.0\n",
      "...               ...         ...             ...        ...    ...\n",
      "173907          37443      527538             227          0   60.0\n",
      "173908          37443      534672             229          0  100.0\n",
      "173909          37443      546286             215          0   80.0\n",
      "173910          37443      546724             230          0  100.0\n",
      "173911          37443      558486             224          0   80.0\n",
      "\n",
      "[166161 rows x 5 columns]\n"
     ]
    },
    {
     "data": {
      "text/plain": [
       "id_assessment     0\n",
       "id_student        0\n",
       "date_submitted    0\n",
       "is_banked         0\n",
       "score             0\n",
       "dtype: int64"
      ]
     },
     "execution_count": 25,
     "metadata": {},
     "output_type": "execute_result"
    }
   ],
   "source": [
    "# get all of the dataset, but filter the score column \n",
    "stPass = studentAC[studentAC[\"score\"] >= 40]\n",
    "# 166161 students passed\n",
    "print(stPass)\n",
    "# check for NA's\n",
    "stPass.isna().sum()"
   ]
  },
  {
   "cell_type": "code",
   "execution_count": 26,
   "metadata": {},
   "outputs": [
    {
     "name": "stdout",
     "output_type": "stream",
     "text": [
      "id_assessment - 188 unique values\n",
      "id_student - 22973 unique values\n",
      "date_submitted - 307 unique values\n",
      "is_banked - 2 unique values\n",
      "score - 61 unique values\n"
     ]
    }
   ],
   "source": [
    "# Now lets see if there are 7578 unique students who have failed.\n",
    "stPass['id_student'].unique()\n",
    "# using a loop, check the unique students who failed\n",
    "for col in stPass.columns:\n",
    "    print(col, \"-\", len(stPass[col].unique()), \"unique values\")"
   ]
  },
  {
   "cell_type": "code",
   "execution_count": 27,
   "metadata": {},
   "outputs": [
    {
     "data": {
      "text/plain": [
       "count    166161.000000\n",
       "mean         78.171045\n",
       "std          15.281904\n",
       "min          40.000000\n",
       "25%          68.000000\n",
       "50%          80.000000\n",
       "75%          90.000000\n",
       "max         100.000000\n",
       "Name: score, dtype: float64"
      ]
     },
     "execution_count": 27,
     "metadata": {},
     "output_type": "execute_result"
    }
   ],
   "source": [
    "stPassHigh = stPass['score'].sort_values(ascending=False)\n",
    "stPassHigh.describe()\n",
    "# a lot of students scored around the 78 mark - overall most students who passed had a distinction"
   ]
  },
  {
   "cell_type": "code",
   "execution_count": 28,
   "metadata": {
    "scrolled": false
   },
   "outputs": [
    {
     "data": {
      "text/plain": [
       "<AxesSubplot:title={'center':'Distribution of Scores >= 40. (NAs = 0)'}, ylabel='Density'>"
      ]
     },
     "execution_count": 28,
     "metadata": {},
     "output_type": "execute_result"
    },
    {
     "data": {
      "image/png": "[encoded data removed]",
      "text/plain": [
       "<Figure size 792x432 with 1 Axes>"
      ]
     },
     "metadata": {
      "needs_background": "light"
     },
     "output_type": "display_data"
    }
   ],
   "source": [
    "stPassHigh.plot(kind='kde', \n",
    "                figsize=(11,6), \n",
    "                title='Distribution of Scores >= 40. (NAs = 0)')"
   ]
  },
  {
   "cell_type": "markdown",
   "metadata": {},
   "source": [
    "From the plot above, it shows there were a lot of marks around 75-80 with a lot of students hovering around the 100 mark"
   ]
  },
  {
   "cell_type": "code",
   "execution_count": 29,
   "metadata": {},
   "outputs": [
    {
     "name": "stdout",
     "output_type": "stream",
     "text": [
      "18813\n"
     ]
    }
   ],
   "source": [
    "print((stPass['score'] == 100).sum())"
   ]
  },
  {
   "cell_type": "markdown",
   "metadata": {},
   "source": [
    "There were _18813_ students who scored 100 within the dataset, they were very good students or there was a few mistakes within the dataset. The positive side of me wants to go with good students."
   ]
  },
  {
   "cell_type": "markdown",
   "metadata": {},
   "source": [
    "## 1.4 - Dataset 4 - Student Info (stInfo)\n",
    "This section of the report will look at exploring the dataset stInfo."
   ]
  },
  {
   "cell_type": "code",
   "execution_count": 30,
   "metadata": {},
   "outputs": [
    {
     "data": {
      "text/html": [
       "<div>\n",
       "<style scoped>\n",
       "    .dataframe tbody tr th:only-of-type {\n",
       "        vertical-align: middle;\n",
       "    }\n",
       "\n",
       "    .dataframe tbody tr th {\n",
       "        vertical-align: top;\n",
       "    }\n",
       "\n",
       "    .dataframe thead th {\n",
       "        text-align: right;\n",
       "    }\n",
       "</style>\n",
       "<table border=\"1\" class=\"dataframe\">\n",
       "  <thead>\n",
       "    <tr style=\"text-align: right;\">\n",
       "      <th></th>\n",
       "      <th>code_module</th>\n",
       "      <th>code_presentation</th>\n",
       "      <th>id_student</th>\n",
       "      <th>gender</th>\n",
       "      <th>region</th>\n",
       "      <th>highest_education</th>\n",
       "      <th>imd_band</th>\n",
       "      <th>age_band</th>\n",
       "      <th>num_of_prev_attempts</th>\n",
       "      <th>studied_credits</th>\n",
       "      <th>disability</th>\n",
       "      <th>final_result</th>\n",
       "    </tr>\n",
       "  </thead>\n",
       "  <tbody>\n",
       "    <tr>\n",
       "      <th>0</th>\n",
       "      <td>AAA</td>\n",
       "      <td>2013J</td>\n",
       "      <td>11391</td>\n",
       "      <td>M</td>\n",
       "      <td>East Anglian Region</td>\n",
       "      <td>HE Qualification</td>\n",
       "      <td>90-100%</td>\n",
       "      <td>55&lt;=</td>\n",
       "      <td>0</td>\n",
       "      <td>240</td>\n",
       "      <td>N</td>\n",
       "      <td>Pass</td>\n",
       "    </tr>\n",
       "    <tr>\n",
       "      <th>1</th>\n",
       "      <td>AAA</td>\n",
       "      <td>2013J</td>\n",
       "      <td>28400</td>\n",
       "      <td>F</td>\n",
       "      <td>Scotland</td>\n",
       "      <td>HE Qualification</td>\n",
       "      <td>20-30%</td>\n",
       "      <td>35-55</td>\n",
       "      <td>0</td>\n",
       "      <td>60</td>\n",
       "      <td>N</td>\n",
       "      <td>Pass</td>\n",
       "    </tr>\n",
       "    <tr>\n",
       "      <th>2</th>\n",
       "      <td>AAA</td>\n",
       "      <td>2013J</td>\n",
       "      <td>30268</td>\n",
       "      <td>F</td>\n",
       "      <td>North Western Region</td>\n",
       "      <td>A Level or Equivalent</td>\n",
       "      <td>30-40%</td>\n",
       "      <td>35-55</td>\n",
       "      <td>0</td>\n",
       "      <td>60</td>\n",
       "      <td>Y</td>\n",
       "      <td>Withdrawn</td>\n",
       "    </tr>\n",
       "    <tr>\n",
       "      <th>3</th>\n",
       "      <td>AAA</td>\n",
       "      <td>2013J</td>\n",
       "      <td>31604</td>\n",
       "      <td>F</td>\n",
       "      <td>South East Region</td>\n",
       "      <td>A Level or Equivalent</td>\n",
       "      <td>50-60%</td>\n",
       "      <td>35-55</td>\n",
       "      <td>0</td>\n",
       "      <td>60</td>\n",
       "      <td>N</td>\n",
       "      <td>Pass</td>\n",
       "    </tr>\n",
       "    <tr>\n",
       "      <th>4</th>\n",
       "      <td>AAA</td>\n",
       "      <td>2013J</td>\n",
       "      <td>32885</td>\n",
       "      <td>F</td>\n",
       "      <td>West Midlands Region</td>\n",
       "      <td>Lower Than A Level</td>\n",
       "      <td>50-60%</td>\n",
       "      <td>0-35</td>\n",
       "      <td>0</td>\n",
       "      <td>60</td>\n",
       "      <td>N</td>\n",
       "      <td>Pass</td>\n",
       "    </tr>\n",
       "  </tbody>\n",
       "</table>\n",
       "</div>"
      ],
      "text/plain": [
       "  code_module code_presentation  id_student gender                region  \\\n",
       "0         AAA             2013J       11391      M   East Anglian Region   \n",
       "1         AAA             2013J       28400      F              Scotland   \n",
       "2         AAA             2013J       30268      F  North Western Region   \n",
       "3         AAA             2013J       31604      F     South East Region   \n",
       "4         AAA             2013J       32885      F  West Midlands Region   \n",
       "\n",
       "       highest_education imd_band age_band  num_of_prev_attempts  \\\n",
       "0       HE Qualification  90-100%     55<=                     0   \n",
       "1       HE Qualification   20-30%    35-55                     0   \n",
       "2  A Level or Equivalent   30-40%    35-55                     0   \n",
       "3  A Level or Equivalent   50-60%    35-55                     0   \n",
       "4     Lower Than A Level   50-60%     0-35                     0   \n",
       "\n",
       "   studied_credits disability final_result  \n",
       "0              240          N         Pass  \n",
       "1               60          N         Pass  \n",
       "2               60          Y    Withdrawn  \n",
       "3               60          N         Pass  \n",
       "4               60          N         Pass  "
      ]
     },
     "execution_count": 30,
     "metadata": {},
     "output_type": "execute_result"
    }
   ],
   "source": [
    "stInfo.head()"
   ]
  },
  {
   "cell_type": "markdown",
   "metadata": {},
   "source": [
    "From first look, this dataset could prove to be the most useful:\n",
    "- ***code_module*** : An identification code for a module on which the student is registered.\n",
    "\n",
    "- ***code_presentation*** : The identification code of the presentation during which the student is registered on the module.\n",
    "\n",
    "- ***id_student*** : A unique identification number for the student.\n",
    "\n",
    "- ***gender*** : The student’s gender.\n",
    "\n",
    "- ***region*** : Identifies the geographic region, where the student lived while taking the module-presentation.\n",
    "\n",
    "- ***highest_education*** : Highest student education level on entry to the module presentation.\n",
    "\n",
    "- ***imd_band*** : Specifies the Index of Multiple Depravation band of the place where the student lived during the module-presentation.\n",
    "\n",
    "- ***age_band*** : Band of the student’s age.\n",
    "\n",
    "- ***num_of_prev_attempts*** : The number times the student has attempted this module.\n",
    "\n",
    "- ***studied_credits*** : The total number of credits for the modules the student is currently studying.\n",
    "\n",
    "- ***disability*** : Indicates whether the student has declared a disability\n",
    "\n",
    "- ***final_result*** : student’s final result in the module-presentation\n",
    "\n",
    "\n",
    "**This** dataset could also be explored to look at several things:\n",
    "- Does the region of the student affect the students grade?\n",
    "- Does the highest level of education affect the students grade?\n",
    "- Are students with previous attempts getting higher or lower grades?\n",
    "- Which gender scores higher?\n",
    "- Does the age affect the grade?\n",
    "- Do students with a disability score higher than average?"
   ]
  },
  {
   "cell_type": "code",
   "execution_count": 31,
   "metadata": {},
   "outputs": [
    {
     "data": {
      "text/html": [
       "<div>\n",
       "<style scoped>\n",
       "    .dataframe tbody tr th:only-of-type {\n",
       "        vertical-align: middle;\n",
       "    }\n",
       "\n",
       "    .dataframe tbody tr th {\n",
       "        vertical-align: top;\n",
       "    }\n",
       "\n",
       "    .dataframe thead th {\n",
       "        text-align: right;\n",
       "    }\n",
       "</style>\n",
       "<table border=\"1\" class=\"dataframe\">\n",
       "  <thead>\n",
       "    <tr style=\"text-align: right;\">\n",
       "      <th></th>\n",
       "      <th>code_module</th>\n",
       "      <th>code_presentation</th>\n",
       "      <th>id_student</th>\n",
       "      <th>gender</th>\n",
       "      <th>region</th>\n",
       "      <th>highest_education</th>\n",
       "      <th>imd_band</th>\n",
       "      <th>age_band</th>\n",
       "      <th>num_of_prev_attempts</th>\n",
       "      <th>studied_credits</th>\n",
       "      <th>disability</th>\n",
       "      <th>final_result</th>\n",
       "    </tr>\n",
       "  </thead>\n",
       "  <tbody>\n",
       "    <tr>\n",
       "      <th>32588</th>\n",
       "      <td>GGG</td>\n",
       "      <td>2014J</td>\n",
       "      <td>2640965</td>\n",
       "      <td>F</td>\n",
       "      <td>Wales</td>\n",
       "      <td>Lower Than A Level</td>\n",
       "      <td>10-20</td>\n",
       "      <td>0-35</td>\n",
       "      <td>0</td>\n",
       "      <td>30</td>\n",
       "      <td>N</td>\n",
       "      <td>Fail</td>\n",
       "    </tr>\n",
       "    <tr>\n",
       "      <th>32589</th>\n",
       "      <td>GGG</td>\n",
       "      <td>2014J</td>\n",
       "      <td>2645731</td>\n",
       "      <td>F</td>\n",
       "      <td>East Anglian Region</td>\n",
       "      <td>Lower Than A Level</td>\n",
       "      <td>40-50%</td>\n",
       "      <td>35-55</td>\n",
       "      <td>0</td>\n",
       "      <td>30</td>\n",
       "      <td>N</td>\n",
       "      <td>Distinction</td>\n",
       "    </tr>\n",
       "    <tr>\n",
       "      <th>32590</th>\n",
       "      <td>GGG</td>\n",
       "      <td>2014J</td>\n",
       "      <td>2648187</td>\n",
       "      <td>F</td>\n",
       "      <td>South Region</td>\n",
       "      <td>A Level or Equivalent</td>\n",
       "      <td>20-30%</td>\n",
       "      <td>0-35</td>\n",
       "      <td>0</td>\n",
       "      <td>30</td>\n",
       "      <td>Y</td>\n",
       "      <td>Pass</td>\n",
       "    </tr>\n",
       "    <tr>\n",
       "      <th>32591</th>\n",
       "      <td>GGG</td>\n",
       "      <td>2014J</td>\n",
       "      <td>2679821</td>\n",
       "      <td>F</td>\n",
       "      <td>South East Region</td>\n",
       "      <td>Lower Than A Level</td>\n",
       "      <td>90-100%</td>\n",
       "      <td>35-55</td>\n",
       "      <td>0</td>\n",
       "      <td>30</td>\n",
       "      <td>N</td>\n",
       "      <td>Withdrawn</td>\n",
       "    </tr>\n",
       "    <tr>\n",
       "      <th>32592</th>\n",
       "      <td>GGG</td>\n",
       "      <td>2014J</td>\n",
       "      <td>2684003</td>\n",
       "      <td>F</td>\n",
       "      <td>Yorkshire Region</td>\n",
       "      <td>HE Qualification</td>\n",
       "      <td>50-60%</td>\n",
       "      <td>35-55</td>\n",
       "      <td>0</td>\n",
       "      <td>30</td>\n",
       "      <td>N</td>\n",
       "      <td>Distinction</td>\n",
       "    </tr>\n",
       "  </tbody>\n",
       "</table>\n",
       "</div>"
      ],
      "text/plain": [
       "      code_module code_presentation  id_student gender               region  \\\n",
       "32588         GGG             2014J     2640965      F                Wales   \n",
       "32589         GGG             2014J     2645731      F  East Anglian Region   \n",
       "32590         GGG             2014J     2648187      F         South Region   \n",
       "32591         GGG             2014J     2679821      F    South East Region   \n",
       "32592         GGG             2014J     2684003      F     Yorkshire Region   \n",
       "\n",
       "           highest_education imd_band age_band  num_of_prev_attempts  \\\n",
       "32588     Lower Than A Level    10-20     0-35                     0   \n",
       "32589     Lower Than A Level   40-50%    35-55                     0   \n",
       "32590  A Level or Equivalent   20-30%     0-35                     0   \n",
       "32591     Lower Than A Level  90-100%    35-55                     0   \n",
       "32592       HE Qualification   50-60%    35-55                     0   \n",
       "\n",
       "       studied_credits disability final_result  \n",
       "32588               30          N         Fail  \n",
       "32589               30          N  Distinction  \n",
       "32590               30          Y         Pass  \n",
       "32591               30          N    Withdrawn  \n",
       "32592               30          N  Distinction  "
      ]
     },
     "execution_count": 31,
     "metadata": {},
     "output_type": "execute_result"
    }
   ],
   "source": [
    "stInfo.tail()"
   ]
  },
  {
   "cell_type": "code",
   "execution_count": 32,
   "metadata": {
    "scrolled": true
   },
   "outputs": [
    {
     "name": "stdout",
     "output_type": "stream",
     "text": [
      "<class 'pandas.core.frame.DataFrame'>\n",
      "RangeIndex: 32593 entries, 0 to 32592\n",
      "Data columns (total 12 columns):\n",
      " #   Column                Non-Null Count  Dtype \n",
      "---  ------                --------------  ----- \n",
      " 0   code_module           32593 non-null  object\n",
      " 1   code_presentation     32593 non-null  object\n",
      " 2   id_student            32593 non-null  int64 \n",
      " 3   gender                32593 non-null  object\n",
      " 4   region                32593 non-null  object\n",
      " 5   highest_education     32593 non-null  object\n",
      " 6   imd_band              31482 non-null  object\n",
      " 7   age_band              32593 non-null  object\n",
      " 8   num_of_prev_attempts  32593 non-null  int64 \n",
      " 9   studied_credits       32593 non-null  int64 \n",
      " 10  disability            32593 non-null  object\n",
      " 11  final_result          32593 non-null  object\n",
      "dtypes: int64(3), object(9)\n",
      "memory usage: 3.0+ MB\n"
     ]
    }
   ],
   "source": [
    "stInfo.info()"
   ]
  },
  {
   "cell_type": "code",
   "execution_count": 33,
   "metadata": {},
   "outputs": [
    {
     "data": {
      "text/html": [
       "<div>\n",
       "<style scoped>\n",
       "    .dataframe tbody tr th:only-of-type {\n",
       "        vertical-align: middle;\n",
       "    }\n",
       "\n",
       "    .dataframe tbody tr th {\n",
       "        vertical-align: top;\n",
       "    }\n",
       "\n",
       "    .dataframe thead th {\n",
       "        text-align: right;\n",
       "    }\n",
       "</style>\n",
       "<table border=\"1\" class=\"dataframe\">\n",
       "  <thead>\n",
       "    <tr style=\"text-align: right;\">\n",
       "      <th></th>\n",
       "      <th>id_student</th>\n",
       "      <th>num_of_prev_attempts</th>\n",
       "      <th>studied_credits</th>\n",
       "    </tr>\n",
       "  </thead>\n",
       "  <tbody>\n",
       "    <tr>\n",
       "      <th>count</th>\n",
       "      <td>3.259300e+04</td>\n",
       "      <td>32593.000000</td>\n",
       "      <td>32593.000000</td>\n",
       "    </tr>\n",
       "    <tr>\n",
       "      <th>mean</th>\n",
       "      <td>7.066877e+05</td>\n",
       "      <td>0.163225</td>\n",
       "      <td>79.758691</td>\n",
       "    </tr>\n",
       "    <tr>\n",
       "      <th>std</th>\n",
       "      <td>5.491673e+05</td>\n",
       "      <td>0.479758</td>\n",
       "      <td>41.071900</td>\n",
       "    </tr>\n",
       "    <tr>\n",
       "      <th>min</th>\n",
       "      <td>3.733000e+03</td>\n",
       "      <td>0.000000</td>\n",
       "      <td>30.000000</td>\n",
       "    </tr>\n",
       "    <tr>\n",
       "      <th>25%</th>\n",
       "      <td>5.085730e+05</td>\n",
       "      <td>0.000000</td>\n",
       "      <td>60.000000</td>\n",
       "    </tr>\n",
       "    <tr>\n",
       "      <th>50%</th>\n",
       "      <td>5.903100e+05</td>\n",
       "      <td>0.000000</td>\n",
       "      <td>60.000000</td>\n",
       "    </tr>\n",
       "    <tr>\n",
       "      <th>75%</th>\n",
       "      <td>6.444530e+05</td>\n",
       "      <td>0.000000</td>\n",
       "      <td>120.000000</td>\n",
       "    </tr>\n",
       "    <tr>\n",
       "      <th>max</th>\n",
       "      <td>2.716795e+06</td>\n",
       "      <td>6.000000</td>\n",
       "      <td>655.000000</td>\n",
       "    </tr>\n",
       "  </tbody>\n",
       "</table>\n",
       "</div>"
      ],
      "text/plain": [
       "         id_student  num_of_prev_attempts  studied_credits\n",
       "count  3.259300e+04          32593.000000     32593.000000\n",
       "mean   7.066877e+05              0.163225        79.758691\n",
       "std    5.491673e+05              0.479758        41.071900\n",
       "min    3.733000e+03              0.000000        30.000000\n",
       "25%    5.085730e+05              0.000000        60.000000\n",
       "50%    5.903100e+05              0.000000        60.000000\n",
       "75%    6.444530e+05              0.000000       120.000000\n",
       "max    2.716795e+06              6.000000       655.000000"
      ]
     },
     "execution_count": 33,
     "metadata": {},
     "output_type": "execute_result"
    }
   ],
   "source": [
    "stInfo.describe()"
   ]
  },
  {
   "cell_type": "code",
   "execution_count": 34,
   "metadata": {},
   "outputs": [
    {
     "data": {
      "text/html": [
       "<div>\n",
       "<style scoped>\n",
       "    .dataframe tbody tr th:only-of-type {\n",
       "        vertical-align: middle;\n",
       "    }\n",
       "\n",
       "    .dataframe tbody tr th {\n",
       "        vertical-align: top;\n",
       "    }\n",
       "\n",
       "    .dataframe thead th {\n",
       "        text-align: right;\n",
       "    }\n",
       "</style>\n",
       "<table border=\"1\" class=\"dataframe\">\n",
       "  <thead>\n",
       "    <tr style=\"text-align: right;\">\n",
       "      <th></th>\n",
       "      <th>code_module</th>\n",
       "      <th>code_presentation</th>\n",
       "      <th>gender</th>\n",
       "      <th>region</th>\n",
       "      <th>highest_education</th>\n",
       "      <th>imd_band</th>\n",
       "      <th>age_band</th>\n",
       "      <th>disability</th>\n",
       "      <th>final_result</th>\n",
       "    </tr>\n",
       "  </thead>\n",
       "  <tbody>\n",
       "    <tr>\n",
       "      <th>count</th>\n",
       "      <td>32593</td>\n",
       "      <td>32593</td>\n",
       "      <td>32593</td>\n",
       "      <td>32593</td>\n",
       "      <td>32593</td>\n",
       "      <td>31482</td>\n",
       "      <td>32593</td>\n",
       "      <td>32593</td>\n",
       "      <td>32593</td>\n",
       "    </tr>\n",
       "    <tr>\n",
       "      <th>unique</th>\n",
       "      <td>7</td>\n",
       "      <td>4</td>\n",
       "      <td>2</td>\n",
       "      <td>13</td>\n",
       "      <td>5</td>\n",
       "      <td>10</td>\n",
       "      <td>3</td>\n",
       "      <td>2</td>\n",
       "      <td>4</td>\n",
       "    </tr>\n",
       "    <tr>\n",
       "      <th>top</th>\n",
       "      <td>BBB</td>\n",
       "      <td>2014J</td>\n",
       "      <td>M</td>\n",
       "      <td>Scotland</td>\n",
       "      <td>A Level or Equivalent</td>\n",
       "      <td>20-30%</td>\n",
       "      <td>0-35</td>\n",
       "      <td>N</td>\n",
       "      <td>Pass</td>\n",
       "    </tr>\n",
       "    <tr>\n",
       "      <th>freq</th>\n",
       "      <td>7909</td>\n",
       "      <td>11260</td>\n",
       "      <td>17875</td>\n",
       "      <td>3446</td>\n",
       "      <td>14045</td>\n",
       "      <td>3654</td>\n",
       "      <td>22944</td>\n",
       "      <td>29429</td>\n",
       "      <td>12361</td>\n",
       "    </tr>\n",
       "  </tbody>\n",
       "</table>\n",
       "</div>"
      ],
      "text/plain": [
       "       code_module code_presentation gender    region      highest_education  \\\n",
       "count        32593             32593  32593     32593                  32593   \n",
       "unique           7                 4      2        13                      5   \n",
       "top            BBB             2014J      M  Scotland  A Level or Equivalent   \n",
       "freq          7909             11260  17875      3446                  14045   \n",
       "\n",
       "       imd_band age_band disability final_result  \n",
       "count     31482    32593      32593        32593  \n",
       "unique       10        3          2            4  \n",
       "top      20-30%     0-35          N         Pass  \n",
       "freq       3654    22944      29429        12361  "
      ]
     },
     "execution_count": 34,
     "metadata": {},
     "output_type": "execute_result"
    }
   ],
   "source": [
    "# add include objects to look at the categorical columns\n",
    "stInfo.describe(include='object')"
   ]
  },
  {
   "cell_type": "code",
   "execution_count": 35,
   "metadata": {},
   "outputs": [
    {
     "name": "stdout",
     "output_type": "stream",
     "text": [
      "code_module - 7 unique values\n",
      "code_presentation - 4 unique values\n",
      "id_student - 28785 unique values\n",
      "gender - 2 unique values\n",
      "region - 13 unique values\n",
      "highest_education - 5 unique values\n",
      "imd_band - 11 unique values\n",
      "age_band - 3 unique values\n",
      "num_of_prev_attempts - 7 unique values\n",
      "studied_credits - 61 unique values\n",
      "disability - 2 unique values\n",
      "final_result - 4 unique values\n"
     ]
    }
   ],
   "source": [
    "# Lets look at the unique values for each column\n",
    "for col in stInfo.columns:\n",
    "    print(col, \"-\", len(stInfo[col].unique()), \"unique values\")"
   ]
  },
  {
   "cell_type": "code",
   "execution_count": 36,
   "metadata": {
    "scrolled": true
   },
   "outputs": [
    {
     "name": "stdout",
     "output_type": "stream",
     "text": [
      "code_module - 7 ['AAA' 'BBB' 'CCC' 'DDD' 'EEE' 'FFF' 'GGG']\n",
      "code_presentation - 4 ['2013J' '2014J' '2013B' '2014B']\n",
      "id_student - 28785 [  11391   28400   30268 ... 2648187 2679821 2684003]\n",
      "gender - 2 ['M' 'F']\n",
      "region - 13 ['East Anglian Region' 'Scotland' 'North Western Region'\n",
      " 'South East Region' 'West Midlands Region' 'Wales' 'North Region'\n",
      " 'South Region' 'Ireland' 'South West Region' 'East Midlands Region'\n",
      " 'Yorkshire Region' 'London Region']\n",
      "highest_education - 5 ['HE Qualification' 'A Level or Equivalent' 'Lower Than A Level'\n",
      " 'Post Graduate Qualification' 'No Formal quals']\n",
      "imd_band - 11 ['90-100%' '20-30%' '30-40%' '50-60%' '80-90%' '70-80%' nan '60-70%'\n",
      " '40-50%' '10-20' '0-10%']\n",
      "age_band - 3 ['55<=' '35-55' '0-35']\n",
      "num_of_prev_attempts - 7 [0 1 2 4 3 5 6]\n",
      "studied_credits - 61 [240  60 120  90 150 180 345 420 170  80  75 300 330 210 270 360 135  70\n",
      " 225 585 325 130 195 105 655 165 100 390 220 160 250  30  40  45 400 235\n",
      " 145 630 355  50 110 115  55  85 480 280 175  95 155 190 315 200 140 540\n",
      " 310 370 205 215 255  65 430]\n",
      "disability - 2 ['N' 'Y']\n",
      "final_result - 4 ['Pass' 'Withdrawn' 'Fail' 'Distinction']\n"
     ]
    }
   ],
   "source": [
    "# lets try to loop through each unique value as a value (instead of a count)\n",
    "for col in stInfo.columns:\n",
    "    print(col, \"-\", len(stInfo[col].unique()), stInfo[col].unique())"
   ]
  },
  {
   "cell_type": "markdown",
   "metadata": {},
   "source": [
    "**A few take aways.**\n",
    "1. Region has 13 distinct categories.\n",
    "2. There are more males than females\n",
    "3. Education has 5 distinct categories.\n",
    "4. imd_band has 10 distinction categories\n",
    "5. age_band has 3 distinct categories - This could be improved upon.\n",
    "6. 7 distinct number of previous attempts, from 0 to 6\n",
    "7. 2 distinct categories for disability.\n",
    "8. 4 distinct categories for final result."
   ]
  },
  {
   "cell_type": "markdown",
   "metadata": {},
   "source": [
    "#### Dealing with Categorical data\n",
    "Some of these categorical columns could be useful to plot, this subsection will look at converting some of these columns which will allow plotting. <br>Start with looking at:\n",
    "- Age\n",
    "- Disability\n",
    "- Education\n",
    "- Gender\n",
    "- IMD_Band\n",
    "- Region"
   ]
  },
  {
   "cell_type": "code",
   "execution_count": 37,
   "metadata": {},
   "outputs": [
    {
     "name": "stdout",
     "output_type": "stream",
     "text": [
      "age_band - ['55<=' '35-55' '0-35']\n",
      "disability - ['N' 'Y']\n",
      "highest_education - ['HE Qualification' 'A Level or Equivalent' 'Lower Than A Level'\n",
      " 'Post Graduate Qualification' 'No Formal quals']\n",
      "gender - ['M' 'F']\n",
      "imd_band - ['90-100%' '20-30%' '30-40%' '50-60%' '80-90%' '70-80%' nan '60-70%'\n",
      " '40-50%' '10-20' '0-10%']\n",
      "region - ['East Anglian Region' 'Scotland' 'North Western Region'\n",
      " 'South East Region' 'West Midlands Region' 'Wales' 'North Region'\n",
      " 'South Region' 'Ireland' 'South West Region' 'East Midlands Region'\n",
      " 'Yorkshire Region' 'London Region']\n"
     ]
    }
   ],
   "source": [
    "# print the unique categorical columns\n",
    "print(\"age_band -\" ,stInfo['age_band'].unique())\n",
    "print(\"disability -\" ,stInfo['disability'].unique())\n",
    "print(\"highest_education -\" ,stInfo['highest_education'].unique())\n",
    "print(\"gender -\" ,stInfo['gender'].unique())\n",
    "print(\"imd_band -\" ,stInfo['imd_band'].unique())\n",
    "print(\"region -\" ,stInfo['region'].unique())"
   ]
  },
  {
   "cell_type": "code",
   "execution_count": 38,
   "metadata": {},
   "outputs": [],
   "source": [
    "# create a copy\n",
    "stInfoC = stInfo.copy()"
   ]
  },
  {
   "cell_type": "markdown",
   "metadata": {},
   "source": [
    "Before changing the categories, lets look at trying to plot the data with the counts of entries for each."
   ]
  },
  {
   "cell_type": "code",
   "execution_count": 39,
   "metadata": {},
   "outputs": [
    {
     "name": "stdout",
     "output_type": "stream",
     "text": [
      "   age_band final_result     i\n",
      "0      0-35  Distinction  0.08\n",
      "1      0-35         Fail  0.23\n",
      "2      0-35         Pass  0.37\n",
      "3      0-35    Withdrawn  0.32\n",
      "4     35-55  Distinction  0.12\n",
      "5     35-55         Fail  0.19\n",
      "6     35-55         Pass  0.40\n",
      "7     35-55    Withdrawn  0.29\n",
      "8      55<=  Distinction  0.19\n",
      "9      55<=         Fail  0.13\n",
      "10     55<=         Pass  0.43\n",
      "11     55<=    Withdrawn  0.25\n"
     ]
    }
   ],
   "source": [
    "# lets get the age band, count entries in age band and merge them.\n",
    "# group the ages\n",
    "age = stInfoC.groupby(['age_band'],as_index = False)\n",
    "# count the grouped age bands\n",
    "ageCount = age['id_student'].count()\n",
    "# group gender and final results\n",
    "resultAge = stInfoC.groupby(['age_band', 'final_result'],as_index = False)\n",
    "# count the results by gender\n",
    "resultAgeCount = resultAge['id_student'].count()\n",
    "\n",
    "# now to merge them\n",
    "# create a merge df\n",
    "ageMerge = pd.merge(ageCount, resultAgeCount, on ='age_band', how='inner')\n",
    "# create an index\n",
    "ageMerge['i'] = round((ageMerge['id_student_y']/ageMerge['id_student_x']), 2)\n",
    "# merge gender, results and count\n",
    "ageMerge = ageMerge[['age_band','final_result', 'i']]\n",
    "print(ageMerge)"
   ]
  },
  {
   "cell_type": "code",
   "execution_count": 40,
   "metadata": {},
   "outputs": [
    {
     "name": "stdout",
     "output_type": "stream",
     "text": [
      "  disability final_result     i\n",
      "0          N  Distinction  0.10\n",
      "1          N         Fail  0.22\n",
      "2          N         Pass  0.39\n",
      "3          N    Withdrawn  0.30\n",
      "4          Y  Distinction  0.07\n",
      "5          Y         Fail  0.23\n",
      "6          Y         Pass  0.31\n",
      "7          Y    Withdrawn  0.39\n"
     ]
    }
   ],
   "source": [
    "# lets get the students with a disability, count them and merge them.\n",
    "# group the students\n",
    "dis = stInfoC.groupby(['disability'],as_index = False)\n",
    "# count the grouped genders\n",
    "disCount = dis['id_student'].count()\n",
    "# group gender and final results\n",
    "resultDis = stInfoC.groupby(['disability', 'final_result'],as_index = False)\n",
    "# count the results by gender\n",
    "resultDisCount = resultDis['id_student'].count()\n",
    "\n",
    "# now to merge them\n",
    "# create a merge df\n",
    "disMerge = pd.merge(disCount, resultDisCount, on ='disability', how='left')\n",
    "# create an index\n",
    "disMerge['i'] = round((disMerge['id_student_y']/disMerge['id_student_x']), 2)\n",
    "# merge gender, results and count\n",
    "disMerge = disMerge[['disability','final_result', 'i']]\n",
    "print(disMerge)"
   ]
  },
  {
   "cell_type": "code",
   "execution_count": 41,
   "metadata": {},
   "outputs": [
    {
     "name": "stdout",
     "output_type": "stream",
     "text": [
      "              highest_education final_result     i\n",
      "0         A Level or Equivalent  Distinction  0.11\n",
      "1         A Level or Equivalent         Fail  0.19\n",
      "2         A Level or Equivalent         Pass  0.41\n",
      "3         A Level or Equivalent    Withdrawn  0.29\n",
      "4              HE Qualification  Distinction  0.15\n",
      "5              HE Qualification         Fail  0.17\n",
      "6              HE Qualification         Pass  0.41\n",
      "7              HE Qualification    Withdrawn  0.27\n",
      "8            Lower Than A Level  Distinction  0.06\n",
      "9            Lower Than A Level         Fail  0.26\n",
      "10           Lower Than A Level         Pass  0.33\n",
      "11           Lower Than A Level    Withdrawn  0.35\n",
      "12              No Formal quals  Distinction  0.05\n",
      "13              No Formal quals         Fail  0.27\n",
      "14              No Formal quals         Pass  0.25\n",
      "15              No Formal quals    Withdrawn  0.43\n",
      "16  Post Graduate Qualification  Distinction  0.28\n",
      "17  Post Graduate Qualification         Fail  0.11\n",
      "18  Post Graduate Qualification         Pass  0.37\n",
      "19  Post Graduate Qualification    Withdrawn  0.24\n"
     ]
    }
   ],
   "source": [
    "# lets get the highest_education, count of highest_education and merge them.\n",
    "# group the education\n",
    "edu = stInfoC.groupby(['highest_education'],as_index = False)\n",
    "# count the grouped genders\n",
    "eduCount = edu['id_student'].count()\n",
    "# group gender and final results\n",
    "resultEdu = stInfoC.groupby(['highest_education', 'final_result'],as_index = False)\n",
    "# count the results by gender\n",
    "resultEduCount = resultEdu['id_student'].count()\n",
    "\n",
    "# now to merge them\n",
    "# create a merge df\n",
    "eduMerge = pd.merge(eduCount, resultEduCount, on ='highest_education', how='left')\n",
    "# create an index\n",
    "eduMerge['i'] = round((eduMerge['id_student_y']/eduMerge['id_student_x']), 2)\n",
    "# merge gender, results and count\n",
    "eduMerge = eduMerge[['highest_education','final_result', 'i']]\n",
    "print(eduMerge)"
   ]
  },
  {
   "cell_type": "code",
   "execution_count": 42,
   "metadata": {},
   "outputs": [
    {
     "name": "stdout",
     "output_type": "stream",
     "text": [
      "  gender final_result     i\n",
      "0      F  Distinction  0.09\n",
      "1      F         Fail  0.21\n",
      "2      F         Pass  0.39\n",
      "3      F    Withdrawn  0.30\n",
      "4      M  Distinction  0.09\n",
      "5      M         Fail  0.22\n",
      "6      M         Pass  0.37\n",
      "7      M    Withdrawn  0.32\n"
     ]
    }
   ],
   "source": [
    "# lets get the genders, count of gender and merge them.\n",
    "# group the genders\n",
    "gender = stInfoC.groupby(['gender'],as_index = False)\n",
    "# count the grouped genders\n",
    "genderCount = gender['id_student'].count()\n",
    "# group gender and final results\n",
    "resultGender = stInfoC.groupby(['gender', 'final_result'],as_index = False)\n",
    "# count the results by gender\n",
    "resultGenderCount = resultGender['id_student'].count()\n",
    "\n",
    "# now to merge them\n",
    "# create a merge df\n",
    "genMerge = pd.merge(genderCount, resultGenderCount, on ='gender', how='left')\n",
    "# create an index\n",
    "genMerge['i'] = round((genMerge['id_student_y']/genMerge['id_student_x']), 2)\n",
    "# merge gender, results and count\n",
    "genMerge = genMerge[['gender','final_result', 'i']]\n",
    "print(genMerge)"
   ]
  },
  {
   "cell_type": "code",
   "execution_count": 43,
   "metadata": {
    "scrolled": true
   },
   "outputs": [
    {
     "name": "stdout",
     "output_type": "stream",
     "text": [
      "   imd_band final_result     i\n",
      "0     0-10%  Distinction  0.05\n",
      "1     0-10%         Fail  0.28\n",
      "2     0-10%         Pass  0.30\n",
      "3     0-10%    Withdrawn  0.37\n",
      "4     10-20  Distinction  0.05\n",
      "5     10-20         Fail  0.26\n",
      "6     10-20         Pass  0.33\n",
      "7     10-20    Withdrawn  0.35\n",
      "8    20-30%  Distinction  0.07\n",
      "9    20-30%         Fail  0.23\n",
      "10   20-30%         Pass  0.34\n",
      "11   20-30%    Withdrawn  0.36\n",
      "12   30-40%  Distinction  0.09\n",
      "13   30-40%         Fail  0.22\n",
      "14   30-40%         Pass  0.38\n",
      "15   30-40%    Withdrawn  0.31\n",
      "16   40-50%  Distinction  0.09\n",
      "17   40-50%         Fail  0.21\n",
      "18   40-50%         Pass  0.38\n",
      "19   40-50%    Withdrawn  0.32\n",
      "20   50-60%  Distinction  0.10\n",
      "21   50-60%         Fail  0.22\n",
      "22   50-60%         Pass  0.39\n",
      "23   50-60%    Withdrawn  0.29\n",
      "24   60-70%  Distinction  0.10\n",
      "25   60-70%         Fail  0.19\n",
      "26   60-70%         Pass  0.42\n",
      "27   60-70%    Withdrawn  0.30\n",
      "28   70-80%  Distinction  0.11\n",
      "29   70-80%         Fail  0.21\n",
      "30   70-80%         Pass  0.41\n",
      "31   70-80%    Withdrawn  0.28\n",
      "32   80-90%  Distinction  0.12\n",
      "33   80-90%         Fail  0.18\n",
      "34   80-90%         Pass  0.42\n",
      "35   80-90%    Withdrawn  0.28\n",
      "36  90-100%  Distinction  0.14\n",
      "37  90-100%         Fail  0.17\n",
      "38  90-100%         Pass  0.43\n",
      "39  90-100%    Withdrawn  0.26\n"
     ]
    }
   ],
   "source": [
    "# lets get the imd_band, count imd_bands and merge them.\n",
    "# group the imd_band\n",
    "imd = stInfoC.groupby(['imd_band'],as_index = False)\n",
    "# count the grouped imd_band\n",
    "imdCount = imd['id_student'].count()\n",
    "# group imd_band and final results\n",
    "resultImd = stInfoC.groupby(['imd_band', 'final_result'],as_index = False)\n",
    "# count the results by imd_band\n",
    "resultImdCount = resultImd['id_student'].count()\n",
    "\n",
    "# now to merge them\n",
    "# create a merge df\n",
    "imdMerge = pd.merge(imdCount, resultImdCount, on ='imd_band', how='left')\n",
    "# create an index\n",
    "imdMerge['i'] = round((imdMerge['id_student_y']/imdMerge['id_student_x']), 2)\n",
    "# merge imd_band, results and count\n",
    "imdMerge = imdMerge[['imd_band','final_result', 'i']]\n",
    "print(imdMerge)"
   ]
  },
  {
   "cell_type": "code",
   "execution_count": 44,
   "metadata": {
    "scrolled": true
   },
   "outputs": [
    {
     "name": "stdout",
     "output_type": "stream",
     "text": [
      "                  region final_result     i\n",
      "0    East Anglian Region  Distinction  0.10\n",
      "1    East Anglian Region         Fail  0.21\n",
      "2    East Anglian Region         Pass  0.39\n",
      "3    East Anglian Region    Withdrawn  0.30\n",
      "4   East Midlands Region  Distinction  0.08\n",
      "5   East Midlands Region         Fail  0.20\n",
      "6   East Midlands Region         Pass  0.37\n",
      "7   East Midlands Region    Withdrawn  0.35\n",
      "8                Ireland  Distinction  0.08\n",
      "9                Ireland         Fail  0.22\n",
      "10               Ireland         Pass  0.47\n",
      "11               Ireland    Withdrawn  0.23\n",
      "12         London Region  Distinction  0.08\n",
      "13         London Region         Fail  0.23\n",
      "14         London Region         Pass  0.34\n",
      "15         London Region    Withdrawn  0.35\n",
      "16          North Region  Distinction  0.13\n",
      "17          North Region         Fail  0.18\n",
      "18          North Region         Pass  0.38\n",
      "19          North Region    Withdrawn  0.32\n",
      "20  North Western Region  Distinction  0.07\n",
      "21  North Western Region         Fail  0.24\n",
      "22  North Western Region         Pass  0.33\n",
      "23  North Western Region    Withdrawn  0.36\n",
      "24              Scotland  Distinction  0.10\n",
      "25              Scotland         Fail  0.25\n",
      "26              Scotland         Pass  0.39\n",
      "27              Scotland    Withdrawn  0.26\n",
      "28     South East Region  Distinction  0.12\n",
      "29     South East Region         Fail  0.18\n",
      "30     South East Region         Pass  0.40\n",
      "31     South East Region    Withdrawn  0.31\n",
      "32          South Region  Distinction  0.11\n",
      "33          South Region         Fail  0.18\n",
      "34          South Region         Pass  0.42\n",
      "35          South Region    Withdrawn  0.30\n",
      "36     South West Region  Distinction  0.11\n",
      "37     South West Region         Fail  0.19\n",
      "38     South West Region         Pass  0.39\n",
      "39     South West Region    Withdrawn  0.31\n",
      "40                 Wales  Distinction  0.08\n",
      "41                 Wales         Fail  0.30\n",
      "42                 Wales         Pass  0.37\n",
      "43                 Wales    Withdrawn  0.25\n",
      "44  West Midlands Region  Distinction  0.07\n",
      "45  West Midlands Region         Fail  0.21\n",
      "46  West Midlands Region         Pass  0.36\n",
      "47  West Midlands Region    Withdrawn  0.35\n",
      "48      Yorkshire Region  Distinction  0.08\n",
      "49      Yorkshire Region         Fail  0.22\n",
      "50      Yorkshire Region         Pass  0.37\n",
      "51      Yorkshire Region    Withdrawn  0.33\n"
     ]
    }
   ],
   "source": [
    "# lets get the regions, count of number of students per region and merge them.\n",
    "# group the region\n",
    "region = stInfoC.groupby(['region'],as_index = False)\n",
    "# count the grouped genders\n",
    "regionCount = region['id_student'].count()\n",
    "# group gender and final results\n",
    "resultRegion = stInfoC.groupby(['region', 'final_result'],as_index = False)\n",
    "# count the results by region\n",
    "resultRegionCount = resultRegion['id_student'].count()\n",
    "\n",
    "# now to merge them\n",
    "# create a merge df\n",
    "regMerge = pd.merge(regionCount, resultRegionCount, on ='region', how='left')\n",
    "# create an index\n",
    "regMerge['i'] = round((regMerge['id_student_y']/regMerge['id_student_x']), 2)\n",
    "# merge gender, results and count\n",
    "regMerge = regMerge[['region','final_result', 'i']]\n",
    "print(regMerge)"
   ]
  },
  {
   "cell_type": "code",
   "execution_count": 45,
   "metadata": {},
   "outputs": [],
   "source": [
    "ageCount = stInfoC['age_band'].value_counts()\n",
    "disabilityCount = stInfoC['disability'].value_counts()\n",
    "eduCount = stInfoC['highest_education'].value_counts()\n",
    "imdCount = stInfoC['imd_band'].value_counts()\n",
    "regionCount = stInfoC['region'].value_counts()"
   ]
  },
  {
   "cell_type": "markdown",
   "metadata": {},
   "source": [
    "These values could be printed, but it would be easier to plot."
   ]
  },
  {
   "cell_type": "code",
   "execution_count": 46,
   "metadata": {
    "scrolled": false
   },
   "outputs": [
    {
     "data": {
      "text/plain": [
       "<AxesSubplot:xlabel='final_result', ylabel='i'>"
      ]
     },
     "execution_count": 46,
     "metadata": {},
     "output_type": "execute_result"
    },
    {
     "data": {
      "image/png": "[encoded data removed]",
      "text/plain": [
       "<Figure size 864x720 with 1 Axes>"
      ]
     },
     "metadata": {
      "needs_background": "light"
     },
     "output_type": "display_data"
    }
   ],
   "source": [
    "# set fig size\n",
    "sns.set_context({\"figure.figsize\": (12, 10)})\n",
    "# plot age\n",
    "sns.barplot(data=ageMerge, x='final_result', y='i', hue=\"age_band\")"
   ]
  },
  {
   "cell_type": "code",
   "execution_count": 47,
   "metadata": {
    "scrolled": false
   },
   "outputs": [
    {
     "data": {
      "text/plain": [
       "<AxesSubplot:xlabel='final_result', ylabel='i'>"
      ]
     },
     "execution_count": 47,
     "metadata": {},
     "output_type": "execute_result"
    },
    {
     "data": {
      "image/png": "[encoded data removed]",
      "text/plain": [
       "<Figure size 864x720 with 1 Axes>"
      ]
     },
     "metadata": {
      "needs_background": "light"
     },
     "output_type": "display_data"
    }
   ],
   "source": [
    "sns.barplot(data=disMerge, x='final_result', y='i', hue=\"disability\")"
   ]
  },
  {
   "cell_type": "code",
   "execution_count": 48,
   "metadata": {
    "scrolled": false
   },
   "outputs": [
    {
     "data": {
      "text/plain": [
       "<AxesSubplot:xlabel='final_result', ylabel='i'>"
      ]
     },
     "execution_count": 48,
     "metadata": {},
     "output_type": "execute_result"
    },
    {
     "data": {
      "image/png": "[encoded data removed]",
      "text/plain": [
       "<Figure size 864x720 with 1 Axes>"
      ]
     },
     "metadata": {
      "needs_background": "light"
     },
     "output_type": "display_data"
    }
   ],
   "source": [
    "sns.barplot(data=eduMerge, x='final_result', y='i', hue=\"highest_education\")"
   ]
  },
  {
   "cell_type": "code",
   "execution_count": 49,
   "metadata": {
    "scrolled": false
   },
   "outputs": [
    {
     "data": {
      "text/plain": [
       "<AxesSubplot:xlabel='final_result', ylabel='i'>"
      ]
     },
     "execution_count": 49,
     "metadata": {},
     "output_type": "execute_result"
    },
    {
     "data": {
      "image/png": "[encoded data removed]",
      "text/plain": [
       "<Figure size 864x720 with 1 Axes>"
      ]
     },
     "metadata": {
      "needs_background": "light"
     },
     "output_type": "display_data"
    }
   ],
   "source": [
    "sns.barplot(data=genMerge, x='final_result', y='i', hue=\"gender\")"
   ]
  },
  {
   "cell_type": "code",
   "execution_count": 50,
   "metadata": {
    "scrolled": false
   },
   "outputs": [
    {
     "data": {
      "text/plain": [
       "<AxesSubplot:xlabel='final_result', ylabel='i'>"
      ]
     },
     "execution_count": 50,
     "metadata": {},
     "output_type": "execute_result"
    },
    {
     "data": {
      "image/png": "[encoded data removed]",
      "text/plain": [
       "<Figure size 864x720 with 1 Axes>"
      ]
     },
     "metadata": {
      "needs_background": "light"
     },
     "output_type": "display_data"
    }
   ],
   "source": [
    "sns.barplot(data=imdMerge, x='final_result', y='i', hue=\"imd_band\")"
   ]
  },
  {
   "cell_type": "code",
   "execution_count": 51,
   "metadata": {
    "scrolled": false
   },
   "outputs": [
    {
     "data": {
      "text/plain": [
       "<AxesSubplot:xlabel='final_result', ylabel='i'>"
      ]
     },
     "execution_count": 51,
     "metadata": {},
     "output_type": "execute_result"
    },
    {
     "data": {
      "image/png": "[encoded data removed]",
      "text/plain": [
       "<Figure size 864x720 with 1 Axes>"
      ]
     },
     "metadata": {
      "needs_background": "light"
     },
     "output_type": "display_data"
    }
   ],
   "source": [
    "# plot the region\n",
    "sns.barplot(data=regMerge, x='final_result', y='i', hue=\"region\")"
   ]
  },
  {
   "cell_type": "markdown",
   "metadata": {},
   "source": [
    "## 1.5 - Dataset 5 - Student Registration (stReg)\n",
    "This section will look at the dataset stReg."
   ]
  },
  {
   "cell_type": "code",
   "execution_count": 52,
   "metadata": {},
   "outputs": [
    {
     "data": {
      "text/html": [
       "<div>\n",
       "<style scoped>\n",
       "    .dataframe tbody tr th:only-of-type {\n",
       "        vertical-align: middle;\n",
       "    }\n",
       "\n",
       "    .dataframe tbody tr th {\n",
       "        vertical-align: top;\n",
       "    }\n",
       "\n",
       "    .dataframe thead th {\n",
       "        text-align: right;\n",
       "    }\n",
       "</style>\n",
       "<table border=\"1\" class=\"dataframe\">\n",
       "  <thead>\n",
       "    <tr style=\"text-align: right;\">\n",
       "      <th></th>\n",
       "      <th>code_module</th>\n",
       "      <th>code_presentation</th>\n",
       "      <th>id_student</th>\n",
       "      <th>date_registration</th>\n",
       "      <th>date_unregistration</th>\n",
       "    </tr>\n",
       "  </thead>\n",
       "  <tbody>\n",
       "    <tr>\n",
       "      <th>0</th>\n",
       "      <td>AAA</td>\n",
       "      <td>2013J</td>\n",
       "      <td>11391</td>\n",
       "      <td>-159.0</td>\n",
       "      <td>NaN</td>\n",
       "    </tr>\n",
       "    <tr>\n",
       "      <th>1</th>\n",
       "      <td>AAA</td>\n",
       "      <td>2013J</td>\n",
       "      <td>28400</td>\n",
       "      <td>-53.0</td>\n",
       "      <td>NaN</td>\n",
       "    </tr>\n",
       "    <tr>\n",
       "      <th>2</th>\n",
       "      <td>AAA</td>\n",
       "      <td>2013J</td>\n",
       "      <td>30268</td>\n",
       "      <td>-92.0</td>\n",
       "      <td>12.0</td>\n",
       "    </tr>\n",
       "    <tr>\n",
       "      <th>3</th>\n",
       "      <td>AAA</td>\n",
       "      <td>2013J</td>\n",
       "      <td>31604</td>\n",
       "      <td>-52.0</td>\n",
       "      <td>NaN</td>\n",
       "    </tr>\n",
       "    <tr>\n",
       "      <th>4</th>\n",
       "      <td>AAA</td>\n",
       "      <td>2013J</td>\n",
       "      <td>32885</td>\n",
       "      <td>-176.0</td>\n",
       "      <td>NaN</td>\n",
       "    </tr>\n",
       "  </tbody>\n",
       "</table>\n",
       "</div>"
      ],
      "text/plain": [
       "  code_module code_presentation  id_student  date_registration  \\\n",
       "0         AAA             2013J       11391             -159.0   \n",
       "1         AAA             2013J       28400              -53.0   \n",
       "2         AAA             2013J       30268              -92.0   \n",
       "3         AAA             2013J       31604              -52.0   \n",
       "4         AAA             2013J       32885             -176.0   \n",
       "\n",
       "   date_unregistration  \n",
       "0                  NaN  \n",
       "1                  NaN  \n",
       "2                 12.0  \n",
       "3                  NaN  \n",
       "4                  NaN  "
      ]
     },
     "execution_count": 52,
     "metadata": {},
     "output_type": "execute_result"
    }
   ],
   "source": [
    "stReg.head()"
   ]
  },
  {
   "cell_type": "markdown",
   "metadata": {},
   "source": [
    "From first look of the dataset:\n",
    "- ***code_module*** : an identification code for a module\n",
    "\n",
    "- ***code_presentation*** : The identification code of the presentation\n",
    "\n",
    "- ***id_student*** : a unique identification number for the student\n",
    "\n",
    "- ***date_registration*** : The date of a student’s registration on the module presentation, as number of days from start of module.\n",
    "   \n",
    "- ***date_unregistration*** : The date of when a student unregistered from the module, this is measured as number of days."
   ]
  },
  {
   "cell_type": "code",
   "execution_count": 53,
   "metadata": {},
   "outputs": [
    {
     "data": {
      "text/html": [
       "<div>\n",
       "<style scoped>\n",
       "    .dataframe tbody tr th:only-of-type {\n",
       "        vertical-align: middle;\n",
       "    }\n",
       "\n",
       "    .dataframe tbody tr th {\n",
       "        vertical-align: top;\n",
       "    }\n",
       "\n",
       "    .dataframe thead th {\n",
       "        text-align: right;\n",
       "    }\n",
       "</style>\n",
       "<table border=\"1\" class=\"dataframe\">\n",
       "  <thead>\n",
       "    <tr style=\"text-align: right;\">\n",
       "      <th></th>\n",
       "      <th>code_module</th>\n",
       "      <th>code_presentation</th>\n",
       "      <th>id_student</th>\n",
       "      <th>date_registration</th>\n",
       "      <th>date_unregistration</th>\n",
       "    </tr>\n",
       "  </thead>\n",
       "  <tbody>\n",
       "    <tr>\n",
       "      <th>32588</th>\n",
       "      <td>GGG</td>\n",
       "      <td>2014J</td>\n",
       "      <td>2640965</td>\n",
       "      <td>-4.0</td>\n",
       "      <td>NaN</td>\n",
       "    </tr>\n",
       "    <tr>\n",
       "      <th>32589</th>\n",
       "      <td>GGG</td>\n",
       "      <td>2014J</td>\n",
       "      <td>2645731</td>\n",
       "      <td>-23.0</td>\n",
       "      <td>NaN</td>\n",
       "    </tr>\n",
       "    <tr>\n",
       "      <th>32590</th>\n",
       "      <td>GGG</td>\n",
       "      <td>2014J</td>\n",
       "      <td>2648187</td>\n",
       "      <td>-129.0</td>\n",
       "      <td>NaN</td>\n",
       "    </tr>\n",
       "    <tr>\n",
       "      <th>32591</th>\n",
       "      <td>GGG</td>\n",
       "      <td>2014J</td>\n",
       "      <td>2679821</td>\n",
       "      <td>-49.0</td>\n",
       "      <td>101.0</td>\n",
       "    </tr>\n",
       "    <tr>\n",
       "      <th>32592</th>\n",
       "      <td>GGG</td>\n",
       "      <td>2014J</td>\n",
       "      <td>2684003</td>\n",
       "      <td>-28.0</td>\n",
       "      <td>NaN</td>\n",
       "    </tr>\n",
       "  </tbody>\n",
       "</table>\n",
       "</div>"
      ],
      "text/plain": [
       "      code_module code_presentation  id_student  date_registration  \\\n",
       "32588         GGG             2014J     2640965               -4.0   \n",
       "32589         GGG             2014J     2645731              -23.0   \n",
       "32590         GGG             2014J     2648187             -129.0   \n",
       "32591         GGG             2014J     2679821              -49.0   \n",
       "32592         GGG             2014J     2684003              -28.0   \n",
       "\n",
       "       date_unregistration  \n",
       "32588                  NaN  \n",
       "32589                  NaN  \n",
       "32590                  NaN  \n",
       "32591                101.0  \n",
       "32592                  NaN  "
      ]
     },
     "execution_count": 53,
     "metadata": {},
     "output_type": "execute_result"
    }
   ],
   "source": [
    "stReg.tail()"
   ]
  },
  {
   "cell_type": "code",
   "execution_count": 54,
   "metadata": {},
   "outputs": [
    {
     "name": "stdout",
     "output_type": "stream",
     "text": [
      "<class 'pandas.core.frame.DataFrame'>\n",
      "RangeIndex: 32593 entries, 0 to 32592\n",
      "Data columns (total 5 columns):\n",
      " #   Column               Non-Null Count  Dtype  \n",
      "---  ------               --------------  -----  \n",
      " 0   code_module          32593 non-null  object \n",
      " 1   code_presentation    32593 non-null  object \n",
      " 2   id_student           32593 non-null  int64  \n",
      " 3   date_registration    32548 non-null  float64\n",
      " 4   date_unregistration  10072 non-null  float64\n",
      "dtypes: float64(2), int64(1), object(2)\n",
      "memory usage: 1.2+ MB\n"
     ]
    }
   ],
   "source": [
    "stReg.info()"
   ]
  },
  {
   "cell_type": "code",
   "execution_count": 55,
   "metadata": {},
   "outputs": [
    {
     "name": "stdout",
     "output_type": "stream",
     "text": [
      "code_module - 7 unique values\n",
      "code_presentation - 4 unique values\n",
      "id_student - 28785 unique values\n",
      "date_registration - 333 unique values\n",
      "date_unregistration - 417 unique values\n"
     ]
    }
   ],
   "source": [
    "# Lets look at the unique values for each column\n",
    "for col in stReg.columns:\n",
    "    print(col, \"-\", len(stReg[col].unique()), \"unique values\")"
   ]
  },
  {
   "cell_type": "code",
   "execution_count": 56,
   "metadata": {},
   "outputs": [
    {
     "data": {
      "text/html": [
       "<div>\n",
       "<style scoped>\n",
       "    .dataframe tbody tr th:only-of-type {\n",
       "        vertical-align: middle;\n",
       "    }\n",
       "\n",
       "    .dataframe tbody tr th {\n",
       "        vertical-align: top;\n",
       "    }\n",
       "\n",
       "    .dataframe thead th {\n",
       "        text-align: right;\n",
       "    }\n",
       "</style>\n",
       "<table border=\"1\" class=\"dataframe\">\n",
       "  <thead>\n",
       "    <tr style=\"text-align: right;\">\n",
       "      <th></th>\n",
       "      <th>id_student</th>\n",
       "      <th>date_registration</th>\n",
       "      <th>date_unregistration</th>\n",
       "    </tr>\n",
       "  </thead>\n",
       "  <tbody>\n",
       "    <tr>\n",
       "      <th>count</th>\n",
       "      <td>3.259300e+04</td>\n",
       "      <td>32548.000000</td>\n",
       "      <td>10072.000000</td>\n",
       "    </tr>\n",
       "    <tr>\n",
       "      <th>mean</th>\n",
       "      <td>7.066877e+05</td>\n",
       "      <td>-69.411300</td>\n",
       "      <td>49.757645</td>\n",
       "    </tr>\n",
       "    <tr>\n",
       "      <th>std</th>\n",
       "      <td>5.491673e+05</td>\n",
       "      <td>49.260522</td>\n",
       "      <td>82.460890</td>\n",
       "    </tr>\n",
       "    <tr>\n",
       "      <th>min</th>\n",
       "      <td>3.733000e+03</td>\n",
       "      <td>-322.000000</td>\n",
       "      <td>-365.000000</td>\n",
       "    </tr>\n",
       "    <tr>\n",
       "      <th>25%</th>\n",
       "      <td>5.085730e+05</td>\n",
       "      <td>-100.000000</td>\n",
       "      <td>-2.000000</td>\n",
       "    </tr>\n",
       "    <tr>\n",
       "      <th>50%</th>\n",
       "      <td>5.903100e+05</td>\n",
       "      <td>-57.000000</td>\n",
       "      <td>27.000000</td>\n",
       "    </tr>\n",
       "    <tr>\n",
       "      <th>75%</th>\n",
       "      <td>6.444530e+05</td>\n",
       "      <td>-29.000000</td>\n",
       "      <td>109.000000</td>\n",
       "    </tr>\n",
       "    <tr>\n",
       "      <th>max</th>\n",
       "      <td>2.716795e+06</td>\n",
       "      <td>167.000000</td>\n",
       "      <td>444.000000</td>\n",
       "    </tr>\n",
       "  </tbody>\n",
       "</table>\n",
       "</div>"
      ],
      "text/plain": [
       "         id_student  date_registration  date_unregistration\n",
       "count  3.259300e+04       32548.000000         10072.000000\n",
       "mean   7.066877e+05         -69.411300            49.757645\n",
       "std    5.491673e+05          49.260522            82.460890\n",
       "min    3.733000e+03        -322.000000          -365.000000\n",
       "25%    5.085730e+05        -100.000000            -2.000000\n",
       "50%    5.903100e+05         -57.000000            27.000000\n",
       "75%    6.444530e+05         -29.000000           109.000000\n",
       "max    2.716795e+06         167.000000           444.000000"
      ]
     },
     "execution_count": 56,
     "metadata": {},
     "output_type": "execute_result"
    }
   ],
   "source": [
    "stReg.describe()"
   ]
  },
  {
   "cell_type": "code",
   "execution_count": 57,
   "metadata": {},
   "outputs": [
    {
     "data": {
      "text/html": [
       "<div>\n",
       "<style scoped>\n",
       "    .dataframe tbody tr th:only-of-type {\n",
       "        vertical-align: middle;\n",
       "    }\n",
       "\n",
       "    .dataframe tbody tr th {\n",
       "        vertical-align: top;\n",
       "    }\n",
       "\n",
       "    .dataframe thead th {\n",
       "        text-align: right;\n",
       "    }\n",
       "</style>\n",
       "<table border=\"1\" class=\"dataframe\">\n",
       "  <thead>\n",
       "    <tr style=\"text-align: right;\">\n",
       "      <th></th>\n",
       "      <th>code_module</th>\n",
       "      <th>code_presentation</th>\n",
       "    </tr>\n",
       "  </thead>\n",
       "  <tbody>\n",
       "    <tr>\n",
       "      <th>count</th>\n",
       "      <td>32593</td>\n",
       "      <td>32593</td>\n",
       "    </tr>\n",
       "    <tr>\n",
       "      <th>unique</th>\n",
       "      <td>7</td>\n",
       "      <td>4</td>\n",
       "    </tr>\n",
       "    <tr>\n",
       "      <th>top</th>\n",
       "      <td>BBB</td>\n",
       "      <td>2014J</td>\n",
       "    </tr>\n",
       "    <tr>\n",
       "      <th>freq</th>\n",
       "      <td>7909</td>\n",
       "      <td>11260</td>\n",
       "    </tr>\n",
       "  </tbody>\n",
       "</table>\n",
       "</div>"
      ],
      "text/plain": [
       "       code_module code_presentation\n",
       "count        32593             32593\n",
       "unique           7                 4\n",
       "top            BBB             2014J\n",
       "freq          7909             11260"
      ]
     },
     "execution_count": 57,
     "metadata": {},
     "output_type": "execute_result"
    }
   ],
   "source": [
    "stReg.describe(include='object')"
   ]
  },
  {
   "cell_type": "markdown",
   "metadata": {},
   "source": [
    "From first look, nothing about this dataset jumps out to me. Maybe looking at which module is the most popular.\n"
   ]
  },
  {
   "cell_type": "code",
   "execution_count": 58,
   "metadata": {},
   "outputs": [
    {
     "name": "stdout",
     "output_type": "stream",
     "text": [
      "BBB    7909\n",
      "FFF    7762\n",
      "DDD    6272\n",
      "CCC    4434\n",
      "EEE    2934\n",
      "GGG    2534\n",
      "AAA     748\n",
      "Name: code_module, dtype: int64\n"
     ]
    }
   ],
   "source": [
    "codeCount = stReg['code_module'].value_counts()\n",
    "# Print the code module with the number of students on the course.\n",
    "print(codeCount.sort_values(ascending=False))"
   ]
  },
  {
   "cell_type": "markdown",
   "metadata": {},
   "source": [
    "From the code_module being counted and sorted, here the results show the course mode BBB has the highest student count, with the module AAA having the lowest count."
   ]
  },
  {
   "cell_type": "markdown",
   "metadata": {},
   "source": [
    "## 1.6 - Dataset 6 - Student VLE (stVLE)\n",
    "This section will look at the dataset stReg."
   ]
  },
  {
   "cell_type": "code",
   "execution_count": 59,
   "metadata": {},
   "outputs": [
    {
     "data": {
      "text/html": [
       "<div>\n",
       "<style scoped>\n",
       "    .dataframe tbody tr th:only-of-type {\n",
       "        vertical-align: middle;\n",
       "    }\n",
       "\n",
       "    .dataframe tbody tr th {\n",
       "        vertical-align: top;\n",
       "    }\n",
       "\n",
       "    .dataframe thead th {\n",
       "        text-align: right;\n",
       "    }\n",
       "</style>\n",
       "<table border=\"1\" class=\"dataframe\">\n",
       "  <thead>\n",
       "    <tr style=\"text-align: right;\">\n",
       "      <th></th>\n",
       "      <th>code_module</th>\n",
       "      <th>code_presentation</th>\n",
       "      <th>id_student</th>\n",
       "      <th>id_site</th>\n",
       "      <th>date</th>\n",
       "      <th>sum_click</th>\n",
       "    </tr>\n",
       "  </thead>\n",
       "  <tbody>\n",
       "    <tr>\n",
       "      <th>0</th>\n",
       "      <td>AAA</td>\n",
       "      <td>2013J</td>\n",
       "      <td>28400</td>\n",
       "      <td>546652</td>\n",
       "      <td>-10</td>\n",
       "      <td>4</td>\n",
       "    </tr>\n",
       "    <tr>\n",
       "      <th>1</th>\n",
       "      <td>AAA</td>\n",
       "      <td>2013J</td>\n",
       "      <td>28400</td>\n",
       "      <td>546652</td>\n",
       "      <td>-10</td>\n",
       "      <td>1</td>\n",
       "    </tr>\n",
       "    <tr>\n",
       "      <th>2</th>\n",
       "      <td>AAA</td>\n",
       "      <td>2013J</td>\n",
       "      <td>28400</td>\n",
       "      <td>546652</td>\n",
       "      <td>-10</td>\n",
       "      <td>1</td>\n",
       "    </tr>\n",
       "    <tr>\n",
       "      <th>3</th>\n",
       "      <td>AAA</td>\n",
       "      <td>2013J</td>\n",
       "      <td>28400</td>\n",
       "      <td>546614</td>\n",
       "      <td>-10</td>\n",
       "      <td>11</td>\n",
       "    </tr>\n",
       "    <tr>\n",
       "      <th>4</th>\n",
       "      <td>AAA</td>\n",
       "      <td>2013J</td>\n",
       "      <td>28400</td>\n",
       "      <td>546714</td>\n",
       "      <td>-10</td>\n",
       "      <td>1</td>\n",
       "    </tr>\n",
       "  </tbody>\n",
       "</table>\n",
       "</div>"
      ],
      "text/plain": [
       "  code_module code_presentation  id_student  id_site  date  sum_click\n",
       "0         AAA             2013J       28400   546652   -10          4\n",
       "1         AAA             2013J       28400   546652   -10          1\n",
       "2         AAA             2013J       28400   546652   -10          1\n",
       "3         AAA             2013J       28400   546614   -10         11\n",
       "4         AAA             2013J       28400   546714   -10          1"
      ]
     },
     "execution_count": 59,
     "metadata": {},
     "output_type": "execute_result"
    }
   ],
   "source": [
    "stVLE.head()"
   ]
  },
  {
   "cell_type": "markdown",
   "metadata": {},
   "source": [
    "First look at the dataset:\n",
    "- ***code_module***: an identification code for a module\n",
    "\n",
    "- ***code_presentation*** : the identification code of the module presentation\n",
    "\n",
    "- ***id_student*** : a unique identification number for the student\n",
    "\n",
    "- ***id_site*** : an identification number for the VLE material\n",
    "\n",
    "- ***date (Days)*** : the date of student’s interaction with the material measured as the number of days since the start of the module-presentation\n",
    "\n",
    "- ***sum_click*** : the number of times a student interacts with the material in that day\n",
    "\n",
    "The first thing to stand out for me, is the date and clicks.\n",
    "- date: number of days since student interacted with material\n",
    "- sum_click: the number of times a student interacts with material per day\n",
    "\n",
    "Joining this dataset to student info could allow the use of filtering the data, and seeing if more interaction can lead a higher grade. Another hypothesis worth testing could be: \n",
    "- does consistent interaction with material lead to a higher grade."
   ]
  },
  {
   "cell_type": "code",
   "execution_count": 60,
   "metadata": {},
   "outputs": [
    {
     "data": {
      "text/html": [
       "<div>\n",
       "<style scoped>\n",
       "    .dataframe tbody tr th:only-of-type {\n",
       "        vertical-align: middle;\n",
       "    }\n",
       "\n",
       "    .dataframe tbody tr th {\n",
       "        vertical-align: top;\n",
       "    }\n",
       "\n",
       "    .dataframe thead th {\n",
       "        text-align: right;\n",
       "    }\n",
       "</style>\n",
       "<table border=\"1\" class=\"dataframe\">\n",
       "  <thead>\n",
       "    <tr style=\"text-align: right;\">\n",
       "      <th></th>\n",
       "      <th>code_module</th>\n",
       "      <th>code_presentation</th>\n",
       "      <th>id_student</th>\n",
       "      <th>id_site</th>\n",
       "      <th>date</th>\n",
       "      <th>sum_click</th>\n",
       "    </tr>\n",
       "  </thead>\n",
       "  <tbody>\n",
       "    <tr>\n",
       "      <th>10655275</th>\n",
       "      <td>GGG</td>\n",
       "      <td>2014J</td>\n",
       "      <td>675811</td>\n",
       "      <td>896943</td>\n",
       "      <td>269</td>\n",
       "      <td>3</td>\n",
       "    </tr>\n",
       "    <tr>\n",
       "      <th>10655276</th>\n",
       "      <td>GGG</td>\n",
       "      <td>2014J</td>\n",
       "      <td>675578</td>\n",
       "      <td>896943</td>\n",
       "      <td>269</td>\n",
       "      <td>1</td>\n",
       "    </tr>\n",
       "    <tr>\n",
       "      <th>10655277</th>\n",
       "      <td>GGG</td>\n",
       "      <td>2014J</td>\n",
       "      <td>654064</td>\n",
       "      <td>896943</td>\n",
       "      <td>269</td>\n",
       "      <td>3</td>\n",
       "    </tr>\n",
       "    <tr>\n",
       "      <th>10655278</th>\n",
       "      <td>GGG</td>\n",
       "      <td>2014J</td>\n",
       "      <td>654064</td>\n",
       "      <td>896939</td>\n",
       "      <td>269</td>\n",
       "      <td>1</td>\n",
       "    </tr>\n",
       "    <tr>\n",
       "      <th>10655279</th>\n",
       "      <td>GGG</td>\n",
       "      <td>2014J</td>\n",
       "      <td>654064</td>\n",
       "      <td>896939</td>\n",
       "      <td>269</td>\n",
       "      <td>1</td>\n",
       "    </tr>\n",
       "  </tbody>\n",
       "</table>\n",
       "</div>"
      ],
      "text/plain": [
       "         code_module code_presentation  id_student  id_site  date  sum_click\n",
       "10655275         GGG             2014J      675811   896943   269          3\n",
       "10655276         GGG             2014J      675578   896943   269          1\n",
       "10655277         GGG             2014J      654064   896943   269          3\n",
       "10655278         GGG             2014J      654064   896939   269          1\n",
       "10655279         GGG             2014J      654064   896939   269          1"
      ]
     },
     "execution_count": 60,
     "metadata": {},
     "output_type": "execute_result"
    }
   ],
   "source": [
    "stVLE.tail()"
   ]
  },
  {
   "cell_type": "code",
   "execution_count": 61,
   "metadata": {},
   "outputs": [
    {
     "name": "stdout",
     "output_type": "stream",
     "text": [
      "<class 'pandas.core.frame.DataFrame'>\n",
      "RangeIndex: 10655280 entries, 0 to 10655279\n",
      "Data columns (total 6 columns):\n",
      " #   Column             Dtype \n",
      "---  ------             ----- \n",
      " 0   code_module        object\n",
      " 1   code_presentation  object\n",
      " 2   id_student         int64 \n",
      " 3   id_site            int64 \n",
      " 4   date               int64 \n",
      " 5   sum_click          int64 \n",
      "dtypes: int64(4), object(2)\n",
      "memory usage: 487.8+ MB\n"
     ]
    }
   ],
   "source": [
    "stVLE.info()"
   ]
  },
  {
   "cell_type": "code",
   "execution_count": 62,
   "metadata": {},
   "outputs": [
    {
     "name": "stdout",
     "output_type": "stream",
     "text": [
      "code_module - 7 unique values\n",
      "code_presentation - 4 unique values\n",
      "id_student - 26074 unique values\n",
      "id_site - 6268 unique values\n",
      "date - 295 unique values\n",
      "sum_click - 498 unique values\n"
     ]
    }
   ],
   "source": [
    "# Lets look at the unique values for each column\n",
    "for col in stVLE.columns:\n",
    "    print(col, \"-\", len(stVLE[col].unique()), \"unique values\")"
   ]
  },
  {
   "cell_type": "code",
   "execution_count": 63,
   "metadata": {},
   "outputs": [
    {
     "data": {
      "text/html": [
       "<div>\n",
       "<style scoped>\n",
       "    .dataframe tbody tr th:only-of-type {\n",
       "        vertical-align: middle;\n",
       "    }\n",
       "\n",
       "    .dataframe tbody tr th {\n",
       "        vertical-align: top;\n",
       "    }\n",
       "\n",
       "    .dataframe thead th {\n",
       "        text-align: right;\n",
       "    }\n",
       "</style>\n",
       "<table border=\"1\" class=\"dataframe\">\n",
       "  <thead>\n",
       "    <tr style=\"text-align: right;\">\n",
       "      <th></th>\n",
       "      <th>id_student</th>\n",
       "      <th>id_site</th>\n",
       "      <th>date</th>\n",
       "      <th>sum_click</th>\n",
       "    </tr>\n",
       "  </thead>\n",
       "  <tbody>\n",
       "    <tr>\n",
       "      <th>count</th>\n",
       "      <td>1.065528e+07</td>\n",
       "      <td>1.065528e+07</td>\n",
       "      <td>1.065528e+07</td>\n",
       "      <td>1.065528e+07</td>\n",
       "    </tr>\n",
       "    <tr>\n",
       "      <th>mean</th>\n",
       "      <td>7.333336e+05</td>\n",
       "      <td>7.383234e+05</td>\n",
       "      <td>9.517400e+01</td>\n",
       "      <td>3.716946e+00</td>\n",
       "    </tr>\n",
       "    <tr>\n",
       "      <th>std</th>\n",
       "      <td>5.827060e+05</td>\n",
       "      <td>1.312196e+05</td>\n",
       "      <td>7.607130e+01</td>\n",
       "      <td>8.849047e+00</td>\n",
       "    </tr>\n",
       "    <tr>\n",
       "      <th>min</th>\n",
       "      <td>6.516000e+03</td>\n",
       "      <td>5.267210e+05</td>\n",
       "      <td>-2.500000e+01</td>\n",
       "      <td>1.000000e+00</td>\n",
       "    </tr>\n",
       "    <tr>\n",
       "      <th>25%</th>\n",
       "      <td>5.077430e+05</td>\n",
       "      <td>6.735190e+05</td>\n",
       "      <td>2.500000e+01</td>\n",
       "      <td>1.000000e+00</td>\n",
       "    </tr>\n",
       "    <tr>\n",
       "      <th>50%</th>\n",
       "      <td>5.882360e+05</td>\n",
       "      <td>7.300690e+05</td>\n",
       "      <td>8.600000e+01</td>\n",
       "      <td>2.000000e+00</td>\n",
       "    </tr>\n",
       "    <tr>\n",
       "      <th>75%</th>\n",
       "      <td>6.464840e+05</td>\n",
       "      <td>8.770300e+05</td>\n",
       "      <td>1.560000e+02</td>\n",
       "      <td>3.000000e+00</td>\n",
       "    </tr>\n",
       "    <tr>\n",
       "      <th>max</th>\n",
       "      <td>2.698588e+06</td>\n",
       "      <td>1.049562e+06</td>\n",
       "      <td>2.690000e+02</td>\n",
       "      <td>6.977000e+03</td>\n",
       "    </tr>\n",
       "  </tbody>\n",
       "</table>\n",
       "</div>"
      ],
      "text/plain": [
       "         id_student       id_site          date     sum_click\n",
       "count  1.065528e+07  1.065528e+07  1.065528e+07  1.065528e+07\n",
       "mean   7.333336e+05  7.383234e+05  9.517400e+01  3.716946e+00\n",
       "std    5.827060e+05  1.312196e+05  7.607130e+01  8.849047e+00\n",
       "min    6.516000e+03  5.267210e+05 -2.500000e+01  1.000000e+00\n",
       "25%    5.077430e+05  6.735190e+05  2.500000e+01  1.000000e+00\n",
       "50%    5.882360e+05  7.300690e+05  8.600000e+01  2.000000e+00\n",
       "75%    6.464840e+05  8.770300e+05  1.560000e+02  3.000000e+00\n",
       "max    2.698588e+06  1.049562e+06  2.690000e+02  6.977000e+03"
      ]
     },
     "execution_count": 63,
     "metadata": {},
     "output_type": "execute_result"
    }
   ],
   "source": [
    "stVLE.describe()"
   ]
  },
  {
   "cell_type": "code",
   "execution_count": 64,
   "metadata": {},
   "outputs": [
    {
     "data": {
      "text/plain": [
       "code_module          0\n",
       "code_presentation    0\n",
       "id_student           0\n",
       "id_site              0\n",
       "date                 0\n",
       "sum_click            0\n",
       "dtype: int64"
      ]
     },
     "execution_count": 64,
     "metadata": {},
     "output_type": "execute_result"
    }
   ],
   "source": [
    "stVLE.isna().sum()"
   ]
  },
  {
   "cell_type": "markdown",
   "metadata": {},
   "source": [
    "This dataset seems to have no missing values which is nice, it should also be easy to join this dataset to a different dataset for some additional analysis."
   ]
  },
  {
   "cell_type": "markdown",
   "metadata": {},
   "source": [
    "## 1.7 - Dataset 7 - VLE (vle)\n",
    "This section will look at the dataset stReg."
   ]
  },
  {
   "cell_type": "code",
   "execution_count": 65,
   "metadata": {},
   "outputs": [
    {
     "data": {
      "text/html": [
       "<div>\n",
       "<style scoped>\n",
       "    .dataframe tbody tr th:only-of-type {\n",
       "        vertical-align: middle;\n",
       "    }\n",
       "\n",
       "    .dataframe tbody tr th {\n",
       "        vertical-align: top;\n",
       "    }\n",
       "\n",
       "    .dataframe thead th {\n",
       "        text-align: right;\n",
       "    }\n",
       "</style>\n",
       "<table border=\"1\" class=\"dataframe\">\n",
       "  <thead>\n",
       "    <tr style=\"text-align: right;\">\n",
       "      <th></th>\n",
       "      <th>id_site</th>\n",
       "      <th>code_module</th>\n",
       "      <th>code_presentation</th>\n",
       "      <th>activity_type</th>\n",
       "      <th>week_from</th>\n",
       "      <th>week_to</th>\n",
       "    </tr>\n",
       "  </thead>\n",
       "  <tbody>\n",
       "    <tr>\n",
       "      <th>0</th>\n",
       "      <td>546943</td>\n",
       "      <td>AAA</td>\n",
       "      <td>2013J</td>\n",
       "      <td>resource</td>\n",
       "      <td>NaN</td>\n",
       "      <td>NaN</td>\n",
       "    </tr>\n",
       "    <tr>\n",
       "      <th>1</th>\n",
       "      <td>546712</td>\n",
       "      <td>AAA</td>\n",
       "      <td>2013J</td>\n",
       "      <td>oucontent</td>\n",
       "      <td>NaN</td>\n",
       "      <td>NaN</td>\n",
       "    </tr>\n",
       "    <tr>\n",
       "      <th>2</th>\n",
       "      <td>546998</td>\n",
       "      <td>AAA</td>\n",
       "      <td>2013J</td>\n",
       "      <td>resource</td>\n",
       "      <td>NaN</td>\n",
       "      <td>NaN</td>\n",
       "    </tr>\n",
       "    <tr>\n",
       "      <th>3</th>\n",
       "      <td>546888</td>\n",
       "      <td>AAA</td>\n",
       "      <td>2013J</td>\n",
       "      <td>url</td>\n",
       "      <td>NaN</td>\n",
       "      <td>NaN</td>\n",
       "    </tr>\n",
       "    <tr>\n",
       "      <th>4</th>\n",
       "      <td>547035</td>\n",
       "      <td>AAA</td>\n",
       "      <td>2013J</td>\n",
       "      <td>resource</td>\n",
       "      <td>NaN</td>\n",
       "      <td>NaN</td>\n",
       "    </tr>\n",
       "  </tbody>\n",
       "</table>\n",
       "</div>"
      ],
      "text/plain": [
       "   id_site code_module code_presentation activity_type  week_from  week_to\n",
       "0   546943         AAA             2013J      resource        NaN      NaN\n",
       "1   546712         AAA             2013J     oucontent        NaN      NaN\n",
       "2   546998         AAA             2013J      resource        NaN      NaN\n",
       "3   546888         AAA             2013J           url        NaN      NaN\n",
       "4   547035         AAA             2013J      resource        NaN      NaN"
      ]
     },
     "execution_count": 65,
     "metadata": {},
     "output_type": "execute_result"
    }
   ],
   "source": [
    "vle.head()"
   ]
  },
  {
   "cell_type": "markdown",
   "metadata": {},
   "source": [
    "From first look of this dataset, we can see:\n",
    "- ***id_site*** : an identification number of the material\n",
    "\n",
    "- ***code_module*** : an identification code for module\n",
    "\n",
    "- ***code_presentation*** : the identification code of presentation\n",
    "\n",
    "- ***activity_type*** : the role associated with the module material\n",
    "\n",
    "- ***week_from*** : the week from which the material is planned to be used\n",
    "\n",
    "- ***week_to*** : week until which the material is planned to be used"
   ]
  },
  {
   "cell_type": "code",
   "execution_count": 66,
   "metadata": {},
   "outputs": [
    {
     "data": {
      "text/html": [
       "<div>\n",
       "<style scoped>\n",
       "    .dataframe tbody tr th:only-of-type {\n",
       "        vertical-align: middle;\n",
       "    }\n",
       "\n",
       "    .dataframe tbody tr th {\n",
       "        vertical-align: top;\n",
       "    }\n",
       "\n",
       "    .dataframe thead th {\n",
       "        text-align: right;\n",
       "    }\n",
       "</style>\n",
       "<table border=\"1\" class=\"dataframe\">\n",
       "  <thead>\n",
       "    <tr style=\"text-align: right;\">\n",
       "      <th></th>\n",
       "      <th>id_site</th>\n",
       "      <th>code_module</th>\n",
       "      <th>code_presentation</th>\n",
       "      <th>activity_type</th>\n",
       "      <th>week_from</th>\n",
       "      <th>week_to</th>\n",
       "    </tr>\n",
       "  </thead>\n",
       "  <tbody>\n",
       "    <tr>\n",
       "      <th>6359</th>\n",
       "      <td>897063</td>\n",
       "      <td>GGG</td>\n",
       "      <td>2014J</td>\n",
       "      <td>resource</td>\n",
       "      <td>NaN</td>\n",
       "      <td>NaN</td>\n",
       "    </tr>\n",
       "    <tr>\n",
       "      <th>6360</th>\n",
       "      <td>897109</td>\n",
       "      <td>GGG</td>\n",
       "      <td>2014J</td>\n",
       "      <td>resource</td>\n",
       "      <td>NaN</td>\n",
       "      <td>NaN</td>\n",
       "    </tr>\n",
       "    <tr>\n",
       "      <th>6361</th>\n",
       "      <td>896965</td>\n",
       "      <td>GGG</td>\n",
       "      <td>2014J</td>\n",
       "      <td>oucontent</td>\n",
       "      <td>NaN</td>\n",
       "      <td>NaN</td>\n",
       "    </tr>\n",
       "    <tr>\n",
       "      <th>6362</th>\n",
       "      <td>897060</td>\n",
       "      <td>GGG</td>\n",
       "      <td>2014J</td>\n",
       "      <td>resource</td>\n",
       "      <td>NaN</td>\n",
       "      <td>NaN</td>\n",
       "    </tr>\n",
       "    <tr>\n",
       "      <th>6363</th>\n",
       "      <td>897100</td>\n",
       "      <td>GGG</td>\n",
       "      <td>2014J</td>\n",
       "      <td>resource</td>\n",
       "      <td>NaN</td>\n",
       "      <td>NaN</td>\n",
       "    </tr>\n",
       "  </tbody>\n",
       "</table>\n",
       "</div>"
      ],
      "text/plain": [
       "      id_site code_module code_presentation activity_type  week_from  week_to\n",
       "6359   897063         GGG             2014J      resource        NaN      NaN\n",
       "6360   897109         GGG             2014J      resource        NaN      NaN\n",
       "6361   896965         GGG             2014J     oucontent        NaN      NaN\n",
       "6362   897060         GGG             2014J      resource        NaN      NaN\n",
       "6363   897100         GGG             2014J      resource        NaN      NaN"
      ]
     },
     "execution_count": 66,
     "metadata": {},
     "output_type": "execute_result"
    }
   ],
   "source": [
    "vle.tail()"
   ]
  },
  {
   "cell_type": "code",
   "execution_count": 67,
   "metadata": {},
   "outputs": [
    {
     "name": "stdout",
     "output_type": "stream",
     "text": [
      "<class 'pandas.core.frame.DataFrame'>\n",
      "RangeIndex: 6364 entries, 0 to 6363\n",
      "Data columns (total 6 columns):\n",
      " #   Column             Non-Null Count  Dtype  \n",
      "---  ------             --------------  -----  \n",
      " 0   id_site            6364 non-null   int64  \n",
      " 1   code_module        6364 non-null   object \n",
      " 2   code_presentation  6364 non-null   object \n",
      " 3   activity_type      6364 non-null   object \n",
      " 4   week_from          1121 non-null   float64\n",
      " 5   week_to            1121 non-null   float64\n",
      "dtypes: float64(2), int64(1), object(3)\n",
      "memory usage: 298.4+ KB\n"
     ]
    }
   ],
   "source": [
    "vle.info()"
   ]
  },
  {
   "cell_type": "markdown",
   "metadata": {},
   "source": [
    "From the info of vle, we can see there are a lot of missing values for the dates (Week from - week to). This could be due to term times and breaks throughout the year."
   ]
  },
  {
   "cell_type": "code",
   "execution_count": 68,
   "metadata": {
    "scrolled": true
   },
   "outputs": [
    {
     "name": "stdout",
     "output_type": "stream",
     "text": [
      "id_site - 6364 unique values\n",
      "code_module - 7 unique values\n",
      "code_presentation - 4 unique values\n",
      "activity_type - 20 unique values\n",
      "week_from - 31 unique values\n",
      "week_to - 31 unique values\n"
     ]
    }
   ],
   "source": [
    "# Lets look at the unique values for each column\n",
    "for col in vle.columns:\n",
    "    print(col, \"-\", len(vle[col].unique()), \"unique values\")"
   ]
  },
  {
   "cell_type": "code",
   "execution_count": 69,
   "metadata": {},
   "outputs": [
    {
     "data": {
      "text/html": [
       "<div>\n",
       "<style scoped>\n",
       "    .dataframe tbody tr th:only-of-type {\n",
       "        vertical-align: middle;\n",
       "    }\n",
       "\n",
       "    .dataframe tbody tr th {\n",
       "        vertical-align: top;\n",
       "    }\n",
       "\n",
       "    .dataframe thead th {\n",
       "        text-align: right;\n",
       "    }\n",
       "</style>\n",
       "<table border=\"1\" class=\"dataframe\">\n",
       "  <thead>\n",
       "    <tr style=\"text-align: right;\">\n",
       "      <th></th>\n",
       "      <th>id_site</th>\n",
       "      <th>week_from</th>\n",
       "      <th>week_to</th>\n",
       "    </tr>\n",
       "  </thead>\n",
       "  <tbody>\n",
       "    <tr>\n",
       "      <th>count</th>\n",
       "      <td>6.364000e+03</td>\n",
       "      <td>1121.000000</td>\n",
       "      <td>1121.000000</td>\n",
       "    </tr>\n",
       "    <tr>\n",
       "      <th>mean</th>\n",
       "      <td>7.260991e+05</td>\n",
       "      <td>15.204282</td>\n",
       "      <td>15.214987</td>\n",
       "    </tr>\n",
       "    <tr>\n",
       "      <th>std</th>\n",
       "      <td>1.283151e+05</td>\n",
       "      <td>8.792865</td>\n",
       "      <td>8.779806</td>\n",
       "    </tr>\n",
       "    <tr>\n",
       "      <th>min</th>\n",
       "      <td>5.267210e+05</td>\n",
       "      <td>0.000000</td>\n",
       "      <td>0.000000</td>\n",
       "    </tr>\n",
       "    <tr>\n",
       "      <th>25%</th>\n",
       "      <td>6.615928e+05</td>\n",
       "      <td>8.000000</td>\n",
       "      <td>8.000000</td>\n",
       "    </tr>\n",
       "    <tr>\n",
       "      <th>50%</th>\n",
       "      <td>7.300965e+05</td>\n",
       "      <td>15.000000</td>\n",
       "      <td>15.000000</td>\n",
       "    </tr>\n",
       "    <tr>\n",
       "      <th>75%</th>\n",
       "      <td>8.140162e+05</td>\n",
       "      <td>22.000000</td>\n",
       "      <td>22.000000</td>\n",
       "    </tr>\n",
       "    <tr>\n",
       "      <th>max</th>\n",
       "      <td>1.077905e+06</td>\n",
       "      <td>29.000000</td>\n",
       "      <td>29.000000</td>\n",
       "    </tr>\n",
       "  </tbody>\n",
       "</table>\n",
       "</div>"
      ],
      "text/plain": [
       "            id_site    week_from      week_to\n",
       "count  6.364000e+03  1121.000000  1121.000000\n",
       "mean   7.260991e+05    15.204282    15.214987\n",
       "std    1.283151e+05     8.792865     8.779806\n",
       "min    5.267210e+05     0.000000     0.000000\n",
       "25%    6.615928e+05     8.000000     8.000000\n",
       "50%    7.300965e+05    15.000000    15.000000\n",
       "75%    8.140162e+05    22.000000    22.000000\n",
       "max    1.077905e+06    29.000000    29.000000"
      ]
     },
     "execution_count": 69,
     "metadata": {},
     "output_type": "execute_result"
    }
   ],
   "source": [
    "vle.describe()"
   ]
  },
  {
   "cell_type": "markdown",
   "metadata": {},
   "source": [
    "Describe doesn't really show anything useful here, but was still worth showing this. \n",
    "<br> <br>\n",
    "This section looked at the exploratory data analysis of each 'table' within the whole dataset, with a few things which stood out especially within student info which was explored with a few plots. \n",
    "<br>\n",
    "The next section will look at combining a few tables and running some unsupervised analysis on the table."
   ]
  },
  {
   "cell_type": "markdown",
   "metadata": {},
   "source": [
    "## 1.8 - New Features"
   ]
  },
  {
   "cell_type": "markdown",
   "metadata": {},
   "source": [
    "This section will look at creating a dataset which can be used to predict the students who are more likely to withdraw/fail. Something which stands out for me would be the sum_clicks (number of interactions) and final results."
   ]
  },
  {
   "cell_type": "code",
   "execution_count": 70,
   "metadata": {},
   "outputs": [],
   "source": [
    "# sum_clicks is within stVLE\n",
    "# final_result is within stInfo\n",
    "studentInt = pd.DataFrame()\n",
    "studentIntFo = pd.DataFrame()"
   ]
  },
  {
   "cell_type": "code",
   "execution_count": 71,
   "metadata": {},
   "outputs": [],
   "source": [
    "stClicker = stVLE.groupby(['id_student', 'code_module', 'code_presentation']).agg({'sum_click':['mean','sum']})\n",
    "stClicker.reset_index(level=[0,1,2], inplace=True)\n",
    "stClicker.columns = ['id_student', 'code_module', 'code_presentation', 'mean_clicks', 'sum_clicks']"
   ]
  },
  {
   "cell_type": "code",
   "execution_count": 72,
   "metadata": {},
   "outputs": [],
   "source": [
    "# merging stClicker with stCourseInf\n",
    "stCourseInf = pd.merge(stInfo, stClicker, how='left', left_on=['id_student', 'code_module', 'code_presentation'],right_on=['id_student', 'code_module', 'code_presentation'])\n",
    "stCourseInf = stCourseInf[['code_module','code_presentation','id_student','gender','region','highest_education','imd_band','age_band','num_of_prev_attempts','studied_credits','disability','mean_clicks','sum_clicks','final_result']]\n",
    "stCourseInf.reset_index(level=[0], inplace=True)"
   ]
  },
  {
   "cell_type": "code",
   "execution_count": 73,
   "metadata": {
    "scrolled": true
   },
   "outputs": [
    {
     "data": {
      "text/html": [
       "<div>\n",
       "<style scoped>\n",
       "    .dataframe tbody tr th:only-of-type {\n",
       "        vertical-align: middle;\n",
       "    }\n",
       "\n",
       "    .dataframe tbody tr th {\n",
       "        vertical-align: top;\n",
       "    }\n",
       "\n",
       "    .dataframe thead th {\n",
       "        text-align: right;\n",
       "    }\n",
       "</style>\n",
       "<table border=\"1\" class=\"dataframe\">\n",
       "  <thead>\n",
       "    <tr style=\"text-align: right;\">\n",
       "      <th></th>\n",
       "      <th>index</th>\n",
       "      <th>code_module</th>\n",
       "      <th>code_presentation</th>\n",
       "      <th>id_student</th>\n",
       "      <th>gender</th>\n",
       "      <th>region</th>\n",
       "      <th>highest_education</th>\n",
       "      <th>imd_band</th>\n",
       "      <th>age_band</th>\n",
       "      <th>num_of_prev_attempts</th>\n",
       "      <th>studied_credits</th>\n",
       "      <th>disability</th>\n",
       "      <th>mean_clicks</th>\n",
       "      <th>sum_clicks</th>\n",
       "      <th>final_result</th>\n",
       "    </tr>\n",
       "  </thead>\n",
       "  <tbody>\n",
       "    <tr>\n",
       "      <th>0</th>\n",
       "      <td>0</td>\n",
       "      <td>AAA</td>\n",
       "      <td>2013J</td>\n",
       "      <td>11391</td>\n",
       "      <td>M</td>\n",
       "      <td>East Anglian Region</td>\n",
       "      <td>HE Qualification</td>\n",
       "      <td>90-100%</td>\n",
       "      <td>55&lt;=</td>\n",
       "      <td>0</td>\n",
       "      <td>240</td>\n",
       "      <td>N</td>\n",
       "      <td>4.765306</td>\n",
       "      <td>934.0</td>\n",
       "      <td>Pass</td>\n",
       "    </tr>\n",
       "    <tr>\n",
       "      <th>1</th>\n",
       "      <td>1</td>\n",
       "      <td>AAA</td>\n",
       "      <td>2013J</td>\n",
       "      <td>28400</td>\n",
       "      <td>F</td>\n",
       "      <td>Scotland</td>\n",
       "      <td>HE Qualification</td>\n",
       "      <td>20-30%</td>\n",
       "      <td>35-55</td>\n",
       "      <td>0</td>\n",
       "      <td>60</td>\n",
       "      <td>N</td>\n",
       "      <td>3.337209</td>\n",
       "      <td>1435.0</td>\n",
       "      <td>Pass</td>\n",
       "    </tr>\n",
       "    <tr>\n",
       "      <th>2</th>\n",
       "      <td>2</td>\n",
       "      <td>AAA</td>\n",
       "      <td>2013J</td>\n",
       "      <td>30268</td>\n",
       "      <td>F</td>\n",
       "      <td>North Western Region</td>\n",
       "      <td>A Level or Equivalent</td>\n",
       "      <td>30-40%</td>\n",
       "      <td>35-55</td>\n",
       "      <td>0</td>\n",
       "      <td>60</td>\n",
       "      <td>Y</td>\n",
       "      <td>3.697368</td>\n",
       "      <td>281.0</td>\n",
       "      <td>Withdrawn</td>\n",
       "    </tr>\n",
       "    <tr>\n",
       "      <th>3</th>\n",
       "      <td>3</td>\n",
       "      <td>AAA</td>\n",
       "      <td>2013J</td>\n",
       "      <td>31604</td>\n",
       "      <td>F</td>\n",
       "      <td>South East Region</td>\n",
       "      <td>A Level or Equivalent</td>\n",
       "      <td>50-60%</td>\n",
       "      <td>35-55</td>\n",
       "      <td>0</td>\n",
       "      <td>60</td>\n",
       "      <td>N</td>\n",
       "      <td>3.254902</td>\n",
       "      <td>2158.0</td>\n",
       "      <td>Pass</td>\n",
       "    </tr>\n",
       "    <tr>\n",
       "      <th>4</th>\n",
       "      <td>4</td>\n",
       "      <td>AAA</td>\n",
       "      <td>2013J</td>\n",
       "      <td>32885</td>\n",
       "      <td>F</td>\n",
       "      <td>West Midlands Region</td>\n",
       "      <td>Lower Than A Level</td>\n",
       "      <td>50-60%</td>\n",
       "      <td>0-35</td>\n",
       "      <td>0</td>\n",
       "      <td>60</td>\n",
       "      <td>N</td>\n",
       "      <td>2.937500</td>\n",
       "      <td>1034.0</td>\n",
       "      <td>Pass</td>\n",
       "    </tr>\n",
       "  </tbody>\n",
       "</table>\n",
       "</div>"
      ],
      "text/plain": [
       "   index code_module code_presentation  id_student gender  \\\n",
       "0      0         AAA             2013J       11391      M   \n",
       "1      1         AAA             2013J       28400      F   \n",
       "2      2         AAA             2013J       30268      F   \n",
       "3      3         AAA             2013J       31604      F   \n",
       "4      4         AAA             2013J       32885      F   \n",
       "\n",
       "                 region      highest_education imd_band age_band  \\\n",
       "0   East Anglian Region       HE Qualification  90-100%     55<=   \n",
       "1              Scotland       HE Qualification   20-30%    35-55   \n",
       "2  North Western Region  A Level or Equivalent   30-40%    35-55   \n",
       "3     South East Region  A Level or Equivalent   50-60%    35-55   \n",
       "4  West Midlands Region     Lower Than A Level   50-60%     0-35   \n",
       "\n",
       "   num_of_prev_attempts  studied_credits disability  mean_clicks  sum_clicks  \\\n",
       "0                     0              240          N     4.765306       934.0   \n",
       "1                     0               60          N     3.337209      1435.0   \n",
       "2                     0               60          Y     3.697368       281.0   \n",
       "3                     0               60          N     3.254902      2158.0   \n",
       "4                     0               60          N     2.937500      1034.0   \n",
       "\n",
       "  final_result  \n",
       "0         Pass  \n",
       "1         Pass  \n",
       "2    Withdrawn  \n",
       "3         Pass  \n",
       "4         Pass  "
      ]
     },
     "execution_count": 73,
     "metadata": {},
     "output_type": "execute_result"
    }
   ],
   "source": [
    "stCourseInf.head()"
   ]
  },
  {
   "cell_type": "code",
   "execution_count": 74,
   "metadata": {
    "scrolled": true
   },
   "outputs": [
    {
     "data": {
      "text/plain": [
       "<Figure size 1440x864 with 0 Axes>"
      ]
     },
     "metadata": {},
     "output_type": "display_data"
    },
    {
     "data": {
      "image/png": "[encoded data removed]",
      "text/plain": [
       "<Figure size 360x360 with 1 Axes>"
      ]
     },
     "metadata": {
      "needs_background": "light"
     },
     "output_type": "display_data"
    }
   ],
   "source": [
    "plt.figure(figsize=(20,12))\n",
    "\n",
    "#sns.violinplot(x='final_result', y = 'sum_clicks', data = studentIntFo)\n",
    "# violinplot not very good.\n",
    "\n",
    "sns.catplot(x='final_result', \n",
    "            y = 'sum_clicks', \n",
    "            data = stCourseInf)\n",
    "# show the plot.\n",
    "plt.show()"
   ]
  },
  {
   "cell_type": "markdown",
   "metadata": {},
   "source": [
    "## 1.9 - Data Cleaning\n",
    "This section we will clean the datasets, this involved removing categorical values with numbers. This can be done manually in multiple ways, with mapping, OneHotEncoding or LabelEncoders. <br>"
   ]
  },
  {
   "cell_type": "code",
   "execution_count": 75,
   "metadata": {},
   "outputs": [
    {
     "data": {
      "text/html": [
       "<div>\n",
       "<style scoped>\n",
       "    .dataframe tbody tr th:only-of-type {\n",
       "        vertical-align: middle;\n",
       "    }\n",
       "\n",
       "    .dataframe tbody tr th {\n",
       "        vertical-align: top;\n",
       "    }\n",
       "\n",
       "    .dataframe thead th {\n",
       "        text-align: right;\n",
       "    }\n",
       "</style>\n",
       "<table border=\"1\" class=\"dataframe\">\n",
       "  <thead>\n",
       "    <tr style=\"text-align: right;\">\n",
       "      <th></th>\n",
       "      <th>index</th>\n",
       "      <th>code_module</th>\n",
       "      <th>code_presentation</th>\n",
       "      <th>id_student</th>\n",
       "      <th>gender</th>\n",
       "      <th>region</th>\n",
       "      <th>highest_education</th>\n",
       "      <th>imd_band</th>\n",
       "      <th>age_band</th>\n",
       "      <th>num_of_prev_attempts</th>\n",
       "      <th>studied_credits</th>\n",
       "      <th>disability</th>\n",
       "      <th>mean_clicks</th>\n",
       "      <th>sum_clicks</th>\n",
       "      <th>final_result</th>\n",
       "    </tr>\n",
       "  </thead>\n",
       "  <tbody>\n",
       "    <tr>\n",
       "      <th>0</th>\n",
       "      <td>0</td>\n",
       "      <td>AAA</td>\n",
       "      <td>2013J</td>\n",
       "      <td>11391</td>\n",
       "      <td>M</td>\n",
       "      <td>East Anglian Region</td>\n",
       "      <td>HE Qualification</td>\n",
       "      <td>90-100%</td>\n",
       "      <td>55&lt;=</td>\n",
       "      <td>0</td>\n",
       "      <td>240</td>\n",
       "      <td>N</td>\n",
       "      <td>4.765306</td>\n",
       "      <td>934.0</td>\n",
       "      <td>Pass</td>\n",
       "    </tr>\n",
       "    <tr>\n",
       "      <th>1</th>\n",
       "      <td>1</td>\n",
       "      <td>AAA</td>\n",
       "      <td>2013J</td>\n",
       "      <td>28400</td>\n",
       "      <td>F</td>\n",
       "      <td>Scotland</td>\n",
       "      <td>HE Qualification</td>\n",
       "      <td>20-30%</td>\n",
       "      <td>35-55</td>\n",
       "      <td>0</td>\n",
       "      <td>60</td>\n",
       "      <td>N</td>\n",
       "      <td>3.337209</td>\n",
       "      <td>1435.0</td>\n",
       "      <td>Pass</td>\n",
       "    </tr>\n",
       "    <tr>\n",
       "      <th>2</th>\n",
       "      <td>2</td>\n",
       "      <td>AAA</td>\n",
       "      <td>2013J</td>\n",
       "      <td>30268</td>\n",
       "      <td>F</td>\n",
       "      <td>North Western Region</td>\n",
       "      <td>A Level or Equivalent</td>\n",
       "      <td>30-40%</td>\n",
       "      <td>35-55</td>\n",
       "      <td>0</td>\n",
       "      <td>60</td>\n",
       "      <td>Y</td>\n",
       "      <td>3.697368</td>\n",
       "      <td>281.0</td>\n",
       "      <td>Withdrawn</td>\n",
       "    </tr>\n",
       "    <tr>\n",
       "      <th>3</th>\n",
       "      <td>3</td>\n",
       "      <td>AAA</td>\n",
       "      <td>2013J</td>\n",
       "      <td>31604</td>\n",
       "      <td>F</td>\n",
       "      <td>South East Region</td>\n",
       "      <td>A Level or Equivalent</td>\n",
       "      <td>50-60%</td>\n",
       "      <td>35-55</td>\n",
       "      <td>0</td>\n",
       "      <td>60</td>\n",
       "      <td>N</td>\n",
       "      <td>3.254902</td>\n",
       "      <td>2158.0</td>\n",
       "      <td>Pass</td>\n",
       "    </tr>\n",
       "    <tr>\n",
       "      <th>4</th>\n",
       "      <td>4</td>\n",
       "      <td>AAA</td>\n",
       "      <td>2013J</td>\n",
       "      <td>32885</td>\n",
       "      <td>F</td>\n",
       "      <td>West Midlands Region</td>\n",
       "      <td>Lower Than A Level</td>\n",
       "      <td>50-60%</td>\n",
       "      <td>0-35</td>\n",
       "      <td>0</td>\n",
       "      <td>60</td>\n",
       "      <td>N</td>\n",
       "      <td>2.937500</td>\n",
       "      <td>1034.0</td>\n",
       "      <td>Pass</td>\n",
       "    </tr>\n",
       "  </tbody>\n",
       "</table>\n",
       "</div>"
      ],
      "text/plain": [
       "   index code_module code_presentation  id_student gender  \\\n",
       "0      0         AAA             2013J       11391      M   \n",
       "1      1         AAA             2013J       28400      F   \n",
       "2      2         AAA             2013J       30268      F   \n",
       "3      3         AAA             2013J       31604      F   \n",
       "4      4         AAA             2013J       32885      F   \n",
       "\n",
       "                 region      highest_education imd_band age_band  \\\n",
       "0   East Anglian Region       HE Qualification  90-100%     55<=   \n",
       "1              Scotland       HE Qualification   20-30%    35-55   \n",
       "2  North Western Region  A Level or Equivalent   30-40%    35-55   \n",
       "3     South East Region  A Level or Equivalent   50-60%    35-55   \n",
       "4  West Midlands Region     Lower Than A Level   50-60%     0-35   \n",
       "\n",
       "   num_of_prev_attempts  studied_credits disability  mean_clicks  sum_clicks  \\\n",
       "0                     0              240          N     4.765306       934.0   \n",
       "1                     0               60          N     3.337209      1435.0   \n",
       "2                     0               60          Y     3.697368       281.0   \n",
       "3                     0               60          N     3.254902      2158.0   \n",
       "4                     0               60          N     2.937500      1034.0   \n",
       "\n",
       "  final_result  \n",
       "0         Pass  \n",
       "1         Pass  \n",
       "2    Withdrawn  \n",
       "3         Pass  \n",
       "4         Pass  "
      ]
     },
     "execution_count": 75,
     "metadata": {},
     "output_type": "execute_result"
    }
   ],
   "source": [
    "# combine stAss, stInfo, stReg\n",
    "myDf = stCourseInf.copy()\n",
    "myDf.head()"
   ]
  },
  {
   "cell_type": "code",
   "execution_count": 76,
   "metadata": {},
   "outputs": [
    {
     "data": {
      "text/plain": [
       "Pass           12361\n",
       "Withdrawn      10156\n",
       "Fail            7052\n",
       "Distinction     3024\n",
       "Name: final_result, dtype: int64"
      ]
     },
     "execution_count": 76,
     "metadata": {},
     "output_type": "execute_result"
    }
   ],
   "source": [
    "myDf['final_result'].value_counts()"
   ]
  },
  {
   "cell_type": "code",
   "execution_count": 77,
   "metadata": {},
   "outputs": [
    {
     "data": {
      "text/plain": [
       "Pass           11827\n",
       "Withdrawn       6985\n",
       "Fail            6537\n",
       "Distinction     2825\n",
       "Name: final_result, dtype: int64"
      ]
     },
     "execution_count": 77,
     "metadata": {},
     "output_type": "execute_result"
    }
   ],
   "source": [
    "# remove na's and count again\n",
    "myDf.dropna(inplace=True)\n",
    "myDf['final_result'].value_counts()"
   ]
  },
  {
   "cell_type": "code",
   "execution_count": 78,
   "metadata": {},
   "outputs": [
    {
     "data": {
      "text/html": [
       "<div>\n",
       "<style scoped>\n",
       "    .dataframe tbody tr th:only-of-type {\n",
       "        vertical-align: middle;\n",
       "    }\n",
       "\n",
       "    .dataframe tbody tr th {\n",
       "        vertical-align: top;\n",
       "    }\n",
       "\n",
       "    .dataframe thead th {\n",
       "        text-align: right;\n",
       "    }\n",
       "</style>\n",
       "<table border=\"1\" class=\"dataframe\">\n",
       "  <thead>\n",
       "    <tr style=\"text-align: right;\">\n",
       "      <th></th>\n",
       "      <th>index</th>\n",
       "      <th>code_module</th>\n",
       "      <th>code_presentation</th>\n",
       "      <th>id_student</th>\n",
       "      <th>gender</th>\n",
       "      <th>region</th>\n",
       "      <th>highest_education</th>\n",
       "      <th>imd_band</th>\n",
       "      <th>age_band</th>\n",
       "      <th>num_of_prev_attempts</th>\n",
       "      <th>studied_credits</th>\n",
       "      <th>disability</th>\n",
       "      <th>mean_clicks</th>\n",
       "      <th>sum_clicks</th>\n",
       "      <th>final_result</th>\n",
       "    </tr>\n",
       "  </thead>\n",
       "  <tbody>\n",
       "    <tr>\n",
       "      <th>0</th>\n",
       "      <td>0</td>\n",
       "      <td>AAA</td>\n",
       "      <td>2013J</td>\n",
       "      <td>11391</td>\n",
       "      <td>M</td>\n",
       "      <td>East Anglian Region</td>\n",
       "      <td>HE Qualification</td>\n",
       "      <td>90-100%</td>\n",
       "      <td>55&lt;=</td>\n",
       "      <td>0</td>\n",
       "      <td>240</td>\n",
       "      <td>N</td>\n",
       "      <td>4.765306</td>\n",
       "      <td>934.0</td>\n",
       "      <td>Pass</td>\n",
       "    </tr>\n",
       "    <tr>\n",
       "      <th>1</th>\n",
       "      <td>1</td>\n",
       "      <td>AAA</td>\n",
       "      <td>2013J</td>\n",
       "      <td>28400</td>\n",
       "      <td>F</td>\n",
       "      <td>Scotland</td>\n",
       "      <td>HE Qualification</td>\n",
       "      <td>20-30%</td>\n",
       "      <td>35-55</td>\n",
       "      <td>0</td>\n",
       "      <td>60</td>\n",
       "      <td>N</td>\n",
       "      <td>3.337209</td>\n",
       "      <td>1435.0</td>\n",
       "      <td>Pass</td>\n",
       "    </tr>\n",
       "    <tr>\n",
       "      <th>2</th>\n",
       "      <td>2</td>\n",
       "      <td>AAA</td>\n",
       "      <td>2013J</td>\n",
       "      <td>30268</td>\n",
       "      <td>F</td>\n",
       "      <td>North Western Region</td>\n",
       "      <td>A Level or Equivalent</td>\n",
       "      <td>30-40%</td>\n",
       "      <td>35-55</td>\n",
       "      <td>0</td>\n",
       "      <td>60</td>\n",
       "      <td>Y</td>\n",
       "      <td>3.697368</td>\n",
       "      <td>281.0</td>\n",
       "      <td>Withdrawn</td>\n",
       "    </tr>\n",
       "    <tr>\n",
       "      <th>3</th>\n",
       "      <td>3</td>\n",
       "      <td>AAA</td>\n",
       "      <td>2013J</td>\n",
       "      <td>31604</td>\n",
       "      <td>F</td>\n",
       "      <td>South East Region</td>\n",
       "      <td>A Level or Equivalent</td>\n",
       "      <td>50-60%</td>\n",
       "      <td>35-55</td>\n",
       "      <td>0</td>\n",
       "      <td>60</td>\n",
       "      <td>N</td>\n",
       "      <td>3.254902</td>\n",
       "      <td>2158.0</td>\n",
       "      <td>Pass</td>\n",
       "    </tr>\n",
       "    <tr>\n",
       "      <th>4</th>\n",
       "      <td>4</td>\n",
       "      <td>AAA</td>\n",
       "      <td>2013J</td>\n",
       "      <td>32885</td>\n",
       "      <td>F</td>\n",
       "      <td>West Midlands Region</td>\n",
       "      <td>Lower Than A Level</td>\n",
       "      <td>50-60%</td>\n",
       "      <td>0-35</td>\n",
       "      <td>0</td>\n",
       "      <td>60</td>\n",
       "      <td>N</td>\n",
       "      <td>2.937500</td>\n",
       "      <td>1034.0</td>\n",
       "      <td>Pass</td>\n",
       "    </tr>\n",
       "  </tbody>\n",
       "</table>\n",
       "</div>"
      ],
      "text/plain": [
       "   index code_module code_presentation  id_student gender  \\\n",
       "0      0         AAA             2013J       11391      M   \n",
       "1      1         AAA             2013J       28400      F   \n",
       "2      2         AAA             2013J       30268      F   \n",
       "3      3         AAA             2013J       31604      F   \n",
       "4      4         AAA             2013J       32885      F   \n",
       "\n",
       "                 region      highest_education imd_band age_band  \\\n",
       "0   East Anglian Region       HE Qualification  90-100%     55<=   \n",
       "1              Scotland       HE Qualification   20-30%    35-55   \n",
       "2  North Western Region  A Level or Equivalent   30-40%    35-55   \n",
       "3     South East Region  A Level or Equivalent   50-60%    35-55   \n",
       "4  West Midlands Region     Lower Than A Level   50-60%     0-35   \n",
       "\n",
       "   num_of_prev_attempts  studied_credits disability  mean_clicks  sum_clicks  \\\n",
       "0                     0              240          N     4.765306       934.0   \n",
       "1                     0               60          N     3.337209      1435.0   \n",
       "2                     0               60          Y     3.697368       281.0   \n",
       "3                     0               60          N     3.254902      2158.0   \n",
       "4                     0               60          N     2.937500      1034.0   \n",
       "\n",
       "  final_result  \n",
       "0         Pass  \n",
       "1         Pass  \n",
       "2    Withdrawn  \n",
       "3         Pass  \n",
       "4         Pass  "
      ]
     },
     "execution_count": 78,
     "metadata": {},
     "output_type": "execute_result"
    }
   ],
   "source": [
    "myDf.head()"
   ]
  },
  {
   "cell_type": "code",
   "execution_count": 79,
   "metadata": {},
   "outputs": [],
   "source": [
    "# get a copy\n",
    "myTemp = myDf.copy()\n",
    "# start preprocessing categories to numbers\n",
    "le = preprocessing.LabelEncoder()"
   ]
  },
  {
   "cell_type": "code",
   "execution_count": 80,
   "metadata": {},
   "outputs": [],
   "source": [
    "# cols to transform\n",
    "\n",
    "# code_module\n",
    "myTemp['code_module']= le.fit_transform(myTemp['code_module'])\n",
    "# print('Code modules \\n ', myTemp['code_module_x'].unique())\n",
    "\n",
    "# code_presentation\n",
    "myTemp['code_presentation']= le.fit_transform(myTemp['code_presentation'])\n",
    "# print('Code Presentation \\n', myTemp['code_presentation_x'].unique())\n",
    "\n",
    "# gender\n",
    "myTemp['gender']= le.fit_transform(myTemp['gender'])\n",
    "# print('gender \\n', myTemp['gender'].unique())\n",
    "\n",
    "#region\n",
    "myTemp['region']= le.fit_transform(myTemp['region'])\n",
    "# print('region \\n', myTemp['region'].unique())\n",
    "\n",
    "#highest_education\n",
    "myTemp['highest_education']= le.fit_transform(myTemp['highest_education'])\n",
    "# print('highest_education \\n', myTemp['highest_education'].unique())\n",
    "\n",
    "# imd_band\n",
    "myTemp['imd_band'] = myTemp['imd_band']\n",
    "myTemp['imd_band'] = myTemp['imd_band'].astype(\"category\").cat.codes\n",
    "myTemp['imd_band'].head\n",
    "\n",
    "#age_band\n",
    "myTemp['age_band']= le.fit_transform(myTemp['age_band'])\n",
    "# print('highest_education \\n', myTemp['highest_education'].unique())\n",
    "\n",
    "#final_result\n",
    "myTemp['final_result']= le.fit_transform(myTemp['final_result'])\n",
    "# print('final_result \\n', myTemp['final_result'].unique())\n",
    "\n",
    "# disability\n",
    "myTemp['disability']= le.fit_transform(myTemp['disability'])\n",
    "# print('code_presentation_y \\n', myTemp['code_presentation_y'].unique())"
   ]
  },
  {
   "cell_type": "code",
   "execution_count": 81,
   "metadata": {
    "scrolled": true
   },
   "outputs": [
    {
     "name": "stdout",
     "output_type": "stream",
     "text": [
      "index - 28174 [    0     1     2 ... 32590 32591 32592]\n",
      "code_module - 7 [0 1 2 3 4 5 6]\n",
      "code_presentation - 4 [1 3 0 2]\n",
      "id_student - 25149 [  11391   28400   30268 ... 2648187 2679821 2684003]\n",
      "gender - 2 [1 0]\n",
      "region - 13 [ 0  6  5  7 11 10  8  9  1 12  3  4  2]\n",
      "highest_education - 5 [1 0 2 4 3]\n",
      "imd_band - 10 [9 2 3 5 8 7 6 4 1 0]\n",
      "age_band - 3 [2 1 0]\n",
      "num_of_prev_attempts - 7 [0 1 2 3 5 4 6]\n",
      "studied_credits - 53 [240  60 120  90 150 180 345 420 170  80  75 300 330 210 270 360 135  70\n",
      " 225 325 130 195 105 165 100 220 250  30  40  45 235 160 145 630 355  50\n",
      " 110 115  55 280  95 155 190 200 140 540 310  85 215  65 205 400 430]\n",
      "disability - 2 [0 1]\n",
      "mean_clicks - 21191 [4.76530612 3.3372093  3.69736842 ... 3.76793249 4.50819672 3.40331492]\n",
      "sum_clicks - 5244 [ 934. 1435.  281. ... 3773. 1817. 8398.]\n",
      "final_result - 4 [2 3 1 0]\n"
     ]
    }
   ],
   "source": [
    "for col in myTemp.columns:\n",
    "    print(col, \"-\", len(myTemp[col].unique()), myTemp[col].unique())"
   ]
  },
  {
   "cell_type": "markdown",
   "metadata": {},
   "source": [
    "Now that the data has successfully been converted into all numbers (even the categorical values), this has prepared the data for machine learning models to read and analyse. \n",
    "<br> <br>\n",
    "Next will be some scaling added to the dataset, to see if it makes any difference. This could either prove useful by providing a more compact dataset or it could make very little difference (due to the data)."
   ]
  },
  {
   "cell_type": "markdown",
   "metadata": {},
   "source": [
    "## 1.9 - Scaling"
   ]
  },
  {
   "cell_type": "code",
   "execution_count": 82,
   "metadata": {},
   "outputs": [
    {
     "data": {
      "text/plain": [
       "Index(['index', 'code_module', 'code_presentation', 'id_student', 'gender',\n",
       "       'region', 'highest_education', 'imd_band', 'age_band',\n",
       "       'num_of_prev_attempts', 'studied_credits', 'disability', 'mean_clicks',\n",
       "       'sum_clicks', 'final_result'],\n",
       "      dtype='object')"
      ]
     },
     "execution_count": 82,
     "metadata": {},
     "output_type": "execute_result"
    }
   ],
   "source": [
    "myTemp.columns"
   ]
  },
  {
   "cell_type": "code",
   "execution_count": 83,
   "metadata": {},
   "outputs": [],
   "source": [
    "# create a new copy\n",
    "tempS = myTemp.copy()\n",
    "# check the head\n",
    "# print(tempS.head())\n",
    "# now fit the standard scaler\n",
    "tempS = ss().fit_transform(tempS)"
   ]
  },
  {
   "cell_type": "code",
   "execution_count": 84,
   "metadata": {
    "scrolled": true
   },
   "outputs": [
    {
     "data": {
      "text/html": [
       "<div>\n",
       "<style scoped>\n",
       "    .dataframe tbody tr th:only-of-type {\n",
       "        vertical-align: middle;\n",
       "    }\n",
       "\n",
       "    .dataframe tbody tr th {\n",
       "        vertical-align: top;\n",
       "    }\n",
       "\n",
       "    .dataframe thead th {\n",
       "        text-align: right;\n",
       "    }\n",
       "</style>\n",
       "<table border=\"1\" class=\"dataframe\">\n",
       "  <thead>\n",
       "    <tr style=\"text-align: right;\">\n",
       "      <th></th>\n",
       "      <th>index</th>\n",
       "      <th>code_module</th>\n",
       "      <th>code_presentation</th>\n",
       "      <th>id_student</th>\n",
       "      <th>gender</th>\n",
       "      <th>region</th>\n",
       "      <th>highest_education</th>\n",
       "      <th>imd_band</th>\n",
       "      <th>age_band</th>\n",
       "      <th>num_of_prev_attempts</th>\n",
       "      <th>studied_credits</th>\n",
       "      <th>disability</th>\n",
       "      <th>mean_clicks</th>\n",
       "      <th>sum_clicks</th>\n",
       "      <th>final_result</th>\n",
       "    </tr>\n",
       "  </thead>\n",
       "  <tbody>\n",
       "    <tr>\n",
       "      <th>0</th>\n",
       "      <td>-1.745133</td>\n",
       "      <td>-1.794667</td>\n",
       "      <td>-0.727629</td>\n",
       "      <td>-1.259835</td>\n",
       "      <td>0.903542</td>\n",
       "      <td>-1.606735</td>\n",
       "      <td>0.008510</td>\n",
       "      <td>1.680776</td>\n",
       "      <td>3.580090</td>\n",
       "      <td>-0.336274</td>\n",
       "      <td>4.102653</td>\n",
       "      <td>-0.331266</td>\n",
       "      <td>1.226950</td>\n",
       "      <td>-0.229049</td>\n",
       "      <td>0.200631</td>\n",
       "    </tr>\n",
       "    <tr>\n",
       "      <th>1</th>\n",
       "      <td>-1.745027</td>\n",
       "      <td>-1.794667</td>\n",
       "      <td>-0.727629</td>\n",
       "      <td>-1.229113</td>\n",
       "      <td>-1.106755</td>\n",
       "      <td>0.009619</td>\n",
       "      <td>0.008510</td>\n",
       "      <td>-0.810238</td>\n",
       "      <td>1.470552</td>\n",
       "      <td>-0.336274</td>\n",
       "      <td>-0.455903</td>\n",
       "      <td>-0.331266</td>\n",
       "      <td>0.061478</td>\n",
       "      <td>0.063317</td>\n",
       "      <td>0.200631</td>\n",
       "    </tr>\n",
       "    <tr>\n",
       "      <th>2</th>\n",
       "      <td>-1.744921</td>\n",
       "      <td>-1.794667</td>\n",
       "      <td>-0.727629</td>\n",
       "      <td>-1.225739</td>\n",
       "      <td>-1.106755</td>\n",
       "      <td>-0.259773</td>\n",
       "      <td>-1.024971</td>\n",
       "      <td>-0.454379</td>\n",
       "      <td>1.470552</td>\n",
       "      <td>-0.336274</td>\n",
       "      <td>-0.455903</td>\n",
       "      <td>3.018726</td>\n",
       "      <td>0.355404</td>\n",
       "      <td>-0.610117</td>\n",
       "      <td>1.287245</td>\n",
       "    </tr>\n",
       "    <tr>\n",
       "      <th>3</th>\n",
       "      <td>-1.744816</td>\n",
       "      <td>-1.794667</td>\n",
       "      <td>-0.727629</td>\n",
       "      <td>-1.223326</td>\n",
       "      <td>-1.106755</td>\n",
       "      <td>0.279011</td>\n",
       "      <td>-1.024971</td>\n",
       "      <td>0.257339</td>\n",
       "      <td>1.470552</td>\n",
       "      <td>-0.336274</td>\n",
       "      <td>-0.455903</td>\n",
       "      <td>-0.331266</td>\n",
       "      <td>-0.005693</td>\n",
       "      <td>0.485235</td>\n",
       "      <td>0.200631</td>\n",
       "    </tr>\n",
       "    <tr>\n",
       "      <th>4</th>\n",
       "      <td>-1.744710</td>\n",
       "      <td>-1.794667</td>\n",
       "      <td>-0.727629</td>\n",
       "      <td>-1.221012</td>\n",
       "      <td>-1.106755</td>\n",
       "      <td>1.356581</td>\n",
       "      <td>1.041991</td>\n",
       "      <td>0.257339</td>\n",
       "      <td>-0.638986</td>\n",
       "      <td>-0.336274</td>\n",
       "      <td>-0.455903</td>\n",
       "      <td>-0.331266</td>\n",
       "      <td>-0.264725</td>\n",
       "      <td>-0.170692</td>\n",
       "      <td>0.200631</td>\n",
       "    </tr>\n",
       "  </tbody>\n",
       "</table>\n",
       "</div>"
      ],
      "text/plain": [
       "      index  code_module  code_presentation  id_student    gender    region  \\\n",
       "0 -1.745133    -1.794667          -0.727629   -1.259835  0.903542 -1.606735   \n",
       "1 -1.745027    -1.794667          -0.727629   -1.229113 -1.106755  0.009619   \n",
       "2 -1.744921    -1.794667          -0.727629   -1.225739 -1.106755 -0.259773   \n",
       "3 -1.744816    -1.794667          -0.727629   -1.223326 -1.106755  0.279011   \n",
       "4 -1.744710    -1.794667          -0.727629   -1.221012 -1.106755  1.356581   \n",
       "\n",
       "   highest_education  imd_band  age_band  num_of_prev_attempts  \\\n",
       "0           0.008510  1.680776  3.580090             -0.336274   \n",
       "1           0.008510 -0.810238  1.470552             -0.336274   \n",
       "2          -1.024971 -0.454379  1.470552             -0.336274   \n",
       "3          -1.024971  0.257339  1.470552             -0.336274   \n",
       "4           1.041991  0.257339 -0.638986             -0.336274   \n",
       "\n",
       "   studied_credits  disability  mean_clicks  sum_clicks  final_result  \n",
       "0         4.102653   -0.331266     1.226950   -0.229049      0.200631  \n",
       "1        -0.455903   -0.331266     0.061478    0.063317      0.200631  \n",
       "2        -0.455903    3.018726     0.355404   -0.610117      1.287245  \n",
       "3        -0.455903   -0.331266    -0.005693    0.485235      0.200631  \n",
       "4        -0.455903   -0.331266    -0.264725   -0.170692      0.200631  "
      ]
     },
     "execution_count": 84,
     "metadata": {},
     "output_type": "execute_result"
    }
   ],
   "source": [
    "tempSDf = pd.DataFrame(tempS, \n",
    "                       index = myTemp.index, \n",
    "                       columns = ['index', 'code_module', 'code_presentation', 'id_student',\n",
    "                                  'gender', 'region', 'highest_education', 'imd_band', 'age_band',\n",
    "                                  'num_of_prev_attempts', 'studied_credits', 'disability', 'mean_clicks',\n",
    "                                  'sum_clicks', 'final_result'])\n",
    "# show the head.\n",
    "tempSDf.head()"
   ]
  },
  {
   "cell_type": "markdown",
   "metadata": {},
   "source": [
    "From looking at the above, scaling isn't really required which is what I thought before doing it (due to the data), however the next step will be to try Feature Reduction to see if this has any effect on the data."
   ]
  },
  {
   "cell_type": "markdown",
   "metadata": {},
   "source": [
    "## 1.10 - Feature Reduction\n",
    "This section will look at using some feature reduction methods from scikit learns package, to narrow down the important features within the dataset. Whilst also looking at any correlations between the variables."
   ]
  },
  {
   "cell_type": "code",
   "execution_count": 85,
   "metadata": {},
   "outputs": [],
   "source": [
    "# create 2 instances of PCA to compare\n",
    "pcaFull = PCA(n_components=4, svd_solver='full')\n",
    "pcaArpack = PCA(n_components=4, svd_solver='arpack')"
   ]
  },
  {
   "cell_type": "code",
   "execution_count": 86,
   "metadata": {},
   "outputs": [],
   "source": [
    "# create another copy - just to be safe.\n",
    "scaleDf = myTemp.copy()"
   ]
  },
  {
   "cell_type": "code",
   "execution_count": 87,
   "metadata": {},
   "outputs": [
    {
     "data": {
      "text/plain": [
       "array([[-6.97495658e+05,  1.62338105e+04,  2.81377448e+02,\n",
       "         1.53174562e+02],\n",
       "       [-6.80486595e+05,  1.62207305e+04,  7.80006152e+02,\n",
       "        -2.70155746e+01],\n",
       "       [-6.78618740e+05,  1.62620392e+04, -3.73489403e+02,\n",
       "        -2.65056877e+01],\n",
       "       ...,\n",
       "       [ 1.93931161e+06, -1.53683799e+04, -1.81453667e+03,\n",
       "        -3.86709142e+01],\n",
       "       [ 1.97094560e+06, -1.53567160e+04, -1.85512603e+03,\n",
       "        -3.86744911e+01],\n",
       "       [ 1.97512764e+06, -1.53685218e+04, -1.51485793e+03,\n",
       "        -3.88151422e+01]])"
      ]
     },
     "execution_count": 87,
     "metadata": {},
     "output_type": "execute_result"
    }
   ],
   "source": [
    "fullPcaFit = pcaFull.fit_transform(scaleDf)\n",
    "fullPcaFit"
   ]
  },
  {
   "cell_type": "code",
   "execution_count": 88,
   "metadata": {},
   "outputs": [
    {
     "data": {
      "text/plain": [
       "array([[-6.97495658e+05,  1.62338105e+04,  2.81377448e+02,\n",
       "         1.53174562e+02],\n",
       "       [-6.80486595e+05,  1.62207305e+04,  7.80006152e+02,\n",
       "        -2.70155746e+01],\n",
       "       [-6.78618740e+05,  1.62620392e+04, -3.73489403e+02,\n",
       "        -2.65056877e+01],\n",
       "       ...,\n",
       "       [ 1.93931161e+06, -1.53683799e+04, -1.81453667e+03,\n",
       "        -3.86709142e+01],\n",
       "       [ 1.97094560e+06, -1.53567160e+04, -1.85512603e+03,\n",
       "        -3.86744911e+01],\n",
       "       [ 1.97512764e+06, -1.53685218e+04, -1.51485793e+03,\n",
       "        -3.88151422e+01]])"
      ]
     },
     "execution_count": 88,
     "metadata": {},
     "output_type": "execute_result"
    }
   ],
   "source": [
    "arpackPcaFit = pcaArpack.fit_transform(scaleDf)\n",
    "arpackPcaFit"
   ]
  },
  {
   "cell_type": "code",
   "execution_count": 89,
   "metadata": {},
   "outputs": [
    {
     "name": "stdout",
     "output_type": "stream",
     "text": [
      "pcaFull: 4\n",
      "pcaArpack: 4\n"
     ]
    }
   ],
   "source": [
    "print('pcaFull:', pcaFull.n_components_)\n",
    "print('pcaArpack:', pcaArpack.n_components_)"
   ]
  },
  {
   "cell_type": "code",
   "execution_count": 90,
   "metadata": {},
   "outputs": [
    {
     "data": {
      "text/html": [
       "<div>\n",
       "<style scoped>\n",
       "    .dataframe tbody tr th:only-of-type {\n",
       "        vertical-align: middle;\n",
       "    }\n",
       "\n",
       "    .dataframe tbody tr th {\n",
       "        vertical-align: top;\n",
       "    }\n",
       "\n",
       "    .dataframe thead th {\n",
       "        text-align: right;\n",
       "    }\n",
       "</style>\n",
       "<table border=\"1\" class=\"dataframe\">\n",
       "  <thead>\n",
       "    <tr style=\"text-align: right;\">\n",
       "      <th></th>\n",
       "      <th>PC1</th>\n",
       "      <th>PC2</th>\n",
       "      <th>PC3</th>\n",
       "      <th>PC4</th>\n",
       "    </tr>\n",
       "  </thead>\n",
       "  <tbody>\n",
       "    <tr>\n",
       "      <th>0</th>\n",
       "      <td>-697495.657591</td>\n",
       "      <td>16233.810481</td>\n",
       "      <td>281.377448</td>\n",
       "      <td>153.174562</td>\n",
       "    </tr>\n",
       "    <tr>\n",
       "      <th>1</th>\n",
       "      <td>-680486.595284</td>\n",
       "      <td>16220.730493</td>\n",
       "      <td>780.006152</td>\n",
       "      <td>-27.015575</td>\n",
       "    </tr>\n",
       "    <tr>\n",
       "      <th>2</th>\n",
       "      <td>-678618.740440</td>\n",
       "      <td>16262.039204</td>\n",
       "      <td>-373.489403</td>\n",
       "      <td>-26.505688</td>\n",
       "    </tr>\n",
       "    <tr>\n",
       "      <th>3</th>\n",
       "      <td>-677282.503721</td>\n",
       "      <td>16193.791577</td>\n",
       "      <td>1502.100945</td>\n",
       "      <td>-27.340201</td>\n",
       "    </tr>\n",
       "    <tr>\n",
       "      <th>4</th>\n",
       "      <td>-676001.645056</td>\n",
       "      <td>16233.807664</td>\n",
       "      <td>378.651835</td>\n",
       "      <td>-26.840479</td>\n",
       "    </tr>\n",
       "  </tbody>\n",
       "</table>\n",
       "</div>"
      ],
      "text/plain": [
       "             PC1           PC2          PC3         PC4\n",
       "0 -697495.657591  16233.810481   281.377448  153.174562\n",
       "1 -680486.595284  16220.730493   780.006152  -27.015575\n",
       "2 -678618.740440  16262.039204  -373.489403  -26.505688\n",
       "3 -677282.503721  16193.791577  1502.100945  -27.340201\n",
       "4 -676001.645056  16233.807664   378.651835  -26.840479"
      ]
     },
     "execution_count": 90,
     "metadata": {},
     "output_type": "execute_result"
    }
   ],
   "source": [
    "dfFullPca = pd.DataFrame(fullPcaFit, columns = ['PC1','PC2','PC3','PC4'])\n",
    "dfFullPca.head()"
   ]
  },
  {
   "cell_type": "code",
   "execution_count": 91,
   "metadata": {},
   "outputs": [
    {
     "data": {
      "text/html": [
       "<div>\n",
       "<style scoped>\n",
       "    .dataframe tbody tr th:only-of-type {\n",
       "        vertical-align: middle;\n",
       "    }\n",
       "\n",
       "    .dataframe tbody tr th {\n",
       "        vertical-align: top;\n",
       "    }\n",
       "\n",
       "    .dataframe thead th {\n",
       "        text-align: right;\n",
       "    }\n",
       "</style>\n",
       "<table border=\"1\" class=\"dataframe\">\n",
       "  <thead>\n",
       "    <tr style=\"text-align: right;\">\n",
       "      <th></th>\n",
       "      <th>PC1</th>\n",
       "      <th>PC2</th>\n",
       "      <th>PC3</th>\n",
       "      <th>PC4</th>\n",
       "    </tr>\n",
       "  </thead>\n",
       "  <tbody>\n",
       "    <tr>\n",
       "      <th>0</th>\n",
       "      <td>-697495.657591</td>\n",
       "      <td>16233.810481</td>\n",
       "      <td>281.377448</td>\n",
       "      <td>153.174562</td>\n",
       "    </tr>\n",
       "    <tr>\n",
       "      <th>1</th>\n",
       "      <td>-680486.595284</td>\n",
       "      <td>16220.730493</td>\n",
       "      <td>780.006152</td>\n",
       "      <td>-27.015575</td>\n",
       "    </tr>\n",
       "    <tr>\n",
       "      <th>2</th>\n",
       "      <td>-678618.740440</td>\n",
       "      <td>16262.039204</td>\n",
       "      <td>-373.489403</td>\n",
       "      <td>-26.505688</td>\n",
       "    </tr>\n",
       "    <tr>\n",
       "      <th>3</th>\n",
       "      <td>-677282.503721</td>\n",
       "      <td>16193.791577</td>\n",
       "      <td>1502.100945</td>\n",
       "      <td>-27.340201</td>\n",
       "    </tr>\n",
       "    <tr>\n",
       "      <th>4</th>\n",
       "      <td>-676001.645056</td>\n",
       "      <td>16233.807664</td>\n",
       "      <td>378.651835</td>\n",
       "      <td>-26.840479</td>\n",
       "    </tr>\n",
       "  </tbody>\n",
       "</table>\n",
       "</div>"
      ],
      "text/plain": [
       "             PC1           PC2          PC3         PC4\n",
       "0 -697495.657591  16233.810481   281.377448  153.174562\n",
       "1 -680486.595284  16220.730493   780.006152  -27.015575\n",
       "2 -678618.740440  16262.039204  -373.489403  -26.505688\n",
       "3 -677282.503721  16193.791577  1502.100945  -27.340201\n",
       "4 -676001.645056  16233.807664   378.651835  -26.840479"
      ]
     },
     "execution_count": 91,
     "metadata": {},
     "output_type": "execute_result"
    }
   ],
   "source": [
    "dfArpackPca = pd.DataFrame(arpackPcaFit, columns = ['PC1','PC2','PC3','PC4'])\n",
    "dfArpackPca.head()"
   ]
  },
  {
   "cell_type": "markdown",
   "metadata": {},
   "source": [
    "When looking at the entries for both full and arpack PCA, there doesn't seem to be any differences. Due to this, more investigation could be done around the number of components within this dataset."
   ]
  },
  {
   "cell_type": "code",
   "execution_count": 92,
   "metadata": {},
   "outputs": [
    {
     "name": "stdout",
     "output_type": "stream",
     "text": [
      "pcaFull: [9.99699700e-01 2.91100799e-04 9.19438982e-06 5.00320295e-09]\n",
      "pcaArpack: [9.99699700e-01 2.91100799e-04 9.19438982e-06 5.00320294e-09]\n"
     ]
    }
   ],
   "source": [
    "print('pcaFull:', pcaFull.explained_variance_ratio_)\n",
    "print('pcaArpack:', pcaArpack.explained_variance_ratio_)"
   ]
  },
  {
   "cell_type": "code",
   "execution_count": 93,
   "metadata": {},
   "outputs": [
    {
     "data": {
      "text/html": [
       "<div>\n",
       "<style scoped>\n",
       "    .dataframe tbody tr th:only-of-type {\n",
       "        vertical-align: middle;\n",
       "    }\n",
       "\n",
       "    .dataframe tbody tr th {\n",
       "        vertical-align: top;\n",
       "    }\n",
       "\n",
       "    .dataframe thead th {\n",
       "        text-align: right;\n",
       "    }\n",
       "</style>\n",
       "<table border=\"1\" class=\"dataframe\">\n",
       "  <thead>\n",
       "    <tr style=\"text-align: right;\">\n",
       "      <th></th>\n",
       "      <th>index</th>\n",
       "      <th>code_module</th>\n",
       "      <th>code_presentation</th>\n",
       "      <th>id_student</th>\n",
       "      <th>gender</th>\n",
       "      <th>region</th>\n",
       "      <th>highest_education</th>\n",
       "      <th>imd_band</th>\n",
       "      <th>age_band</th>\n",
       "      <th>num_of_prev_attempts</th>\n",
       "      <th>studied_credits</th>\n",
       "      <th>disability</th>\n",
       "      <th>mean_clicks</th>\n",
       "      <th>sum_clicks</th>\n",
       "      <th>final_result</th>\n",
       "    </tr>\n",
       "  </thead>\n",
       "  <tbody>\n",
       "    <tr>\n",
       "      <th>index</th>\n",
       "      <td>1.000000</td>\n",
       "      <td>0.979958</td>\n",
       "      <td>0.151646</td>\n",
       "      <td>0.020735</td>\n",
       "      <td>0.287413</td>\n",
       "      <td>-0.028315</td>\n",
       "      <td>0.051814</td>\n",
       "      <td>0.000234</td>\n",
       "      <td>-0.046512</td>\n",
       "      <td>-0.038526</td>\n",
       "      <td>-0.125715</td>\n",
       "      <td>0.020278</td>\n",
       "      <td>0.243450</td>\n",
       "      <td>0.193444</td>\n",
       "      <td>-0.040235</td>\n",
       "    </tr>\n",
       "    <tr>\n",
       "      <th>code_module</th>\n",
       "      <td>0.979958</td>\n",
       "      <td>1.000000</td>\n",
       "      <td>-0.025032</td>\n",
       "      <td>-0.022583</td>\n",
       "      <td>0.278904</td>\n",
       "      <td>-0.028218</td>\n",
       "      <td>0.058669</td>\n",
       "      <td>-0.004266</td>\n",
       "      <td>-0.052130</td>\n",
       "      <td>-0.026404</td>\n",
       "      <td>-0.126039</td>\n",
       "      <td>0.020781</td>\n",
       "      <td>0.247143</td>\n",
       "      <td>0.201241</td>\n",
       "      <td>-0.049563</td>\n",
       "    </tr>\n",
       "    <tr>\n",
       "      <th>code_presentation</th>\n",
       "      <td>0.151646</td>\n",
       "      <td>-0.025032</td>\n",
       "      <td>1.000000</td>\n",
       "      <td>0.029465</td>\n",
       "      <td>0.063377</td>\n",
       "      <td>-0.000174</td>\n",
       "      <td>-0.022146</td>\n",
       "      <td>0.013618</td>\n",
       "      <td>0.004429</td>\n",
       "      <td>-0.048055</td>\n",
       "      <td>-0.063023</td>\n",
       "      <td>-0.004532</td>\n",
       "      <td>0.068631</td>\n",
       "      <td>-0.042705</td>\n",
       "      <td>0.031470</td>\n",
       "    </tr>\n",
       "    <tr>\n",
       "      <th>id_student</th>\n",
       "      <td>0.020735</td>\n",
       "      <td>-0.022583</td>\n",
       "      <td>0.029465</td>\n",
       "      <td>1.000000</td>\n",
       "      <td>0.002466</td>\n",
       "      <td>-0.004742</td>\n",
       "      <td>0.005736</td>\n",
       "      <td>0.025597</td>\n",
       "      <td>0.200213</td>\n",
       "      <td>0.015675</td>\n",
       "      <td>-0.003028</td>\n",
       "      <td>0.017017</td>\n",
       "      <td>0.015396</td>\n",
       "      <td>0.040700</td>\n",
       "      <td>0.000005</td>\n",
       "    </tr>\n",
       "    <tr>\n",
       "      <th>gender</th>\n",
       "      <td>0.287413</td>\n",
       "      <td>0.278904</td>\n",
       "      <td>0.063377</td>\n",
       "      <td>0.002466</td>\n",
       "      <td>1.000000</td>\n",
       "      <td>0.003995</td>\n",
       "      <td>-0.022659</td>\n",
       "      <td>0.076905</td>\n",
       "      <td>-0.032714</td>\n",
       "      <td>-0.025170</td>\n",
       "      <td>0.028086</td>\n",
       "      <td>-0.043220</td>\n",
       "      <td>0.150945</td>\n",
       "      <td>0.124933</td>\n",
       "      <td>0.025270</td>\n",
       "    </tr>\n",
       "    <tr>\n",
       "      <th>region</th>\n",
       "      <td>-0.028315</td>\n",
       "      <td>-0.028218</td>\n",
       "      <td>-0.000174</td>\n",
       "      <td>-0.004742</td>\n",
       "      <td>0.003995</td>\n",
       "      <td>1.000000</td>\n",
       "      <td>-0.011624</td>\n",
       "      <td>-0.034770</td>\n",
       "      <td>-0.015396</td>\n",
       "      <td>0.005304</td>\n",
       "      <td>0.011252</td>\n",
       "      <td>-0.018211</td>\n",
       "      <td>-0.014714</td>\n",
       "      <td>-0.010886</td>\n",
       "      <td>-0.002501</td>\n",
       "    </tr>\n",
       "    <tr>\n",
       "      <th>highest_education</th>\n",
       "      <td>0.051814</td>\n",
       "      <td>0.058669</td>\n",
       "      <td>-0.022146</td>\n",
       "      <td>0.005736</td>\n",
       "      <td>-0.022659</td>\n",
       "      <td>-0.011624</td>\n",
       "      <td>1.000000</td>\n",
       "      <td>-0.061441</td>\n",
       "      <td>0.066570</td>\n",
       "      <td>0.029767</td>\n",
       "      <td>-0.037144</td>\n",
       "      <td>0.016459</td>\n",
       "      <td>-0.015935</td>\n",
       "      <td>-0.031346</td>\n",
       "      <td>0.036318</td>\n",
       "    </tr>\n",
       "    <tr>\n",
       "      <th>imd_band</th>\n",
       "      <td>0.000234</td>\n",
       "      <td>-0.004266</td>\n",
       "      <td>0.013618</td>\n",
       "      <td>0.025597</td>\n",
       "      <td>0.076905</td>\n",
       "      <td>-0.034770</td>\n",
       "      <td>-0.061441</td>\n",
       "      <td>1.000000</td>\n",
       "      <td>0.071631</td>\n",
       "      <td>-0.043058</td>\n",
       "      <td>-0.037520</td>\n",
       "      <td>-0.064836</td>\n",
       "      <td>0.050460</td>\n",
       "      <td>0.075626</td>\n",
       "      <td>-0.046909</td>\n",
       "    </tr>\n",
       "    <tr>\n",
       "      <th>age_band</th>\n",
       "      <td>-0.046512</td>\n",
       "      <td>-0.052130</td>\n",
       "      <td>0.004429</td>\n",
       "      <td>0.200213</td>\n",
       "      <td>-0.032714</td>\n",
       "      <td>-0.015396</td>\n",
       "      <td>0.066570</td>\n",
       "      <td>0.071631</td>\n",
       "      <td>1.000000</td>\n",
       "      <td>0.005903</td>\n",
       "      <td>-0.076273</td>\n",
       "      <td>-0.023550</td>\n",
       "      <td>0.072244</td>\n",
       "      <td>0.139300</td>\n",
       "      <td>-0.030778</td>\n",
       "    </tr>\n",
       "    <tr>\n",
       "      <th>num_of_prev_attempts</th>\n",
       "      <td>-0.038526</td>\n",
       "      <td>-0.026404</td>\n",
       "      <td>-0.048055</td>\n",
       "      <td>0.015675</td>\n",
       "      <td>-0.025170</td>\n",
       "      <td>0.005304</td>\n",
       "      <td>0.029767</td>\n",
       "      <td>-0.043058</td>\n",
       "      <td>0.005903</td>\n",
       "      <td>1.000000</td>\n",
       "      <td>0.180541</td>\n",
       "      <td>0.056532</td>\n",
       "      <td>-0.070779</td>\n",
       "      <td>-0.068684</td>\n",
       "      <td>0.013565</td>\n",
       "    </tr>\n",
       "    <tr>\n",
       "      <th>studied_credits</th>\n",
       "      <td>-0.125715</td>\n",
       "      <td>-0.126039</td>\n",
       "      <td>-0.063023</td>\n",
       "      <td>-0.003028</td>\n",
       "      <td>0.028086</td>\n",
       "      <td>0.011252</td>\n",
       "      <td>-0.037144</td>\n",
       "      <td>-0.037520</td>\n",
       "      <td>-0.076273</td>\n",
       "      <td>0.180541</td>\n",
       "      <td>1.000000</td>\n",
       "      <td>0.052341</td>\n",
       "      <td>-0.066476</td>\n",
       "      <td>-0.005884</td>\n",
       "      <td>0.119642</td>\n",
       "    </tr>\n",
       "    <tr>\n",
       "      <th>disability</th>\n",
       "      <td>0.020278</td>\n",
       "      <td>0.020781</td>\n",
       "      <td>-0.004532</td>\n",
       "      <td>0.017017</td>\n",
       "      <td>-0.043220</td>\n",
       "      <td>-0.018211</td>\n",
       "      <td>0.016459</td>\n",
       "      <td>-0.064836</td>\n",
       "      <td>-0.023550</td>\n",
       "      <td>0.056532</td>\n",
       "      <td>0.052341</td>\n",
       "      <td>1.000000</td>\n",
       "      <td>-0.045804</td>\n",
       "      <td>-0.034330</td>\n",
       "      <td>0.041526</td>\n",
       "    </tr>\n",
       "    <tr>\n",
       "      <th>mean_clicks</th>\n",
       "      <td>0.243450</td>\n",
       "      <td>0.247143</td>\n",
       "      <td>0.068631</td>\n",
       "      <td>0.015396</td>\n",
       "      <td>0.150945</td>\n",
       "      <td>-0.014714</td>\n",
       "      <td>-0.015935</td>\n",
       "      <td>0.050460</td>\n",
       "      <td>0.072244</td>\n",
       "      <td>-0.070779</td>\n",
       "      <td>-0.066476</td>\n",
       "      <td>-0.045804</td>\n",
       "      <td>1.000000</td>\n",
       "      <td>0.529924</td>\n",
       "      <td>-0.092082</td>\n",
       "    </tr>\n",
       "    <tr>\n",
       "      <th>sum_clicks</th>\n",
       "      <td>0.193444</td>\n",
       "      <td>0.201241</td>\n",
       "      <td>-0.042705</td>\n",
       "      <td>0.040700</td>\n",
       "      <td>0.124933</td>\n",
       "      <td>-0.010886</td>\n",
       "      <td>-0.031346</td>\n",
       "      <td>0.075626</td>\n",
       "      <td>0.139300</td>\n",
       "      <td>-0.068684</td>\n",
       "      <td>-0.005884</td>\n",
       "      <td>-0.034330</td>\n",
       "      <td>0.529924</td>\n",
       "      <td>1.000000</td>\n",
       "      <td>-0.212559</td>\n",
       "    </tr>\n",
       "    <tr>\n",
       "      <th>final_result</th>\n",
       "      <td>-0.040235</td>\n",
       "      <td>-0.049563</td>\n",
       "      <td>0.031470</td>\n",
       "      <td>0.000005</td>\n",
       "      <td>0.025270</td>\n",
       "      <td>-0.002501</td>\n",
       "      <td>0.036318</td>\n",
       "      <td>-0.046909</td>\n",
       "      <td>-0.030778</td>\n",
       "      <td>0.013565</td>\n",
       "      <td>0.119642</td>\n",
       "      <td>0.041526</td>\n",
       "      <td>-0.092082</td>\n",
       "      <td>-0.212559</td>\n",
       "      <td>1.000000</td>\n",
       "    </tr>\n",
       "  </tbody>\n",
       "</table>\n",
       "</div>"
      ],
      "text/plain": [
       "                         index  code_module  code_presentation  id_student  \\\n",
       "index                 1.000000     0.979958           0.151646    0.020735   \n",
       "code_module           0.979958     1.000000          -0.025032   -0.022583   \n",
       "code_presentation     0.151646    -0.025032           1.000000    0.029465   \n",
       "id_student            0.020735    -0.022583           0.029465    1.000000   \n",
       "gender                0.287413     0.278904           0.063377    0.002466   \n",
       "region               -0.028315    -0.028218          -0.000174   -0.004742   \n",
       "highest_education     0.051814     0.058669          -0.022146    0.005736   \n",
       "imd_band              0.000234    -0.004266           0.013618    0.025597   \n",
       "age_band             -0.046512    -0.052130           0.004429    0.200213   \n",
       "num_of_prev_attempts -0.038526    -0.026404          -0.048055    0.015675   \n",
       "studied_credits      -0.125715    -0.126039          -0.063023   -0.003028   \n",
       "disability            0.020278     0.020781          -0.004532    0.017017   \n",
       "mean_clicks           0.243450     0.247143           0.068631    0.015396   \n",
       "sum_clicks            0.193444     0.201241          -0.042705    0.040700   \n",
       "final_result         -0.040235    -0.049563           0.031470    0.000005   \n",
       "\n",
       "                        gender    region  highest_education  imd_band  \\\n",
       "index                 0.287413 -0.028315           0.051814  0.000234   \n",
       "code_module           0.278904 -0.028218           0.058669 -0.004266   \n",
       "code_presentation     0.063377 -0.000174          -0.022146  0.013618   \n",
       "id_student            0.002466 -0.004742           0.005736  0.025597   \n",
       "gender                1.000000  0.003995          -0.022659  0.076905   \n",
       "region                0.003995  1.000000          -0.011624 -0.034770   \n",
       "highest_education    -0.022659 -0.011624           1.000000 -0.061441   \n",
       "imd_band              0.076905 -0.034770          -0.061441  1.000000   \n",
       "age_band             -0.032714 -0.015396           0.066570  0.071631   \n",
       "num_of_prev_attempts -0.025170  0.005304           0.029767 -0.043058   \n",
       "studied_credits       0.028086  0.011252          -0.037144 -0.037520   \n",
       "disability           -0.043220 -0.018211           0.016459 -0.064836   \n",
       "mean_clicks           0.150945 -0.014714          -0.015935  0.050460   \n",
       "sum_clicks            0.124933 -0.010886          -0.031346  0.075626   \n",
       "final_result          0.025270 -0.002501           0.036318 -0.046909   \n",
       "\n",
       "                      age_band  num_of_prev_attempts  studied_credits  \\\n",
       "index                -0.046512             -0.038526        -0.125715   \n",
       "code_module          -0.052130             -0.026404        -0.126039   \n",
       "code_presentation     0.004429             -0.048055        -0.063023   \n",
       "id_student            0.200213              0.015675        -0.003028   \n",
       "gender               -0.032714             -0.025170         0.028086   \n",
       "region               -0.015396              0.005304         0.011252   \n",
       "highest_education     0.066570              0.029767        -0.037144   \n",
       "imd_band              0.071631             -0.043058        -0.037520   \n",
       "age_band              1.000000              0.005903        -0.076273   \n",
       "num_of_prev_attempts  0.005903              1.000000         0.180541   \n",
       "studied_credits      -0.076273              0.180541         1.000000   \n",
       "disability           -0.023550              0.056532         0.052341   \n",
       "mean_clicks           0.072244             -0.070779        -0.066476   \n",
       "sum_clicks            0.139300             -0.068684        -0.005884   \n",
       "final_result         -0.030778              0.013565         0.119642   \n",
       "\n",
       "                      disability  mean_clicks  sum_clicks  final_result  \n",
       "index                   0.020278     0.243450    0.193444     -0.040235  \n",
       "code_module             0.020781     0.247143    0.201241     -0.049563  \n",
       "code_presentation      -0.004532     0.068631   -0.042705      0.031470  \n",
       "id_student              0.017017     0.015396    0.040700      0.000005  \n",
       "gender                 -0.043220     0.150945    0.124933      0.025270  \n",
       "region                 -0.018211    -0.014714   -0.010886     -0.002501  \n",
       "highest_education       0.016459    -0.015935   -0.031346      0.036318  \n",
       "imd_band               -0.064836     0.050460    0.075626     -0.046909  \n",
       "age_band               -0.023550     0.072244    0.139300     -0.030778  \n",
       "num_of_prev_attempts    0.056532    -0.070779   -0.068684      0.013565  \n",
       "studied_credits         0.052341    -0.066476   -0.005884      0.119642  \n",
       "disability              1.000000    -0.045804   -0.034330      0.041526  \n",
       "mean_clicks            -0.045804     1.000000    0.529924     -0.092082  \n",
       "sum_clicks             -0.034330     0.529924    1.000000     -0.212559  \n",
       "final_result            0.041526    -0.092082   -0.212559      1.000000  "
      ]
     },
     "execution_count": 93,
     "metadata": {},
     "output_type": "execute_result"
    }
   ],
   "source": [
    "#corr = myTemp.loc[: , myTemp.columns != 'final_result'].corr()\n",
    "corr = myTemp.loc[: , myTemp.columns].corr()\n",
    "corr"
   ]
  },
  {
   "cell_type": "code",
   "execution_count": 94,
   "metadata": {},
   "outputs": [
    {
     "data": {
      "image/png": "[encoded data removed]",
      "text/plain": [
       "<Figure size 864x720 with 2 Axes>"
      ]
     },
     "metadata": {
      "needs_background": "light"
     },
     "output_type": "display_data"
    }
   ],
   "source": [
    "cor_mat = sns.heatmap(\n",
    "    corr,\n",
    "  center = 0,\n",
    "    cmap = sns.diverging_palette(20,220, n = 10),\n",
    "    square = True,\n",
    "    linewidths = 0.5\n",
    ")"
   ]
  },
  {
   "cell_type": "markdown",
   "metadata": {},
   "source": [
    "The main predictors to look at here is \n",
    "- gender, region, highest_education, imd_band, age_band, num_of_prev_attempts, disability.\n",
    "- But the main predictors in my opinion is the mean_clicks and sum_clicks.\n",
    "\n",
    "These variables don't really have much correlation, but sum/mean clicks are close with final_results having a low correlation."
   ]
  },
  {
   "cell_type": "markdown",
   "metadata": {},
   "source": [
    "# 2 - Task B\n",
    "\n",
    "This section will look at:\n",
    "1. Using the new tables from Task A, use an unsupervised analysis on the groups or clusters found within the dataset.\n",
    "2. Apply two types of algorithms to compare and interpret the results.\n",
    "\n",
    "## 2.0 - Useful hints\n",
    "It is not necessary that every interpretation has to be made with regards to a pre-determined\n",
    "target variable in preparation of a supervised learning task. You may as well interpret the\n",
    "results and uncover trends, and hidden groups which may not very well be linked to the final\n",
    "result but can lead to other directions. <br><br>\n",
    "To justify the decisions and choices you have made, it is vital to support and reflect on the\n",
    "process of choosing final models’ parameters and evaluation metrics.\n"
   ]
  },
  {
   "cell_type": "code",
   "execution_count": 95,
   "metadata": {},
   "outputs": [],
   "source": [
    "# shuffle the data to hopefully remove bias.\n",
    "dfShuffle = sklearn.utils.shuffle(myTemp)"
   ]
  },
  {
   "cell_type": "code",
   "execution_count": 96,
   "metadata": {
    "scrolled": true
   },
   "outputs": [
    {
     "data": {
      "text/html": [
       "<div>\n",
       "<style scoped>\n",
       "    .dataframe tbody tr th:only-of-type {\n",
       "        vertical-align: middle;\n",
       "    }\n",
       "\n",
       "    .dataframe tbody tr th {\n",
       "        vertical-align: top;\n",
       "    }\n",
       "\n",
       "    .dataframe thead th {\n",
       "        text-align: right;\n",
       "    }\n",
       "</style>\n",
       "<table border=\"1\" class=\"dataframe\">\n",
       "  <thead>\n",
       "    <tr style=\"text-align: right;\">\n",
       "      <th></th>\n",
       "      <th>index</th>\n",
       "      <th>code_module</th>\n",
       "      <th>code_presentation</th>\n",
       "      <th>id_student</th>\n",
       "      <th>gender</th>\n",
       "      <th>region</th>\n",
       "      <th>highest_education</th>\n",
       "      <th>imd_band</th>\n",
       "      <th>age_band</th>\n",
       "      <th>num_of_prev_attempts</th>\n",
       "      <th>studied_credits</th>\n",
       "      <th>disability</th>\n",
       "      <th>mean_clicks</th>\n",
       "      <th>sum_clicks</th>\n",
       "      <th>final_result</th>\n",
       "    </tr>\n",
       "  </thead>\n",
       "  <tbody>\n",
       "    <tr>\n",
       "      <th>1269</th>\n",
       "      <td>1269</td>\n",
       "      <td>1</td>\n",
       "      <td>0</td>\n",
       "      <td>486282</td>\n",
       "      <td>0</td>\n",
       "      <td>9</td>\n",
       "      <td>2</td>\n",
       "      <td>4</td>\n",
       "      <td>0</td>\n",
       "      <td>1</td>\n",
       "      <td>120</td>\n",
       "      <td>1</td>\n",
       "      <td>2.933333</td>\n",
       "      <td>264.0</td>\n",
       "      <td>1</td>\n",
       "    </tr>\n",
       "    <tr>\n",
       "      <th>31821</th>\n",
       "      <td>31821</td>\n",
       "      <td>6</td>\n",
       "      <td>2</td>\n",
       "      <td>2272474</td>\n",
       "      <td>0</td>\n",
       "      <td>12</td>\n",
       "      <td>0</td>\n",
       "      <td>7</td>\n",
       "      <td>1</td>\n",
       "      <td>0</td>\n",
       "      <td>30</td>\n",
       "      <td>0</td>\n",
       "      <td>3.225806</td>\n",
       "      <td>400.0</td>\n",
       "      <td>2</td>\n",
       "    </tr>\n",
       "    <tr>\n",
       "      <th>911</th>\n",
       "      <td>911</td>\n",
       "      <td>1</td>\n",
       "      <td>0</td>\n",
       "      <td>288380</td>\n",
       "      <td>0</td>\n",
       "      <td>9</td>\n",
       "      <td>2</td>\n",
       "      <td>5</td>\n",
       "      <td>0</td>\n",
       "      <td>3</td>\n",
       "      <td>120</td>\n",
       "      <td>1</td>\n",
       "      <td>1.636364</td>\n",
       "      <td>18.0</td>\n",
       "      <td>1</td>\n",
       "    </tr>\n",
       "    <tr>\n",
       "      <th>5766</th>\n",
       "      <td>5766</td>\n",
       "      <td>1</td>\n",
       "      <td>2</td>\n",
       "      <td>623169</td>\n",
       "      <td>0</td>\n",
       "      <td>1</td>\n",
       "      <td>2</td>\n",
       "      <td>9</td>\n",
       "      <td>0</td>\n",
       "      <td>0</td>\n",
       "      <td>120</td>\n",
       "      <td>0</td>\n",
       "      <td>2.848739</td>\n",
       "      <td>339.0</td>\n",
       "      <td>2</td>\n",
       "    </tr>\n",
       "    <tr>\n",
       "      <th>28723</th>\n",
       "      <td>28723</td>\n",
       "      <td>5</td>\n",
       "      <td>3</td>\n",
       "      <td>644450</td>\n",
       "      <td>1</td>\n",
       "      <td>1</td>\n",
       "      <td>2</td>\n",
       "      <td>4</td>\n",
       "      <td>0</td>\n",
       "      <td>0</td>\n",
       "      <td>60</td>\n",
       "      <td>0</td>\n",
       "      <td>4.294731</td>\n",
       "      <td>7825.0</td>\n",
       "      <td>0</td>\n",
       "    </tr>\n",
       "  </tbody>\n",
       "</table>\n",
       "</div>"
      ],
      "text/plain": [
       "       index  code_module  code_presentation  id_student  gender  region  \\\n",
       "1269    1269            1                  0      486282       0       9   \n",
       "31821  31821            6                  2     2272474       0      12   \n",
       "911      911            1                  0      288380       0       9   \n",
       "5766    5766            1                  2      623169       0       1   \n",
       "28723  28723            5                  3      644450       1       1   \n",
       "\n",
       "       highest_education  imd_band  age_band  num_of_prev_attempts  \\\n",
       "1269                   2         4         0                     1   \n",
       "31821                  0         7         1                     0   \n",
       "911                    2         5         0                     3   \n",
       "5766                   2         9         0                     0   \n",
       "28723                  2         4         0                     0   \n",
       "\n",
       "       studied_credits  disability  mean_clicks  sum_clicks  final_result  \n",
       "1269               120           1     2.933333       264.0             1  \n",
       "31821               30           0     3.225806       400.0             2  \n",
       "911                120           1     1.636364        18.0             1  \n",
       "5766               120           0     2.848739       339.0             2  \n",
       "28723               60           0     4.294731      7825.0             0  "
      ]
     },
     "execution_count": 96,
     "metadata": {},
     "output_type": "execute_result"
    }
   ],
   "source": [
    "# our shuffled dataset\n",
    "dfShuffle.head()"
   ]
  },
  {
   "cell_type": "code",
   "execution_count": 97,
   "metadata": {},
   "outputs": [],
   "source": [
    "# remove the warnings.\n",
    "import warnings\n",
    "warnings.filterwarnings('ignore')\n",
    "\n",
    "# try with only x features\n",
    "features = ['mean_clicks', 'sum_clicks', 'final_result']\n",
    "# define the X of the subset\n",
    "X = dfShuffle[features]\n",
    "# set the standard scaller as z\n",
    "z = ss()\n",
    "# add the standard scores to X features.\n",
    "X[features] = z.fit_transform(X)"
   ]
  },
  {
   "cell_type": "markdown",
   "metadata": {},
   "source": [
    "## 2.1 - Gaussian Mixture\n",
    "This section will look at using 2 unsupervised models on our dataset, and hopefully draw some more useful insights from the dataset. \n",
    "<br>Starting with the Gaussian Mixture which is a module from SciKit Learn and it is said to have a few pros and cons:\n",
    "- Pros\n",
    " - Speed: It is the fastest algorithm for learning mixture models.\n",
    " - Agnostic: As this algorithm maximizes only the likelihood, it will not bias the means towards zero, or bias the cluster sizes to have specific structures that might or might not apply.\n",
    "- Cons\n",
    " - Singularities: When one has insufficiently many points per mixture, estimating the covariance matrices becomes difficult, and the algorithm is known to diverge and find solutions with infinite likelihood unless one regularizes the covariances artificially.\n",
    " - Number of components: This algorithm will always use all the components it has access to, needing held-out data or information theoretical criteria to decide how many components to use in the absence of external cues.\n",
    "\n",
    "https://scikit-learn.org/stable/modules/mixture.html\n",
    "\n",
    "\n"
   ]
  },
  {
   "cell_type": "code",
   "execution_count": 98,
   "metadata": {},
   "outputs": [],
   "source": [
    "# set random state as myS\n",
    "myS = 1234\n",
    "# create a new GaussianMixture instance.\n",
    "gm = GaussianMixture(n_components=3, random_state=myS)"
   ]
  },
  {
   "cell_type": "code",
   "execution_count": 99,
   "metadata": {},
   "outputs": [
    {
     "name": "stdout",
     "output_type": "stream",
     "text": [
      "[[ 0.83838786  0.94336532 -0.29701055]\n",
      " [-0.35957058 -0.41098061  0.67330785]\n",
      " [-0.49413035 -0.54144136 -1.06953196]]\n"
     ]
    }
   ],
   "source": [
    "# fit the Gaussian Mixture on the dataset dfShuffle\n",
    "gm.fit(X)\n",
    "# print the gm means\n",
    "print(gm.means_)"
   ]
  },
  {
   "cell_type": "code",
   "execution_count": 100,
   "metadata": {},
   "outputs": [
    {
     "name": "stdout",
     "output_type": "stream",
     "text": [
      "[2 1 2 ... 1 0 1]\n"
     ]
    }
   ],
   "source": [
    "# get the hard assignment of prediction\n",
    "gmCluster = gm.predict(X)\n",
    "print(gmCluster)"
   ]
  },
  {
   "cell_type": "code",
   "execution_count": 101,
   "metadata": {},
   "outputs": [
    {
     "name": "stdout",
     "output_type": "stream",
     "text": [
      "[[1.67210452e-02 4.27639944e-04 9.82851315e-01]\n",
      " [6.79482650e-02 9.27568505e-01 4.48323043e-03]\n",
      " [8.72971132e-03 2.24048090e-04 9.91046241e-01]\n",
      " ...\n",
      " [4.07227476e-01 4.23728175e-01 1.69044349e-01]\n",
      " [9.08785226e-01 9.12147742e-02 1.88192701e-16]\n",
      " [3.00128575e-03 9.96998712e-01 2.43003346e-09]]\n"
     ]
    }
   ],
   "source": [
    "# get the soft assignment of prediction\n",
    "cluster_p = gm.predict_proba(X)\n",
    "print(cluster_p)"
   ]
  },
  {
   "cell_type": "code",
   "execution_count": 102,
   "metadata": {},
   "outputs": [
    {
     "name": "stdout",
     "output_type": "stream",
     "text": [
      "Silhouette: 0.3 %\n",
      "Time to calculate silhouette score: 18 seconds\n"
     ]
    }
   ],
   "source": [
    "# get process_time module to check how long it takes for x amount of features.\n",
    "from time import process_time\n",
    "\n",
    "# start the time\n",
    "t1_start = process_time()  \n",
    "\n",
    "# print the silhouette score for GM model.\n",
    "print(\"Silhouette:\", round(silhouette_score(X, gmCluster), 2), '%')\n",
    "\n",
    "# stop the timer\n",
    "t1_stop = process_time()\n",
    "\n",
    "# print in seconds.\n",
    "print(\"Time to calculate silhouette score:\", round(t1_stop-t1_start), 'seconds'  )"
   ]
  },
  {
   "cell_type": "markdown",
   "metadata": {},
   "source": [
    "Above we can see the Silhouette score for the GM model, which is not great, but fine at 30%. \n",
    "<br>\n",
    "Lets look at adding KMeans on the subset of data and see the difference."
   ]
  },
  {
   "cell_type": "markdown",
   "metadata": {},
   "source": [
    "## 2.2 - KMeans\n",
    "This section will look at using a clustering model, specifically KMeans on the dataset. This again is part of the scikit learn package which is really useful. There are a few pros and cons to KMeans, these are as follows:\n",
    "- Pros\n",
    " - Simple: Pretty easy to implement\n",
    " - Scalability: Works well with large datasets.\n",
    "- Cons\n",
    " - Outliers: Centroids can be manipulated by outliers within the dataset.\n",
    " - Dependent on initial values: Can become difficult to find the the correct 'k' when looking at larger datasets and would require more advance versions of KMeans such as KMeans Seeding.\n",
    "\n",
    "https://scikit-learn.org/stable/modules/clustering.html#k-means\n",
    "\n",
    "\n"
   ]
  },
  {
   "cell_type": "code",
   "execution_count": 103,
   "metadata": {
    "scrolled": true
   },
   "outputs": [],
   "source": [
    "# KMEANS on dfShuffle dataset\n",
    "## kmeans for init\n",
    "km_1 = KMeans(n_clusters=1, max_iter=20, verbose=0, random_state=myS).fit(dfShuffle)\n",
    "km_2 = KMeans(n_clusters=2, max_iter=20, verbose=0, random_state=myS).fit(dfShuffle)\n",
    "km_3 = KMeans(n_clusters=3, max_iter=20, verbose=0, random_state=myS).fit(dfShuffle)\n",
    "km_4 = KMeans(n_clusters=4, max_iter=20, verbose=0, random_state=myS).fit(dfShuffle)\n",
    "km_5 = KMeans(n_clusters=5, max_iter=20, verbose=0, random_state=myS).fit(dfShuffle)"
   ]
  },
  {
   "cell_type": "code",
   "execution_count": 104,
   "metadata": {
    "scrolled": true
   },
   "outputs": [
    {
     "name": "stdout",
     "output_type": "stream",
     "text": [
      "[[1.64800720e+04 3.14630510e+00 1.78174913e+00 7.08880827e+05\n",
      "  5.50543054e-01 5.96429332e+00 9.91765458e-01 4.27685100e+00\n",
      "  3.02903386e-01 1.60005679e-01 7.80018812e+01 9.88854973e-02\n",
      "  3.26187806e+00 1.32649922e+03 1.81536168e+00]]\n",
      "[[1.65501293e+04 3.17432283e+00 1.79336290e+00 5.31598743e+05\n",
      "  5.50174244e-01 5.97109140e+00 9.89822588e-01 4.24782195e+00\n",
      "  2.62949469e-01 1.48621891e-01 7.78108665e+01 9.63488041e-02\n",
      "  3.25738263e+00 1.29714522e+03 1.81462854e+00]\n",
      " [1.58746355e+04 2.90417522e+00 1.68138261e+00 2.24095721e+06\n",
      "  5.53730322e-01 5.90554415e+00 1.00855578e+00 4.52772074e+00\n",
      "  6.48186174e-01 2.58384668e-01 7.96526352e+01 1.20807666e-01\n",
      "  3.30072767e+00 1.58017728e+03 1.82169747e+00]]\n",
      "[[1.41789147e+04 2.89705882e+00 1.56657393e+00 2.73290467e+05\n",
      "  5.48887122e-01 6.00119237e+00 9.69197138e-01 4.27027027e+00\n",
      "  3.10015898e-01 3.51748808e-01 8.35174881e+01 1.05127186e-01\n",
      "  3.18871925e+00 1.31960811e+03 1.82193959e+00]\n",
      " [1.58714526e+04 2.90283541e+00 1.68257261e+00 2.24960175e+06\n",
      "  5.55325035e-01 5.90006916e+00 1.00726141e+00 4.52697095e+00\n",
      "  6.44190871e-01 2.57261411e-01 7.96818811e+01 1.21715076e-01\n",
      "  3.29560170e+00 1.57749343e+03 1.82157676e+00]\n",
      " [1.71388153e+04 3.24301235e+00 1.84938272e+00 5.97084569e+05\n",
      "  5.50271605e-01 5.96429630e+00 9.95160494e-01 4.24276543e+00\n",
      "  2.52395062e-01 9.84691358e-02 7.63913580e+01 9.40740741e-02\n",
      "  3.27524133e+00 1.29236593e+03 1.81283951e+00]]\n",
      "[[1.71307524e+04 3.24271173e+00 1.84800870e+00 5.93588856e+05\n",
      "  5.50103765e-01 5.96541160e+00 9.94169384e-01 4.23717759e+00\n",
      "  2.49085878e-01 9.89228185e-02 7.64845835e+01 9.42780907e-02\n",
      "  3.27345685e+00 1.29063114e+03 1.81292618e+00]\n",
      " [1.57499579e+04 2.88045151e+00 1.65828630e+00 2.46000049e+06\n",
      "  5.35659312e-01 5.99332991e+00 1.00564392e+00 4.39199590e+00\n",
      "  5.04361211e-01 2.78604413e-01 8.11416111e+01 1.21600821e-01\n",
      "  3.25321613e+00 1.46466188e+03 1.82247306e+00]\n",
      " [1.41827905e+04 2.89707956e+00 1.56978852e+00 2.71119363e+05\n",
      "  5.48841893e-01 5.99375629e+00 9.72004028e-01 4.27190332e+00\n",
      "  3.10171198e-01 3.50654582e-01 8.33141994e+01 1.05337362e-01\n",
      "  3.19212550e+00 1.31878852e+03 1.82356495e+00]\n",
      " [1.61479041e+04 2.95499022e+00 1.73483366e+00 1.77916688e+06\n",
      "  5.95890411e-01 5.74363992e+00 1.01369863e+00 4.86692759e+00\n",
      "  9.49119374e-01 2.17221135e-01 7.62524462e+01 1.15459883e-01\n",
      "  3.38797585e+00 1.81074853e+03 1.81017613e+00]]\n",
      "[[1.43464524e+04 2.94937651e+00 1.41485204e+00 4.43888918e+05\n",
      "  5.30243812e-01 6.05341522e+00 9.89205286e-01 4.20100503e+00\n",
      "  2.60189838e-01 3.35938954e-01 8.49060115e+01 1.12786153e-01\n",
      "  3.14952545e+00 1.25737633e+03 1.83342639e+00]\n",
      " [1.57499579e+04 2.88045151e+00 1.65828630e+00 2.46000049e+06\n",
      "  5.35659312e-01 5.99332991e+00 1.00564392e+00 4.39199590e+00\n",
      "  5.04361211e-01 2.78604413e-01 8.11416111e+01 1.21600821e-01\n",
      "  3.25321613e+00 1.46466188e+03 1.82247306e+00]\n",
      " [1.76649876e+04 3.29879546e+00 1.94076716e+00 6.12440441e+05\n",
      "  5.55315168e-01 5.93620629e+00 9.90644369e-01 4.23921179e+00\n",
      "  2.49035201e-01 6.00514560e-02 7.48140568e+01 8.89369664e-02\n",
      "  3.29850242e+00 1.30089668e+03 1.80809262e+00]\n",
      " [1.61536235e+04 2.95588235e+00 1.73529412e+00 1.78032684e+06\n",
      "  5.95098039e-01 5.74313725e+00 1.01372549e+00 4.86078431e+00\n",
      "  9.47058824e-01 2.17647059e-01 7.62254902e+01 1.15686275e-01\n",
      "  3.38892661e+00 1.81159216e+03 1.81176471e+00]\n",
      " [1.38996623e+04 2.83956044e+00 1.61318681e+00 1.84088830e+05\n",
      "  5.54578755e-01 6.02673993e+00 9.85714286e-01 4.36153846e+00\n",
      "  3.39926740e-01 3.33699634e-01 8.28058608e+01 1.11355311e-01\n",
      "  3.21228582e+00 1.34304799e+03 1.82161172e+00]]\n"
     ]
    }
   ],
   "source": [
    "# PRINT CENTERS\n",
    "## print cluster centers\n",
    "print(km_1.cluster_centers_)\n",
    "print(km_2.cluster_centers_)\n",
    "print(km_3.cluster_centers_)\n",
    "print(km_4.cluster_centers_)\n",
    "print(km_5.cluster_centers_)"
   ]
  },
  {
   "cell_type": "code",
   "execution_count": 105,
   "metadata": {},
   "outputs": [
    {
     "name": "stdout",
     "output_type": "stream",
     "text": [
      "[0 0 0 ... 0 0 0]\n",
      "[0 1 0 ... 0 0 0]\n",
      "[2 1 0 ... 0 2 2]\n",
      "[0 1 2 ... 2 0 0]\n",
      "[0 1 4 ... 4 2 2]\n"
     ]
    }
   ],
   "source": [
    "# PRINT LABELS\n",
    "# print init labels\n",
    "print(km_1.labels_)\n",
    "print(km_2.labels_)\n",
    "print(km_3.labels_)\n",
    "print(km_4.labels_)\n",
    "print(km_5.labels_)"
   ]
  },
  {
   "cell_type": "code",
   "execution_count": 106,
   "metadata": {},
   "outputs": [
    {
     "name": "stdout",
     "output_type": "stream",
     "text": [
      "8638282045556997.0\n",
      "985949104633262.6\n",
      "565293214201013.5\n",
      "270603022805292.34\n",
      "202587248750850.84\n"
     ]
    }
   ],
   "source": [
    "# PRINT INERTIA\n",
    "## print inertia for init\n",
    "print(km_1.inertia_)\n",
    "print(km_2.inertia_)\n",
    "print(km_3.inertia_)\n",
    "print(km_4.inertia_)\n",
    "print(km_5.inertia_)"
   ]
  },
  {
   "cell_type": "markdown",
   "metadata": {},
   "source": [
    "Plot all of our KMeans, whilst looking for the 'elbow'."
   ]
  },
  {
   "cell_type": "code",
   "execution_count": 107,
   "metadata": {},
   "outputs": [],
   "source": [
    "# Create a list of our clusters\n",
    "## for init dataset\n",
    "fiveInertia = [km_1.inertia_, km_2.inertia_, km_3.inertia_, km_4.inertia_, km_5.inertia_]\n",
    "# no of clusters\n",
    "clusters = [1,2,3,4,5]"
   ]
  },
  {
   "cell_type": "code",
   "execution_count": 108,
   "metadata": {},
   "outputs": [
    {
     "data": {
      "image/png": "[encoded data removed]",
      "text/plain": [
       "<Figure size 864x720 with 1 Axes>"
      ]
     },
     "metadata": {
      "needs_background": "light"
     },
     "output_type": "display_data"
    }
   ],
   "source": [
    "# Now to plot all of them to see the differences.\n",
    "plt.plot(clusters, fiveInertia, marker = '*')\n",
    "plt.xlabel('Number of clusters')\n",
    "plt.ylabel('Inertia')\n",
    "plt.show()"
   ]
  },
  {
   "cell_type": "markdown",
   "metadata": {},
   "source": [
    "From this plot above, it looks like the safest number of clusters from the original dataset is 2. This is usually show in the plot with the 'elbow' point within the plot.\n",
    "<br>\n",
    "Let's look at the silhouette score for these samples."
   ]
  },
  {
   "cell_type": "markdown",
   "metadata": {},
   "source": [
    "Create a new cluster which will be analysed with silhouettes samples. <br>\n",
    "Here we will select 2 clusters which seemed to be the 'elbow' which was noted above.\n"
   ]
  },
  {
   "cell_type": "code",
   "execution_count": 109,
   "metadata": {},
   "outputs": [],
   "source": [
    "# we'll use km_2\n",
    "km_2\n",
    "pred_km_2 = km_2.fit_predict(dfShuffle)"
   ]
  },
  {
   "cell_type": "code",
   "execution_count": 110,
   "metadata": {},
   "outputs": [],
   "source": [
    "# can find the avg score using silhouette_score \n",
    "silSampK = silhouette_samples(dfShuffle, pred_km_2, metric = 'euclidean')\n",
    "silScorK = silhouette_score(dfShuffle, pred_km_2, metric = 'euclidean')"
   ]
  },
  {
   "cell_type": "code",
   "execution_count": 111,
   "metadata": {
    "scrolled": true
   },
   "outputs": [
    {
     "name": "stdout",
     "output_type": "stream",
     "text": [
      "silSamp: [0.92363034 0.8277844  0.86323759 ... 0.85834941 0.92688139 0.93344773]\n"
     ]
    }
   ],
   "source": [
    "print('silSamp:', silSampK) # score for each sample of different clusters"
   ]
  },
  {
   "cell_type": "code",
   "execution_count": 112,
   "metadata": {},
   "outputs": [
    {
     "name": "stdout",
     "output_type": "stream",
     "text": [
      "silScor: 0.89 %\n"
     ]
    }
   ],
   "source": [
    "print('silScor:', round(silScorK,2), \"%\") # score for measuring the mean coefficient "
   ]
  },
  {
   "cell_type": "markdown",
   "metadata": {},
   "source": [
    "Looking at the mean score of 89%, It looks like this model is pretty accurate. Why not compare this to a different clustering algorithm, lets try Mean Shift."
   ]
  },
  {
   "cell_type": "markdown",
   "metadata": {},
   "source": [
    "## 2.3 - Mean Shift\n",
    "This section will look at using a Mean Shift algorithm to see how the silhouette score compares."
   ]
  },
  {
   "cell_type": "code",
   "execution_count": 113,
   "metadata": {},
   "outputs": [],
   "source": [
    "# The following bandwidth can be automatically detected using\n",
    "bandwidth = estimate_bandwidth(X, quantile=0.2, n_samples=500)\n",
    "# create a meanshift model\n",
    "km_ms_2 = MeanShift(bandwidth=bandwidth, bin_seeding=True)\n",
    "# fit the model on X\n",
    "df = km_ms_2.fit(X)"
   ]
  },
  {
   "cell_type": "code",
   "execution_count": 114,
   "metadata": {},
   "outputs": [
    {
     "data": {
      "text/plain": [
       "array([0, 0, 0, ..., 0, 0, 0], dtype=int64)"
      ]
     },
     "execution_count": 114,
     "metadata": {},
     "output_type": "execute_result"
    }
   ],
   "source": [
    "kmMSLabels = df.labels_\n",
    "kmMSLabels"
   ]
  },
  {
   "cell_type": "code",
   "execution_count": 115,
   "metadata": {},
   "outputs": [
    {
     "data": {
      "text/plain": [
       "array([[-3.80025775e-01, -3.72968377e-01,  2.57208019e-01],\n",
       "       [ 2.27943094e+00,  7.44224786e+00, -1.97259735e+00],\n",
       "       [ 2.59688823e+00,  8.11033381e+00,  2.00630575e-01],\n",
       "       [ 6.46097972e+00,  1.43573340e+00, -2.82308963e-01],\n",
       "       [ 6.78272267e+00, -6.26123518e-01,  1.28724454e+00],\n",
       "       [ 8.24797876e+00, -2.57838183e-01,  1.10614221e+00],\n",
       "       [ 6.39069762e+00,  3.52463811e+00,  3.81732902e-01],\n",
       "       [ 3.39043855e+00,  1.01641533e+01,  2.00630575e-01],\n",
       "       [ 9.90819988e+00,  2.23745632e-03,  1.28724454e+00],\n",
       "       [ 1.27957905e+01,  1.26634144e-01, -8.85983385e-01],\n",
       "       [ 1.36836211e+01,  5.68947117e+00,  2.00630575e-01],\n",
       "       [ 1.05932016e+01,  4.04089896e+00,  2.00630575e-01],\n",
       "       [ 9.30746670e+00, -7.48422149e-01, -8.85983385e-01],\n",
       "       [ 6.39838460e+00,  6.46269530e+00,  1.28724454e+00],\n",
       "       [ 4.00911633e+00,  1.33125858e+01,  2.00630575e-01]])"
      ]
     },
     "execution_count": 115,
     "metadata": {},
     "output_type": "execute_result"
    }
   ],
   "source": [
    "kmMSCenters = df.cluster_centers_\n",
    "kmMSCenters"
   ]
  },
  {
   "cell_type": "code",
   "execution_count": 116,
   "metadata": {},
   "outputs": [],
   "source": [
    "kmMSULab = np.unique(kmMSLabels)"
   ]
  },
  {
   "cell_type": "code",
   "execution_count": 117,
   "metadata": {},
   "outputs": [],
   "source": [
    "n_clusters_ = len(kmMSULab)"
   ]
  },
  {
   "cell_type": "code",
   "execution_count": 118,
   "metadata": {},
   "outputs": [
    {
     "name": "stdout",
     "output_type": "stream",
     "text": [
      "number of estimated clusters : 15\n"
     ]
    }
   ],
   "source": [
    "print(\"number of estimated clusters : %d\" % n_clusters_)"
   ]
  },
  {
   "cell_type": "code",
   "execution_count": 119,
   "metadata": {},
   "outputs": [
    {
     "data": {
      "text/plain": [
       "array([27008,   719, 27323, ...,  8961, 10342, 18284], dtype=int64)"
      ]
     },
     "execution_count": 119,
     "metadata": {},
     "output_type": "execute_result"
    }
   ],
   "source": [
    "pred_ms_2 = df.fit_predict(dfShuffle)\n",
    "pred_ms_2"
   ]
  },
  {
   "cell_type": "markdown",
   "metadata": {},
   "source": [
    "Seeing as i can't figure out plotting or silhouette scores, lets add their cluster labels to the original dataset."
   ]
  },
  {
   "cell_type": "code",
   "execution_count": 120,
   "metadata": {},
   "outputs": [],
   "source": [
    "# create a cluster group col\n",
    "# dfShuffle['cluster_group'] = np.nan"
   ]
  },
  {
   "cell_type": "code",
   "execution_count": 121,
   "metadata": {
    "scrolled": true
   },
   "outputs": [],
   "source": [
    "# can find the avg score using silhouette_score \n",
    "#silSampMs = silhouette_score(dfShuffle, df.labels_, metric = 'euclidean')\n",
    "#silScorMs = silhouette_score(dfShuffle, pred_km_2, metric = 'euclidean')"
   ]
  },
  {
   "cell_type": "code",
   "execution_count": 122,
   "metadata": {},
   "outputs": [],
   "source": [
    "# print('silSampMs:', silSampMs)# score for each sample of different clusters"
   ]
  },
  {
   "cell_type": "code",
   "execution_count": 123,
   "metadata": {},
   "outputs": [],
   "source": [
    "# print('silScorMs:', silScorMs) # score for measuring the mean coefficient "
   ]
  },
  {
   "cell_type": "code",
   "execution_count": 124,
   "metadata": {},
   "outputs": [],
   "source": [
    "# plot the clusters\n",
    "# set fig size\n",
    "# fig, ax = plt.subplots(figsize = (6,6))\n",
    "# first cluster\n",
    "#plt.scatter(x = df.iloc[df.index[df.labels_ == 0].tolist(), [0]],\n",
    "#           y = df.iloc[df.index[df.labels_ == 0].tolist(), [1]],\n",
    "#           c = 'green',\n",
    "#           label = 'cluster 1')\n",
    "\n",
    "\n",
    "#plt.legend()\n",
    "#plt.xlabel('Eruption time in mins')\n",
    "#plt.ylabel('Waiting time in mins to next eruption')\n",
    "#plt.title('Clusters in geyser Dataset', fontweight = 'bold')"
   ]
  },
  {
   "cell_type": "markdown",
   "metadata": {},
   "source": [
    "After attempting to do a mean shift algorithm on the data, i've managed to hit a road block with 2 things.\n",
    "\n",
    "1 - calculating the silhouette scores.\n",
    "<br>\n",
    "2 -  plotting the clusters by groups.\n",
    "\n",
    "Because of this, I have to give up and move on to the next step as I i'm running out of time.\n",
    "\n",
    "This step looked at a few unsupervised models on the data, to see the accuracy of the models we calculated the scores with silhouette scores. Whilst a few of these areas would need to be explored further, for a first attempt, it will have to do.\n",
    "<br> <br>\n",
    "The next step will be to look at supervised learning models to try and predict a target variable (final_result)."
   ]
  },
  {
   "cell_type": "markdown",
   "metadata": {},
   "source": [
    "# 3 - Task C\n",
    "\n",
    "This section will look at:\n",
    "1. Finding an optimal supervised learning model to predict a target variable (regression and classification) \n",
    "\n",
    "## 3.0 - Useful hints\n",
    "Explore a variety of machine learning algorithms, ranging from probabilistic, tree based (ex:\n",
    "CART, Random forest and etc) to advanced algorithms such as support vector machines.\n",
    "<br> \n",
    "<br>\n",
    "Using suitable evaluation measures, helps interpreting the models.\n",
    "Linking the exploratory data analysis with feature importance can be a pretty impressive\n",
    "way of concluding the coursework.\n",
    "<br>\n",
    "<br>\n",
    "**Before** starting anything with supervised models, it is usually a good idea to split our dataset into what's known as test train split. This will be done below.\n",
    "\n",
    "https://scikit-learn.org/stable/modules/generated/sklearn.model_selection.train_test_split.html?highlight=test%20train#sklearn.model_selection.train_test_split"
   ]
  },
  {
   "cell_type": "code",
   "execution_count": 125,
   "metadata": {},
   "outputs": [],
   "source": [
    "# lets choose everything except final result for X\n",
    "X = dfShuffle.loc[:, dfShuffle.columns != 'final_result']\n",
    "# now lets find just the final result as y\n",
    "y = dfShuffle['final_result']\n",
    "# now to set the train size for xy/Test/Train.\n",
    "xTrain, xTest, yTrain, yTest = train_test_split(X, y, train_size = 0.75, random_state = myS)"
   ]
  },
  {
   "cell_type": "markdown",
   "metadata": {},
   "source": [
    "## 3.1 - Linear Regression\n",
    "\n",
    "This section will look at using supervised learning models on our dataset to find the likelihood of a students final result, and by doing so will have a better understanding of why some students withdraw from a course.\n",
    "<br>\n",
    "<br>\n",
    "https://scikit-learn.org/stable/modules/generated/sklearn.tree.DecisionTreeClassifier.html"
   ]
  },
  {
   "cell_type": "code",
   "execution_count": 126,
   "metadata": {},
   "outputs": [],
   "source": [
    "# set up an instance of LinearRegression as linReg.\n",
    "linReg = LinearRegression().fit(xTrain, yTrain)"
   ]
  },
  {
   "cell_type": "code",
   "execution_count": 127,
   "metadata": {},
   "outputs": [
    {
     "data": {
      "text/plain": [
       "array([ 2.58486758e-05, -1.45368408e-01, -2.00749852e-02, -5.58361835e-09,\n",
       "        9.30443450e-02, -1.13973382e-03,  3.48238266e-02, -9.37785662e-03,\n",
       "        2.02097506e-02, -4.18665844e-02,  2.81755987e-03,  8.73089249e-02,\n",
       "        3.14156922e-02, -1.27209154e-04])"
      ]
     },
     "execution_count": 127,
     "metadata": {},
     "output_type": "execute_result"
    }
   ],
   "source": [
    "# check the coefficients\n",
    "linReg.coef_"
   ]
  },
  {
   "cell_type": "code",
   "execution_count": 128,
   "metadata": {},
   "outputs": [
    {
     "data": {
      "text/plain": [
       "1.685232912469481"
      ]
     },
     "execution_count": 128,
     "metadata": {},
     "output_type": "execute_result"
    }
   ],
   "source": [
    "# check the intercept\n",
    "linReg.intercept_"
   ]
  },
  {
   "cell_type": "code",
   "execution_count": 129,
   "metadata": {},
   "outputs": [],
   "source": [
    "linPred = linReg.predict(xTest)"
   ]
  },
  {
   "cell_type": "code",
   "execution_count": 130,
   "metadata": {},
   "outputs": [
    {
     "name": "stdout",
     "output_type": "stream",
     "text": [
      "Linear Regression Score 0.06 %\n"
     ]
    }
   ],
   "source": [
    "print(\"Linear Regression Score\", round(linReg.score(xTest, yTest), 2), \"%\")"
   ]
  },
  {
   "cell_type": "markdown",
   "metadata": {},
   "source": [
    "After setting up an instance of our Linear model, and looking at the coefficients and intercept we can now move on to measuring the performance of the said model."
   ]
  },
  {
   "cell_type": "code",
   "execution_count": 131,
   "metadata": {},
   "outputs": [
    {
     "data": {
      "text/plain": [
       "0.7896408288709145"
      ]
     },
     "execution_count": 131,
     "metadata": {},
     "output_type": "execute_result"
    }
   ],
   "source": [
    "# calculate the MSE\n",
    "linReg_MSE = mean_squared_error(yTest, linPred)\n",
    "linReg_MSE"
   ]
  },
  {
   "cell_type": "code",
   "execution_count": 132,
   "metadata": {},
   "outputs": [
    {
     "data": {
      "text/plain": [
       "0.7434658103891021"
      ]
     },
     "execution_count": 132,
     "metadata": {},
     "output_type": "execute_result"
    }
   ],
   "source": [
    "# calculate the MAE\n",
    "linReg_MAE = mean_absolute_error(yTest, linPred)\n",
    "linReg_MAE"
   ]
  },
  {
   "cell_type": "code",
   "execution_count": 133,
   "metadata": {},
   "outputs": [
    {
     "data": {
      "image/png": "[encoded data removed]",
      "text/plain": [
       "<Figure size 864x720 with 1 Axes>"
      ]
     },
     "metadata": {
      "needs_background": "light"
     },
     "output_type": "display_data"
    }
   ],
   "source": [
    "mpl.pyplot.scatter(x = yTest, y = linPred, alpha = 0.4)\n",
    "mpl.pyplot.xlabel('Actual Final Results')\n",
    "mpl.pyplot.ylabel('Predicted Final Results')\n",
    "mpl.pyplot.show()"
   ]
  },
  {
   "cell_type": "markdown",
   "metadata": {},
   "source": [
    "From looking at the scatter plot, it doesn't look like there is much to infer from this. It looks like the number of students within each final_result group. This being:\n",
    "\n",
    "- Distinction\n",
    "- Pass\n",
    "- Fail\n",
    "- Withdraw\n",
    "\n",
    "\n",
    "Seeing as this doesn't show much information, lets try to use a Logistic Regression instead and see if that is more visually appealing ( and easier to understand on this dataset. )"
   ]
  },
  {
   "cell_type": "markdown",
   "metadata": {},
   "source": [
    "## 3.2 - Logistic Regression\n",
    "\n",
    "This section will look at the supervised learning model Logistic Regress on the dataset. This will hopefully give some insights into the number of students who are likely to withdraw from the a course.\n",
    "\n",
    "https://scikit-learn.org/stable/modules/generated/sklearn.linear_model.LogisticRegression.html#sklearn.linear_model.LogisticRegression"
   ]
  },
  {
   "cell_type": "code",
   "execution_count": 134,
   "metadata": {},
   "outputs": [
    {
     "name": "stderr",
     "output_type": "stream",
     "text": [
      "[Parallel(n_jobs=1)]: Using backend SequentialBackend with 1 concurrent workers.\n",
      "[Parallel(n_jobs=1)]: Done   1 out of   1 | elapsed:    0.5s finished\n"
     ]
    }
   ],
   "source": [
    "logReg = LogisticRegression(verbose = 1).fit(xTrain, yTrain)"
   ]
  },
  {
   "cell_type": "code",
   "execution_count": 135,
   "metadata": {},
   "outputs": [],
   "source": [
    "lrPred = logReg.predict(xTest)"
   ]
  },
  {
   "cell_type": "code",
   "execution_count": 136,
   "metadata": {},
   "outputs": [
    {
     "data": {
      "text/plain": [
       "array([3, 2, 3, ..., 2, 3, 2])"
      ]
     },
     "execution_count": 136,
     "metadata": {},
     "output_type": "execute_result"
    }
   ],
   "source": [
    "lrPred"
   ]
  },
  {
   "cell_type": "markdown",
   "metadata": {},
   "source": [
    "Next would be to calculate the accuracy of this model, this can be done by looking at a confusion matrix."
   ]
  },
  {
   "cell_type": "code",
   "execution_count": 137,
   "metadata": {},
   "outputs": [
    {
     "data": {
      "text/plain": [
       "array([[   9,   39,  598,   55],\n",
       "       [   1,   95,  660,  867],\n",
       "       [  46,  101, 2481,  345],\n",
       "       [   2,   98,  478, 1169]], dtype=int64)"
      ]
     },
     "execution_count": 137,
     "metadata": {},
     "output_type": "execute_result"
    }
   ],
   "source": [
    "confusion_matrix(yTest, lrPred)\n",
    "# https://scikit-learn.org/stable/modules/generated/sklearn.metrics.confusion_matrix.html?highlight=confusion_matrix"
   ]
  },
  {
   "cell_type": "code",
   "execution_count": 138,
   "metadata": {},
   "outputs": [
    {
     "name": "stdout",
     "output_type": "stream",
     "text": [
      "Accuracy score 0.53 %\n"
     ]
    }
   ],
   "source": [
    "print('Accuracy score', round(accuracy_score(yTest, lrPred), 2),\"%\")\n",
    "# https://scikit-learn.org/stable/modules/generated/sklearn.metrics.accuracy_score.html?highlight=accuracy_score"
   ]
  },
  {
   "cell_type": "code",
   "execution_count": 139,
   "metadata": {},
   "outputs": [
    {
     "name": "stdout",
     "output_type": "stream",
     "text": [
      "Macro AVG 0.38 %\n",
      "Micro AVG 0.53 %\n",
      "Weighted AVG 0.45 %\n"
     ]
    }
   ],
   "source": [
    "#print('Binary AVG',     round(precision_score(yTest, lrPred, average='binary'),2),\"%\")\n",
    "print('Macro AVG',      round(precision_score(yTest, lrPred, average='macro'),2),\"%\")\n",
    "print('Micro AVG',      round(precision_score(yTest, lrPred, average='micro'),2),\"%\")\n",
    "#print('Samples AVG',    round(precision_score(yTest, lrPred, average='samples'),2),\"%\")\n",
    "print('Weighted AVG',   round(precision_score(yTest, lrPred, average='weighted'),2),\"%\")"
   ]
  },
  {
   "cell_type": "code",
   "execution_count": 140,
   "metadata": {},
   "outputs": [
    {
     "name": "stdout",
     "output_type": "stream",
     "text": [
      "Macro Score 0.39 %\n",
      "Micro Score 0.53 %\n",
      "Weighted Score 0.53 %\n"
     ]
    }
   ],
   "source": [
    "#print('Binary Score',   round(recall_score(yTest, lrPred, average='binary'),2),\"%\")\n",
    "print('Macro Score',    round(recall_score(yTest, lrPred, average='macro'),2),\"%\")\n",
    "print('Micro Score',    round(recall_score(yTest, lrPred, average='micro'),2),\"%\")\n",
    "#print('Samples Score',  round(recall_score(yTest, lrPred, average='samples'),2),\"%\")\n",
    "print('Weighted Score', round(recall_score(yTest, lrPred, average='weighted'),2),\"%\")"
   ]
  },
  {
   "cell_type": "code",
   "execution_count": 141,
   "metadata": {},
   "outputs": [
    {
     "name": "stdout",
     "output_type": "stream",
     "text": [
      "Macro Score 0.34 %\n",
      "Micro Score 0.53 %\n",
      "Weighted Score 0.45 %\n"
     ]
    }
   ],
   "source": [
    "#print('Binary Score',   round(f1_score(yTest, lrPred, average='binary'),2),\"%\")\n",
    "print('Macro Score',    round(f1_score(yTest, lrPred, average='macro'),2),\"%\")\n",
    "print('Micro Score',    round(f1_score(yTest, lrPred, average='micro'),2),\"%\")\n",
    "#print('Samples Score',  round(f1_score(yTest, lrPred, average='samples'),2),\"%\")\n",
    "print('Weighted Score', round(f1_score(yTest, lrPred, average='weighted'),2),\"%\")"
   ]
  },
  {
   "cell_type": "markdown",
   "metadata": {},
   "source": [
    "For each part of the confusion matrix, we can see that the Micro average seems to give us the best results.\n",
    "<br>\n",
    "<br>\n",
    "With the final score being 52 which is a decent enough score in my opinion - obviously for more sensitive areas you'd want a much higher accuracy (Self driving cars, Medicine).\n",
    "**Before** accepting this as the best model, lets try one more model which will use Decision Trees and Random Forests to model this dataset."
   ]
  },
  {
   "cell_type": "code",
   "execution_count": 142,
   "metadata": {},
   "outputs": [],
   "source": [
    "# struggled to plot an ROC line for the logisitc regression."
   ]
  },
  {
   "cell_type": "markdown",
   "metadata": {},
   "source": [
    "## 3.3 - Decision Tree Classifier\n",
    "\n",
    "This section will look at using supervised learning models on our dataset to find the likelihood of a students final result, and by doing so will have a better understanding of why some students withdraw from a course.\n",
    "<br>\n",
    "<br>\n",
    "https://scikit-learn.org/stable/modules/generated/sklearn.tree.DecisionTreeClassifier.html"
   ]
  },
  {
   "cell_type": "code",
   "execution_count": 143,
   "metadata": {},
   "outputs": [],
   "source": [
    "dt_of1 = DecisionTreeClassifier(criterion = 'entropy', random_state = myS) # one for entropy\n",
    "dt_of2 = DecisionTreeClassifier(criterion = 'gini', random_state = myS) # one for gini"
   ]
  },
  {
   "cell_type": "code",
   "execution_count": 144,
   "metadata": {},
   "outputs": [],
   "source": [
    "#dt = tree.DecisionTreeClassifier(criterion='gini')\n",
    "dt1Train = dt_of1.fit(xTrain, yTrain)\n",
    "dt2Train = dt_of2.fit(xTrain, yTrain)\n",
    "\n",
    "train_pred1 = dt_of1.predict(xTrain)\n",
    "train_pred2 = dt_of2.predict(xTrain)\n",
    "\n",
    "test_pred1 = dt_of1.predict(xTest)\n",
    "test_pred2 = dt_of2.predict(xTest)"
   ]
  },
  {
   "cell_type": "code",
   "execution_count": 145,
   "metadata": {
    "scrolled": true
   },
   "outputs": [
    {
     "name": "stdout",
     "output_type": "stream",
     "text": [
      "Entropy Accuracy: 0.48 %\n",
      "Gini Accuracy: 0.48 %\n"
     ]
    }
   ],
   "source": [
    "print(\"Entropy Accuracy:\", round(dt_of1.score(xTest, yTest),2), \"%\")\n",
    "print(\"Gini Accuracy:\", round(dt_of2.score(xTest, yTest),2),\"%\")\n",
    "\n",
    "# print(\"Entropy Accuracy:{0:.3f}\".format(metrics.accuracy_score(yTest, test_pred1)))\n",
    "# print(\"Gini Accuracy:{0:.3f}\".format(metrics.accuracy_score(yTest, test_pred2)))"
   ]
  },
  {
   "cell_type": "markdown",
   "metadata": {},
   "source": [
    "After running a decision tree with 2 different measurement function (Entropy & Gini) we can see that the Gini model was ever so slightly more accurate by a tiny bit. Whilst this might not have a significant affect on the model, lets assume higher is always better. \n",
    "<br> \n",
    "<br>\n",
    "Now lets look at a decision tree but by restricting the parameters and see how it compares."
   ]
  },
  {
   "cell_type": "code",
   "execution_count": 146,
   "metadata": {},
   "outputs": [],
   "source": [
    "# decision tree restricted 1\n",
    "dt_r1 = DecisionTreeClassifier(criterion = 'entropy',\n",
    "                               random_state = myS,\n",
    "                               max_depth = 4)\n",
    "# decision tree restricted 2\n",
    "dt_r2 = DecisionTreeClassifier(criterion = 'gini', \n",
    "                               random_state = myS,\n",
    "                               max_depth = 4)"
   ]
  },
  {
   "cell_type": "code",
   "execution_count": 147,
   "metadata": {},
   "outputs": [],
   "source": [
    "#dt = tree.DecisionTreeClassifier(criterion='gini')\n",
    "dt_rf1_t = dt_r1.fit(xTrain, yTrain)\n",
    "dt_rf2_t = dt_r2.fit(xTrain, yTrain)\n",
    "\n",
    "train_pred_r1 = dt_r1.predict(xTrain)\n",
    "train_pred_r2 = dt_r2.predict(xTrain)\n",
    "\n",
    "test_pred_r1 = dt_r1.predict(xTest)\n",
    "test_pred_r2 = dt_r2.predict(xTest)"
   ]
  },
  {
   "cell_type": "code",
   "execution_count": 148,
   "metadata": {},
   "outputs": [
    {
     "name": "stdout",
     "output_type": "stream",
     "text": [
      "Entropy Accuracy: 0.58 %\n",
      "Gini Accuracy: 0.57 %\n"
     ]
    }
   ],
   "source": [
    "print(\"Entropy Accuracy:\",  round(dt_r1.score(xTest, yTest),2),\"%\")\n",
    "print(\"Gini Accuracy:\",     round(dt_r2.score(xTest, yTest),2),\"%\")"
   ]
  },
  {
   "cell_type": "markdown",
   "metadata": {},
   "source": [
    "After restricting the decision trees to a max depth of 4, here we can see the accuracy has gone up for both different types of dt models. Lets assume a restricted model would be better for predicting a students final_results and looking for the number of students who would withdraw. "
   ]
  },
  {
   "cell_type": "markdown",
   "metadata": {},
   "source": [
    "## 3.4 - Random Forest Classifier\n",
    "This section will look at using a Random Forest Classifier to see to see how the accuracy compares to the decision trees above.\n",
    "\n",
    "https://scikit-learn.org/stable/modules/generated/sklearn.ensemble.RandomForestClassifier.html?highlight=random%20forest#sklearn.ensemble.RandomForestClassifier.predict"
   ]
  },
  {
   "cell_type": "code",
   "execution_count": 149,
   "metadata": {},
   "outputs": [],
   "source": [
    "# import modules\n",
    "from sklearn.ensemble import RandomForestClassifier\n",
    "from sklearn.datasets import make_classification"
   ]
  },
  {
   "cell_type": "code",
   "execution_count": 150,
   "metadata": {},
   "outputs": [
    {
     "data": {
      "text/plain": [
       "RandomForestClassifier(max_depth=2, random_state=1234)"
      ]
     },
     "execution_count": 150,
     "metadata": {},
     "output_type": "execute_result"
    }
   ],
   "source": [
    "# create instance of RFC\n",
    "clf = RandomForestClassifier(max_depth=2, random_state=myS)\n",
    "clf.fit(xTrain, yTrain)"
   ]
  },
  {
   "cell_type": "code",
   "execution_count": 151,
   "metadata": {},
   "outputs": [
    {
     "name": "stdout",
     "output_type": "stream",
     "text": [
      "[3 2 3 ... 2 2 3]\n"
     ]
    }
   ],
   "source": [
    "# get the hard assignment of prediction\n",
    "rfcPred = clf.predict(X)\n",
    "print(rfcPred)"
   ]
  },
  {
   "cell_type": "code",
   "execution_count": 152,
   "metadata": {},
   "outputs": [
    {
     "name": "stdout",
     "output_type": "stream",
     "text": [
      "[[0.05317284 0.30639392 0.31303353 0.32739971]\n",
      " [0.10060196 0.25186199 0.38396589 0.26357016]\n",
      " [0.04015705 0.32737465 0.25047941 0.38198889]\n",
      " ...\n",
      " [0.09438923 0.23440085 0.44030386 0.23090606]\n",
      " [0.1388711  0.18218361 0.51091937 0.16802593]\n",
      " [0.04761817 0.3164597  0.23944246 0.39647966]]\n"
     ]
    }
   ],
   "source": [
    "# get the soft assignment of prediction\n",
    "rfcProb = clf.predict_proba(X)\n",
    "print(rfcProb)"
   ]
  },
  {
   "cell_type": "code",
   "execution_count": 153,
   "metadata": {},
   "outputs": [
    {
     "name": "stdout",
     "output_type": "stream",
     "text": [
      "RandomForestClassifier Score 0.54 %\n"
     ]
    }
   ],
   "source": [
    "print(\"RandomForestClassifier Score\", round(clf.score(xTest, yTest),2),\"%\")"
   ]
  },
  {
   "cell_type": "markdown",
   "metadata": {},
   "source": [
    "When looking at the accuracy score for our RFC, it looks decent enough around the 50% mark which could be seen as a good number. For this, lets assume this is good enough for our model. Let's also look at the feature importance before concluding."
   ]
  },
  {
   "cell_type": "code",
   "execution_count": 154,
   "metadata": {},
   "outputs": [
    {
     "name": "stdout",
     "output_type": "stream",
     "text": [
      "[3.48724047e-02 5.46210501e-02 1.07415775e-02 1.71215734e-03\n",
      " 5.83469223e-03 2.47934632e-04 7.00400910e-02 2.01552595e-02\n",
      " 3.01191263e-03 4.21980844e-02 9.21278054e-02 1.70461911e-04\n",
      " 2.38820856e-01 4.25445712e-01]\n"
     ]
    }
   ],
   "source": [
    "print(clf.feature_importances_)"
   ]
  },
  {
   "cell_type": "markdown",
   "metadata": {},
   "source": [
    "To finish off, it would have been good to plot each of the accuracy scores which proved to be more difficult than I originally thought. So instead let's again look at the accuracy scores for each supervised model run here."
   ]
  },
  {
   "cell_type": "code",
   "execution_count": 155,
   "metadata": {},
   "outputs": [
    {
     "name": "stdout",
     "output_type": "stream",
     "text": [
      "Linear Regression Score 0.06 %\n",
      "Logistic Regression Score 0.53 %\n",
      "DTC Entropy Accuracy: 0.58 %\n",
      "Random Forest Classifier Score 0.54 %\n"
     ]
    }
   ],
   "source": [
    "# Linear Regression\n",
    "print(\"Linear Regression Score\", round( linReg.score( xTest, yTest ), 2), \"%\")\n",
    "# Logistic Regression\n",
    "print('Logistic Regression Score', round(accuracy_score(yTest, lrPred), 2),\"%\")\n",
    "# Decision Trees Classifier\n",
    "print(\"DTC Entropy Accuracy:\", round(dt_r1.score(xTest, yTest),2),\"%\")\n",
    "# Random Forest Classifier\n",
    "print(\"Random Forest Classifier Score\", round( clf.score( xTest, yTest ), 2), \"%\")"
   ]
  },
  {
   "cell_type": "markdown",
   "metadata": {},
   "source": [
    "From the accuracy scores here, we can see Linear Regression has a very bad score, I have no idea why this is so much smaller but will assume I have done something wrong for LR. The best score here is Decision Trees Classifier which is 59%. \n",
    "<br>\n",
    "<br>\n",
    "Lets assume this would be the best model to calculate the student final results when looking at the amount of interactions the student has applied to the course."
   ]
  },
  {
   "cell_type": "markdown",
   "metadata": {},
   "source": [
    "# 4 - Conclusion\n",
    "\n",
    "This section will be a small conclusion about the project.\n",
    "\n",
    "## 4.1 - Reflection\n",
    "After running through each of these different models, it was interesting to see how a lot of these models differed, whilst also giving a similar accuracy. This could either be seen as a good or a bad thing, but for a first attempt at such a big project like this for ML, I think it has turned out okay (not great, but okay).\n",
    "<br><br>\n",
    "I found this project to be the most difficult as of yet on the MSc Data Science course, followed shortly by Statistics as I last did statistics over 15+ years ago in school.\n",
    "<br><br>\n",
    "There is so much new stuff to learn around Machine Learning which I have found multiple books which go through this subject in depth, but I feel like with everything going on there isn't enough time for myself to even read about the subject before the coursework was due in.\n",
    "<br><br>\n",
    "Future work could improve upon the preprocessing of this project as that was such an overwhelming part of this project, followed by the unsupervised learning section. I feel like the supervised learning section was a lot easier to understand with the split test/training of the data. If the SciKit Learn package wasn't available I wouldn't have had a clue where to even begin with this project.\n",
    "<br><br>\n",
    "Luckily I wasn't limited with my computer as I recently upgraded my 5 year old PC several days after Christmas (from a 2 core cpu to an 8 core cpu) which really improved the speed of the models being run. My main limitations were my mental health and the feeling of being overwhelmed a lot during this project - mainly the EDA."
   ]
  },
  {
   "cell_type": "code",
   "execution_count": 156,
   "metadata": {},
   "outputs": [
    {
     "data": {
      "text/plain": [
       "4969"
      ]
     },
     "execution_count": 156,
     "metadata": {},
     "output_type": "execute_result"
    }
   ],
   "source": [
    "# After running through all of these models, \n",
    "# it's important for computers to free up the RAM \n",
    "# Some of these models had my PC using all 16GB of ram.\n",
    "# This can be done with a command called Garbage Collector (gc), which is built within python.\n",
    "# https://docs.python.org/3/library/gc.html\n",
    "\n",
    "import gc\n",
    "gc.collect()"
   ]
  },
  {
   "cell_type": "markdown",
   "metadata": {},
   "source": [
    "# 5 - References\n",
    "## 5.1 - Software/Packages\n",
    "Matplotlib: Hunter, J.D., 2007. Matplotlib: A 2D graphics environment. Computing in science &amp; engineering, 9(3), pp.90–95. \n",
    "<br><br>\n",
    "Pandas: McKinney, W. & others, 2010. Data structures for statistical computing in python. In Proceedings of the 9th Python in Science Conference. pp. 51–56.\n",
    "<br><br>\n",
    "Seaborn: Waskom, M. et al., 2017. mwaskom/seaborn: v0.8.1 (September 2017), Zenodo. Available at: https://doi.org/10.5281/zenodo.883859.\n",
    "<br><br>\n",
    "Scikit-learn: Machine Learning in Python, Pedregosa et al., JMLR 12, pp. 2825-2830, 2011.\n",
    "\n",
    "## 5.2 - Websites\n",
    "Google Developers (2021) _k-Means Advantages and Disadvantages_ Available at: https://developers.google.com/machine-learning/clustering/algorithm/advantages-disadvantages (Accessed: 16/02/2021)\n",
    "<br><br>\n",
    "Python Programming Tutorials (2021) _Python Programming Tutorials_ Available at: https://pythonprogramming.net/ (Accessed 10/02/2021)\n",
    "<br><br>\n",
    "SciKit Learn (2021) _About Us_ Available at: https://scikit-learn.org/stable/about.html#citing-scikit-learn (Accessed 01/01/2021)\n",
    "<br><br>\n",
    "TutorialsPoint (2021) _Matplotlib Tutorial_ Available at: https://www.tutorialspoint.com/matplotlib/index.htm (Accessed 01/02/2021)"
   ]
  }
 ],
 "metadata": {
  "kernelspec": {
   "display_name": "Python 3",
   "language": "python",
   "name": "python3"
  },
  "language_info": {
   "codemirror_mode": {
    "name": "ipython",
    "version": 3
   },
   "file_extension": ".py",
   "mimetype": "text/x-python",
   "name": "python",
   "nbconvert_exporter": "python",
   "pygments_lexer": "ipython3",
   "version": "3.8.5"
  }
 },
 "nbformat": 4,
 "nbformat_minor": 4
}
