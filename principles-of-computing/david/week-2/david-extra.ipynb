{
 "cells": [
  {
   "cell_type": "code",
   "execution_count": 2,
   "metadata": {},
   "outputs": [
    {
     "name": "stdout",
     "output_type": "stream",
     "text": [
      "1 - Violence and sexual offences\n",
      "2 - Anti-social behaviour\n",
      "3 - Criminal damage and arson\n",
      "4 - Other theft\n",
      "5 - Vehicle crime\n",
      "6 - Burglary\n",
      "7 - Public order\n",
      "8 - Drugs\n",
      "9 - Shoplifting\n",
      "10 - Other crime\n",
      "11 - Bicycle theft\n",
      "12 - Possession of weapons\n",
      "13 - Theft from the person\n",
      "14 - Robbery\n"
     ]
    }
   ],
   "source": [
    "# libraries\n",
    "import pandas as pd\n",
    "import numpy as np\n",
    "# path\n",
    "folderPath=\"D:/GitHub/msc-datascience/principles-of-computing/david/week-2/data\"\n",
    "filePath = open(folderPath+\"/2020-09.csv\", 'r') # r is read\n",
    "# variable holding data\n",
    "df = pd.read_csv(filePath)\n",
    "# print(df) # check the df\n",
    "\n",
    "# 1 A List of all the different crime types (e.g. Burglary etc.) \n",
    "# that were recorded in September 2020;\n",
    "def Num1():\n",
    "    crimeTypes = (df.iloc[:, 9])\n",
    "    # print(crimeTypes)\n",
    "    uniqueCrimes = crimeTypes.unique()\n",
    "    i = 0\n",
    "    for crimes in uniqueCrimes:\n",
    "        i += 1\n",
    "        print(i, \"-\", crimes)\n",
    "\n",
    "Num1()"
   ]
  },
  {
   "cell_type": "code",
   "execution_count": 3,
   "metadata": {},
   "outputs": [
    {
     "name": "stdout",
     "output_type": "stream",
     "text": [
      "There were a total of 12429 number of crimes in September 2020.\n"
     ]
    }
   ],
   "source": [
    "# 2 The total number of crimes that occurred in South Wales in September 2020;\n",
    "x = 0\n",
    "def Num2():\n",
    "    crimeCount = df['Crime type'].count()\n",
    "    print('There were a total of', crimeCount, 'number of crimes in September 2020.')\n",
    "\n",
    "Num2()"
   ]
  },
  {
   "cell_type": "code",
   "execution_count": 4,
   "metadata": {},
   "outputs": [
    {
     "name": "stdout",
     "output_type": "stream",
     "text": [
      "Violence and sexual offences    3581\n",
      "Anti-social behaviour           3310\n",
      "Public order                    1324\n",
      "Criminal damage and arson       1018\n",
      "Vehicle crime                    688\n",
      "Other theft                      596\n",
      "Shoplifting                      548\n",
      "Drugs                            422\n",
      "Burglary                         419\n",
      "Other crime                      180\n",
      "Bicycle theft                    174\n",
      "Theft from the person             69\n",
      "Possession of weapons             58\n",
      "Robbery                           42\n",
      "Name: Crime type, dtype: int64\n"
     ]
    }
   ],
   "source": [
    "# 3 The total number of crimes of each different crime type that occurred in September 2020;\n",
    "def Num3():\n",
    "    # get unique crimeTypes\n",
    "    print(df['Crime type'].value_counts() )\n",
    "    # get count of unique crimeTypes\n",
    "\n",
    "Num3()"
   ]
  },
  {
   "cell_type": "code",
   "execution_count": null,
   "metadata": {},
   "outputs": [],
   "source": [
    "# 4 A breakdown of all different crime types as a percentage of all crime in September 2020.\n",
    "\n"
   ]
  },
  {
   "cell_type": "code",
   "execution_count": null,
   "metadata": {},
   "outputs": [],
   "source": [
    "# 5 ADVANCED EXERCISE: How did the level of crime in September 2020 compare with August 2020 or September 2019?\n",
    "\n"
   ]
  },
  {
   "cell_type": "code",
   "execution_count": null,
   "metadata": {},
   "outputs": [],
   "source": [
    "# 6 ADVANCED EXERCISE: Can you visualise your results (from 3, 4, or 5), e.g. as a bar or pie chart?\n",
    "\n"
   ]
  },
  {
   "cell_type": "code",
   "execution_count": null,
   "metadata": {},
   "outputs": [],
   "source": [
    "run = True\n",
    "while run == True:\n",
    "    Mode = 0\n",
    "    # mode select\n",
    "    while Mode == 0 or Mode == 6:\n",
    "        if Mode == 0:\n",
    "            print('Please input a number between 1 - 6 ')\n",
    "        elif Mode == 6:\n",
    "            print('Please enter a number between 1 - 6 ')\n",
    "        Mode = int(input())\n",
    "        if Mode == 1:\n",
    "            print('You have chosen 1 ')\n",
    "        elif Mode == 2:\n",
    "            print('You have chosen 2')\n",
    "        elif Mode == 3:\n",
    "            print('You have chosen 3')\n",
    "        elif Mode == 4:\n",
    "            print('You have chosen 4')\n",
    "        elif Mode == 5:\n",
    "            print('You have chosen 5')\n",
    "        elif Mode == 6:\n",
    "            print('You have chosen 6')\n",
    "        else:\n",
    "            print('So, you have chosen death... goodbye.')\n",
    "            run = False\n",
    "\n",
    "    if Mode == 1:\n",
    "        Num1()\n",
    "    if Mode == 2:\n",
    "        Num2()\n",
    "    if Mode == 3:\n",
    "        Num3()\n",
    "    if Mode == 4:\n",
    "        print('Num4()')\n",
    "    if Mode == 5:\n",
    "        print('Num5()')\n",
    "    if Mode == 6:\n",
    "        print('Num6()')\n"
   ]
  }
 ],
 "metadata": {
  "kernelspec": {
   "display_name": "Python 3",
   "language": "python",
   "name": "python3"
  },
  "language_info": {
   "codemirror_mode": {
    "name": "ipython",
    "version": 3
   },
   "file_extension": ".py",
   "mimetype": "text/x-python",
   "name": "python",
   "nbconvert_exporter": "python",
   "pygments_lexer": "ipython3",
   "version": "3.8.3"
  }
 },
 "nbformat": 4,
 "nbformat_minor": 4
}
